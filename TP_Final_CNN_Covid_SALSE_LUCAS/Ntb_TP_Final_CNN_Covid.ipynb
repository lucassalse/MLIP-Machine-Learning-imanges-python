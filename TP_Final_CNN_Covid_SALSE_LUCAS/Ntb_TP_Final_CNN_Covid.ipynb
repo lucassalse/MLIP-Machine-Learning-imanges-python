{
 "cells": [
  {
   "cell_type": "markdown",
   "metadata": {},
   "source": [
    "# <center>Machine Learning e Imágenes en Python 2020\n",
    "## <center>Detección de COVID-19 mediante radiografías de tórax usando Redes Neuronales Convolucionales (CNN)\n",
    "\n",
    "### Alumnos:\n",
    "* Gonzalez, Mauricio\n",
    "* Salse, Lucas Antonio"
   ]
  },
  {
   "cell_type": "markdown",
   "metadata": {},
   "source": [
    "#### Importamos todas las librerias que vamos a utilizar"
   ]
  },
  {
   "cell_type": "code",
   "execution_count": 1,
   "metadata": {},
   "outputs": [
    {
     "name": "stderr",
     "output_type": "stream",
     "text": [
      "Using TensorFlow backend.\n"
     ]
    }
   ],
   "source": [
    "import os\n",
    "import re\n",
    "import cv2\n",
    "import random\n",
    "import numpy as np\n",
    "import pandas as pd\n",
    "import seaborn as sns\n",
    "import matplotlib.pyplot as plt\n",
    "\n",
    "from os import path\n",
    "from tqdm.notebook import tqdm\n",
    "\n",
    "from keras.utils import to_categorical\n",
    "from keras.preprocessing.image import ImageDataGenerator\n",
    "from keras.callbacks import ModelCheckpoint, EarlyStopping, CSVLogger\n",
    "\n",
    "from tensorflow import keras\n",
    "from tensorflow.keras import layers\n",
    "\n",
    "from sklearn.preprocessing import LabelEncoder\n",
    "from sklearn.model_selection import train_test_split\n",
    "from sklearn.metrics import confusion_matrix\n",
    "\n",
    "np.random.seed(2020)\n",
    "\n",
    "# Constantes\n",
    "DB_PATH = '/home/lucas/cursoML_2020/tp_final_covid/X-RAYS'\n",
    "CLASSES = ['COVID', 'NORMAL', 'VIRAL-PNEUMONIA']"
   ]
  },
  {
   "cell_type": "markdown",
   "metadata": {},
   "source": [
    "#### Definimos funciones que serán de utilidad posteriormente"
   ]
  },
  {
   "cell_type": "code",
   "execution_count": 2,
   "metadata": {},
   "outputs": [],
   "source": [
    "def walk_on_dir(db_path: str, classes: list) -> dict:\n",
    "    \"\"\"\n",
    "        Funcion que recorre el directorio indicado como parametro y guarda\n",
    "        el path a cada una de las imagenes (teniendo en cuenta las clases\n",
    "        que se quieren predecir).\n",
    "\n",
    "        Args:\n",
    "            db_path (str) : directorio donde se encuentran las imagenes\n",
    "            classes (list): lista de clases para separar las imagenes\n",
    "\n",
    "        Returns:\n",
    "            dict: diccionario que contiene una 'key' por cada clase, donde\n",
    "                  cada 'value' asociado es una lista de paths a imagenes.\n",
    "    \"\"\"\n",
    "    img_paths = dict((cls, []) for cls in classes)\n",
    "    for dirname, subdirs, filenames in os.walk(db_path):\n",
    "        for filename in filenames:\n",
    "            # Expresion regular que chequea el formato de imagen\n",
    "            if re.search('\\.(jpg|jpeg|png|bmp|tiff)$', filename):\n",
    "                _, label = path.split(dirname)\n",
    "                filepath = os.path.join(dirname, filename)\n",
    "                # Agregamos el path a una imagen para dicha clase\n",
    "                img_paths[label].append(filepath)\n",
    "\n",
    "    return img_paths\n",
    "\n",
    "def build_dataset(db_path: str, classes: list, resize: tuple = None) -> tuple:\n",
    "    \"\"\"\n",
    "        Funcion que construye el dataset de imagenes con sus correspondientes\n",
    "        etiquetas recorriendo el directorio indicado como parametro de entrada.\n",
    "        NOTA: las imagenes se cargan en RGB y uint8 (valores desde 0 a 255)\n",
    "\n",
    "        Args:\n",
    "            db_path (str)  : directorio donde se encuentran las imagenes\n",
    "            classes (list) : lista de clases para separar las imagenes\n",
    "            resize  (tuple): dimension de la imagen que se va a cargar\n",
    "\n",
    "        Returns:\n",
    "            tuple: el primer elemento sera un arreglo de imagenes vectorizadas\n",
    "                   el segundo elemento sera un arreglo con las etiquetas corresp.\n",
    "    \"\"\"\n",
    "    x, y = [], []\n",
    "    img_paths = walk_on_dir(DB_PATH, CLASSES)\n",
    "\n",
    "    # Recorremos el directorio de imagenes usando una 'Progress bar'\n",
    "    for label, filepaths in tqdm(img_paths.items(), desc='DATASETS'):\n",
    "        for filepath in tqdm(filepaths, desc=label):\n",
    "            image = cv2.imread(filepath, cv2.IMREAD_COLOR) # Color\n",
    "            image = cv2.cvtColor(image, cv2.COLOR_BGR2RGB) # BGR a RGB\n",
    "            if resize:\n",
    "                image = cv2.resize(image, resize)\n",
    "            x.append(image) # Imagen\n",
    "            y.append(label) # Etiqueta\n",
    "\n",
    "    # Mezclamos los datasets y los retornamos\n",
    "    shuffle_idx = np.random.permutation(len(x))\n",
    "    return np.array(x, dtype=np.uint8)[shuffle_idx], np.array(y)[shuffle_idx]\n",
    "    # return np.array(x, dtype=np.uint8), np.array(y)\n",
    "\n",
    "def normalize_dataset(dataset: np.array) -> np.array:\n",
    "    \"\"\"\n",
    "        Funcion que normaliza un dataset escalando los vectores de tal forma\n",
    "        que cada valor este entre 0 y 1 (las CNNs trabajan mejor con valores\n",
    "        pequeños).\n",
    "\n",
    "        Args:\n",
    "            dataset (np.array): imagenes vectorizadas que se van a normalizar.\n",
    "\n",
    "        Returns:\n",
    "            np.array: mismo dataset de entrada pero normalizado.\n",
    "    \"\"\"\n",
    "    dataset = dataset.astype('float32')\n",
    "    dataset = dataset / 255.\n",
    "\n",
    "    return dataset"
   ]
  },
  {
   "cell_type": "code",
   "execution_count": 3,
   "metadata": {},
   "outputs": [],
   "source": [
    "def build_model(input_shape: tuple) -> keras.Model:\n",
    "    \"\"\"\n",
    "        Funcion que construye la red neuronal capa por capa. Contamos\n",
    "        con algunas capas 'Dropout' para reducir el overfitting.\n",
    "\n",
    "        Args:\n",
    "            input_shape (tuple): dimension de la imagen de entrada\n",
    "\n",
    "        Returns:\n",
    "            keras.Model: modelo de la red neuronal\n",
    "    \"\"\"\n",
    "    inputs = keras.Input(shape=input_shape, name='x-rays')\n",
    "\n",
    "    x = layers.Conv2D(filters=32, kernel_size=(3, 3), activation='relu', kernel_initializer='he_normal')(inputs)\n",
    "    x = layers.MaxPool2D(pool_size=(2, 2))(x)\n",
    "\n",
    "    x = layers.Conv2D(filters=64, kernel_size=(3, 3), activation='relu')(x)\n",
    "    x = layers.MaxPool2D(pool_size=(2, 2))(x)\n",
    "\n",
    "    x = layers.Conv2D(filters=128, kernel_size=(3, 3), activation='relu')(x)\n",
    "    x = layers.MaxPool2D(pool_size=(2, 2), strides=(1, 1))(x)\n",
    "    x = layers.Dropout(0.25)(x)\n",
    "\n",
    "    x = layers.Flatten()(x)\n",
    "    x = layers.Dense(64, activation='relu')(x)\n",
    "    x = layers.Dropout(0.2)(x)\n",
    "\n",
    "    outputs = layers.Dense(3, activation='softmax', name='predictions')(x)\n",
    "    model = keras.Model(inputs=inputs, outputs=outputs)\n",
    "\n",
    "    return model\n",
    "\n",
    "def eval_model(model: keras.Model, x: np.ndarray, y: np.ndarray, batch_size: int):\n",
    "    \"\"\"\n",
    "        Funcion que permite evaluar el desempeño de un modelo mediante\n",
    "        datos de prueba. Al final de la evaluacion se mostraran las\n",
    "        siguientes metricas: accuracy y loss.\n",
    "\n",
    "        Args:\n",
    "            model (keras.Model): red neuronal previamente entrenada\n",
    "            x (np.ndarray)     : dataset de imagenes de prueba\n",
    "            y (np.ndarray)     : dataset de etiquetas de cada imagen\n",
    "            batch_size (int)   : cantidad de muestras a procesar antes\n",
    "                                 de actualizar las metricas\n",
    "\n",
    "        Returns:\n",
    "            Ninguno.\n",
    "    \"\"\"\n",
    "    print('Evaluacion del modelo:')\n",
    "    loss, accuracy = model.evaluate(x, y, batch_size=batch_size, verbose=False)\n",
    "    print('Test accuracy de {acc}'.format(acc=accuracy))\n",
    "    print('Test loss     de {loss}'.format(loss=loss))"
   ]
  },
  {
   "cell_type": "code",
   "execution_count": 4,
   "metadata": {},
   "outputs": [],
   "source": [
    "def plot_history(hist: keras.callbacks.History):\n",
    "    \"\"\"\n",
    "        Funcion que grafica el desempeño del modelo durante la etapa\n",
    "        de entrenamiento. Por un lado vamos a tener una grafica que\n",
    "        muestra el accuracy, y por otro lado una grafica con el error.\n",
    "\n",
    "        Args:\n",
    "            hist: callback que tiene almacenadas metricas de entrenamiento\n",
    "                  de cada una de las epocas. Esas metricas estan guardadas\n",
    "                  en un diccionario dentro del miembro 'history' del objeto.\n",
    "    \"\"\"\n",
    "    # Generamos 2 figuras para mostrarlas posteriormente\n",
    "    fig, axs = plt.subplots(nrows=1, ncols=2, figsize=(8, 4))\n",
    "    # Config. para mostrar el 'accuracy' del modelo\n",
    "    axs[0].plot(hist.history['accuracy'], label='Train')\n",
    "    axs[0].plot(hist.history['val_accuracy'], label='Test')\n",
    "    axs[0].set_title('Model accuracy')\n",
    "    axs[0].set_xlabel('epoch')\n",
    "    axs[0].set_ylabel('accuracy')\n",
    "    axs[0].legend()\n",
    "    axs[0].grid()\n",
    "    # Config. para mostrar el 'loss' del modelo\n",
    "    axs[1].plot(hist.history['loss'], label='Train')\n",
    "    axs[1].plot(hist.history['val_loss'], label='Test')\n",
    "    axs[1].set_title('Model loss')\n",
    "    axs[1].set_xlabel('epoch')\n",
    "    axs[1].set_ylabel('loss')\n",
    "    axs[1].legend()\n",
    "    axs[1].grid()\n",
    "    # Mostramos las figuras\n",
    "    fig.tight_layout(pad=3)\n",
    "    plt.show()\n",
    "\n",
    "    return fig"
   ]
  },
  {
   "cell_type": "markdown",
   "metadata": {},
   "source": [
    "#### Generación del dataset de imágenes y post-procesamiento\n",
    "Vamos a dividir ésta sección en 4 etapas listadas a continuación."
   ]
  },
  {
   "cell_type": "code",
   "execution_count": 3,
   "metadata": {},
   "outputs": [
    {
     "data": {
      "application/vnd.jupyter.widget-view+json": {
       "model_id": "9176ce3467a541b0b40c0409edb79983",
       "version_major": 2,
       "version_minor": 0
      },
      "text/plain": [
       "DATASETS:   0%|          | 0/3 [00:00<?, ?it/s]"
      ]
     },
     "metadata": {},
     "output_type": "display_data"
    },
    {
     "data": {
      "application/vnd.jupyter.widget-view+json": {
       "model_id": "9cc95323aed14c1ebc4752e65e7605f1",
       "version_major": 2,
       "version_minor": 0
      },
      "text/plain": [
       "COVID:   0%|          | 0/1200 [00:00<?, ?it/s]"
      ]
     },
     "metadata": {},
     "output_type": "display_data"
    },
    {
     "data": {
      "application/vnd.jupyter.widget-view+json": {
       "model_id": "b4bfecdcb89041ea9adabe9a9f243c7e",
       "version_major": 2,
       "version_minor": 0
      },
      "text/plain": [
       "NORMAL:   0%|          | 0/1341 [00:00<?, ?it/s]"
      ]
     },
     "metadata": {},
     "output_type": "display_data"
    },
    {
     "data": {
      "application/vnd.jupyter.widget-view+json": {
       "model_id": "62a03bf724a542a2aae8da7bfbabf0e1",
       "version_major": 2,
       "version_minor": 0
      },
      "text/plain": [
       "VIRAL-PNEUMONIA:   0%|          | 0/1345 [00:00<?, ?it/s]"
      ]
     },
     "metadata": {},
     "output_type": "display_data"
    },
    {
     "data": {
      "text/html": [
       "<div>\n",
       "<style scoped>\n",
       "    .dataframe tbody tr th:only-of-type {\n",
       "        vertical-align: middle;\n",
       "    }\n",
       "\n",
       "    .dataframe tbody tr th {\n",
       "        vertical-align: top;\n",
       "    }\n",
       "\n",
       "    .dataframe thead th {\n",
       "        text-align: right;\n",
       "    }\n",
       "</style>\n",
       "<table border=\"1\" class=\"dataframe\">\n",
       "  <thead>\n",
       "    <tr style=\"text-align: right;\">\n",
       "      <th></th>\n",
       "      <th>label</th>\n",
       "      <th>encoding</th>\n",
       "      <th>one-hot</th>\n",
       "    </tr>\n",
       "  </thead>\n",
       "  <tbody>\n",
       "    <tr>\n",
       "      <th>0</th>\n",
       "      <td>NORMAL</td>\n",
       "      <td>1</td>\n",
       "      <td>[0.0, 1.0, 0.0]</td>\n",
       "    </tr>\n",
       "    <tr>\n",
       "      <th>1</th>\n",
       "      <td>NORMAL</td>\n",
       "      <td>1</td>\n",
       "      <td>[0.0, 1.0, 0.0]</td>\n",
       "    </tr>\n",
       "    <tr>\n",
       "      <th>2</th>\n",
       "      <td>VIRAL-PNEUMONIA</td>\n",
       "      <td>2</td>\n",
       "      <td>[0.0, 0.0, 1.0]</td>\n",
       "    </tr>\n",
       "    <tr>\n",
       "      <th>3</th>\n",
       "      <td>NORMAL</td>\n",
       "      <td>1</td>\n",
       "      <td>[0.0, 1.0, 0.0]</td>\n",
       "    </tr>\n",
       "    <tr>\n",
       "      <th>4</th>\n",
       "      <td>NORMAL</td>\n",
       "      <td>1</td>\n",
       "      <td>[0.0, 1.0, 0.0]</td>\n",
       "    </tr>\n",
       "    <tr>\n",
       "      <th>5</th>\n",
       "      <td>NORMAL</td>\n",
       "      <td>1</td>\n",
       "      <td>[0.0, 1.0, 0.0]</td>\n",
       "    </tr>\n",
       "    <tr>\n",
       "      <th>6</th>\n",
       "      <td>VIRAL-PNEUMONIA</td>\n",
       "      <td>2</td>\n",
       "      <td>[0.0, 0.0, 1.0]</td>\n",
       "    </tr>\n",
       "    <tr>\n",
       "      <th>7</th>\n",
       "      <td>COVID</td>\n",
       "      <td>0</td>\n",
       "      <td>[1.0, 0.0, 0.0]</td>\n",
       "    </tr>\n",
       "    <tr>\n",
       "      <th>8</th>\n",
       "      <td>VIRAL-PNEUMONIA</td>\n",
       "      <td>2</td>\n",
       "      <td>[0.0, 0.0, 1.0]</td>\n",
       "    </tr>\n",
       "    <tr>\n",
       "      <th>9</th>\n",
       "      <td>NORMAL</td>\n",
       "      <td>1</td>\n",
       "      <td>[0.0, 1.0, 0.0]</td>\n",
       "    </tr>\n",
       "  </tbody>\n",
       "</table>\n",
       "</div>"
      ],
      "text/plain": [
       "             label  encoding          one-hot\n",
       "0           NORMAL         1  [0.0, 1.0, 0.0]\n",
       "1           NORMAL         1  [0.0, 1.0, 0.0]\n",
       "2  VIRAL-PNEUMONIA         2  [0.0, 0.0, 1.0]\n",
       "3           NORMAL         1  [0.0, 1.0, 0.0]\n",
       "4           NORMAL         1  [0.0, 1.0, 0.0]\n",
       "5           NORMAL         1  [0.0, 1.0, 0.0]\n",
       "6  VIRAL-PNEUMONIA         2  [0.0, 0.0, 1.0]\n",
       "7            COVID         0  [1.0, 0.0, 0.0]\n",
       "8  VIRAL-PNEUMONIA         2  [0.0, 0.0, 1.0]\n",
       "9           NORMAL         1  [0.0, 1.0, 0.0]"
      ]
     },
     "execution_count": 3,
     "metadata": {},
     "output_type": "execute_result"
    }
   ],
   "source": [
    "# 1) Generamos un dataset con imagenes vectorizadas (y sus etiquetas correspondientes)\n",
    "images, labels = build_dataset(DB_PATH, CLASSES, resize=(150, 150))\n",
    "\n",
    "# 2) Normalizamos los vectores tal que sus valores vayan desde 0 a 1.0 (punto flotante)\n",
    "images = normalize_dataset(images)\n",
    "\n",
    "# 3) Codificamos las etiquetas como enteros: a una clase se le asigna un numero unico\n",
    "encoded_labels = LabelEncoder().fit_transform(labels)\n",
    "\n",
    "# 4) Convertimos las etiquetas en formato One-Hot\n",
    "one_hot_labels = to_categorical(encoded_labels)\n",
    "\n",
    "# Creamos un dataframe con el encoding de las etiquetas (solo a modo ilustrativo ya que no lo usaremos)\n",
    "labels_df = pd.DataFrame({'label': labels, 'encoding': encoded_labels, 'one-hot': one_hot_labels.tolist()})\n",
    "labels_df.head(10)"
   ]
  },
  {
   "cell_type": "markdown",
   "metadata": {},
   "source": [
    "#### Generación de datos de entrenamiento y datos de validación\n",
    "El dataset de entrenamiento será el 80% del total de las imágenes cargadas previamente, mientras que el dataset de validación será el 20%."
   ]
  },
  {
   "cell_type": "code",
   "execution_count": 6,
   "metadata": {},
   "outputs": [
    {
     "name": "stdout",
     "output_type": "stream",
     "text": [
      "Dimensiones (x_train, y_train): (3108, 150, 150, 3) (3108, 3)\n",
      "Dimensiones (x_test, y_test)  : (778, 150, 150, 3) (778, 3)\n"
     ]
    }
   ],
   "source": [
    "# Dividimos las imagenes en 2 datasets: uno destinado al entrenamiento y otro a la validacion del modelo\n",
    "x_train, x_test, y_train, y_test = train_test_split(images, one_hot_labels, test_size=0.2, random_state=2020)\n",
    "\n",
    "print('Dimensiones (x_train, y_train):', x_train.shape, y_train.shape)\n",
    "print('Dimensiones (x_test, y_test)  :', x_test.shape, y_test.shape)"
   ]
  },
  {
   "cell_type": "markdown",
   "metadata": {},
   "source": [
    "#### Creación de generadores para data augmentation\n",
    "Los generadores de imágenes de Keras nos permitirán hacer aumentación de datos en tiempo real y en bloques, por lo que el entrenamiento requerirá menos consumo de memoria RAM."
   ]
  },
  {
   "cell_type": "code",
   "execution_count": 7,
   "metadata": {},
   "outputs": [],
   "source": [
    "# Generador que nos permitira hacer aumentacion de datos sobre el dataset de entrenamiento\n",
    "# modificando levemente las imagenes originales y asi incrementar la performance del modelo.\n",
    "train_datagen = ImageDataGenerator(\n",
    "    rotation_range     = 3,    # Angulo de rotacion (random desde 0 al valor seteado)\n",
    "    zoom_range         = 0.01, # Fraccion de zoom de la nueva imagen\n",
    "    width_shift_range  = 0.01, # Fraccion del ancho para shiftear hacia izq o derecha\n",
    "    height_shift_range = 0.01, # Fraccion del alto para shiftear hacia arriba o abajo\n",
    "    fill_mode          = 'nearest'\n",
    ")\n",
    "\n",
    "# Para validar no haremos ninguna transformacion de las imagenes\n",
    "test_datagen = ImageDataGenerator()\n",
    "\n",
    "# El batch size usualmente se incrementa o decrementa de acuerdo a los recursos computacionales\n",
    "# y performance que se quiere alcanzar en los modelos. En general se usan valores entre 32 y 128.\n",
    "train_generator = train_datagen.flow(x_train, y_train, batch_size=32)\n",
    "test_generator = test_datagen.flow(x_test, y_test, batch_size=32)"
   ]
  },
  {
   "cell_type": "markdown",
   "metadata": {},
   "source": [
    "#### Construcción, compilación y entrenamiento del modelo\n",
    "Para la construcción de la red neuronal hay algunas consideraciones empíricas que se deben tener en cuenta como punto de partida, pero en última instancia, la selección de la arquitectura se reducirá a prueba y error:\n",
    "\n",
    "* Con respecto a las capas ocultas no hay razón teórica para utilizar más de 2 capas. De hecho, para muchos problemas prácticos, se utiliza 1 sóla capa oculta.\n",
    "\n",
    "\n",
    "* Con respecto a la cantidad de neuronas, las reglas más utilizadas son:\n",
    "    1. El tamaño óptimo de una capa oculta suele estar entre el tamaño de la entrada y el tamaño de las capas de salidas.\n",
    "    2. El número de neuronas ocultas debe ser 2/3 del tamaño de la capa de entrada, más el tamaño de la capa de salida.\n",
    "    3. La cantidad de neuronas ocultas debe ser menos del doble del tamaño de la capa de entrada.\n",
    "    4. La cantidad de neuronas suelen ser multiplos de 2^n.\n",
    "\n",
    "Para el entrenamiento de la red vamos a utilizar Callbacks, que son objetos que pueden realizar acciones en varias etapas del aprendizaje (por ejemplo al comienzo o final de una época, antes o despues de un lote, etc)."
   ]
  },
  {
   "cell_type": "code",
   "execution_count": 8,
   "metadata": {},
   "outputs": [
    {
     "name": "stdout",
     "output_type": "stream",
     "text": [
      "Epoch 1/80\n",
      "97/97 [==============================] - 83s 854ms/step - loss: 2.7539 - accuracy: 0.6029 - val_loss: 0.2595 - val_accuracy: 0.8919\n",
      "Epoch 2/80\n",
      "97/97 [==============================] - 83s 851ms/step - loss: 0.2565 - accuracy: 0.9121 - val_loss: 0.1839 - val_accuracy: 0.9375\n",
      "Epoch 3/80\n",
      "97/97 [==============================] - 81s 830ms/step - loss: 0.1740 - accuracy: 0.9401 - val_loss: 0.1597 - val_accuracy: 0.9427\n",
      "Epoch 4/80\n",
      "97/97 [==============================] - 94s 971ms/step - loss: 0.1540 - accuracy: 0.9478 - val_loss: 0.2123 - val_accuracy: 0.9388\n",
      "Epoch 5/80\n",
      "97/97 [==============================] - 92s 948ms/step - loss: 0.1150 - accuracy: 0.9585 - val_loss: 0.1440 - val_accuracy: 0.9570\n",
      "Epoch 6/80\n",
      "97/97 [==============================] - 101s 1s/step - loss: 0.1304 - accuracy: 0.9561 - val_loss: 0.1463 - val_accuracy: 0.9505\n",
      "Epoch 7/80\n",
      "97/97 [==============================] - 95s 983ms/step - loss: 0.0987 - accuracy: 0.9664 - val_loss: 0.1532 - val_accuracy: 0.9557\n",
      "Epoch 8/80\n",
      "97/97 [==============================] - 94s 966ms/step - loss: 0.0941 - accuracy: 0.9660 - val_loss: 0.1177 - val_accuracy: 0.9531\n",
      "Epoch 9/80\n",
      "97/97 [==============================] - 94s 964ms/step - loss: 0.0975 - accuracy: 0.9658 - val_loss: 0.0971 - val_accuracy: 0.9688\n",
      "Epoch 10/80\n",
      "97/97 [==============================] - 93s 957ms/step - loss: 0.0652 - accuracy: 0.9762 - val_loss: 0.1529 - val_accuracy: 0.9570\n",
      "Epoch 11/80\n",
      "97/97 [==============================] - 91s 939ms/step - loss: 0.0584 - accuracy: 0.9792 - val_loss: 0.1356 - val_accuracy: 0.9596\n",
      "Epoch 12/80\n",
      "97/97 [==============================] - 91s 936ms/step - loss: 0.0664 - accuracy: 0.9775 - val_loss: 0.1253 - val_accuracy: 0.9596\n",
      "Epoch 13/80\n",
      "97/97 [==============================] - 92s 953ms/step - loss: 0.0688 - accuracy: 0.9791 - val_loss: 0.1381 - val_accuracy: 0.9609\n",
      "Epoch 14/80\n",
      "97/97 [==============================] - 81s 842ms/step - loss: 0.0517 - accuracy: 0.9833 - val_loss: 0.1757 - val_accuracy: 0.9661\n",
      "Epoch 15/80\n",
      "97/97 [==============================] - 81s 830ms/step - loss: 0.0388 - accuracy: 0.9863 - val_loss: 0.1913 - val_accuracy: 0.9544\n",
      "Epoch 16/80\n",
      "97/97 [==============================] - 97s 1s/step - loss: 0.0400 - accuracy: 0.9866 - val_loss: 0.1328 - val_accuracy: 0.9688\n",
      "Epoch 17/80\n",
      "97/97 [==============================] - 108s 1s/step - loss: 0.0363 - accuracy: 0.9872 - val_loss: 0.1771 - val_accuracy: 0.9661\n",
      "Epoch 18/80\n",
      "97/97 [==============================] - 101s 1s/step - loss: 0.0403 - accuracy: 0.9866 - val_loss: 0.2067 - val_accuracy: 0.9557\n"
     ]
    }
   ],
   "source": [
    "# Construimos la red neuronal\n",
    "cnn_model = build_model(input_shape=(150, 150, 3))\n",
    "\n",
    "# Compilamos el modelo\n",
    "cnn_model.compile(\n",
    "    optimizer='adam',\n",
    "    loss='categorical_crossentropy',\n",
    "    metrics=['accuracy'],\n",
    ")\n",
    "\n",
    "# Permite guardar el modelo cuando se maximize el accuracy sobre el dataset de validacion\n",
    "checkpoint_cb = ModelCheckpoint(\n",
    "    filepath='covid-model.{epoch:02d}-{val_accuracy:.2f}.h5',\n",
    "    monitor='val_accuracy', # Cantidad a monitorear\n",
    "    mode='max',\n",
    "    save_best_only=True\n",
    ")\n",
    "\n",
    "# Permite detener el entrenamiento cuando la metrica monitoreada deje de mejorar\n",
    "early_stop_cb = EarlyStopping(\n",
    "    monitor='val_loss', # Cantidad a monitorear\n",
    "    mode='min',\n",
    "    min_delta=0.05, # Cambio minimo en la cantidad monitoreada para calificar como mejora\n",
    "    patience=10 # Numero de epocas sin mejora despues de las cuales se detendra el entrenamiento\n",
    ")\n",
    "\n",
    "# Permite guardar los resultados de cada epoca en un archivo CSV (sobreescribe el archivo si ya existe)\n",
    "csv_logger = CSVLogger('cnn-history.log', separator=';', append=False)\n",
    "\n",
    "# Entrenamos el modelo con un tamaño de lote de 32. Un valor mas alto daria mejores resultados pero\n",
    "# a expensas de una mayor carga computacional.\n",
    "cnn_hist = cnn_model.fit(\n",
    "    train_generator,\n",
    "    epochs=80,\n",
    "    steps_per_epoch=len(x_train) // 32,\n",
    "    validation_data=test_generator,\n",
    "    validation_steps=len(x_test) // 32,\n",
    "    callbacks=[checkpoint_cb, early_stop_cb, csv_logger]\n",
    ")"
   ]
  },
  {
   "cell_type": "markdown",
   "metadata": {},
   "source": [
    "#### Evaluación del modelo y predicciones\n",
    "Al final del bloque tomaremos 3 radiografias de forma aleatoria para visualizar cuales fueron las predicciones sobre cada una de las clases: COVID, NORMAL y VIRAL-PNEUMONIA."
   ]
  },
  {
   "cell_type": "code",
   "execution_count": 9,
   "metadata": {},
   "outputs": [
    {
     "data": {
      "image/png": "[encoded data removed]",
      "text/plain": [
       "<Figure size 576x288 with 2 Axes>"
      ]
     },
     "metadata": {
      "needs_background": "light"
     },
     "output_type": "display_data"
    },
    {
     "name": "stdout",
     "output_type": "stream",
     "text": [
      "Evaluacion del modelo:\n",
      "Test accuracy de 0.9562981724739075\n",
      "Test loss     de 0.20426322519779205\n"
     ]
    },
    {
     "data": {
      "image/png": "[encoded data removed]",
      "text/plain": [
       "<Figure size 1080x360 with 3 Axes>"
      ]
     },
     "metadata": {
      "needs_background": "light"
     },
     "output_type": "display_data"
    }
   ],
   "source": [
    "# cnn_model = keras.models.load_model('cnn-model.h5')\n",
    "\n",
    "# Graficamos las curvas de performance durante el entrenamiento\n",
    "fig = plot_history(cnn_hist)\n",
    "fig.savefig('cnn-hist.png')\n",
    "\n",
    "# Evaluamos el desempeño de la red neuronal con datos de test\n",
    "eval_model(cnn_model, x_test, y_test, batch_size=32)\n",
    "\n",
    "# Realizamos predicciones sobre todo el dataset de prueba\n",
    "y_pred = cnn_model.predict(x_test)\n",
    "\n",
    "# Mostramos 3 radiografias random con sus correspondientes predicciones\n",
    "fig, axs = plt.subplots(nrows=1, ncols=3, figsize=(15, 5))\n",
    "for subplot in range(0, 3):\n",
    "    rand = random.randint(0, len(x_test))\n",
    "    title = ['Paciente N°: {idx}\\n'.format(idx=rand)]\n",
    "    for label, pred in zip(CLASSES, y_pred[rand]):\n",
    "        title.append('{label}: {pred:.2f}%\\n'.format(label=label, pred=100*pred))\n",
    "    axs[subplot].set_title(''.join(title), fontsize=13)\n",
    "    axs[subplot].imshow(x_test[rand], cmap='gray')\n",
    "    axs[subplot].axis('off')"
   ]
  },
  {
   "cell_type": "markdown",
   "metadata": {},
   "source": [
    "#### Matriz de confusión\n",
    "La matriz de confusión nos permite evaluar tanto los falsos positivos como negativos (cuadrantes que están por fuera de la diagonal principal), y las coincidencias entre las etiquetas originales (true labels) y las predecidas por nuestro modelo (predicted labels). Dichas coincidencias las podemos observar en la diagonal principal."
   ]
  },
  {
   "cell_type": "code",
   "execution_count": 10,
   "metadata": {},
   "outputs": [
    {
     "data": {
      "image/png": "[encoded data removed]",
      "text/plain": [
       "<Figure size 432x288 with 2 Axes>"
      ]
     },
     "metadata": {},
     "output_type": "display_data"
    }
   ],
   "source": [
    "# Creamos una matriz de confusion para comparar las predicciones de nuestro modelo\n",
    "conf_matrix = confusion_matrix(y_test.argmax(axis=1), y_pred.argmax(axis=1))\n",
    "\n",
    "# Configuramos la matriz para que nos muestre info relevante\n",
    "sns.set(font_scale=1, color_codes=True, palette='deep')\n",
    "sns.heatmap(conf_matrix, annot=True, annot_kws={'size': 15}, fmt='d', cmap='YlGnBu',\n",
    "            xticklabels=CLASSES, yticklabels=CLASSES)\n",
    "plt.ylabel('Actual')\n",
    "plt.xlabel('Predicted')\n",
    "plt.title('Confusion Matrix')\n",
    "plt.show()"
   ]
  }
 ],
 "metadata": {
  "kernelspec": {
   "display_name": "venv-3.7",
   "language": "python",
   "name": "venv-3.7"
  },
  "language_info": {
   "codemirror_mode": {
    "name": "ipython",
    "version": 3
   },
   "file_extension": ".py",
   "mimetype": "text/x-python",
   "name": "python",
   "nbconvert_exporter": "python",
   "pygments_lexer": "ipython3",
   "version": "3.7.9"
  },
  "widgets": {
   "application/vnd.jupyter.widget-state+json": {
    "state": {
     "004b4253b761447988e539d171e1f05b": {
      "model_module": "@jupyter-widgets/controls",
      "model_module_version": "1.5.0",
      "model_name": "HTMLModel",
      "state": {
       "layout": "IPY_MODEL_791fb0074e3544d8aeb4e414081250bf",
       "style": "IPY_MODEL_50c01917f1804bbaa6788cfefa9599a0",
       "value": " 4/4 [00:00&lt;00:00, 92.81it/s]"
      }
     },
     "0062d064967141b28a4ea40c339ae07f": {
      "model_module": "@jupyter-widgets/controls",
      "model_module_version": "1.5.0",
      "model_name": "DescriptionStyleModel",
      "state": {
       "description_width": ""
      }
     },
     "00682693f5bb47509a169da7c15eddc3": {
      "model_module": "@jupyter-widgets/controls",
      "model_module_version": "1.5.0",
      "model_name": "DescriptionStyleModel",
      "state": {
       "description_width": ""
      }
     },
     "007b700d721b437a824669e9cb498902": {
      "model_module": "@jupyter-widgets/controls",
      "model_module_version": "1.5.0",
      "model_name": "FloatProgressModel",
      "state": {
       "bar_style": "success",
       "layout": "IPY_MODEL_7346b12b5b1d4148a8ad695131554196",
       "max": 4,
       "style": "IPY_MODEL_d1e8276ba76045168861994a00a43499",
       "value": 4
      }
     },
     "00b32cca2336451b9fb2d88849ff770d": {
      "model_module": "@jupyter-widgets/base",
      "model_module_version": "1.2.0",
      "model_name": "LayoutModel",
      "state": {}
     },
     "00cb941f613144abb5d7e24ab7be03f2": {
      "model_module": "@jupyter-widgets/base",
      "model_module_version": "1.2.0",
      "model_name": "LayoutModel",
      "state": {}
     },
     "00d571921ce344b7a05b896a8fcd7b68": {
      "model_module": "@jupyter-widgets/controls",
      "model_module_version": "1.5.0",
      "model_name": "ProgressStyleModel",
      "state": {
       "description_width": ""
      }
     },
     "00ef20d922124caa9e76d638616aa743": {
      "model_module": "@jupyter-widgets/controls",
      "model_module_version": "1.5.0",
      "model_name": "ProgressStyleModel",
      "state": {
       "description_width": ""
      }
     },
     "00ef4dad14444cd5b34624dabc93aa8e": {
      "model_module": "@jupyter-widgets/base",
      "model_module_version": "1.2.0",
      "model_name": "LayoutModel",
      "state": {}
     },
     "01054f44ad2745e5b8b37220b13fcaa9": {
      "model_module": "@jupyter-widgets/controls",
      "model_module_version": "1.5.0",
      "model_name": "HBoxModel",
      "state": {
       "children": [
        "IPY_MODEL_662a6fee9dd1482b8096c75c004b45a4",
        "IPY_MODEL_5d00ba533e3c451fae6af5a9bfa53153",
        "IPY_MODEL_b0cb76b0d875485cb64cd32a1b0b5b7f"
       ],
       "layout": "IPY_MODEL_dc8dd19e7b3e47f2bd2ea519ac91a844"
      }
     },
     "0106dc9873c5469e83975af9299c86a1": {
      "model_module": "@jupyter-widgets/controls",
      "model_module_version": "1.5.0",
      "model_name": "DescriptionStyleModel",
      "state": {
       "description_width": ""
      }
     },
     "0159bdd8f4d74868a956074b2772ddc7": {
      "model_module": "@jupyter-widgets/controls",
      "model_module_version": "1.5.0",
      "model_name": "HTMLModel",
      "state": {
       "layout": "IPY_MODEL_eae6bcd7f6674d32b976e38614a8cd50",
       "style": "IPY_MODEL_3a306d35a0d548a08c50401ec9445af9",
       "value": " 4/4 [00:00&lt;00:00, 27.29it/s]"
      }
     },
     "016241bc43684c02958fcd2ebb6e6cc9": {
      "model_module": "@jupyter-widgets/controls",
      "model_module_version": "1.5.0",
      "model_name": "FloatProgressModel",
      "state": {
       "bar_style": "success",
       "layout": "IPY_MODEL_96fc8a2ab6f54eba90ce36ca8380de63",
       "max": 4,
       "style": "IPY_MODEL_8feb2b1dc8eb468abcfac86a793decb7",
       "value": 4
      }
     },
     "01a2f1c5a016437fbf7d8acea0203f8b": {
      "model_module": "@jupyter-widgets/base",
      "model_module_version": "1.2.0",
      "model_name": "LayoutModel",
      "state": {}
     },
     "01dc8ddf547a462d905d5e7148f3b6e4": {
      "model_module": "@jupyter-widgets/controls",
      "model_module_version": "1.5.0",
      "model_name": "DescriptionStyleModel",
      "state": {
       "description_width": ""
      }
     },
     "01e38da1dc094f9bbbfe202f0ec5d28b": {
      "model_module": "@jupyter-widgets/controls",
      "model_module_version": "1.5.0",
      "model_name": "HTMLModel",
      "state": {
       "layout": "IPY_MODEL_7fb10e01d6694d13b7d29dd2228de813",
       "style": "IPY_MODEL_160ea73768e04573819988f59129a12f",
       "value": "NORMAL: 100%"
      }
     },
     "022a197bec1a4e1ba9cb95bd7be3249a": {
      "model_module": "@jupyter-widgets/controls",
      "model_module_version": "1.5.0",
      "model_name": "HTMLModel",
      "state": {
       "layout": "IPY_MODEL_822b48602033410083325090e1948c96",
       "style": "IPY_MODEL_184db349d92d43ad83e0775e3dcce982",
       "value": "VIRAL-PNEUMONIA: 100%"
      }
     },
     "024ce4ed1a9343bc959ad32bd86c0207": {
      "model_module": "@jupyter-widgets/base",
      "model_module_version": "1.2.0",
      "model_name": "LayoutModel",
      "state": {}
     },
     "02698792436f4fd592385e6a58f14c1f": {
      "model_module": "@jupyter-widgets/controls",
      "model_module_version": "1.5.0",
      "model_name": "DescriptionStyleModel",
      "state": {
       "description_width": ""
      }
     },
     "0289e88eb4a645d9ab6fdecc559ef09e": {
      "model_module": "@jupyter-widgets/controls",
      "model_module_version": "1.5.0",
      "model_name": "HTMLModel",
      "state": {
       "layout": "IPY_MODEL_526fdcc8e702403ca375c8ae6a9c958c",
       "style": "IPY_MODEL_6563cdb277d3437494fb96d52476bdaa",
       "value": " 4/4 [00:00&lt;00:00, 34.80it/s]"
      }
     },
     "02b7087029784d1ead6e868bd600c12f": {
      "model_module": "@jupyter-widgets/base",
      "model_module_version": "1.2.0",
      "model_name": "LayoutModel",
      "state": {}
     },
     "02f50e3c33c24361a999b4b126c83bc9": {
      "model_module": "@jupyter-widgets/controls",
      "model_module_version": "1.5.0",
      "model_name": "FloatProgressModel",
      "state": {
       "bar_style": "success",
       "layout": "IPY_MODEL_130c1c2e446148d5a0d579a38e9db6b0",
       "max": 3,
       "style": "IPY_MODEL_f8e0795c2a7c49508fb622c2f4b29535",
       "value": 3
      }
     },
     "0341003e80a0440ba8ad0192804694f8": {
      "model_module": "@jupyter-widgets/controls",
      "model_module_version": "1.5.0",
      "model_name": "FloatProgressModel",
      "state": {
       "bar_style": "success",
       "layout": "IPY_MODEL_22c56aa25d43445aab04db90a8bea6ce",
       "max": 4,
       "style": "IPY_MODEL_903b37b44043472ca632bedda78d6b8e",
       "value": 4
      }
     },
     "034be99af3cf43a3845d8f4162d77f13": {
      "model_module": "@jupyter-widgets/controls",
      "model_module_version": "1.5.0",
      "model_name": "HBoxModel",
      "state": {
       "children": [
        "IPY_MODEL_20c33f2c1a8b41ec8371590b36d7cb91",
        "IPY_MODEL_4578435433c2452fac679d8b7c8bb61c",
        "IPY_MODEL_1040ffaf92204701885735c7e12df828"
       ],
       "layout": "IPY_MODEL_4ca2ed1c544a429994233de541f18292"
      }
     },
     "035945f3bd6c4cae983c96bc409eefc8": {
      "model_module": "@jupyter-widgets/base",
      "model_module_version": "1.2.0",
      "model_name": "LayoutModel",
      "state": {}
     },
     "03b0b3fa52bc4ab7b133f7ec53d69ee0": {
      "model_module": "@jupyter-widgets/controls",
      "model_module_version": "1.5.0",
      "model_name": "FloatProgressModel",
      "state": {
       "bar_style": "success",
       "layout": "IPY_MODEL_b56618f7ca594dfd8e5d4439fab90136",
       "max": 4,
       "style": "IPY_MODEL_edd4a2c0c15c474c9855c904535fa726",
       "value": 4
      }
     },
     "04074863089945f9a65c5ef1118342df": {
      "model_module": "@jupyter-widgets/controls",
      "model_module_version": "1.5.0",
      "model_name": "HTMLModel",
      "state": {
       "layout": "IPY_MODEL_a37eb6d7c96e47b29835e1cc471f8bfc",
       "style": "IPY_MODEL_dd85e54aafab43d99c44ab21d7095588",
       "value": " 3/3 [00:00&lt;00:00,  9.12it/s]"
      }
     },
     "0409846bffe244d79a8bdd3e7e16afab": {
      "model_module": "@jupyter-widgets/controls",
      "model_module_version": "1.5.0",
      "model_name": "DescriptionStyleModel",
      "state": {
       "description_width": ""
      }
     },
     "0411ce34996a41f6bf1fdba0ed3be656": {
      "model_module": "@jupyter-widgets/controls",
      "model_module_version": "1.5.0",
      "model_name": "HTMLModel",
      "state": {
       "layout": "IPY_MODEL_c26631a8566348b4a195b3095bb4b958",
       "style": "IPY_MODEL_3cfed32fdc114c6bbea4462c7367ffef",
       "value": " 4/4 [00:00&lt;00:00, 66.72it/s]"
      }
     },
     "041dfc95d3c14dc89c4010d8e73e2702": {
      "model_module": "@jupyter-widgets/controls",
      "model_module_version": "1.5.0",
      "model_name": "ProgressStyleModel",
      "state": {
       "description_width": ""
      }
     },
     "04248383e99a401c8c43d7711dbc439e": {
      "model_module": "@jupyter-widgets/controls",
      "model_module_version": "1.5.0",
      "model_name": "DescriptionStyleModel",
      "state": {
       "description_width": ""
      }
     },
     "042ddf409fce4275931168ae240efc61": {
      "model_module": "@jupyter-widgets/controls",
      "model_module_version": "1.5.0",
      "model_name": "ProgressStyleModel",
      "state": {
       "description_width": ""
      }
     },
     "0458f84f9616433ca146a6243d2ec98a": {
      "model_module": "@jupyter-widgets/controls",
      "model_module_version": "1.5.0",
      "model_name": "ProgressStyleModel",
      "state": {
       "description_width": ""
      }
     },
     "0465a96609e54aa1bc38b8a6f7529213": {
      "model_module": "@jupyter-widgets/controls",
      "model_module_version": "1.5.0",
      "model_name": "HBoxModel",
      "state": {
       "children": [
        "IPY_MODEL_079c4919711d47a99b6e1083a9151e42",
        "IPY_MODEL_7d6549c936d84914a36db03aa70dfb45",
        "IPY_MODEL_f4fac61a755e4a0ca1c5060a9b340b29"
       ],
       "layout": "IPY_MODEL_dca837d15eca4071ac5cdc4ca89bae47"
      }
     },
     "04aca9b57ce4453a97faff5db3167040": {
      "model_module": "@jupyter-widgets/controls",
      "model_module_version": "1.5.0",
      "model_name": "HBoxModel",
      "state": {
       "children": [
        "IPY_MODEL_6eb0711f08d74af1be457f23e67ac372",
        "IPY_MODEL_fe5e263f69f940f8ba136277deeca3b1",
        "IPY_MODEL_f60b1e8014294f55ae78cfe100f01d90"
       ],
       "layout": "IPY_MODEL_3868b036e9c14c84a90954609bbcc08a"
      }
     },
     "04c7ac8c01644832b90f18466d3df9e9": {
      "model_module": "@jupyter-widgets/controls",
      "model_module_version": "1.5.0",
      "model_name": "HTMLModel",
      "state": {
       "layout": "IPY_MODEL_d7334f4b06f8445faf4a50cda84586b1",
       "style": "IPY_MODEL_51725654038843c2aa873af93dae1e0c",
       "value": "COVID: 100%"
      }
     },
     "04d905ad4933453f9ee1280021c17fb7": {
      "model_module": "@jupyter-widgets/base",
      "model_module_version": "1.2.0",
      "model_name": "LayoutModel",
      "state": {}
     },
     "04e6d96e3d044993b95338ef3ca87010": {
      "model_module": "@jupyter-widgets/controls",
      "model_module_version": "1.5.0",
      "model_name": "DescriptionStyleModel",
      "state": {
       "description_width": ""
      }
     },
     "05c1a4aca63f4037a58504b3f8e9833f": {
      "model_module": "@jupyter-widgets/controls",
      "model_module_version": "1.5.0",
      "model_name": "FloatProgressModel",
      "state": {
       "bar_style": "success",
       "layout": "IPY_MODEL_379fc2c8fedf41fca8011121c7cd8683",
       "max": 3,
       "style": "IPY_MODEL_e7774fff021046fe864fe480102c93c6",
       "value": 3
      }
     },
     "05da8bcede21496d85b10074be786040": {
      "model_module": "@jupyter-widgets/base",
      "model_module_version": "1.2.0",
      "model_name": "LayoutModel",
      "state": {}
     },
     "05dac69e034d41f784141d625b21b978": {
      "model_module": "@jupyter-widgets/controls",
      "model_module_version": "1.5.0",
      "model_name": "HTMLModel",
      "state": {
       "layout": "IPY_MODEL_a9e200f7808d41e7927b7c058022c084",
       "style": "IPY_MODEL_1ec3fe31bb444e31a3dfcdb1cbd24555",
       "value": " 4/4 [00:00&lt;00:00, 37.46it/s]"
      }
     },
     "06096d688c0c461ea09f8cf2da3d39c7": {
      "model_module": "@jupyter-widgets/base",
      "model_module_version": "1.2.0",
      "model_name": "LayoutModel",
      "state": {}
     },
     "06491126d31f41fe97749fafba4f5097": {
      "model_module": "@jupyter-widgets/controls",
      "model_module_version": "1.5.0",
      "model_name": "HBoxModel",
      "state": {
       "children": [
        "IPY_MODEL_b6a8c350a0034fb08a0bcb73690c2d34",
        "IPY_MODEL_31dab41567af4a49a1a19fa8a5a39461",
        "IPY_MODEL_084c191d9caf4f148854428cb7d477c3"
       ],
       "layout": "IPY_MODEL_79ca3841e35a4d4cafffe8de5fa20633"
      }
     },
     "06870a1088134f1a9f6cf09180adb657": {
      "model_module": "@jupyter-widgets/controls",
      "model_module_version": "1.5.0",
      "model_name": "HTMLModel",
      "state": {
       "layout": "IPY_MODEL_0d4bb8991f344b4aab88fa164039a00c",
       "style": "IPY_MODEL_d41b2adfaec44086939c3026ef532141",
       "value": " 4/4 [00:00&lt;00:00, 27.66it/s]"
      }
     },
     "068966e73f784831ac455fdb06655b89": {
      "model_module": "@jupyter-widgets/controls",
      "model_module_version": "1.5.0",
      "model_name": "ProgressStyleModel",
      "state": {
       "description_width": ""
      }
     },
     "06959d3025fa409b8d6e3c90c543ecf0": {
      "model_module": "@jupyter-widgets/controls",
      "model_module_version": "1.5.0",
      "model_name": "ProgressStyleModel",
      "state": {
       "description_width": ""
      }
     },
     "06c32f5460584dfa84f4ef2a22c612a9": {
      "model_module": "@jupyter-widgets/controls",
      "model_module_version": "1.5.0",
      "model_name": "DescriptionStyleModel",
      "state": {
       "description_width": ""
      }
     },
     "06f2508e2a7a4453b565312cb7be3f52": {
      "model_module": "@jupyter-widgets/controls",
      "model_module_version": "1.5.0",
      "model_name": "ProgressStyleModel",
      "state": {
       "description_width": ""
      }
     },
     "073f67ac803e4a039f4cdfa836c87a48": {
      "model_module": "@jupyter-widgets/controls",
      "model_module_version": "1.5.0",
      "model_name": "DescriptionStyleModel",
      "state": {
       "description_width": ""
      }
     },
     "074099d19c9c4ab98cb871b068631e67": {
      "model_module": "@jupyter-widgets/controls",
      "model_module_version": "1.5.0",
      "model_name": "DescriptionStyleModel",
      "state": {
       "description_width": ""
      }
     },
     "077a2c20b02f44418989fcc9b2c3fd70": {
      "model_module": "@jupyter-widgets/base",
      "model_module_version": "1.2.0",
      "model_name": "LayoutModel",
      "state": {}
     },
     "079c4919711d47a99b6e1083a9151e42": {
      "model_module": "@jupyter-widgets/controls",
      "model_module_version": "1.5.0",
      "model_name": "HTMLModel",
      "state": {
       "layout": "IPY_MODEL_5095f77aaee14c5fb0aabc5a22e9f4e9",
       "style": "IPY_MODEL_6bc80409e16a4937ab42cfcd18873812",
       "value": "DATASETS: 100%"
      }
     },
     "07ab15f51a4f4c228b3869688dbb1820": {
      "model_module": "@jupyter-widgets/base",
      "model_module_version": "1.2.0",
      "model_name": "LayoutModel",
      "state": {}
     },
     "07d5302db88e490eabd73f502686c3c1": {
      "model_module": "@jupyter-widgets/controls",
      "model_module_version": "1.5.0",
      "model_name": "DescriptionStyleModel",
      "state": {
       "description_width": ""
      }
     },
     "084c191d9caf4f148854428cb7d477c3": {
      "model_module": "@jupyter-widgets/controls",
      "model_module_version": "1.5.0",
      "model_name": "HTMLModel",
      "state": {
       "layout": "IPY_MODEL_3d37733607b447489d27391f31d1b910",
       "style": "IPY_MODEL_dbb16776f23540eb80f19ae5a543a5bd",
       "value": " 4/4 [00:00&lt;00:00, 26.49it/s]"
      }
     },
     "0883e4228c324155833fc6ae2b51b838": {
      "model_module": "@jupyter-widgets/controls",
      "model_module_version": "1.5.0",
      "model_name": "HTMLModel",
      "state": {
       "layout": "IPY_MODEL_8d2fc192306a4d838e20a94d821a1169",
       "style": "IPY_MODEL_4bf2ccc7b83a4abc94f079c61954509f",
       "value": " 4/4 [00:00&lt;00:00, 67.24it/s]"
      }
     },
     "0891fcaeb88f4618ba92f3fce8f0eff9": {
      "model_module": "@jupyter-widgets/base",
      "model_module_version": "1.2.0",
      "model_name": "LayoutModel",
      "state": {}
     },
     "08c908157aa7451ea57d9e274cf90e2b": {
      "model_module": "@jupyter-widgets/controls",
      "model_module_version": "1.5.0",
      "model_name": "HTMLModel",
      "state": {
       "layout": "IPY_MODEL_e6ac41703fe74e8a98b585de2bb23e4c",
       "style": "IPY_MODEL_4b1e21135ead41b79676b8fd27b04e37",
       "value": " 1345/1345 [00:22&lt;00:00, 60.10it/s]"
      }
     },
     "08d178ea8c114962a0b56ca12340a48a": {
      "model_module": "@jupyter-widgets/controls",
      "model_module_version": "1.5.0",
      "model_name": "FloatProgressModel",
      "state": {
       "bar_style": "success",
       "layout": "IPY_MODEL_7ce1940a9dbf45ae99d262f95d1e6798",
       "max": 4,
       "style": "IPY_MODEL_b8737d24513b44acb76a1735c9484b69",
       "value": 4
      }
     },
     "08d3d0aca6bd46e395194da4db905875": {
      "model_module": "@jupyter-widgets/base",
      "model_module_version": "1.2.0",
      "model_name": "LayoutModel",
      "state": {}
     },
     "08d9e63a1bc24619b5156caf3bb0b201": {
      "model_module": "@jupyter-widgets/controls",
      "model_module_version": "1.5.0",
      "model_name": "ProgressStyleModel",
      "state": {
       "description_width": ""
      }
     },
     "097d7ac8a24f47559b67ad5c43eaddf8": {
      "model_module": "@jupyter-widgets/controls",
      "model_module_version": "1.5.0",
      "model_name": "DescriptionStyleModel",
      "state": {
       "description_width": ""
      }
     },
     "0987b46436a04e0facb645d59c93a9a1": {
      "model_module": "@jupyter-widgets/controls",
      "model_module_version": "1.5.0",
      "model_name": "DescriptionStyleModel",
      "state": {
       "description_width": ""
      }
     },
     "09995d44e146483f8bdc1f62fa61e482": {
      "model_module": "@jupyter-widgets/base",
      "model_module_version": "1.2.0",
      "model_name": "LayoutModel",
      "state": {}
     },
     "09bd44b6fc5b4b6fb045e61f1bb68077": {
      "model_module": "@jupyter-widgets/controls",
      "model_module_version": "1.5.0",
      "model_name": "ProgressStyleModel",
      "state": {
       "description_width": ""
      }
     },
     "09e1fcd6f60444d199f2b78abf6de381": {
      "model_module": "@jupyter-widgets/controls",
      "model_module_version": "1.5.0",
      "model_name": "FloatProgressModel",
      "state": {
       "bar_style": "success",
       "layout": "IPY_MODEL_b045cc3e4f284d2baff6a1620f1fcfa9",
       "max": 4,
       "style": "IPY_MODEL_8e53b504c4164b269148c14ec8c88a2b",
       "value": 4
      }
     },
     "09ebe879411144f9a9b53792792ad3c4": {
      "model_module": "@jupyter-widgets/controls",
      "model_module_version": "1.5.0",
      "model_name": "HTMLModel",
      "state": {
       "layout": "IPY_MODEL_bb270756d468441ca08609b65b5553d3",
       "style": "IPY_MODEL_8c6d7ff8c48a4e9896e4d87058f5d57e",
       "value": " 4/4 [00:00&lt;00:00, 37.40it/s]"
      }
     },
     "09efc251408846b59d97287b2b97d4fb": {
      "model_module": "@jupyter-widgets/base",
      "model_module_version": "1.2.0",
      "model_name": "LayoutModel",
      "state": {}
     },
     "0a29fdef35464efba3b285d28dadf46d": {
      "model_module": "@jupyter-widgets/controls",
      "model_module_version": "1.5.0",
      "model_name": "HTMLModel",
      "state": {
       "layout": "IPY_MODEL_ba4f816c185e4afabd6ebb38e2624572",
       "style": "IPY_MODEL_7d7f8c0b71a34474860953efac2abb78",
       "value": "DATASETS: 100%"
      }
     },
     "0a2cf03ff0e24044ad7ea75495a333a8": {
      "model_module": "@jupyter-widgets/controls",
      "model_module_version": "1.5.0",
      "model_name": "HBoxModel",
      "state": {
       "children": [
        "IPY_MODEL_efcc7b890571495eb266397d0d274ab9",
        "IPY_MODEL_0bb9502e89694245b1cd5c8858b0ece4",
        "IPY_MODEL_adbd5726cdbb4eceb86881e81f4bf594"
       ],
       "layout": "IPY_MODEL_bf5ef79608ae4faba6f066433c50f53f"
      }
     },
     "0a32e61deeca4f2f97beb572c5cfcdfe": {
      "model_module": "@jupyter-widgets/base",
      "model_module_version": "1.2.0",
      "model_name": "LayoutModel",
      "state": {}
     },
     "0a56887d62ee42feabd538ebcc79984c": {
      "model_module": "@jupyter-widgets/controls",
      "model_module_version": "1.5.0",
      "model_name": "HBoxModel",
      "state": {
       "children": [
        "IPY_MODEL_4a8594ead8a94f818652694267fcf165",
        "IPY_MODEL_4ee3cfbd535c4c0a959b072254f7f166",
        "IPY_MODEL_08c908157aa7451ea57d9e274cf90e2b"
       ],
       "layout": "IPY_MODEL_a901c07591814e73be568048b03422a1"
      }
     },
     "0ab9aaf21b864c15b29ee081a1996626": {
      "model_module": "@jupyter-widgets/controls",
      "model_module_version": "1.5.0",
      "model_name": "HBoxModel",
      "state": {
       "children": [
        "IPY_MODEL_7c816cf5e1f34b3a8dec39cf06f62563",
        "IPY_MODEL_bd5ba21172e8445cb56ff82d480f0105",
        "IPY_MODEL_d580f5391d3044beadbd699f8573103c"
       ],
       "layout": "IPY_MODEL_04d905ad4933453f9ee1280021c17fb7"
      }
     },
     "0abc9218f6754e519a2c53fb73dd60fa": {
      "model_module": "@jupyter-widgets/controls",
      "model_module_version": "1.5.0",
      "model_name": "HBoxModel",
      "state": {
       "children": [
        "IPY_MODEL_6779c99ec8b547f8947fccf4eda81ad9",
        "IPY_MODEL_e10cd72ae8ac4d62aac00b87a147df8f",
        "IPY_MODEL_9eebcd17512f42a3b4b955e15819d970"
       ],
       "layout": "IPY_MODEL_fc5f13fcdf434e5e9deb41d4e24fa733"
      }
     },
     "0ae574cd4b5b47e29c2fdceac71f26ae": {
      "model_module": "@jupyter-widgets/controls",
      "model_module_version": "1.5.0",
      "model_name": "FloatProgressModel",
      "state": {
       "bar_style": "success",
       "layout": "IPY_MODEL_a0661578c5d443d2bf6b762d4acbbf3a",
       "max": 3,
       "style": "IPY_MODEL_97a89e86e3b540ed8bb583b1ba21c6be",
       "value": 3
      }
     },
     "0af5f986fca842cea4f57177a64f2e45": {
      "model_module": "@jupyter-widgets/controls",
      "model_module_version": "1.5.0",
      "model_name": "DescriptionStyleModel",
      "state": {
       "description_width": ""
      }
     },
     "0b0031d93b5f4a9fba9dc3b1dd26244f": {
      "model_module": "@jupyter-widgets/base",
      "model_module_version": "1.2.0",
      "model_name": "LayoutModel",
      "state": {}
     },
     "0b0545e19c854cde9a1fa678b8733046": {
      "model_module": "@jupyter-widgets/controls",
      "model_module_version": "1.5.0",
      "model_name": "HTMLModel",
      "state": {
       "layout": "IPY_MODEL_a15dedbb067b40dd9386bdff1d6d3564",
       "style": "IPY_MODEL_d1834c3a731c4edba2542a207d0b47e7",
       "value": "VIRAL-PNEUMONIA: 100%"
      }
     },
     "0b0f77388872497f8eb199f692c9b57a": {
      "model_module": "@jupyter-widgets/base",
      "model_module_version": "1.2.0",
      "model_name": "LayoutModel",
      "state": {}
     },
     "0b286b984b5843239833ff1bf2ccbddd": {
      "model_module": "@jupyter-widgets/base",
      "model_module_version": "1.2.0",
      "model_name": "LayoutModel",
      "state": {}
     },
     "0b3543a7143843dbadcb66dfc778ee9d": {
      "model_module": "@jupyter-widgets/controls",
      "model_module_version": "1.5.0",
      "model_name": "HBoxModel",
      "state": {
       "children": [
        "IPY_MODEL_d49b9652b2a3443183f9b0b78ce74ee2",
        "IPY_MODEL_8b26bb1b671646efac04add74509896a",
        "IPY_MODEL_4b893333839f4127875a7940e08ef814"
       ],
       "layout": "IPY_MODEL_782a02b48b1a41c7942985b1f967a107"
      }
     },
     "0bb9502e89694245b1cd5c8858b0ece4": {
      "model_module": "@jupyter-widgets/controls",
      "model_module_version": "1.5.0",
      "model_name": "FloatProgressModel",
      "state": {
       "bar_style": "success",
       "layout": "IPY_MODEL_e45d41c5ff1242de953cd3f534202b76",
       "max": 4,
       "style": "IPY_MODEL_273a3046db5e491ca2abe9eba717d91f",
       "value": 4
      }
     },
     "0bbc7d8bb18949ab93a218a35802021e": {
      "model_module": "@jupyter-widgets/base",
      "model_module_version": "1.2.0",
      "model_name": "LayoutModel",
      "state": {}
     },
     "0c1d14f5ef024e468552d2a84b1aeb2e": {
      "model_module": "@jupyter-widgets/controls",
      "model_module_version": "1.5.0",
      "model_name": "FloatProgressModel",
      "state": {
       "bar_style": "success",
       "layout": "IPY_MODEL_b8c739bd97a44ee0ba937fb4e2d8a138",
       "max": 1200,
       "style": "IPY_MODEL_3fd3c9744a3c478f847e87b255ef0ba3",
       "value": 1200
      }
     },
     "0c569393e46440ac90cfb6250bf492dd": {
      "model_module": "@jupyter-widgets/base",
      "model_module_version": "1.2.0",
      "model_name": "LayoutModel",
      "state": {}
     },
     "0cd1fcdf182a415e9103d25a77420a51": {
      "model_module": "@jupyter-widgets/controls",
      "model_module_version": "1.5.0",
      "model_name": "DescriptionStyleModel",
      "state": {
       "description_width": ""
      }
     },
     "0cd3cb9309454378a930636fc8a7a895": {
      "model_module": "@jupyter-widgets/base",
      "model_module_version": "1.2.0",
      "model_name": "LayoutModel",
      "state": {}
     },
     "0cfe34b2389646c7a34c616e9c2ceb45": {
      "model_module": "@jupyter-widgets/controls",
      "model_module_version": "1.5.0",
      "model_name": "HTMLModel",
      "state": {
       "layout": "IPY_MODEL_e2101f59e7d94fb6a154e3fd49384ee9",
       "style": "IPY_MODEL_ebdd6e62155d405bae80cfdc66fa58ae",
       "value": " 1341/1341 [00:17&lt;00:00, 77.66it/s]"
      }
     },
     "0d19eaee45f944fab10e6bb99747b3d3": {
      "model_module": "@jupyter-widgets/controls",
      "model_module_version": "1.5.0",
      "model_name": "DescriptionStyleModel",
      "state": {
       "description_width": ""
      }
     },
     "0d3623337bd0491f9c1c058d31752d03": {
      "model_module": "@jupyter-widgets/controls",
      "model_module_version": "1.5.0",
      "model_name": "DescriptionStyleModel",
      "state": {
       "description_width": ""
      }
     },
     "0d4bb8991f344b4aab88fa164039a00c": {
      "model_module": "@jupyter-widgets/base",
      "model_module_version": "1.2.0",
      "model_name": "LayoutModel",
      "state": {}
     },
     "0dbe007091bb4c718ddc8d54aee8df66": {
      "model_module": "@jupyter-widgets/controls",
      "model_module_version": "1.5.0",
      "model_name": "FloatProgressModel",
      "state": {
       "bar_style": "success",
       "layout": "IPY_MODEL_7643a7025e5c444097f032593976e18c",
       "max": 4,
       "style": "IPY_MODEL_1472ea1c2a3446e3938057a26be77780",
       "value": 4
      }
     },
     "0dc19d6bc1ab4407948be802444e068f": {
      "model_module": "@jupyter-widgets/base",
      "model_module_version": "1.2.0",
      "model_name": "LayoutModel",
      "state": {}
     },
     "0dc61101a29f43d6870a70894e202ac1": {
      "model_module": "@jupyter-widgets/controls",
      "model_module_version": "1.5.0",
      "model_name": "HTMLModel",
      "state": {
       "layout": "IPY_MODEL_3972f0f3c6eb406f987abd32e06e09ce",
       "style": "IPY_MODEL_dac8075db7e14e159c6e7565e7f3a491",
       "value": "COVID: 100%"
      }
     },
     "0dcd9fecd67340e18a9180d60da46683": {
      "model_module": "@jupyter-widgets/controls",
      "model_module_version": "1.5.0",
      "model_name": "HBoxModel",
      "state": {
       "children": [
        "IPY_MODEL_e91a7f68485c455f8af8bb0ab602bcfb",
        "IPY_MODEL_5f6c655a68ae4a3daf8187562aee6a1b",
        "IPY_MODEL_41cf9e509ee34e7d860f01cd9e17f0b2"
       ],
       "layout": "IPY_MODEL_e1afafd1b22c4c948c7f3afd736fe495"
      }
     },
     "0dd944b596874648aa76d896ff559c75": {
      "model_module": "@jupyter-widgets/base",
      "model_module_version": "1.2.0",
      "model_name": "LayoutModel",
      "state": {}
     },
     "0e1106d06f8d49e8a0f207447a022a82": {
      "model_module": "@jupyter-widgets/controls",
      "model_module_version": "1.5.0",
      "model_name": "HTMLModel",
      "state": {
       "layout": "IPY_MODEL_7bc63423366943f6bfc6f0b58e5dd670",
       "style": "IPY_MODEL_00682693f5bb47509a169da7c15eddc3",
       "value": " 4/4 [00:00&lt;00:00, 35.88it/s]"
      }
     },
     "0e23d64a6d984c04b475531b158c7228": {
      "model_module": "@jupyter-widgets/base",
      "model_module_version": "1.2.0",
      "model_name": "LayoutModel",
      "state": {}
     },
     "0e2878cb1cf6427c9a929e97df91af49": {
      "model_module": "@jupyter-widgets/controls",
      "model_module_version": "1.5.0",
      "model_name": "HBoxModel",
      "state": {
       "children": [
        "IPY_MODEL_4e6e7dd7f8c94beebf921e4f0d06114c",
        "IPY_MODEL_2e0fbf6f091e4ef6ac5a3fd3e466f96b",
        "IPY_MODEL_60b37555009a4a318bb15bab678e100c"
       ],
       "layout": "IPY_MODEL_6221c4652eb443049d8cf662ff4023f7"
      }
     },
     "0e3d7ab3a83f4265bb98e68ca2c2cf1a": {
      "model_module": "@jupyter-widgets/controls",
      "model_module_version": "1.5.0",
      "model_name": "HBoxModel",
      "state": {
       "children": [
        "IPY_MODEL_375fae50e7954571a74369aaa76cfbb7",
        "IPY_MODEL_e4ee59360e4b4e4db230efa2a71195b7",
        "IPY_MODEL_dee4c505b7184b73be7c19a323533ac3"
       ],
       "layout": "IPY_MODEL_7c1bad880dd649b0a190337c29fe12fc"
      }
     },
     "0e64d92c8b5a49eab2ec31bfd6bba87a": {
      "model_module": "@jupyter-widgets/controls",
      "model_module_version": "1.5.0",
      "model_name": "ProgressStyleModel",
      "state": {
       "description_width": ""
      }
     },
     "0e92131254eb43308eaba1394e3ce918": {
      "model_module": "@jupyter-widgets/base",
      "model_module_version": "1.2.0",
      "model_name": "LayoutModel",
      "state": {}
     },
     "0ea03c4c3dc14afd8ecda30c2ed396ba": {
      "model_module": "@jupyter-widgets/controls",
      "model_module_version": "1.5.0",
      "model_name": "HTMLModel",
      "state": {
       "layout": "IPY_MODEL_3c581d0aa10940379bf1df08da78aea4",
       "style": "IPY_MODEL_9363d3c1eba84a0887135f9816b29b55",
       "value": "NORMAL: 100%"
      }
     },
     "0ea1bef6a45a433ebe195db0fa07bdc4": {
      "model_module": "@jupyter-widgets/controls",
      "model_module_version": "1.5.0",
      "model_name": "DescriptionStyleModel",
      "state": {
       "description_width": ""
      }
     },
     "0eae6c680bed415b8033ad4faee4e002": {
      "model_module": "@jupyter-widgets/base",
      "model_module_version": "1.2.0",
      "model_name": "LayoutModel",
      "state": {}
     },
     "0eb3041943964b3a8cbb97a54ca823a9": {
      "model_module": "@jupyter-widgets/controls",
      "model_module_version": "1.5.0",
      "model_name": "DescriptionStyleModel",
      "state": {
       "description_width": ""
      }
     },
     "0efa41c8983f4378bf09d92830368d69": {
      "model_module": "@jupyter-widgets/base",
      "model_module_version": "1.2.0",
      "model_name": "LayoutModel",
      "state": {}
     },
     "0f18d5e7ec7f4916aaf2ce7b1f205397": {
      "model_module": "@jupyter-widgets/controls",
      "model_module_version": "1.5.0",
      "model_name": "HTMLModel",
      "state": {
       "layout": "IPY_MODEL_06096d688c0c461ea09f8cf2da3d39c7",
       "style": "IPY_MODEL_feae26543eda4cdbbb459b49d1928f7d",
       "value": "NORMAL: 100%"
      }
     },
     "0f1abdf6aad640a4bd0fbe431a2ea6f4": {
      "model_module": "@jupyter-widgets/controls",
      "model_module_version": "1.5.0",
      "model_name": "HTMLModel",
      "state": {
       "layout": "IPY_MODEL_e93bc8dbafc343dbaedee52a02549e78",
       "style": "IPY_MODEL_ea02758d809846d2a08f3cb89a4e0ed9",
       "value": "DATASETS: 100%"
      }
     },
     "0f43806c8a554e6da27ad739896ad748": {
      "model_module": "@jupyter-widgets/base",
      "model_module_version": "1.2.0",
      "model_name": "LayoutModel",
      "state": {}
     },
     "0f4be22475454c2192ad7fb166e6999e": {
      "model_module": "@jupyter-widgets/base",
      "model_module_version": "1.2.0",
      "model_name": "LayoutModel",
      "state": {}
     },
     "0f4c5cd49601410b919d68820a9dd344": {
      "model_module": "@jupyter-widgets/controls",
      "model_module_version": "1.5.0",
      "model_name": "DescriptionStyleModel",
      "state": {
       "description_width": ""
      }
     },
     "0f53dfb2cf304371a296c34ae4faac7c": {
      "model_module": "@jupyter-widgets/base",
      "model_module_version": "1.2.0",
      "model_name": "LayoutModel",
      "state": {}
     },
     "0f5b831d01184f768fec281a5e87c54a": {
      "model_module": "@jupyter-widgets/base",
      "model_module_version": "1.2.0",
      "model_name": "LayoutModel",
      "state": {}
     },
     "0f8bbd805af046529bac09272616b7cb": {
      "model_module": "@jupyter-widgets/controls",
      "model_module_version": "1.5.0",
      "model_name": "DescriptionStyleModel",
      "state": {
       "description_width": ""
      }
     },
     "0fbd273bb5ec4398926cc4ae3f3f7199": {
      "model_module": "@jupyter-widgets/base",
      "model_module_version": "1.2.0",
      "model_name": "LayoutModel",
      "state": {}
     },
     "0fd43c6c96d24b688b9db8654fe29b42": {
      "model_module": "@jupyter-widgets/base",
      "model_module_version": "1.2.0",
      "model_name": "LayoutModel",
      "state": {}
     },
     "1000793b669245559f49c6ed68df8bb7": {
      "model_module": "@jupyter-widgets/controls",
      "model_module_version": "1.5.0",
      "model_name": "FloatProgressModel",
      "state": {
       "bar_style": "success",
       "layout": "IPY_MODEL_7732e68b23614cda9cb6463a7762b143",
       "max": 4,
       "style": "IPY_MODEL_4c6ac34e8c464734927c62822ba2f4cd",
       "value": 4
      }
     },
     "10064ed7b8be4c72985d59517d635690": {
      "model_module": "@jupyter-widgets/controls",
      "model_module_version": "1.5.0",
      "model_name": "HTMLModel",
      "state": {
       "layout": "IPY_MODEL_821c8349113041d79fa401ebdb3dc0a1",
       "style": "IPY_MODEL_d9a906fcb1cc4382aa840baccc37ed37",
       "value": "DATASETS: 100%"
      }
     },
     "1007de1f078d4f2aa8417bbfd033d40f": {
      "model_module": "@jupyter-widgets/base",
      "model_module_version": "1.2.0",
      "model_name": "LayoutModel",
      "state": {}
     },
     "1040ffaf92204701885735c7e12df828": {
      "model_module": "@jupyter-widgets/controls",
      "model_module_version": "1.5.0",
      "model_name": "HTMLModel",
      "state": {
       "layout": "IPY_MODEL_babdeafdac1d45d39a5eb664eb3790d1",
       "style": "IPY_MODEL_5bfc7fadc0e24921a8ac6245f6af595b",
       "value": " 1341/1341 [00:19&lt;00:00, 70.54it/s]"
      }
     },
     "1068b0d9a8864c1e8924bce78e6bb36a": {
      "model_module": "@jupyter-widgets/controls",
      "model_module_version": "1.5.0",
      "model_name": "HBoxModel",
      "state": {
       "children": [
        "IPY_MODEL_fe30486bc8ef4aaea8f237cf9661f0ab",
        "IPY_MODEL_65ef1379db384eb488779421293c470c",
        "IPY_MODEL_59a40a9e2c614c14bf1cf5c29d9cf260"
       ],
       "layout": "IPY_MODEL_8b41f89093ee43b3ab054cc13fdd49d0"
      }
     },
     "106959ba7237426db59ff8865abae825": {
      "model_module": "@jupyter-widgets/controls",
      "model_module_version": "1.5.0",
      "model_name": "ProgressStyleModel",
      "state": {
       "description_width": ""
      }
     },
     "106c070564bc46d89772eb28d1e152d6": {
      "model_module": "@jupyter-widgets/controls",
      "model_module_version": "1.5.0",
      "model_name": "HTMLModel",
      "state": {
       "layout": "IPY_MODEL_137c95eb63e646a7b384fa68fe64edde",
       "style": "IPY_MODEL_462040e1d6c94dc2b08691b6dd9195de",
       "value": "NORMAL: 100%"
      }
     },
     "1085f79fb961436a99f6e43e2a499db8": {
      "model_module": "@jupyter-widgets/controls",
      "model_module_version": "1.5.0",
      "model_name": "ProgressStyleModel",
      "state": {
       "description_width": ""
      }
     },
     "10b3f5dbe039483688d42ea301b111b4": {
      "model_module": "@jupyter-widgets/controls",
      "model_module_version": "1.5.0",
      "model_name": "DescriptionStyleModel",
      "state": {
       "description_width": ""
      }
     },
     "10c64e92446249e98e064e3bca89a75a": {
      "model_module": "@jupyter-widgets/controls",
      "model_module_version": "1.5.0",
      "model_name": "DescriptionStyleModel",
      "state": {
       "description_width": ""
      }
     },
     "10eb86a095c1442895e6474d9322cafd": {
      "model_module": "@jupyter-widgets/base",
      "model_module_version": "1.2.0",
      "model_name": "LayoutModel",
      "state": {}
     },
     "1131ee5795df4d35804883133a160a17": {
      "model_module": "@jupyter-widgets/controls",
      "model_module_version": "1.5.0",
      "model_name": "HBoxModel",
      "state": {
       "children": [
        "IPY_MODEL_aef0f451eda04d53a864f83a43ec0a3a",
        "IPY_MODEL_3502553548234fde8e1d74cfb78f6317",
        "IPY_MODEL_c464360182664300917e26ca9a1770ec"
       ],
       "layout": "IPY_MODEL_39e7a488d2ba42af89b68697224cb21c"
      }
     },
     "1138ab30fca343d6822481438cdbea20": {
      "model_module": "@jupyter-widgets/base",
      "model_module_version": "1.2.0",
      "model_name": "LayoutModel",
      "state": {}
     },
     "1155eea6b6bf4d06963842ec21560888": {
      "model_module": "@jupyter-widgets/controls",
      "model_module_version": "1.5.0",
      "model_name": "HTMLModel",
      "state": {
       "layout": "IPY_MODEL_e816f0725e4f4ed5bd56c72ea2149258",
       "style": "IPY_MODEL_3affa26377c94761bdf949ee2e3b2c7d",
       "value": " 3/3 [00:00&lt;00:00,  8.26it/s]"
      }
     },
     "115db0d0efe54f0fb3123a770c6422a2": {
      "model_module": "@jupyter-widgets/base",
      "model_module_version": "1.2.0",
      "model_name": "LayoutModel",
      "state": {}
     },
     "1179f08191a7433ab108758b1881a835": {
      "model_module": "@jupyter-widgets/controls",
      "model_module_version": "1.5.0",
      "model_name": "HTMLModel",
      "state": {
       "layout": "IPY_MODEL_3047fe72b6fa4023a448b3c7cd77166f",
       "style": "IPY_MODEL_d4e6a6755f0749ec9963e7a416171eea",
       "value": " 3/3 [00:00&lt;00:00,  7.01it/s]"
      }
     },
     "117a278ab2fa4be7869f27e4d7e5d3c9": {
      "model_module": "@jupyter-widgets/controls",
      "model_module_version": "1.5.0",
      "model_name": "ProgressStyleModel",
      "state": {
       "description_width": ""
      }
     },
     "117bb8724c7e4055b5af831d351ad1c2": {
      "model_module": "@jupyter-widgets/controls",
      "model_module_version": "1.5.0",
      "model_name": "ProgressStyleModel",
      "state": {
       "description_width": ""
      }
     },
     "11f8b9a8dbd147909ace9da389400d26": {
      "model_module": "@jupyter-widgets/controls",
      "model_module_version": "1.5.0",
      "model_name": "HBoxModel",
      "state": {
       "children": [
        "IPY_MODEL_5ee5f24f3eb14d9396fe7d78fbfe0a8e",
        "IPY_MODEL_c451af6a293a498eb62874b527804d25",
        "IPY_MODEL_4839eaa494154d05b2177114d06eaac2"
       ],
       "layout": "IPY_MODEL_176fce53338240c9b74529a6e0693887"
      }
     },
     "12045b32fce147bb8b5e229e5326b52e": {
      "model_module": "@jupyter-widgets/base",
      "model_module_version": "1.2.0",
      "model_name": "LayoutModel",
      "state": {}
     },
     "1218c11fc2ef4e25820ef4587dd01717": {
      "model_module": "@jupyter-widgets/controls",
      "model_module_version": "1.5.0",
      "model_name": "HBoxModel",
      "state": {
       "children": [
        "IPY_MODEL_8c71300ff5344bcabcca7961aaa84579",
        "IPY_MODEL_3dad4e2d2ffe46af91e6465d059cdcf5",
        "IPY_MODEL_0e1106d06f8d49e8a0f207447a022a82"
       ],
       "layout": "IPY_MODEL_7fd9a975e7204cbeaad98feda9f0aefa"
      }
     },
     "122621539c534431b1c62588855e359f": {
      "model_module": "@jupyter-widgets/base",
      "model_module_version": "1.2.0",
      "model_name": "LayoutModel",
      "state": {}
     },
     "122805d0ce1d41aab1b3301a4732021e": {
      "model_module": "@jupyter-widgets/controls",
      "model_module_version": "1.5.0",
      "model_name": "FloatProgressModel",
      "state": {
       "bar_style": "success",
       "layout": "IPY_MODEL_21e0575fdc65488da1c3f510f45e0a5a",
       "max": 3,
       "style": "IPY_MODEL_e767888b48d24b30acf8b09cc82f9a4c",
       "value": 3
      }
     },
     "124d43ef51bc4e6280c809d027987b91": {
      "model_module": "@jupyter-widgets/controls",
      "model_module_version": "1.5.0",
      "model_name": "DescriptionStyleModel",
      "state": {
       "description_width": ""
      }
     },
     "1293dc38741147aeb3124bc1b2a4e459": {
      "model_module": "@jupyter-widgets/base",
      "model_module_version": "1.2.0",
      "model_name": "LayoutModel",
      "state": {}
     },
     "12a2b1304c60443e8dbc30c402b59598": {
      "model_module": "@jupyter-widgets/controls",
      "model_module_version": "1.5.0",
      "model_name": "ProgressStyleModel",
      "state": {
       "description_width": ""
      }
     },
     "12ebf1d3496644f0bf18efd9c8104c30": {
      "model_module": "@jupyter-widgets/controls",
      "model_module_version": "1.5.0",
      "model_name": "HTMLModel",
      "state": {
       "layout": "IPY_MODEL_e1c877f3ac1d48ef95056b905f464216",
       "style": "IPY_MODEL_7b6bc8c01ac34e9493308ad93a47e733",
       "value": " 3/3 [00:00&lt;00:00,  6.78it/s]"
      }
     },
     "130780581e4349678f4102334b9cd24f": {
      "model_module": "@jupyter-widgets/base",
      "model_module_version": "1.2.0",
      "model_name": "LayoutModel",
      "state": {}
     },
     "130c1c2e446148d5a0d579a38e9db6b0": {
      "model_module": "@jupyter-widgets/base",
      "model_module_version": "1.2.0",
      "model_name": "LayoutModel",
      "state": {}
     },
     "13105803072a4eb7bbe7a3b9152f3be6": {
      "model_module": "@jupyter-widgets/controls",
      "model_module_version": "1.5.0",
      "model_name": "DescriptionStyleModel",
      "state": {
       "description_width": ""
      }
     },
     "13232923fe614528b998d1a3531f5c33": {
      "model_module": "@jupyter-widgets/controls",
      "model_module_version": "1.5.0",
      "model_name": "HTMLModel",
      "state": {
       "layout": "IPY_MODEL_5f54d099307148b3ad5950e44679718a",
       "style": "IPY_MODEL_ca36c935b2534790b927ac0af7288d6f",
       "value": "COVID: 100%"
      }
     },
     "1345c2504cba48289b68b0f8d817578f": {
      "model_module": "@jupyter-widgets/base",
      "model_module_version": "1.2.0",
      "model_name": "LayoutModel",
      "state": {}
     },
     "1360fb0117ec4875ac4331e80db90271": {
      "model_module": "@jupyter-widgets/controls",
      "model_module_version": "1.5.0",
      "model_name": "HBoxModel",
      "state": {
       "children": [
        "IPY_MODEL_106c070564bc46d89772eb28d1e152d6",
        "IPY_MODEL_9ea8b3d5f9d5493c9827faed75d2f0f3",
        "IPY_MODEL_fc4114184dec400d9acb36a689a223e8"
       ],
       "layout": "IPY_MODEL_1b549c5407d641debce33efedfbf6829"
      }
     },
     "137c95eb63e646a7b384fa68fe64edde": {
      "model_module": "@jupyter-widgets/base",
      "model_module_version": "1.2.0",
      "model_name": "LayoutModel",
      "state": {}
     },
     "13855df5f03345a4b62a68f220b8464d": {
      "model_module": "@jupyter-widgets/base",
      "model_module_version": "1.2.0",
      "model_name": "LayoutModel",
      "state": {}
     },
     "139c8ebe1a804738bd0cec36aa9fa1cc": {
      "model_module": "@jupyter-widgets/base",
      "model_module_version": "1.2.0",
      "model_name": "LayoutModel",
      "state": {}
     },
     "139fba3185564cf99c74d2d2e80e008f": {
      "model_module": "@jupyter-widgets/base",
      "model_module_version": "1.2.0",
      "model_name": "LayoutModel",
      "state": {}
     },
     "13b4191d7b064185b59e65a0535542ed": {
      "model_module": "@jupyter-widgets/base",
      "model_module_version": "1.2.0",
      "model_name": "LayoutModel",
      "state": {}
     },
     "13c60ca86f05483b8114d8e7930c8e77": {
      "model_module": "@jupyter-widgets/controls",
      "model_module_version": "1.5.0",
      "model_name": "FloatProgressModel",
      "state": {
       "bar_style": "success",
       "layout": "IPY_MODEL_1e15fc5529d048a1917faedc93a70d47",
       "max": 4,
       "style": "IPY_MODEL_20687c708db14b1ab19c6f7cb933179f",
       "value": 4
      }
     },
     "13ecf00fb99e44f18175348cdaed57dd": {
      "model_module": "@jupyter-widgets/controls",
      "model_module_version": "1.5.0",
      "model_name": "DescriptionStyleModel",
      "state": {
       "description_width": ""
      }
     },
     "13fb96e96230487b96cb18548f9221fc": {
      "model_module": "@jupyter-widgets/controls",
      "model_module_version": "1.5.0",
      "model_name": "ProgressStyleModel",
      "state": {
       "description_width": ""
      }
     },
     "141f70a0339144e7a4f246ef605e72ee": {
      "model_module": "@jupyter-widgets/base",
      "model_module_version": "1.2.0",
      "model_name": "LayoutModel",
      "state": {}
     },
     "1442aa4851c34cf1a892b797d9cffd0d": {
      "model_module": "@jupyter-widgets/controls",
      "model_module_version": "1.5.0",
      "model_name": "DescriptionStyleModel",
      "state": {
       "description_width": ""
      }
     },
     "1452509c32fc4cbcb7b956bbd8e1e332": {
      "model_module": "@jupyter-widgets/controls",
      "model_module_version": "1.5.0",
      "model_name": "DescriptionStyleModel",
      "state": {
       "description_width": ""
      }
     },
     "146547b08f15440faa8518347f719232": {
      "model_module": "@jupyter-widgets/controls",
      "model_module_version": "1.5.0",
      "model_name": "HTMLModel",
      "state": {
       "layout": "IPY_MODEL_9fdfea40268d4379858b8f4d1b118d1e",
       "style": "IPY_MODEL_b911830bf45b444b8aaa813e1260bffd",
       "value": "COVID: 100%"
      }
     },
     "1469a0e5be5441d1b05ad655553c7a85": {
      "model_module": "@jupyter-widgets/base",
      "model_module_version": "1.2.0",
      "model_name": "LayoutModel",
      "state": {}
     },
     "1472ea1c2a3446e3938057a26be77780": {
      "model_module": "@jupyter-widgets/controls",
      "model_module_version": "1.5.0",
      "model_name": "ProgressStyleModel",
      "state": {
       "description_width": ""
      }
     },
     "14737d2f486440669fdb954570f55a6f": {
      "model_module": "@jupyter-widgets/controls",
      "model_module_version": "1.5.0",
      "model_name": "HBoxModel",
      "state": {
       "children": [
        "IPY_MODEL_de421c0366c74e6480de66df9c53bb6d",
        "IPY_MODEL_478bffda914d4ac7b9345f3a73cda962",
        "IPY_MODEL_26fefaf27dae44cb8c8309a7defea932"
       ],
       "layout": "IPY_MODEL_15835f49a9164b2b920cb88042a1346c"
      }
     },
     "149e21cfa1aa41a3bb77deaeaf4a963d": {
      "model_module": "@jupyter-widgets/base",
      "model_module_version": "1.2.0",
      "model_name": "LayoutModel",
      "state": {}
     },
     "14aa80c7b73b4e6c8d447e6e1d87daa5": {
      "model_module": "@jupyter-widgets/controls",
      "model_module_version": "1.5.0",
      "model_name": "FloatProgressModel",
      "state": {
       "bar_style": "success",
       "layout": "IPY_MODEL_b14223f37dd44dbbb2a7e32de75d367f",
       "max": 3,
       "style": "IPY_MODEL_d5890a23231f4aca9f218ed0e82f2c66",
       "value": 3
      }
     },
     "14b0ca97ae5d40028d623a276b98d932": {
      "model_module": "@jupyter-widgets/base",
      "model_module_version": "1.2.0",
      "model_name": "LayoutModel",
      "state": {}
     },
     "14c51bde53bd4ab4acf632dfbf825cdd": {
      "model_module": "@jupyter-widgets/base",
      "model_module_version": "1.2.0",
      "model_name": "LayoutModel",
      "state": {}
     },
     "14d1ed3ea34943d2883c878cc4818b72": {
      "model_module": "@jupyter-widgets/controls",
      "model_module_version": "1.5.0",
      "model_name": "FloatProgressModel",
      "state": {
       "bar_style": "success",
       "layout": "IPY_MODEL_8376bb92de5d44e598df27f7d4d73f6b",
       "max": 3,
       "style": "IPY_MODEL_f3636d2b795d4a22838ca6f3eebed853",
       "value": 3
      }
     },
     "14e9c9f07bea41d99938b3e7f8304c11": {
      "model_module": "@jupyter-widgets/base",
      "model_module_version": "1.2.0",
      "model_name": "LayoutModel",
      "state": {}
     },
     "14fdda1a2cc344ea971be58475280bd2": {
      "model_module": "@jupyter-widgets/controls",
      "model_module_version": "1.5.0",
      "model_name": "ProgressStyleModel",
      "state": {
       "description_width": ""
      }
     },
     "15521435dbd441aea4090c2dda7fee1a": {
      "model_module": "@jupyter-widgets/base",
      "model_module_version": "1.2.0",
      "model_name": "LayoutModel",
      "state": {}
     },
     "155db9115f7749a89a2c4be2d432a272": {
      "model_module": "@jupyter-widgets/controls",
      "model_module_version": "1.5.0",
      "model_name": "HTMLModel",
      "state": {
       "layout": "IPY_MODEL_a3c36a704110441cb2b62e8b09ba84a4",
       "style": "IPY_MODEL_7bcfd936efdc49768b2ea11e635c2ef5",
       "value": " 4/4 [00:00&lt;00:00, 79.17it/s]"
      }
     },
     "15835f49a9164b2b920cb88042a1346c": {
      "model_module": "@jupyter-widgets/base",
      "model_module_version": "1.2.0",
      "model_name": "LayoutModel",
      "state": {}
     },
     "1589876c8d4c4551822c71a262c43e50": {
      "model_module": "@jupyter-widgets/controls",
      "model_module_version": "1.5.0",
      "model_name": "HTMLModel",
      "state": {
       "layout": "IPY_MODEL_93acaab3fc66452296f58167f25f583f",
       "style": "IPY_MODEL_768ae0932a35432485878ef6da1d83cc",
       "value": " 1341/1341 [00:18&lt;00:00, 74.50it/s]"
      }
     },
     "15abba7c841148e187c3debb1121bbff": {
      "model_module": "@jupyter-widgets/base",
      "model_module_version": "1.2.0",
      "model_name": "LayoutModel",
      "state": {}
     },
     "15b2500baf7e4a8abd39e31e2e509a12": {
      "model_module": "@jupyter-widgets/base",
      "model_module_version": "1.2.0",
      "model_name": "LayoutModel",
      "state": {}
     },
     "15bc25aca2c64532bf131ac21b4cedf8": {
      "model_module": "@jupyter-widgets/controls",
      "model_module_version": "1.5.0",
      "model_name": "HTMLModel",
      "state": {
       "layout": "IPY_MODEL_5f09fad847fb45d4bc9671f9f5da4692",
       "style": "IPY_MODEL_ef324cdb147640458c28fdb5f87d9f90",
       "value": " 3/3 [00:00&lt;00:00,  8.05it/s]"
      }
     },
     "15c8fef4745f486d94e8809d951bf05c": {
      "model_module": "@jupyter-widgets/controls",
      "model_module_version": "1.5.0",
      "model_name": "HTMLModel",
      "state": {
       "layout": "IPY_MODEL_54681090e7e2462db3e0eb1b7127e0ee",
       "style": "IPY_MODEL_34546c0996fa44c1af8a9c6789f8d47d",
       "value": "COVID: 100%"
      }
     },
     "15e800d5de4d448b840fbaaa2bb0d8dd": {
      "model_module": "@jupyter-widgets/controls",
      "model_module_version": "1.5.0",
      "model_name": "HTMLModel",
      "state": {
       "layout": "IPY_MODEL_1dd277c68a434880a1df9c497d1e86f1",
       "style": "IPY_MODEL_0ea1bef6a45a433ebe195db0fa07bdc4",
       "value": "DATASETS: 100%"
      }
     },
     "16072bfb8b3e4dc583ae3e5044312530": {
      "model_module": "@jupyter-widgets/controls",
      "model_module_version": "1.5.0",
      "model_name": "DescriptionStyleModel",
      "state": {
       "description_width": ""
      }
     },
     "160ea73768e04573819988f59129a12f": {
      "model_module": "@jupyter-widgets/controls",
      "model_module_version": "1.5.0",
      "model_name": "DescriptionStyleModel",
      "state": {
       "description_width": ""
      }
     },
     "163b0cd13f944710930628dc36a12b9c": {
      "model_module": "@jupyter-widgets/base",
      "model_module_version": "1.2.0",
      "model_name": "LayoutModel",
      "state": {}
     },
     "164b406d57bd45e297ee6be329fb4cac": {
      "model_module": "@jupyter-widgets/base",
      "model_module_version": "1.2.0",
      "model_name": "LayoutModel",
      "state": {}
     },
     "164df9c9365449efa9d8581caaf24812": {
      "model_module": "@jupyter-widgets/controls",
      "model_module_version": "1.5.0",
      "model_name": "FloatProgressModel",
      "state": {
       "bar_style": "success",
       "layout": "IPY_MODEL_dfac518cdfec48e186e0be4d6b7d69e2",
       "max": 4,
       "style": "IPY_MODEL_fe5170fb71c34c8597f317fdf55cd7b1",
       "value": 4
      }
     },
     "164e752b8c55433092e471b4a8e6e8bc": {
      "model_module": "@jupyter-widgets/controls",
      "model_module_version": "1.5.0",
      "model_name": "DescriptionStyleModel",
      "state": {
       "description_width": ""
      }
     },
     "16675d79d9a64d7e9abf2c82060fe68d": {
      "model_module": "@jupyter-widgets/controls",
      "model_module_version": "1.5.0",
      "model_name": "FloatProgressModel",
      "state": {
       "bar_style": "success",
       "layout": "IPY_MODEL_9b406406e68a4db6b77c37c7d5af058c",
       "max": 4,
       "style": "IPY_MODEL_47695acce0b04d668621c302ff7028c4",
       "value": 4
      }
     },
     "169208222280496981002c6e8b75d831": {
      "model_module": "@jupyter-widgets/controls",
      "model_module_version": "1.5.0",
      "model_name": "FloatProgressModel",
      "state": {
       "bar_style": "success",
       "layout": "IPY_MODEL_f5be461af48d4dec8bfb4aa2a3830b8b",
       "max": 3,
       "style": "IPY_MODEL_74adcfb5c350456e9e05a4978debdddd",
       "value": 3
      }
     },
     "16b71c8cd39a443f85b97a30eb293cc6": {
      "model_module": "@jupyter-widgets/controls",
      "model_module_version": "1.5.0",
      "model_name": "DescriptionStyleModel",
      "state": {
       "description_width": ""
      }
     },
     "16b729b218524d27ac95468ef993667f": {
      "model_module": "@jupyter-widgets/controls",
      "model_module_version": "1.5.0",
      "model_name": "HTMLModel",
      "state": {
       "layout": "IPY_MODEL_a675cbb6157a4b40ada2cf7c1823db2a",
       "style": "IPY_MODEL_c52070ea72184a1984e614b2138e115e",
       "value": " 4/4 [00:00&lt;00:00, 75.37it/s]"
      }
     },
     "17075a8a0e874bdf8931a8b041940305": {
      "model_module": "@jupyter-widgets/controls",
      "model_module_version": "1.5.0",
      "model_name": "ProgressStyleModel",
      "state": {
       "description_width": ""
      }
     },
     "174ec04dd50e47dbaebde268497e39fb": {
      "model_module": "@jupyter-widgets/base",
      "model_module_version": "1.2.0",
      "model_name": "LayoutModel",
      "state": {}
     },
     "176fce53338240c9b74529a6e0693887": {
      "model_module": "@jupyter-widgets/base",
      "model_module_version": "1.2.0",
      "model_name": "LayoutModel",
      "state": {}
     },
     "17704628285f47e58492a3df15785da1": {
      "model_module": "@jupyter-widgets/base",
      "model_module_version": "1.2.0",
      "model_name": "LayoutModel",
      "state": {}
     },
     "17903db3cae947bbb5b9163db1f326a0": {
      "model_module": "@jupyter-widgets/controls",
      "model_module_version": "1.5.0",
      "model_name": "DescriptionStyleModel",
      "state": {
       "description_width": ""
      }
     },
     "17ad9de5472a4f31a00c4be401b1a899": {
      "model_module": "@jupyter-widgets/base",
      "model_module_version": "1.2.0",
      "model_name": "LayoutModel",
      "state": {}
     },
     "17b3d9e684794989b1a172ff0650384d": {
      "model_module": "@jupyter-widgets/controls",
      "model_module_version": "1.5.0",
      "model_name": "FloatProgressModel",
      "state": {
       "bar_style": "success",
       "layout": "IPY_MODEL_b64a9487005c43f1b616d5ef3f25b671",
       "max": 3,
       "style": "IPY_MODEL_3a5a48c40fdc428aa960b12eb3ec2bd0",
       "value": 3
      }
     },
     "17c4d0b50a834bd2b8e311a146ecaebf": {
      "model_module": "@jupyter-widgets/controls",
      "model_module_version": "1.5.0",
      "model_name": "HTMLModel",
      "state": {
       "layout": "IPY_MODEL_19f14f575b174ead8b6ab09f39f6249e",
       "style": "IPY_MODEL_992bc2be25424502be8ce0020c068d81",
       "value": "VIRAL-PNEUMONIA: 100%"
      }
     },
     "17cfc48f5aed4f14881139d83e571289": {
      "model_module": "@jupyter-widgets/controls",
      "model_module_version": "1.5.0",
      "model_name": "ProgressStyleModel",
      "state": {
       "description_width": ""
      }
     },
     "17e727b3e27e40a9b721442c0f1c3fbe": {
      "model_module": "@jupyter-widgets/controls",
      "model_module_version": "1.5.0",
      "model_name": "DescriptionStyleModel",
      "state": {
       "description_width": ""
      }
     },
     "17f5149f68ab4b04af0905dd2e072572": {
      "model_module": "@jupyter-widgets/controls",
      "model_module_version": "1.5.0",
      "model_name": "DescriptionStyleModel",
      "state": {
       "description_width": ""
      }
     },
     "1842a4c1440f4422805a53353dd84362": {
      "model_module": "@jupyter-widgets/controls",
      "model_module_version": "1.5.0",
      "model_name": "HBoxModel",
      "state": {
       "children": [
        "IPY_MODEL_83188dd433d848a1881c2c8118217ada",
        "IPY_MODEL_94c8bb8d16ce42c588b6df2b78357481",
        "IPY_MODEL_0cfe34b2389646c7a34c616e9c2ceb45"
       ],
       "layout": "IPY_MODEL_58af7ffe9cda4ec2b00c289e2c865fcd"
      }
     },
     "184db349d92d43ad83e0775e3dcce982": {
      "model_module": "@jupyter-widgets/controls",
      "model_module_version": "1.5.0",
      "model_name": "DescriptionStyleModel",
      "state": {
       "description_width": ""
      }
     },
     "1855f3c87f1545de975b7a19bb9a5702": {
      "model_module": "@jupyter-widgets/controls",
      "model_module_version": "1.5.0",
      "model_name": "ProgressStyleModel",
      "state": {
       "description_width": ""
      }
     },
     "18677ad882e3479d8a5a6e0f9e61a669": {
      "model_module": "@jupyter-widgets/controls",
      "model_module_version": "1.5.0",
      "model_name": "FloatProgressModel",
      "state": {
       "bar_style": "success",
       "layout": "IPY_MODEL_ec5b2542ada347dc849055d7a66c86a8",
       "max": 4,
       "style": "IPY_MODEL_fc84004398ee4789b23431a1a0ee54da",
       "value": 4
      }
     },
     "186ae0b0dd4c4cb08ac0fdffdbfcf79e": {
      "model_module": "@jupyter-widgets/controls",
      "model_module_version": "1.5.0",
      "model_name": "DescriptionStyleModel",
      "state": {
       "description_width": ""
      }
     },
     "187408dc71b54fe591f8282007b50a0e": {
      "model_module": "@jupyter-widgets/base",
      "model_module_version": "1.2.0",
      "model_name": "LayoutModel",
      "state": {}
     },
     "187d347c7b3d4cafb10e821a0c8c800c": {
      "model_module": "@jupyter-widgets/controls",
      "model_module_version": "1.5.0",
      "model_name": "FloatProgressModel",
      "state": {
       "bar_style": "success",
       "layout": "IPY_MODEL_4d4504e5259e42329caf6e6c04fc9ce7",
       "max": 3,
       "style": "IPY_MODEL_b5974c6678744177afb9f473ce932ac6",
       "value": 3
      }
     },
     "18f314538a3a413cafae3d9321aa7c80": {
      "model_module": "@jupyter-widgets/controls",
      "model_module_version": "1.5.0",
      "model_name": "ProgressStyleModel",
      "state": {
       "description_width": ""
      }
     },
     "1904b44e3bc54b5a88b13df5f40a640f": {
      "model_module": "@jupyter-widgets/controls",
      "model_module_version": "1.5.0",
      "model_name": "HTMLModel",
      "state": {
       "layout": "IPY_MODEL_ee0879df26d24e34a0e18df989fb2f30",
       "style": "IPY_MODEL_33e0419a7f6240bb99e413ffe767f7ef",
       "value": "COVID: 100%"
      }
     },
     "19106af3759a47c1910a2d9603bd2722": {
      "model_module": "@jupyter-widgets/controls",
      "model_module_version": "1.5.0",
      "model_name": "HBoxModel",
      "state": {
       "children": [
        "IPY_MODEL_2728434a460d4e0cb52fc35cdea396ea",
        "IPY_MODEL_164df9c9365449efa9d8581caaf24812",
        "IPY_MODEL_16b729b218524d27ac95468ef993667f"
       ],
       "layout": "IPY_MODEL_f7592ad78e8b421baad47b2380fa043d"
      }
     },
     "1939e1465dcf43459aa1082994d8c39e": {
      "model_module": "@jupyter-widgets/base",
      "model_module_version": "1.2.0",
      "model_name": "LayoutModel",
      "state": {}
     },
     "19943217e7f94ce5b1acef8266596324": {
      "model_module": "@jupyter-widgets/controls",
      "model_module_version": "1.5.0",
      "model_name": "HBoxModel",
      "state": {
       "children": [
        "IPY_MODEL_d59ed0941e8e42e990ad47b3abb93c58",
        "IPY_MODEL_d26acb93873f453da68ccf482332c369",
        "IPY_MODEL_2b95f1bd93c3443993d2ad675272b465"
       ],
       "layout": "IPY_MODEL_4ceda29539a646f7aba880f1dfd232d5"
      }
     },
     "19b1218cd5cb4f5ab4678935fdb6334a": {
      "model_module": "@jupyter-widgets/controls",
      "model_module_version": "1.5.0",
      "model_name": "FloatProgressModel",
      "state": {
       "bar_style": "success",
       "layout": "IPY_MODEL_499f301ea3634caf9ca1713893055fb3",
       "max": 4,
       "style": "IPY_MODEL_99cc29fc455a49fea4fd9553bf51d0ff",
       "value": 4
      }
     },
     "19b5844dfcf140fb87ea7b959040d216": {
      "model_module": "@jupyter-widgets/controls",
      "model_module_version": "1.5.0",
      "model_name": "HTMLModel",
      "state": {
       "layout": "IPY_MODEL_1b024c1d27eb45b393f049ef22ea8274",
       "style": "IPY_MODEL_df91d3e03f2849798626fabca6204f40",
       "value": "COVID: 100%"
      }
     },
     "19f14f575b174ead8b6ab09f39f6249e": {
      "model_module": "@jupyter-widgets/base",
      "model_module_version": "1.2.0",
      "model_name": "LayoutModel",
      "state": {}
     },
     "1a217e29f37c4a3fb3afe50e218756c2": {
      "model_module": "@jupyter-widgets/base",
      "model_module_version": "1.2.0",
      "model_name": "LayoutModel",
      "state": {}
     },
     "1a5397c0e7304a4aad864c036e0f6182": {
      "model_module": "@jupyter-widgets/base",
      "model_module_version": "1.2.0",
      "model_name": "LayoutModel",
      "state": {}
     },
     "1a6ed17008d5492fb313a5b531fe72bf": {
      "model_module": "@jupyter-widgets/controls",
      "model_module_version": "1.5.0",
      "model_name": "HBoxModel",
      "state": {
       "children": [
        "IPY_MODEL_fbe760e423e64a7f85ad9cdbd72dfa10",
        "IPY_MODEL_03b0b3fa52bc4ab7b133f7ec53d69ee0",
        "IPY_MODEL_e71ea2c7b64541239bf7559bce2e7d35"
       ],
       "layout": "IPY_MODEL_7c283d323eb0414daa10906b1e43f109"
      }
     },
     "1a77a2376e0642b3acd94e843c79fc49": {
      "model_module": "@jupyter-widgets/base",
      "model_module_version": "1.2.0",
      "model_name": "LayoutModel",
      "state": {}
     },
     "1aa31bcb38364c4f99f7252c7509f574": {
      "model_module": "@jupyter-widgets/base",
      "model_module_version": "1.2.0",
      "model_name": "LayoutModel",
      "state": {}
     },
     "1ab5120a15ad4a2bb1209b51daa810a4": {
      "model_module": "@jupyter-widgets/base",
      "model_module_version": "1.2.0",
      "model_name": "LayoutModel",
      "state": {}
     },
     "1b024c1d27eb45b393f049ef22ea8274": {
      "model_module": "@jupyter-widgets/base",
      "model_module_version": "1.2.0",
      "model_name": "LayoutModel",
      "state": {}
     },
     "1b4100323c454e67b578787460339176": {
      "model_module": "@jupyter-widgets/controls",
      "model_module_version": "1.5.0",
      "model_name": "HBoxModel",
      "state": {
       "children": [
        "IPY_MODEL_adcd93197fe44128a72c47a3c86db5b8",
        "IPY_MODEL_05c1a4aca63f4037a58504b3f8e9833f",
        "IPY_MODEL_43fe9727209e4fe3a8f40b19a9dc1620"
       ],
       "layout": "IPY_MODEL_2a38af707a1f49fbba4e47c89329f4c4"
      }
     },
     "1b477c7f39704c26b6cf1e3bfc4c428c": {
      "model_module": "@jupyter-widgets/controls",
      "model_module_version": "1.5.0",
      "model_name": "HBoxModel",
      "state": {
       "children": [
        "IPY_MODEL_343b7ae0a3944bb28e3ad17ec0bd1838",
        "IPY_MODEL_0dbe007091bb4c718ddc8d54aee8df66",
        "IPY_MODEL_a20152e93e4f4d7cbd2ef09475a76df8"
       ],
       "layout": "IPY_MODEL_9eb1e047512042e6b307df0bdf148edf"
      }
     },
     "1b549c5407d641debce33efedfbf6829": {
      "model_module": "@jupyter-widgets/base",
      "model_module_version": "1.2.0",
      "model_name": "LayoutModel",
      "state": {}
     },
     "1b68b39638ab4cf3bc932711e44c35df": {
      "model_module": "@jupyter-widgets/controls",
      "model_module_version": "1.5.0",
      "model_name": "DescriptionStyleModel",
      "state": {
       "description_width": ""
      }
     },
     "1b8abfafcec04029833eedf579465684": {
      "model_module": "@jupyter-widgets/controls",
      "model_module_version": "1.5.0",
      "model_name": "HBoxModel",
      "state": {
       "children": [
        "IPY_MODEL_3930b75295804fada139dbe220f00358",
        "IPY_MODEL_5ae4bb4628114a4fac6e7b2a772dec82",
        "IPY_MODEL_c2459a5bdb794f2d9953a7e9a8106091"
       ],
       "layout": "IPY_MODEL_ba9de2307bbf4f12b3a854175a20124a"
      }
     },
     "1b98545357ba4f36ab7fbc80ec45806c": {
      "model_module": "@jupyter-widgets/base",
      "model_module_version": "1.2.0",
      "model_name": "LayoutModel",
      "state": {}
     },
     "1bafeb1c500d4fd59b12d23e636c2e8d": {
      "model_module": "@jupyter-widgets/controls",
      "model_module_version": "1.5.0",
      "model_name": "DescriptionStyleModel",
      "state": {
       "description_width": ""
      }
     },
     "1bc19e3d393b46f581fa1574c3bf94df": {
      "model_module": "@jupyter-widgets/base",
      "model_module_version": "1.2.0",
      "model_name": "LayoutModel",
      "state": {}
     },
     "1bd1c6ce49f34b7a8371d3702158b35c": {
      "model_module": "@jupyter-widgets/controls",
      "model_module_version": "1.5.0",
      "model_name": "FloatProgressModel",
      "state": {
       "bar_style": "success",
       "layout": "IPY_MODEL_fc2bf4752d0846bc82a0d7d141c21b40",
       "max": 4,
       "style": "IPY_MODEL_f38be45953b148849b7cb045b90548bc",
       "value": 4
      }
     },
     "1bf41f9333a04b97b9cb7562e94a0add": {
      "model_module": "@jupyter-widgets/controls",
      "model_module_version": "1.5.0",
      "model_name": "ProgressStyleModel",
      "state": {
       "description_width": ""
      }
     },
     "1c2f617e8ec7473ebd2dfa0b342935fa": {
      "model_module": "@jupyter-widgets/controls",
      "model_module_version": "1.5.0",
      "model_name": "HBoxModel",
      "state": {
       "children": [
        "IPY_MODEL_94fa814c750b4a169949b669b23e9939",
        "IPY_MODEL_f2c075e7a25f4d6e89e2787a00035dfb",
        "IPY_MODEL_89cc14d978b444439351e56c8c90c860"
       ],
       "layout": "IPY_MODEL_b43dc11942f14a2790bbf2ff2afb3325"
      }
     },
     "1c31b8a179134a98a74720aa997f24a9": {
      "model_module": "@jupyter-widgets/controls",
      "model_module_version": "1.5.0",
      "model_name": "DescriptionStyleModel",
      "state": {
       "description_width": ""
      }
     },
     "1c35a7ae4724436ab249b8139ddd181a": {
      "model_module": "@jupyter-widgets/base",
      "model_module_version": "1.2.0",
      "model_name": "LayoutModel",
      "state": {}
     },
     "1c4327271dd5414087524ff15525ce2c": {
      "model_module": "@jupyter-widgets/controls",
      "model_module_version": "1.5.0",
      "model_name": "FloatProgressModel",
      "state": {
       "bar_style": "success",
       "layout": "IPY_MODEL_c2cf8a3ddeca4d04baeff1effca0c0e9",
       "max": 3,
       "style": "IPY_MODEL_06959d3025fa409b8d6e3c90c543ecf0",
       "value": 3
      }
     },
     "1c621a6b1d514528a54fd5c18ae4c481": {
      "model_module": "@jupyter-widgets/controls",
      "model_module_version": "1.5.0",
      "model_name": "FloatProgressModel",
      "state": {
       "bar_style": "success",
       "layout": "IPY_MODEL_a09de3da63c0452eb66f3bfc445ce9b0",
       "max": 3,
       "style": "IPY_MODEL_a023b7e070a148608940c4a3b4c8fb2a",
       "value": 3
      }
     },
     "1cbd8d5421be4ffe940f4af36e5379d2": {
      "model_module": "@jupyter-widgets/base",
      "model_module_version": "1.2.0",
      "model_name": "LayoutModel",
      "state": {}
     },
     "1cfa682c38754e3b85a9591c287ad473": {
      "model_module": "@jupyter-widgets/base",
      "model_module_version": "1.2.0",
      "model_name": "LayoutModel",
      "state": {}
     },
     "1d197135ded446ee81817b050ddeeb45": {
      "model_module": "@jupyter-widgets/controls",
      "model_module_version": "1.5.0",
      "model_name": "ProgressStyleModel",
      "state": {
       "description_width": ""
      }
     },
     "1d1e4e331b284fceb221b7899c39d8f3": {
      "model_module": "@jupyter-widgets/controls",
      "model_module_version": "1.5.0",
      "model_name": "DescriptionStyleModel",
      "state": {
       "description_width": ""
      }
     },
     "1d42e7a446c44e9fa2b7cbb5b31f96bc": {
      "model_module": "@jupyter-widgets/base",
      "model_module_version": "1.2.0",
      "model_name": "LayoutModel",
      "state": {}
     },
     "1d8ba4f5f58c4f768a786da4d3f6aab6": {
      "model_module": "@jupyter-widgets/controls",
      "model_module_version": "1.5.0",
      "model_name": "DescriptionStyleModel",
      "state": {
       "description_width": ""
      }
     },
     "1dd277c68a434880a1df9c497d1e86f1": {
      "model_module": "@jupyter-widgets/base",
      "model_module_version": "1.2.0",
      "model_name": "LayoutModel",
      "state": {}
     },
     "1dd79a4033574a7a8bf8c2be546bdaac": {
      "model_module": "@jupyter-widgets/controls",
      "model_module_version": "1.5.0",
      "model_name": "DescriptionStyleModel",
      "state": {
       "description_width": ""
      }
     },
     "1df8a5e556d7433795aae388c20ec8e8": {
      "model_module": "@jupyter-widgets/controls",
      "model_module_version": "1.5.0",
      "model_name": "HTMLModel",
      "state": {
       "layout": "IPY_MODEL_69ada60e09b24d879d63588872c73c89",
       "style": "IPY_MODEL_b67f8c4fe7db4af3accf371477e20336",
       "value": " 4/4 [00:00&lt;00:00, 40.18it/s]"
      }
     },
     "1e15fc5529d048a1917faedc93a70d47": {
      "model_module": "@jupyter-widgets/base",
      "model_module_version": "1.2.0",
      "model_name": "LayoutModel",
      "state": {}
     },
     "1e2b1ff24159481aadec7924d44e6c19": {
      "model_module": "@jupyter-widgets/controls",
      "model_module_version": "1.5.0",
      "model_name": "HTMLModel",
      "state": {
       "layout": "IPY_MODEL_f8fbe20d8da84ec78485b44443475697",
       "style": "IPY_MODEL_339359dde5934518a9ed57032b033dec",
       "value": " 4/4 [00:00&lt;00:00, 94.38it/s]"
      }
     },
     "1e2be38996634259bc1c24073c23bab5": {
      "model_module": "@jupyter-widgets/base",
      "model_module_version": "1.2.0",
      "model_name": "LayoutModel",
      "state": {}
     },
     "1e453e583b494a16bd11c5d5ec32048a": {
      "model_module": "@jupyter-widgets/base",
      "model_module_version": "1.2.0",
      "model_name": "LayoutModel",
      "state": {}
     },
     "1eb5500ca70e46f4b40a7e58c6c9ead4": {
      "model_module": "@jupyter-widgets/base",
      "model_module_version": "1.2.0",
      "model_name": "LayoutModel",
      "state": {}
     },
     "1ec3fe31bb444e31a3dfcdb1cbd24555": {
      "model_module": "@jupyter-widgets/controls",
      "model_module_version": "1.5.0",
      "model_name": "DescriptionStyleModel",
      "state": {
       "description_width": ""
      }
     },
     "1ecb2ea384d14c93aa8028c07dd04b17": {
      "model_module": "@jupyter-widgets/base",
      "model_module_version": "1.2.0",
      "model_name": "LayoutModel",
      "state": {}
     },
     "1f51ac586fcb4652bbd1e68c4dadd7f9": {
      "model_module": "@jupyter-widgets/controls",
      "model_module_version": "1.5.0",
      "model_name": "DescriptionStyleModel",
      "state": {
       "description_width": ""
      }
     },
     "1f66acda14cc4c2d84a9a8a12f417b5a": {
      "model_module": "@jupyter-widgets/controls",
      "model_module_version": "1.5.0",
      "model_name": "HTMLModel",
      "state": {
       "layout": "IPY_MODEL_3178d296ad744fe4b82576110fe58832",
       "style": "IPY_MODEL_02698792436f4fd592385e6a58f14c1f",
       "value": " 3/3 [00:00&lt;00:00,  9.66it/s]"
      }
     },
     "1f6966b351e14a1e89de3e524ee69ca2": {
      "model_module": "@jupyter-widgets/base",
      "model_module_version": "1.2.0",
      "model_name": "LayoutModel",
      "state": {}
     },
     "1f786aa3315f4b17838dfb2d0c8111bd": {
      "model_module": "@jupyter-widgets/base",
      "model_module_version": "1.2.0",
      "model_name": "LayoutModel",
      "state": {}
     },
     "1fa77ac567d6460e81ae157b40a21f41": {
      "model_module": "@jupyter-widgets/controls",
      "model_module_version": "1.5.0",
      "model_name": "HTMLModel",
      "state": {
       "layout": "IPY_MODEL_d177df2b92ad46e89c29f041e9c59882",
       "style": "IPY_MODEL_7c389a2048274140a42b7fd99bb1c138",
       "value": " 4/4 [00:00&lt;00:00, 28.84it/s]"
      }
     },
     "1fbb0d645da9453f8048686f6f95af47": {
      "model_module": "@jupyter-widgets/controls",
      "model_module_version": "1.5.0",
      "model_name": "HTMLModel",
      "state": {
       "layout": "IPY_MODEL_ecfc646336df41a3971689c2f0def86d",
       "style": "IPY_MODEL_24d5fd1c4e6d4c5b98c9c14e020e57e8",
       "value": "DATASETS: 100%"
      }
     },
     "1fc01f819c034a22b437c8e7b1581ca2": {
      "model_module": "@jupyter-widgets/base",
      "model_module_version": "1.2.0",
      "model_name": "LayoutModel",
      "state": {}
     },
     "20251fff22f04a4fbcba8e90e6ce6ef5": {
      "model_module": "@jupyter-widgets/controls",
      "model_module_version": "1.5.0",
      "model_name": "HTMLModel",
      "state": {
       "layout": "IPY_MODEL_38ad7a7b2aab416e82b330f1c002e8d6",
       "style": "IPY_MODEL_764eb24878514987bc30cc143cd46866",
       "value": " 3/3 [00:00&lt;00:00,  8.92it/s]"
      }
     },
     "203d527a2f2845db9e5252ec15694404": {
      "model_module": "@jupyter-widgets/controls",
      "model_module_version": "1.5.0",
      "model_name": "HTMLModel",
      "state": {
       "layout": "IPY_MODEL_45c31533e13c46819ada59f2a5478eba",
       "style": "IPY_MODEL_ab65385fa000475b9c6b5a9c7cd42ed5",
       "value": " 4/4 [00:00&lt;00:00, 36.71it/s]"
      }
     },
     "205e2efa38064da5b790f0fcb336693f": {
      "model_module": "@jupyter-widgets/controls",
      "model_module_version": "1.5.0",
      "model_name": "FloatProgressModel",
      "state": {
       "bar_style": "success",
       "layout": "IPY_MODEL_41e9ddf82db542a4b7afe5b137c3d3e2",
       "max": 4,
       "style": "IPY_MODEL_88e080baa57745f3970a438f05c01b1a",
       "value": 4
      }
     },
     "20687c708db14b1ab19c6f7cb933179f": {
      "model_module": "@jupyter-widgets/controls",
      "model_module_version": "1.5.0",
      "model_name": "ProgressStyleModel",
      "state": {
       "description_width": ""
      }
     },
     "20c33f2c1a8b41ec8371590b36d7cb91": {
      "model_module": "@jupyter-widgets/controls",
      "model_module_version": "1.5.0",
      "model_name": "HTMLModel",
      "state": {
       "layout": "IPY_MODEL_05da8bcede21496d85b10074be786040",
       "style": "IPY_MODEL_abdc2615707c473180132f8e8af098ec",
       "value": "NORMAL: 100%"
      }
     },
     "20c7318641dd40d7a1f7944dbfe153d8": {
      "model_module": "@jupyter-widgets/base",
      "model_module_version": "1.2.0",
      "model_name": "LayoutModel",
      "state": {}
     },
     "20da2cb9f5cc4f74ae7a35ae0d0c819f": {
      "model_module": "@jupyter-widgets/controls",
      "model_module_version": "1.5.0",
      "model_name": "FloatProgressModel",
      "state": {
       "bar_style": "success",
       "layout": "IPY_MODEL_d835e7e992814c7a9d747e80d4610c1c",
       "max": 4,
       "style": "IPY_MODEL_e31b7949a524459ca711afe4a91261c5",
       "value": 4
      }
     },
     "210faf8063094bec90624562ab8060fd": {
      "model_module": "@jupyter-widgets/base",
      "model_module_version": "1.2.0",
      "model_name": "LayoutModel",
      "state": {}
     },
     "212001a2d5084346818518a18cad2263": {
      "model_module": "@jupyter-widgets/controls",
      "model_module_version": "1.5.0",
      "model_name": "HTMLModel",
      "state": {
       "layout": "IPY_MODEL_6973a4a22b434d53b701035178f52bbb",
       "style": "IPY_MODEL_885422c7a58a4e3ab234063145b2345b",
       "value": " 4/4 [00:00&lt;00:00, 29.42it/s]"
      }
     },
     "21a17f438888457bafe2b208c4603073": {
      "model_module": "@jupyter-widgets/base",
      "model_module_version": "1.2.0",
      "model_name": "LayoutModel",
      "state": {}
     },
     "21e0575fdc65488da1c3f510f45e0a5a": {
      "model_module": "@jupyter-widgets/base",
      "model_module_version": "1.2.0",
      "model_name": "LayoutModel",
      "state": {}
     },
     "220787ff5ae1435588a279a539b397a1": {
      "model_module": "@jupyter-widgets/controls",
      "model_module_version": "1.5.0",
      "model_name": "DescriptionStyleModel",
      "state": {
       "description_width": ""
      }
     },
     "2229c4601e16464d8f6720fb3fb3d7d9": {
      "model_module": "@jupyter-widgets/base",
      "model_module_version": "1.2.0",
      "model_name": "LayoutModel",
      "state": {}
     },
     "2237eee842244cc289061d5da9c06015": {
      "model_module": "@jupyter-widgets/base",
      "model_module_version": "1.2.0",
      "model_name": "LayoutModel",
      "state": {}
     },
     "22535debbf8146b9bed0d4b95a6b44ee": {
      "model_module": "@jupyter-widgets/controls",
      "model_module_version": "1.5.0",
      "model_name": "HTMLModel",
      "state": {
       "layout": "IPY_MODEL_1e2be38996634259bc1c24073c23bab5",
       "style": "IPY_MODEL_6454b5ec750a4137b459f7bcf5eb8711",
       "value": "COVID: 100%"
      }
     },
     "226e7e062ef34ea987a9079c418b5eab": {
      "model_module": "@jupyter-widgets/controls",
      "model_module_version": "1.5.0",
      "model_name": "DescriptionStyleModel",
      "state": {
       "description_width": ""
      }
     },
     "229539061e594a6ba15918cd105a63af": {
      "model_module": "@jupyter-widgets/controls",
      "model_module_version": "1.5.0",
      "model_name": "FloatProgressModel",
      "state": {
       "bar_style": "success",
       "layout": "IPY_MODEL_077a2c20b02f44418989fcc9b2c3fd70",
       "max": 4,
       "style": "IPY_MODEL_28a4e57d149240fe9930ebcf674ffeff",
       "value": 4
      }
     },
     "2299bd6e3ab444f3a5300d69850ff41c": {
      "model_module": "@jupyter-widgets/base",
      "model_module_version": "1.2.0",
      "model_name": "LayoutModel",
      "state": {}
     },
     "22c56aa25d43445aab04db90a8bea6ce": {
      "model_module": "@jupyter-widgets/base",
      "model_module_version": "1.2.0",
      "model_name": "LayoutModel",
      "state": {}
     },
     "234265d4fd3d4212944d13d8971bfbc1": {
      "model_module": "@jupyter-widgets/controls",
      "model_module_version": "1.5.0",
      "model_name": "DescriptionStyleModel",
      "state": {
       "description_width": ""
      }
     },
     "238cff5b592d46eda8b720ca72962fdb": {
      "model_module": "@jupyter-widgets/base",
      "model_module_version": "1.2.0",
      "model_name": "LayoutModel",
      "state": {}
     },
     "23c127a123c942a5a38671833d95c4e7": {
      "model_module": "@jupyter-widgets/controls",
      "model_module_version": "1.5.0",
      "model_name": "HTMLModel",
      "state": {
       "layout": "IPY_MODEL_31497fd4113a40dfb8663532990fa36f",
       "style": "IPY_MODEL_5558db043dbe4210a3913bf41c2235f2",
       "value": " 4/4 [00:00&lt;00:00, 25.32it/s]"
      }
     },
     "23d4d261e4f546518c07af474d1a5f23": {
      "model_module": "@jupyter-widgets/base",
      "model_module_version": "1.2.0",
      "model_name": "LayoutModel",
      "state": {}
     },
     "23da85278e3d48ea86fd36676e6e638a": {
      "model_module": "@jupyter-widgets/base",
      "model_module_version": "1.2.0",
      "model_name": "LayoutModel",
      "state": {}
     },
     "23ecf0ccedae477ea52bcc5755c4f913": {
      "model_module": "@jupyter-widgets/controls",
      "model_module_version": "1.5.0",
      "model_name": "HTMLModel",
      "state": {
       "layout": "IPY_MODEL_268f770855b54be4904fa3aac0fe2bf0",
       "style": "IPY_MODEL_ff9fc7158b1c481eb7f71a8f96f88c47",
       "value": "VIRAL-PNEUMONIA: 100%"
      }
     },
     "23fbb233849f401fa0d1849dae912b0e": {
      "model_module": "@jupyter-widgets/controls",
      "model_module_version": "1.5.0",
      "model_name": "HTMLModel",
      "state": {
       "layout": "IPY_MODEL_62536ceb625743a6bf518a7f833a7b5d",
       "style": "IPY_MODEL_1dd79a4033574a7a8bf8c2be546bdaac",
       "value": " 3/3 [00:00&lt;00:00,  9.54it/s]"
      }
     },
     "2400cded450b417fbe214164e972d9d0": {
      "model_module": "@jupyter-widgets/base",
      "model_module_version": "1.2.0",
      "model_name": "LayoutModel",
      "state": {}
     },
     "240c60a678894389afbbc2a946ef828a": {
      "model_module": "@jupyter-widgets/base",
      "model_module_version": "1.2.0",
      "model_name": "LayoutModel",
      "state": {}
     },
     "241b0f9c27814b14b6ab2035a6958103": {
      "model_module": "@jupyter-widgets/controls",
      "model_module_version": "1.5.0",
      "model_name": "HBoxModel",
      "state": {
       "children": [
        "IPY_MODEL_abdaee154eb64326b2732b479aa8c120",
        "IPY_MODEL_dcd64763760b4cdb98692677ac6488e9",
        "IPY_MODEL_4feb735fd03941b7abf8d5c7194ae2c2"
       ],
       "layout": "IPY_MODEL_870fff278fb5440e8666fa32584f04cf"
      }
     },
     "243f0c3febac4ad4a1b4ab54a2fb3b24": {
      "model_module": "@jupyter-widgets/base",
      "model_module_version": "1.2.0",
      "model_name": "LayoutModel",
      "state": {}
     },
     "2455149003c1455eb7a8b620b46ea0e5": {
      "model_module": "@jupyter-widgets/controls",
      "model_module_version": "1.5.0",
      "model_name": "HBoxModel",
      "state": {
       "children": [
        "IPY_MODEL_c5f3359dce4d4b34ab5426387eb1f055",
        "IPY_MODEL_483406c87ee24a32b35bd0283b95474e",
        "IPY_MODEL_affb92b4e631436a87380e6f3b934136"
       ],
       "layout": "IPY_MODEL_7131608086a342e7a4e6272fae439b47"
      }
     },
     "245d2a00d26847c2ba001c6ebd1b0095": {
      "model_module": "@jupyter-widgets/controls",
      "model_module_version": "1.5.0",
      "model_name": "FloatProgressModel",
      "state": {
       "bar_style": "success",
       "layout": "IPY_MODEL_024ce4ed1a9343bc959ad32bd86c0207",
       "max": 3,
       "style": "IPY_MODEL_8ddd647e6c4e4b959b55fdb4cd78e1f7",
       "value": 3
      }
     },
     "2463d1f3fbf54ea6a5300d2fb14e22b7": {
      "model_module": "@jupyter-widgets/controls",
      "model_module_version": "1.5.0",
      "model_name": "DescriptionStyleModel",
      "state": {
       "description_width": ""
      }
     },
     "247692d0c6d142338044d5bed794d634": {
      "model_module": "@jupyter-widgets/base",
      "model_module_version": "1.2.0",
      "model_name": "LayoutModel",
      "state": {}
     },
     "248c5abe5bd74fce89e79b7a7bb1059d": {
      "model_module": "@jupyter-widgets/base",
      "model_module_version": "1.2.0",
      "model_name": "LayoutModel",
      "state": {}
     },
     "24a9f307d37046728ac06e6fc68f1794": {
      "model_module": "@jupyter-widgets/controls",
      "model_module_version": "1.5.0",
      "model_name": "DescriptionStyleModel",
      "state": {
       "description_width": ""
      }
     },
     "24d5fd1c4e6d4c5b98c9c14e020e57e8": {
      "model_module": "@jupyter-widgets/controls",
      "model_module_version": "1.5.0",
      "model_name": "DescriptionStyleModel",
      "state": {
       "description_width": ""
      }
     },
     "250541f32a0042b4af83d0863018a0ca": {
      "model_module": "@jupyter-widgets/controls",
      "model_module_version": "1.5.0",
      "model_name": "HTMLModel",
      "state": {
       "layout": "IPY_MODEL_df98b643d31f4f3a9a951b3fdd04889e",
       "style": "IPY_MODEL_4e5bf2ec03d848b1ab90a5c2f35ad46d",
       "value": " 4/4 [00:00&lt;00:00, 89.77it/s]"
      }
     },
     "2509b59f577549c1b7364ff7f78effc3": {
      "model_module": "@jupyter-widgets/base",
      "model_module_version": "1.2.0",
      "model_name": "LayoutModel",
      "state": {}
     },
     "251490a912094752b44dcd34991aeaf9": {
      "model_module": "@jupyter-widgets/controls",
      "model_module_version": "1.5.0",
      "model_name": "HTMLModel",
      "state": {
       "layout": "IPY_MODEL_0fbd273bb5ec4398926cc4ae3f3f7199",
       "style": "IPY_MODEL_98989b1c281f4c25b6e9a4adaa45ebbc",
       "value": " 3/3 [00:00&lt;00:00,  9.35it/s]"
      }
     },
     "2536673720234e6e9c7a7d0f3ae73447": {
      "model_module": "@jupyter-widgets/controls",
      "model_module_version": "1.5.0",
      "model_name": "ProgressStyleModel",
      "state": {
       "description_width": ""
      }
     },
     "2542bc79d06f471eaae97d1595c55aac": {
      "model_module": "@jupyter-widgets/controls",
      "model_module_version": "1.5.0",
      "model_name": "HBoxModel",
      "state": {
       "children": [
        "IPY_MODEL_e4b40adaabf942e89312910e2b4293c1",
        "IPY_MODEL_2601703db80a4466bb4fc579d491cd40",
        "IPY_MODEL_ac6fb62c46f24dbf863e3a0fabbf80b0"
       ],
       "layout": "IPY_MODEL_0eae6c680bed415b8033ad4faee4e002"
      }
     },
     "2572f05692dc462494a595adc11f6506": {
      "model_module": "@jupyter-widgets/controls",
      "model_module_version": "1.5.0",
      "model_name": "ProgressStyleModel",
      "state": {
       "description_width": ""
      }
     },
     "25a7806a48694f538342ee161aba9fef": {
      "model_module": "@jupyter-widgets/controls",
      "model_module_version": "1.5.0",
      "model_name": "HTMLModel",
      "state": {
       "layout": "IPY_MODEL_10eb86a095c1442895e6474d9322cafd",
       "style": "IPY_MODEL_58c6de2198bb48c794c808f067199cc1",
       "value": "NORMAL: 100%"
      }
     },
     "25d7ce33f4df4ae49ae2908ba6c5727b": {
      "model_module": "@jupyter-widgets/controls",
      "model_module_version": "1.5.0",
      "model_name": "ProgressStyleModel",
      "state": {
       "description_width": ""
      }
     },
     "25d878476fa34de8a354ea70ededba10": {
      "model_module": "@jupyter-widgets/controls",
      "model_module_version": "1.5.0",
      "model_name": "FloatProgressModel",
      "state": {
       "bar_style": "success",
       "layout": "IPY_MODEL_de33ec65488348dc9485c1de4d16a46e",
       "max": 4,
       "style": "IPY_MODEL_041dfc95d3c14dc89c4010d8e73e2702",
       "value": 4
      }
     },
     "25e18e019ebb455e80432d1c40957339": {
      "model_module": "@jupyter-widgets/controls",
      "model_module_version": "1.5.0",
      "model_name": "HTMLModel",
      "state": {
       "layout": "IPY_MODEL_80a3259c956e433bbdbbac2516f97d3b",
       "style": "IPY_MODEL_f938aa67148043e2ba236d1b35041389",
       "value": "NORMAL: 100%"
      }
     },
     "2601703db80a4466bb4fc579d491cd40": {
      "model_module": "@jupyter-widgets/controls",
      "model_module_version": "1.5.0",
      "model_name": "FloatProgressModel",
      "state": {
       "bar_style": "success",
       "layout": "IPY_MODEL_575055340d6a448dab10d73f92fa099d",
       "max": 4,
       "style": "IPY_MODEL_12a2b1304c60443e8dbc30c402b59598",
       "value": 4
      }
     },
     "2601bc3f4be74feba94a67fb09ed0406": {
      "model_module": "@jupyter-widgets/base",
      "model_module_version": "1.2.0",
      "model_name": "LayoutModel",
      "state": {}
     },
     "2604e2a1e09b4bf3b191e75a14180604": {
      "model_module": "@jupyter-widgets/base",
      "model_module_version": "1.2.0",
      "model_name": "LayoutModel",
      "state": {}
     },
     "263a50640dd2402e8d2dc79957de9db1": {
      "model_module": "@jupyter-widgets/controls",
      "model_module_version": "1.5.0",
      "model_name": "DescriptionStyleModel",
      "state": {
       "description_width": ""
      }
     },
     "268f770855b54be4904fa3aac0fe2bf0": {
      "model_module": "@jupyter-widgets/base",
      "model_module_version": "1.2.0",
      "model_name": "LayoutModel",
      "state": {}
     },
     "26e9f3ab705a4cea81b1274a78aaeede": {
      "model_module": "@jupyter-widgets/controls",
      "model_module_version": "1.5.0",
      "model_name": "ProgressStyleModel",
      "state": {
       "description_width": ""
      }
     },
     "26fefaf27dae44cb8c8309a7defea932": {
      "model_module": "@jupyter-widgets/controls",
      "model_module_version": "1.5.0",
      "model_name": "HTMLModel",
      "state": {
       "layout": "IPY_MODEL_292ca7c51ebf4568bf8109fd50907dcd",
       "style": "IPY_MODEL_375a3060e83c4e3ca4a027b1a94cc909",
       "value": " 4/4 [00:00&lt;00:00, 28.74it/s]"
      }
     },
     "2728434a460d4e0cb52fc35cdea396ea": {
      "model_module": "@jupyter-widgets/controls",
      "model_module_version": "1.5.0",
      "model_name": "HTMLModel",
      "state": {
       "layout": "IPY_MODEL_e378fc81a5114bcf8cec60cec28e481b",
       "style": "IPY_MODEL_1442aa4851c34cf1a892b797d9cffd0d",
       "value": "COVID: 100%"
      }
     },
     "273a3046db5e491ca2abe9eba717d91f": {
      "model_module": "@jupyter-widgets/controls",
      "model_module_version": "1.5.0",
      "model_name": "ProgressStyleModel",
      "state": {
       "description_width": ""
      }
     },
     "274f8b61c07c4890baf555dbf0cea007": {
      "model_module": "@jupyter-widgets/base",
      "model_module_version": "1.2.0",
      "model_name": "LayoutModel",
      "state": {}
     },
     "279c397651f645548a3e4a41135bc9b6": {
      "model_module": "@jupyter-widgets/base",
      "model_module_version": "1.2.0",
      "model_name": "LayoutModel",
      "state": {}
     },
     "279ea1054110421394c8d8846a7ecf10": {
      "model_module": "@jupyter-widgets/controls",
      "model_module_version": "1.5.0",
      "model_name": "HTMLModel",
      "state": {
       "layout": "IPY_MODEL_8a01c27879dc44ffa946ece235cd7c85",
       "style": "IPY_MODEL_38f0e904bfb84b4fb41387f3b8428f08",
       "value": " 1341/1341 [00:20&lt;00:00, 67.01it/s]"
      }
     },
     "28022e04dca94225adcdffde4ceadb54": {
      "model_module": "@jupyter-widgets/base",
      "model_module_version": "1.2.0",
      "model_name": "LayoutModel",
      "state": {}
     },
     "280be0ca9f2e4d87a3d4c175f4ab2353": {
      "model_module": "@jupyter-widgets/controls",
      "model_module_version": "1.5.0",
      "model_name": "HTMLModel",
      "state": {
       "layout": "IPY_MODEL_fcbb7fcdaea1447ea8b9c8d38af4568b",
       "style": "IPY_MODEL_c475b4e9a2404778b93860eaeeaba5cf",
       "value": " 3/3 [00:48&lt;00:00, 18.55s/it]"
      }
     },
     "28329f6685984c2388f09ab762555b4c": {
      "model_module": "@jupyter-widgets/base",
      "model_module_version": "1.2.0",
      "model_name": "LayoutModel",
      "state": {}
     },
     "28661c7433534328ab02b4ee50bd4134": {
      "model_module": "@jupyter-widgets/base",
      "model_module_version": "1.2.0",
      "model_name": "LayoutModel",
      "state": {}
     },
     "2884c2fae55d467981ce81013212926a": {
      "model_module": "@jupyter-widgets/controls",
      "model_module_version": "1.5.0",
      "model_name": "DescriptionStyleModel",
      "state": {
       "description_width": ""
      }
     },
     "28a4e57d149240fe9930ebcf674ffeff": {
      "model_module": "@jupyter-widgets/controls",
      "model_module_version": "1.5.0",
      "model_name": "ProgressStyleModel",
      "state": {
       "description_width": ""
      }
     },
     "292ca7c51ebf4568bf8109fd50907dcd": {
      "model_module": "@jupyter-widgets/base",
      "model_module_version": "1.2.0",
      "model_name": "LayoutModel",
      "state": {}
     },
     "293c8ace0a3d443cb2c03cb3208a51ac": {
      "model_module": "@jupyter-widgets/controls",
      "model_module_version": "1.5.0",
      "model_name": "HTMLModel",
      "state": {
       "layout": "IPY_MODEL_4d04692ef0ae46b68fccb0ccd80f943a",
       "style": "IPY_MODEL_6d4d7a5a240d46b79c63947fcaeadb82",
       "value": " 4/4 [00:00&lt;00:00, 28.79it/s]"
      }
     },
     "294a12bba0ba4bba8c17db4244aab3cf": {
      "model_module": "@jupyter-widgets/base",
      "model_module_version": "1.2.0",
      "model_name": "LayoutModel",
      "state": {}
     },
     "295240b8ebab4efaa80e2d155e78308c": {
      "model_module": "@jupyter-widgets/controls",
      "model_module_version": "1.5.0",
      "model_name": "HTMLModel",
      "state": {
       "layout": "IPY_MODEL_1939e1465dcf43459aa1082994d8c39e",
       "style": "IPY_MODEL_7cc524d091ee4bebb407a1dc7b12f0e2",
       "value": "COVID: 100%"
      }
     },
     "29805bd57e094961a753cc03df65ab9a": {
      "model_module": "@jupyter-widgets/controls",
      "model_module_version": "1.5.0",
      "model_name": "ProgressStyleModel",
      "state": {
       "description_width": ""
      }
     },
     "2981937c757c412fa2eee1ade4f74854": {
      "model_module": "@jupyter-widgets/base",
      "model_module_version": "1.2.0",
      "model_name": "LayoutModel",
      "state": {}
     },
     "29be618c8ce04974acaec8eceb0ad3d6": {
      "model_module": "@jupyter-widgets/controls",
      "model_module_version": "1.5.0",
      "model_name": "HBoxModel",
      "state": {
       "children": [
        "IPY_MODEL_a28c2ccc7e17424cacf901f144b9cab9",
        "IPY_MODEL_9ff3b7f9fa064597adbb77a9d652b70a",
        "IPY_MODEL_e6534e803c5b4d2492893f2d9669d864"
       ],
       "layout": "IPY_MODEL_15b2500baf7e4a8abd39e31e2e509a12"
      }
     },
     "29d06797d8164302979c17d6c1393735": {
      "model_module": "@jupyter-widgets/base",
      "model_module_version": "1.2.0",
      "model_name": "LayoutModel",
      "state": {}
     },
     "29ddf511a8d74f0687a5be5863fc32c5": {
      "model_module": "@jupyter-widgets/base",
      "model_module_version": "1.2.0",
      "model_name": "LayoutModel",
      "state": {}
     },
     "29f5c634999244b4b2eb67a7c7ae4a2a": {
      "model_module": "@jupyter-widgets/controls",
      "model_module_version": "1.5.0",
      "model_name": "DescriptionStyleModel",
      "state": {
       "description_width": ""
      }
     },
     "2a066f68b1ff4594837dbe72eca41e8e": {
      "model_module": "@jupyter-widgets/controls",
      "model_module_version": "1.5.0",
      "model_name": "ProgressStyleModel",
      "state": {
       "description_width": ""
      }
     },
     "2a0901107d0d4fabbfd54380bb692003": {
      "model_module": "@jupyter-widgets/base",
      "model_module_version": "1.2.0",
      "model_name": "LayoutModel",
      "state": {}
     },
     "2a38af707a1f49fbba4e47c89329f4c4": {
      "model_module": "@jupyter-widgets/base",
      "model_module_version": "1.2.0",
      "model_name": "LayoutModel",
      "state": {}
     },
     "2a63a28c8ac6463180a5c53d22c284b2": {
      "model_module": "@jupyter-widgets/controls",
      "model_module_version": "1.5.0",
      "model_name": "HBoxModel",
      "state": {
       "children": [
        "IPY_MODEL_6f54c90177484340b16ae0e39d3c3483",
        "IPY_MODEL_6e8d15bc941b4c6b838ca7b93bce66ee",
        "IPY_MODEL_54522f02667248bbab356247b5e1d27b"
       ],
       "layout": "IPY_MODEL_f262cbb2dcaa4983896ae75ab5ac3622"
      }
     },
     "2a706da278fc43048d7a56b4c210e752": {
      "model_module": "@jupyter-widgets/base",
      "model_module_version": "1.2.0",
      "model_name": "LayoutModel",
      "state": {}
     },
     "2a7516887f7844e5b1244bc58035da28": {
      "model_module": "@jupyter-widgets/controls",
      "model_module_version": "1.5.0",
      "model_name": "DescriptionStyleModel",
      "state": {
       "description_width": ""
      }
     },
     "2ac9da224abc471d826db2d6bd2d670c": {
      "model_module": "@jupyter-widgets/base",
      "model_module_version": "1.2.0",
      "model_name": "LayoutModel",
      "state": {}
     },
     "2b07bbe42b874d87b626f68fb62ec9fe": {
      "model_module": "@jupyter-widgets/base",
      "model_module_version": "1.2.0",
      "model_name": "LayoutModel",
      "state": {}
     },
     "2b388bfdbc0b46a6a547d35371a61342": {
      "model_module": "@jupyter-widgets/controls",
      "model_module_version": "1.5.0",
      "model_name": "ProgressStyleModel",
      "state": {
       "description_width": ""
      }
     },
     "2b45176060c54ee793f4f941564da63e": {
      "model_module": "@jupyter-widgets/controls",
      "model_module_version": "1.5.0",
      "model_name": "FloatProgressModel",
      "state": {
       "bar_style": "success",
       "layout": "IPY_MODEL_cf5222b72e6046a992146e8acd7146d7",
       "max": 4,
       "style": "IPY_MODEL_625fbabc175441a1b65a0ad758878d36",
       "value": 4
      }
     },
     "2b67a87c3af44ee29f0700c8e597ce45": {
      "model_module": "@jupyter-widgets/controls",
      "model_module_version": "1.5.0",
      "model_name": "ProgressStyleModel",
      "state": {
       "description_width": ""
      }
     },
     "2b6b6cbfe99a4e0dafb2083269e2623f": {
      "model_module": "@jupyter-widgets/base",
      "model_module_version": "1.2.0",
      "model_name": "LayoutModel",
      "state": {}
     },
     "2b95f1bd93c3443993d2ad675272b465": {
      "model_module": "@jupyter-widgets/controls",
      "model_module_version": "1.5.0",
      "model_name": "HTMLModel",
      "state": {
       "layout": "IPY_MODEL_28329f6685984c2388f09ab762555b4c",
       "style": "IPY_MODEL_9e7a1a9953c048caab92df28f3307f10",
       "value": " 4/4 [00:00&lt;00:00, 38.74it/s]"
      }
     },
     "2bcd6e60d2f944228e999c4904b0bab8": {
      "model_module": "@jupyter-widgets/base",
      "model_module_version": "1.2.0",
      "model_name": "LayoutModel",
      "state": {}
     },
     "2c851ba2b9334800a9b6c85d73771807": {
      "model_module": "@jupyter-widgets/base",
      "model_module_version": "1.2.0",
      "model_name": "LayoutModel",
      "state": {}
     },
     "2ca22140913343b98d2c0fbbc1ab4aff": {
      "model_module": "@jupyter-widgets/controls",
      "model_module_version": "1.5.0",
      "model_name": "DescriptionStyleModel",
      "state": {
       "description_width": ""
      }
     },
     "2ca39391df6b4763bcca6c1bed75b3a1": {
      "model_module": "@jupyter-widgets/controls",
      "model_module_version": "1.5.0",
      "model_name": "HTMLModel",
      "state": {
       "layout": "IPY_MODEL_737d442ff30142888ed632846d585f9f",
       "style": "IPY_MODEL_f08fa1aaeaf14e78ae6887bc7d02caba",
       "value": " 1200/1200 [00:03&lt;00:00, 307.34it/s]"
      }
     },
     "2cadd7cfda0a482aba6d430b00ce5c84": {
      "model_module": "@jupyter-widgets/controls",
      "model_module_version": "1.5.0",
      "model_name": "DescriptionStyleModel",
      "state": {
       "description_width": ""
      }
     },
     "2cea9dbe595047cb8b26623954f1742e": {
      "model_module": "@jupyter-widgets/controls",
      "model_module_version": "1.5.0",
      "model_name": "FloatProgressModel",
      "state": {
       "bar_style": "success",
       "layout": "IPY_MODEL_60d4c1a5a8a54027a9458fcefcd38b29",
       "max": 3,
       "style": "IPY_MODEL_042ddf409fce4275931168ae240efc61",
       "value": 3
      }
     },
     "2d18fadb25a2485682d112669440af0e": {
      "model_module": "@jupyter-widgets/controls",
      "model_module_version": "1.5.0",
      "model_name": "HBoxModel",
      "state": {
       "children": [
        "IPY_MODEL_cf8e8ee7d252425c8f1fb208db0d8967",
        "IPY_MODEL_71e20a7ea3a546e3b67eda1e1433e39a",
        "IPY_MODEL_23c127a123c942a5a38671833d95c4e7"
       ],
       "layout": "IPY_MODEL_b41dc40a8b1444899725e20cdf018a6f"
      }
     },
     "2d478898d075477d90954ce5700c4982": {
      "model_module": "@jupyter-widgets/controls",
      "model_module_version": "1.5.0",
      "model_name": "FloatProgressModel",
      "state": {
       "bar_style": "success",
       "layout": "IPY_MODEL_a6f726ec4d624c0bac9551c609afc5ed",
       "max": 4,
       "style": "IPY_MODEL_c86b48f854264df1b56509eb25e44af3",
       "value": 4
      }
     },
     "2d507f36b3a247c8b4fc33c367b1bd33": {
      "model_module": "@jupyter-widgets/controls",
      "model_module_version": "1.5.0",
      "model_name": "HBoxModel",
      "state": {
       "children": [
        "IPY_MODEL_32dddb993b3247c39cd436fc4fbb0954",
        "IPY_MODEL_980eb54dd44d41ea92eabc30b7229b31",
        "IPY_MODEL_38fd4075ba374ccd8514f3a3d03ebaf9"
       ],
       "layout": "IPY_MODEL_7788f165704048819d07f3f38cc75f32"
      }
     },
     "2d5234a05da845a097cbb5f7ea624359": {
      "model_module": "@jupyter-widgets/base",
      "model_module_version": "1.2.0",
      "model_name": "LayoutModel",
      "state": {}
     },
     "2d66cd07a379467badb205348dc5bc9c": {
      "model_module": "@jupyter-widgets/controls",
      "model_module_version": "1.5.0",
      "model_name": "HTMLModel",
      "state": {
       "layout": "IPY_MODEL_ebeeb30234c34782b5209a034dfaeb0e",
       "style": "IPY_MODEL_f18677846eba4ce8a7bb98d408327efb",
       "value": " 3/3 [00:45&lt;00:00, 17.32s/it]"
      }
     },
     "2d78c7af10e94b59bb54f5d136d38125": {
      "model_module": "@jupyter-widgets/controls",
      "model_module_version": "1.5.0",
      "model_name": "HTMLModel",
      "state": {
       "layout": "IPY_MODEL_6687568948b84643a7bfc6921cb1ab38",
       "style": "IPY_MODEL_abc7915c5831490c8c1a79bf63548078",
       "value": "NORMAL: 100%"
      }
     },
     "2d7c93c1969442bcbf29f1774edacfaf": {
      "model_module": "@jupyter-widgets/base",
      "model_module_version": "1.2.0",
      "model_name": "LayoutModel",
      "state": {}
     },
     "2da6f449cd364e5fb40bb993fa54efd6": {
      "model_module": "@jupyter-widgets/base",
      "model_module_version": "1.2.0",
      "model_name": "LayoutModel",
      "state": {}
     },
     "2dcebbd178084564be441d06726c1d70": {
      "model_module": "@jupyter-widgets/base",
      "model_module_version": "1.2.0",
      "model_name": "LayoutModel",
      "state": {}
     },
     "2dddc13d1c324347abe6e3818d8d13a1": {
      "model_module": "@jupyter-widgets/controls",
      "model_module_version": "1.5.0",
      "model_name": "HBoxModel",
      "state": {
       "children": [
        "IPY_MODEL_7dd8f53ed11348f78d49df724f284fc6",
        "IPY_MODEL_fe583564697c44b1bd6401cbe7f0a778",
        "IPY_MODEL_04074863089945f9a65c5ef1118342df"
       ],
       "layout": "IPY_MODEL_6514b45421c743388ffaf61b07e19409"
      }
     },
     "2dfc0a7ed3fb46d7be45b5b5e769c471": {
      "model_module": "@jupyter-widgets/controls",
      "model_module_version": "1.5.0",
      "model_name": "ProgressStyleModel",
      "state": {
       "description_width": ""
      }
     },
     "2e0fbf6f091e4ef6ac5a3fd3e466f96b": {
      "model_module": "@jupyter-widgets/controls",
      "model_module_version": "1.5.0",
      "model_name": "FloatProgressModel",
      "state": {
       "bar_style": "success",
       "layout": "IPY_MODEL_5b1d925256f746d1823ea93d06056730",
       "max": 3,
       "style": "IPY_MODEL_68fc9526cc7448c788e9061bb67cb3c9",
       "value": 3
      }
     },
     "2e5acd8313a342b09dc337e22c679f6d": {
      "model_module": "@jupyter-widgets/controls",
      "model_module_version": "1.5.0",
      "model_name": "DescriptionStyleModel",
      "state": {
       "description_width": ""
      }
     },
     "2e5f4b0275ed4059b1e3baa716ed8bc9": {
      "model_module": "@jupyter-widgets/controls",
      "model_module_version": "1.5.0",
      "model_name": "HBoxModel",
      "state": {
       "children": [
        "IPY_MODEL_66cb7185e92b43a4a1bfe741afb66170",
        "IPY_MODEL_08d178ea8c114962a0b56ca12340a48a",
        "IPY_MODEL_0411ce34996a41f6bf1fdba0ed3be656"
       ],
       "layout": "IPY_MODEL_cbffa24eaf36431e87062e07084672fb"
      }
     },
     "2e7c387a446e4932911903ba3f1c564b": {
      "model_module": "@jupyter-widgets/controls",
      "model_module_version": "1.5.0",
      "model_name": "HTMLModel",
      "state": {
       "layout": "IPY_MODEL_49105ff60a96447ba3807e5b5325eaa2",
       "style": "IPY_MODEL_a9ff85e4d49b4a3d8864773a11672223",
       "value": "VIRAL-PNEUMONIA: 100%"
      }
     },
     "2e81c8c487ef4a6294447cf25de9ad60": {
      "model_module": "@jupyter-widgets/base",
      "model_module_version": "1.2.0",
      "model_name": "LayoutModel",
      "state": {}
     },
     "2ee67094d8cc4897b4dcb7f5640f9c92": {
      "model_module": "@jupyter-widgets/controls",
      "model_module_version": "1.5.0",
      "model_name": "DescriptionStyleModel",
      "state": {
       "description_width": ""
      }
     },
     "2f489f6e593d43b3ad961e27c51fa55e": {
      "model_module": "@jupyter-widgets/controls",
      "model_module_version": "1.5.0",
      "model_name": "DescriptionStyleModel",
      "state": {
       "description_width": ""
      }
     },
     "2f5929e659d5471ea828f340a63fd106": {
      "model_module": "@jupyter-widgets/base",
      "model_module_version": "1.2.0",
      "model_name": "LayoutModel",
      "state": {}
     },
     "2f60feaec144422fb0d3d4cd3f47888f": {
      "model_module": "@jupyter-widgets/controls",
      "model_module_version": "1.5.0",
      "model_name": "DescriptionStyleModel",
      "state": {
       "description_width": ""
      }
     },
     "2f7ceac7a9a840bfa19b9dee80298ecc": {
      "model_module": "@jupyter-widgets/controls",
      "model_module_version": "1.5.0",
      "model_name": "HTMLModel",
      "state": {
       "layout": "IPY_MODEL_4c1cdb97330f4ac2a5f989fadd51f7e3",
       "style": "IPY_MODEL_34d04cf5a99f41c3bb75d3ccb6edbac4",
       "value": "VIRAL-PNEUMONIA: 100%"
      }
     },
     "2f8bee2df0014f2490a175f6f82c1645": {
      "model_module": "@jupyter-widgets/controls",
      "model_module_version": "1.5.0",
      "model_name": "DescriptionStyleModel",
      "state": {
       "description_width": ""
      }
     },
     "2f8ef283981440e6ad338857b6d8b965": {
      "model_module": "@jupyter-widgets/base",
      "model_module_version": "1.2.0",
      "model_name": "LayoutModel",
      "state": {}
     },
     "2f90007e2b7e45d9b720c9ab67801349": {
      "model_module": "@jupyter-widgets/controls",
      "model_module_version": "1.5.0",
      "model_name": "ProgressStyleModel",
      "state": {
       "description_width": ""
      }
     },
     "2fa7d4e6337c4f80b7ade00904dee84a": {
      "model_module": "@jupyter-widgets/controls",
      "model_module_version": "1.5.0",
      "model_name": "DescriptionStyleModel",
      "state": {
       "description_width": ""
      }
     },
     "2fc8112b78d7488bac963faf0331be78": {
      "model_module": "@jupyter-widgets/controls",
      "model_module_version": "1.5.0",
      "model_name": "DescriptionStyleModel",
      "state": {
       "description_width": ""
      }
     },
     "2fe3d149bf0e426893f302d3ed562706": {
      "model_module": "@jupyter-widgets/controls",
      "model_module_version": "1.5.0",
      "model_name": "HBoxModel",
      "state": {
       "children": [
        "IPY_MODEL_e88c2d3eb3d34a81b12763438430cce4",
        "IPY_MODEL_a44b15a6117541aba088d8403275c208",
        "IPY_MODEL_6c8b1556b492443294d51194c23e10c5"
       ],
       "layout": "IPY_MODEL_60e1ac2fd4ac44b6b14cf8b2a1e1a8a2"
      }
     },
     "3002244d7eef44ccbb6eba5043ce9060": {
      "model_module": "@jupyter-widgets/base",
      "model_module_version": "1.2.0",
      "model_name": "LayoutModel",
      "state": {}
     },
     "3005ecc8a216438f9d568da76a9b1648": {
      "model_module": "@jupyter-widgets/base",
      "model_module_version": "1.2.0",
      "model_name": "LayoutModel",
      "state": {}
     },
     "301cd0ed02fe4212bab26a8f49f797e9": {
      "model_module": "@jupyter-widgets/controls",
      "model_module_version": "1.5.0",
      "model_name": "DescriptionStyleModel",
      "state": {
       "description_width": ""
      }
     },
     "3047fe72b6fa4023a448b3c7cd77166f": {
      "model_module": "@jupyter-widgets/base",
      "model_module_version": "1.2.0",
      "model_name": "LayoutModel",
      "state": {}
     },
     "3061fe3cdea040fd973f28764ba02e5b": {
      "model_module": "@jupyter-widgets/controls",
      "model_module_version": "1.5.0",
      "model_name": "HBoxModel",
      "state": {
       "children": [
        "IPY_MODEL_cdb514e0981d4319beb72f60a50e0950",
        "IPY_MODEL_f991f084aa5b4ab3a617afa98406e544",
        "IPY_MODEL_32c52139709c44d2a40416c18f6d3210"
       ],
       "layout": "IPY_MODEL_5012b3df724147d88c35f78c578db68d"
      }
     },
     "307a723c675f4cca958eb8aa5d060c8c": {
      "model_module": "@jupyter-widgets/base",
      "model_module_version": "1.2.0",
      "model_name": "LayoutModel",
      "state": {}
     },
     "31048cade8e2487dab77bae7ad5869f4": {
      "model_module": "@jupyter-widgets/base",
      "model_module_version": "1.2.0",
      "model_name": "LayoutModel",
      "state": {}
     },
     "310853a5f67b4492b3eb68867387c9c3": {
      "model_module": "@jupyter-widgets/controls",
      "model_module_version": "1.5.0",
      "model_name": "DescriptionStyleModel",
      "state": {
       "description_width": ""
      }
     },
     "3121763febb346fe82a5e6b0b4f7f5d6": {
      "model_module": "@jupyter-widgets/controls",
      "model_module_version": "1.5.0",
      "model_name": "HBoxModel",
      "state": {
       "children": [
        "IPY_MODEL_d5d1bf717c0c489bbd0ba38f1d297860",
        "IPY_MODEL_0ae574cd4b5b47e29c2fdceac71f26ae",
        "IPY_MODEL_5c77b3f7707e41aba99a49b124083fb8"
       ],
       "layout": "IPY_MODEL_3e4e934fad5a454e8472a89fb29f8ab4"
      }
     },
     "313c6c0619d54630974a813fa995d5ee": {
      "model_module": "@jupyter-widgets/controls",
      "model_module_version": "1.5.0",
      "model_name": "FloatProgressModel",
      "state": {
       "bar_style": "success",
       "layout": "IPY_MODEL_5293992a723748258b1b6003d9672cdf",
       "max": 1341,
       "style": "IPY_MODEL_08d9e63a1bc24619b5156caf3bb0b201",
       "value": 1341
      }
     },
     "31497fd4113a40dfb8663532990fa36f": {
      "model_module": "@jupyter-widgets/base",
      "model_module_version": "1.2.0",
      "model_name": "LayoutModel",
      "state": {}
     },
     "3178d296ad744fe4b82576110fe58832": {
      "model_module": "@jupyter-widgets/base",
      "model_module_version": "1.2.0",
      "model_name": "LayoutModel",
      "state": {}
     },
     "317a03c88e554fa3829f1b3a74ca6fa3": {
      "model_module": "@jupyter-widgets/base",
      "model_module_version": "1.2.0",
      "model_name": "LayoutModel",
      "state": {}
     },
     "3193f89b6fe645ecb0b7f955be900c7a": {
      "model_module": "@jupyter-widgets/controls",
      "model_module_version": "1.5.0",
      "model_name": "DescriptionStyleModel",
      "state": {
       "description_width": ""
      }
     },
     "31a40e24a51340349dd9aeb596c21974": {
      "model_module": "@jupyter-widgets/controls",
      "model_module_version": "1.5.0",
      "model_name": "DescriptionStyleModel",
      "state": {
       "description_width": ""
      }
     },
     "31d0f0f61637462cb584d87a3f6a79b0": {
      "model_module": "@jupyter-widgets/base",
      "model_module_version": "1.2.0",
      "model_name": "LayoutModel",
      "state": {}
     },
     "31dab41567af4a49a1a19fa8a5a39461": {
      "model_module": "@jupyter-widgets/controls",
      "model_module_version": "1.5.0",
      "model_name": "FloatProgressModel",
      "state": {
       "bar_style": "success",
       "layout": "IPY_MODEL_20c7318641dd40d7a1f7944dbfe153d8",
       "max": 4,
       "style": "IPY_MODEL_7d359e35c5764d549fc36d74cfc1b091",
       "value": 4
      }
     },
     "31ee7a560dec419fafdafc011f42a827": {
      "model_module": "@jupyter-widgets/controls",
      "model_module_version": "1.5.0",
      "model_name": "HBoxModel",
      "state": {
       "children": [
        "IPY_MODEL_146547b08f15440faa8518347f719232",
        "IPY_MODEL_44b6c08575044a228a7de3ba239461bd",
        "IPY_MODEL_b6c3a8c8a6b2406cacd2dbf3ded2abd0"
       ],
       "layout": "IPY_MODEL_0cd3cb9309454378a930636fc8a7a895"
      }
     },
     "321e5c093c874eceafea5e35fa20efde": {
      "model_module": "@jupyter-widgets/controls",
      "model_module_version": "1.5.0",
      "model_name": "DescriptionStyleModel",
      "state": {
       "description_width": ""
      }
     },
     "323df0206ce345f89fe4032d4cb98918": {
      "model_module": "@jupyter-widgets/controls",
      "model_module_version": "1.5.0",
      "model_name": "DescriptionStyleModel",
      "state": {
       "description_width": ""
      }
     },
     "32a3d968f12b4735b53c5726482c935a": {
      "model_module": "@jupyter-widgets/base",
      "model_module_version": "1.2.0",
      "model_name": "LayoutModel",
      "state": {}
     },
     "32a82a1ff52445fbbfcbf26ec52b2952": {
      "model_module": "@jupyter-widgets/base",
      "model_module_version": "1.2.0",
      "model_name": "LayoutModel",
      "state": {}
     },
     "32b8ce6d335a4d6b861945c392bf5274": {
      "model_module": "@jupyter-widgets/controls",
      "model_module_version": "1.5.0",
      "model_name": "DescriptionStyleModel",
      "state": {
       "description_width": ""
      }
     },
     "32c52139709c44d2a40416c18f6d3210": {
      "model_module": "@jupyter-widgets/controls",
      "model_module_version": "1.5.0",
      "model_name": "HTMLModel",
      "state": {
       "layout": "IPY_MODEL_67c96ac49d2044f09c332d77a3e64120",
       "style": "IPY_MODEL_eef26e4d90404edba77ff5e408feeb69",
       "value": " 4/4 [00:00&lt;00:00, 36.52it/s]"
      }
     },
     "32d6ef2846734c108421d5a604cf65b8": {
      "model_module": "@jupyter-widgets/controls",
      "model_module_version": "1.5.0",
      "model_name": "DescriptionStyleModel",
      "state": {
       "description_width": ""
      }
     },
     "32da56bc132141cb94e860821078f859": {
      "model_module": "@jupyter-widgets/base",
      "model_module_version": "1.2.0",
      "model_name": "LayoutModel",
      "state": {}
     },
     "32dddb993b3247c39cd436fc4fbb0954": {
      "model_module": "@jupyter-widgets/controls",
      "model_module_version": "1.5.0",
      "model_name": "HTMLModel",
      "state": {
       "layout": "IPY_MODEL_bd4bc95742e44c31b915aa9c4faa59a7",
       "style": "IPY_MODEL_66fe8262ad9641fb98582cec6ed5d909",
       "value": "VIRAL-PNEUMONIA: 100%"
      }
     },
     "330853aa8a614d44b3ebfe041dc6b739": {
      "model_module": "@jupyter-widgets/controls",
      "model_module_version": "1.5.0",
      "model_name": "FloatProgressModel",
      "state": {
       "bar_style": "success",
       "layout": "IPY_MODEL_50f7f55e22b44d1999b2ff121c866c37",
       "max": 4,
       "style": "IPY_MODEL_17cfc48f5aed4f14881139d83e571289",
       "value": 4
      }
     },
     "33154faf74aa42d7b23d35507db156a9": {
      "model_module": "@jupyter-widgets/controls",
      "model_module_version": "1.5.0",
      "model_name": "ProgressStyleModel",
      "state": {
       "description_width": ""
      }
     },
     "332b4cde9cff4be3abc4d542a1970625": {
      "model_module": "@jupyter-widgets/base",
      "model_module_version": "1.2.0",
      "model_name": "LayoutModel",
      "state": {}
     },
     "3358742084df44fd82e3f05c5f9f2fd5": {
      "model_module": "@jupyter-widgets/base",
      "model_module_version": "1.2.0",
      "model_name": "LayoutModel",
      "state": {}
     },
     "3360d26e6d6845b7951fa3ee6da3cf43": {
      "model_module": "@jupyter-widgets/base",
      "model_module_version": "1.2.0",
      "model_name": "LayoutModel",
      "state": {}
     },
     "3386148145354d52bb2b3ba75b2d0b7c": {
      "model_module": "@jupyter-widgets/controls",
      "model_module_version": "1.5.0",
      "model_name": "DescriptionStyleModel",
      "state": {
       "description_width": ""
      }
     },
     "339359dde5934518a9ed57032b033dec": {
      "model_module": "@jupyter-widgets/controls",
      "model_module_version": "1.5.0",
      "model_name": "DescriptionStyleModel",
      "state": {
       "description_width": ""
      }
     },
     "33d286b87cff4c269b01cdf39b4c8581": {
      "model_module": "@jupyter-widgets/controls",
      "model_module_version": "1.5.0",
      "model_name": "FloatProgressModel",
      "state": {
       "bar_style": "success",
       "layout": "IPY_MODEL_3b8313ec27584438813b9b409a6eb79d",
       "max": 3,
       "style": "IPY_MODEL_b31058547b8945b88c646d2c7126734a",
       "value": 3
      }
     },
     "33e0419a7f6240bb99e413ffe767f7ef": {
      "model_module": "@jupyter-widgets/controls",
      "model_module_version": "1.5.0",
      "model_name": "DescriptionStyleModel",
      "state": {
       "description_width": ""
      }
     },
     "3433528bdf214bd29656e7509c681170": {
      "model_module": "@jupyter-widgets/controls",
      "model_module_version": "1.5.0",
      "model_name": "FloatProgressModel",
      "state": {
       "bar_style": "success",
       "layout": "IPY_MODEL_1eb5500ca70e46f4b40a7e58c6c9ead4",
       "max": 4,
       "style": "IPY_MODEL_7f4c5a80e8444152ad32945206ba1d18",
       "value": 4
      }
     },
     "343b7ae0a3944bb28e3ad17ec0bd1838": {
      "model_module": "@jupyter-widgets/controls",
      "model_module_version": "1.5.0",
      "model_name": "HTMLModel",
      "state": {
       "layout": "IPY_MODEL_5331fa0d491b4ea08192a0b566dd08dd",
       "style": "IPY_MODEL_3f997cb349c64aac82b04829331cd1a4",
       "value": "NORMAL: 100%"
      }
     },
     "34546c0996fa44c1af8a9c6789f8d47d": {
      "model_module": "@jupyter-widgets/controls",
      "model_module_version": "1.5.0",
      "model_name": "DescriptionStyleModel",
      "state": {
       "description_width": ""
      }
     },
     "348eebccb0f144ad994f7eeadb93346a": {
      "model_module": "@jupyter-widgets/controls",
      "model_module_version": "1.5.0",
      "model_name": "FloatProgressModel",
      "state": {
       "bar_style": "success",
       "layout": "IPY_MODEL_c13c1facf57a4113b1bc80614e50b383",
       "max": 4,
       "style": "IPY_MODEL_fe3373b4560e48a1860ec01c354ca457",
       "value": 4
      }
     },
     "34bbf1940fa14568b2650d0928e8b4ac": {
      "model_module": "@jupyter-widgets/base",
      "model_module_version": "1.2.0",
      "model_name": "LayoutModel",
      "state": {}
     },
     "34ca77f1f3554da2a5a3b9ab97e323cd": {
      "model_module": "@jupyter-widgets/base",
      "model_module_version": "1.2.0",
      "model_name": "LayoutModel",
      "state": {}
     },
     "34d04cf5a99f41c3bb75d3ccb6edbac4": {
      "model_module": "@jupyter-widgets/controls",
      "model_module_version": "1.5.0",
      "model_name": "DescriptionStyleModel",
      "state": {
       "description_width": ""
      }
     },
     "34f7ae02629f44b98d19695d93f9e2e6": {
      "model_module": "@jupyter-widgets/controls",
      "model_module_version": "1.5.0",
      "model_name": "ProgressStyleModel",
      "state": {
       "description_width": ""
      }
     },
     "3502553548234fde8e1d74cfb78f6317": {
      "model_module": "@jupyter-widgets/controls",
      "model_module_version": "1.5.0",
      "model_name": "FloatProgressModel",
      "state": {
       "bar_style": "success",
       "layout": "IPY_MODEL_adecf3963abf4327bafb9ad22a8f111d",
       "max": 4,
       "style": "IPY_MODEL_bda72819ec0b495283c21c2b37fe9b63",
       "value": 4
      }
     },
     "358040f188284133873198022f6d84b5": {
      "model_module": "@jupyter-widgets/controls",
      "model_module_version": "1.5.0",
      "model_name": "HTMLModel",
      "state": {
       "layout": "IPY_MODEL_449221a8785844b5be88b2ccba93750e",
       "style": "IPY_MODEL_c49da79b3cce463fac1ae8d5f15bef1a",
       "value": " 4/4 [00:00&lt;00:00, 76.30it/s]"
      }
     },
     "3584fe2ffa154819b29b6a637817982d": {
      "model_module": "@jupyter-widgets/controls",
      "model_module_version": "1.5.0",
      "model_name": "ProgressStyleModel",
      "state": {
       "description_width": ""
      }
     },
     "35c0a69a1f0e42b891d84c2dcf3d3757": {
      "model_module": "@jupyter-widgets/controls",
      "model_module_version": "1.5.0",
      "model_name": "HTMLModel",
      "state": {
       "layout": "IPY_MODEL_2509b59f577549c1b7364ff7f78effc3",
       "style": "IPY_MODEL_220787ff5ae1435588a279a539b397a1",
       "value": "DATASETS: 100%"
      }
     },
     "3630095be2834d7d92c130ce42378b8d": {
      "model_module": "@jupyter-widgets/controls",
      "model_module_version": "1.5.0",
      "model_name": "HTMLModel",
      "state": {
       "layout": "IPY_MODEL_01a2f1c5a016437fbf7d8acea0203f8b",
       "style": "IPY_MODEL_e2e668115b354e66a4c2e16cc430ba75",
       "value": "DATASETS: 100%"
      }
     },
     "3658d84c638e4800afda75dec7f3c48f": {
      "model_module": "@jupyter-widgets/controls",
      "model_module_version": "1.5.0",
      "model_name": "HBoxModel",
      "state": {
       "children": [
        "IPY_MODEL_a5692f9347bd46b393fcadf751b871c1",
        "IPY_MODEL_14aa80c7b73b4e6c8d447e6e1d87daa5",
        "IPY_MODEL_2d66cd07a379467badb205348dc5bc9c"
       ],
       "layout": "IPY_MODEL_aa4393ff578a4dd4a81627c4a6801360"
      }
     },
     "36798c588b404698a4e9a58e41269c0d": {
      "model_module": "@jupyter-widgets/base",
      "model_module_version": "1.2.0",
      "model_name": "LayoutModel",
      "state": {}
     },
     "3699befb819b400bb602a59e7d757e3a": {
      "model_module": "@jupyter-widgets/controls",
      "model_module_version": "1.5.0",
      "model_name": "DescriptionStyleModel",
      "state": {
       "description_width": ""
      }
     },
     "36d08c37693c4d09876cb9126570fde3": {
      "model_module": "@jupyter-widgets/controls",
      "model_module_version": "1.5.0",
      "model_name": "FloatProgressModel",
      "state": {
       "bar_style": "success",
       "layout": "IPY_MODEL_8b0cc193720a4e1ebb57bc10b33ed961",
       "max": 4,
       "style": "IPY_MODEL_13fb96e96230487b96cb18548f9221fc",
       "value": 4
      }
     },
     "36e097280e3740c580d04020d7a52c85": {
      "model_module": "@jupyter-widgets/controls",
      "model_module_version": "1.5.0",
      "model_name": "DescriptionStyleModel",
      "state": {
       "description_width": ""
      }
     },
     "36e53ab702974e949e5c38831a25c9fc": {
      "model_module": "@jupyter-widgets/base",
      "model_module_version": "1.2.0",
      "model_name": "LayoutModel",
      "state": {}
     },
     "36e741a2f6244bf7b9585362e6d3bdbd": {
      "model_module": "@jupyter-widgets/base",
      "model_module_version": "1.2.0",
      "model_name": "LayoutModel",
      "state": {}
     },
     "37461a52b0e5417094ea5ba631479200": {
      "model_module": "@jupyter-widgets/controls",
      "model_module_version": "1.5.0",
      "model_name": "HTMLModel",
      "state": {
       "layout": "IPY_MODEL_cfd37b493ec847329dc674f807d3427b",
       "style": "IPY_MODEL_93b18eb162214f9b84a876e277511188",
       "value": " 1200/1200 [00:03&lt;00:00, 312.34it/s]"
      }
     },
     "375a3060e83c4e3ca4a027b1a94cc909": {
      "model_module": "@jupyter-widgets/controls",
      "model_module_version": "1.5.0",
      "model_name": "DescriptionStyleModel",
      "state": {
       "description_width": ""
      }
     },
     "375fae50e7954571a74369aaa76cfbb7": {
      "model_module": "@jupyter-widgets/controls",
      "model_module_version": "1.5.0",
      "model_name": "HTMLModel",
      "state": {
       "layout": "IPY_MODEL_a67d31c8337b4d5c8f525a20573fb8d9",
       "style": "IPY_MODEL_2fa7d4e6337c4f80b7ade00904dee84a",
       "value": "VIRAL-PNEUMONIA: 100%"
      }
     },
     "375fb83aa14546f49044de347876eec3": {
      "model_module": "@jupyter-widgets/base",
      "model_module_version": "1.2.0",
      "model_name": "LayoutModel",
      "state": {}
     },
     "3768cf2468f24e6696cf4cc180df3ad5": {
      "model_module": "@jupyter-widgets/base",
      "model_module_version": "1.2.0",
      "model_name": "LayoutModel",
      "state": {}
     },
     "377a3a6f923b41a38c8e17600a76efb4": {
      "model_module": "@jupyter-widgets/controls",
      "model_module_version": "1.5.0",
      "model_name": "HTMLModel",
      "state": {
       "layout": "IPY_MODEL_55cf4ee114604574be4c550b34809d9e",
       "style": "IPY_MODEL_cdaf64d3939442d7b4cbd9589babb570",
       "value": "DATASETS: 100%"
      }
     },
     "379fc2c8fedf41fca8011121c7cd8683": {
      "model_module": "@jupyter-widgets/base",
      "model_module_version": "1.2.0",
      "model_name": "LayoutModel",
      "state": {}
     },
     "37b0e8437608453ea3437a23a3559fc9": {
      "model_module": "@jupyter-widgets/controls",
      "model_module_version": "1.5.0",
      "model_name": "HBoxModel",
      "state": {
       "children": [
        "IPY_MODEL_944e777ee915473083a9ac2a56ad05b1",
        "IPY_MODEL_eacf619778ad4557bc1ebd0739f1dd8a",
        "IPY_MODEL_09ebe879411144f9a9b53792792ad3c4"
       ],
       "layout": "IPY_MODEL_ee1cfc2485f043d698375700c2fc7077"
      }
     },
     "37baebd1e8d14c2fac14ea1816927018": {
      "model_module": "@jupyter-widgets/controls",
      "model_module_version": "1.5.0",
      "model_name": "HTMLModel",
      "state": {
       "layout": "IPY_MODEL_932779852a5843caa5b4a8612a50df60",
       "style": "IPY_MODEL_fd1435e42acf495f8d755c9d4bb5a6b5",
       "value": " 4/4 [00:00&lt;00:00, 35.11it/s]"
      }
     },
     "37c0bbc7771045a084e7843fcb8f5385": {
      "model_module": "@jupyter-widgets/base",
      "model_module_version": "1.2.0",
      "model_name": "LayoutModel",
      "state": {}
     },
     "383c35a4cd86436094990d27f14c1d78": {
      "model_module": "@jupyter-widgets/controls",
      "model_module_version": "1.5.0",
      "model_name": "DescriptionStyleModel",
      "state": {
       "description_width": ""
      }
     },
     "38595a8d0c6847c3878a687217ecb4cf": {
      "model_module": "@jupyter-widgets/base",
      "model_module_version": "1.2.0",
      "model_name": "LayoutModel",
      "state": {}
     },
     "3868b036e9c14c84a90954609bbcc08a": {
      "model_module": "@jupyter-widgets/base",
      "model_module_version": "1.2.0",
      "model_name": "LayoutModel",
      "state": {}
     },
     "3878b5bb34084c7ebe18487ee2bf5598": {
      "model_module": "@jupyter-widgets/controls",
      "model_module_version": "1.5.0",
      "model_name": "HBoxModel",
      "state": {
       "children": [
        "IPY_MODEL_f625ebb232a3441d8e46b0fcdb130740",
        "IPY_MODEL_3bc03fe8933c4a31ae66838836aa89bc",
        "IPY_MODEL_cf4949baac754c85a2b494968976a98d"
       ],
       "layout": "IPY_MODEL_54a3ba5503374535bb86b5d2a5cc2fee"
      }
     },
     "38ad7a7b2aab416e82b330f1c002e8d6": {
      "model_module": "@jupyter-widgets/base",
      "model_module_version": "1.2.0",
      "model_name": "LayoutModel",
      "state": {}
     },
     "38f0e904bfb84b4fb41387f3b8428f08": {
      "model_module": "@jupyter-widgets/controls",
      "model_module_version": "1.5.0",
      "model_name": "DescriptionStyleModel",
      "state": {
       "description_width": ""
      }
     },
     "38fa86a8ab9c46aab4429f778def4001": {
      "model_module": "@jupyter-widgets/base",
      "model_module_version": "1.2.0",
      "model_name": "LayoutModel",
      "state": {}
     },
     "38fd4075ba374ccd8514f3a3d03ebaf9": {
      "model_module": "@jupyter-widgets/controls",
      "model_module_version": "1.5.0",
      "model_name": "HTMLModel",
      "state": {
       "layout": "IPY_MODEL_5dacff0cb7ec4653a4ec7068fed11614",
       "style": "IPY_MODEL_cb5538304d0740678c613cd47a3ca53e",
       "value": " 4/4 [00:00&lt;00:00, 33.87it/s]"
      }
     },
     "3901089650b54a18b0cf4614bbe6b22f": {
      "model_module": "@jupyter-widgets/controls",
      "model_module_version": "1.5.0",
      "model_name": "HBoxModel",
      "state": {
       "children": [
        "IPY_MODEL_64512bde5e624e6ca3118f86ad3869c3",
        "IPY_MODEL_5810fbe543d64a4287f4bcf1a4dcc17a",
        "IPY_MODEL_1e2b1ff24159481aadec7924d44e6c19"
       ],
       "layout": "IPY_MODEL_d793c7594c63495cb040d148149c6383"
      }
     },
     "3930b75295804fada139dbe220f00358": {
      "model_module": "@jupyter-widgets/controls",
      "model_module_version": "1.5.0",
      "model_name": "HTMLModel",
      "state": {
       "layout": "IPY_MODEL_eef31b06694640f59045858bf5bf5125",
       "style": "IPY_MODEL_5c0cf681378f40178a9c5af82d4a3893",
       "value": "COVID: 100%"
      }
     },
     "3972f0f3c6eb406f987abd32e06e09ce": {
      "model_module": "@jupyter-widgets/base",
      "model_module_version": "1.2.0",
      "model_name": "LayoutModel",
      "state": {}
     },
     "398351fc1bcc40bfb0a907ed90805420": {
      "model_module": "@jupyter-widgets/base",
      "model_module_version": "1.2.0",
      "model_name": "LayoutModel",
      "state": {}
     },
     "3992ac0a33db45d3bad5d4ae7d515e5b": {
      "model_module": "@jupyter-widgets/base",
      "model_module_version": "1.2.0",
      "model_name": "LayoutModel",
      "state": {}
     },
     "39e7a488d2ba42af89b68697224cb21c": {
      "model_module": "@jupyter-widgets/base",
      "model_module_version": "1.2.0",
      "model_name": "LayoutModel",
      "state": {}
     },
     "3a306d35a0d548a08c50401ec9445af9": {
      "model_module": "@jupyter-widgets/controls",
      "model_module_version": "1.5.0",
      "model_name": "DescriptionStyleModel",
      "state": {
       "description_width": ""
      }
     },
     "3a5a48c40fdc428aa960b12eb3ec2bd0": {
      "model_module": "@jupyter-widgets/controls",
      "model_module_version": "1.5.0",
      "model_name": "ProgressStyleModel",
      "state": {
       "description_width": ""
      }
     },
     "3a85c494e8eb427eb445773d63db259f": {
      "model_module": "@jupyter-widgets/controls",
      "model_module_version": "1.5.0",
      "model_name": "DescriptionStyleModel",
      "state": {
       "description_width": ""
      }
     },
     "3ac529cc0e5b41b297b6b67a6924e21a": {
      "model_module": "@jupyter-widgets/base",
      "model_module_version": "1.2.0",
      "model_name": "LayoutModel",
      "state": {}
     },
     "3affa26377c94761bdf949ee2e3b2c7d": {
      "model_module": "@jupyter-widgets/controls",
      "model_module_version": "1.5.0",
      "model_name": "DescriptionStyleModel",
      "state": {
       "description_width": ""
      }
     },
     "3b007389c73d4ae68f36d497d31d42ee": {
      "model_module": "@jupyter-widgets/controls",
      "model_module_version": "1.5.0",
      "model_name": "FloatProgressModel",
      "state": {
       "bar_style": "success",
       "layout": "IPY_MODEL_fa1af409b8e9480e82e73e4a55c90af4",
       "max": 4,
       "style": "IPY_MODEL_c46121402c4c42878fded731ca9677a0",
       "value": 4
      }
     },
     "3b744ddfbfc84f279e3fc75dddbbfff8": {
      "model_module": "@jupyter-widgets/base",
      "model_module_version": "1.2.0",
      "model_name": "LayoutModel",
      "state": {}
     },
     "3b8313ec27584438813b9b409a6eb79d": {
      "model_module": "@jupyter-widgets/base",
      "model_module_version": "1.2.0",
      "model_name": "LayoutModel",
      "state": {}
     },
     "3b8ffa0070c1466b8757353ff96739ba": {
      "model_module": "@jupyter-widgets/controls",
      "model_module_version": "1.5.0",
      "model_name": "HTMLModel",
      "state": {
       "layout": "IPY_MODEL_8c559f2eb78c4678b3a06c1defd6383b",
       "style": "IPY_MODEL_86cdf2efea3645c5b7850e9fcdb7ee74",
       "value": "DATASETS: 100%"
      }
     },
     "3b9c505c426e462c8e57898328d4cb8c": {
      "model_module": "@jupyter-widgets/base",
      "model_module_version": "1.2.0",
      "model_name": "LayoutModel",
      "state": {}
     },
     "3b9f01b3e7a842ed866b8e84ea68e826": {
      "model_module": "@jupyter-widgets/controls",
      "model_module_version": "1.5.0",
      "model_name": "DescriptionStyleModel",
      "state": {
       "description_width": ""
      }
     },
     "3bc03fe8933c4a31ae66838836aa89bc": {
      "model_module": "@jupyter-widgets/controls",
      "model_module_version": "1.5.0",
      "model_name": "FloatProgressModel",
      "state": {
       "bar_style": "success",
       "layout": "IPY_MODEL_6cce5e89867641649a026718878233b0",
       "max": 4,
       "style": "IPY_MODEL_8f4bc6123c95469e87b050359f1ba3cf",
       "value": 4
      }
     },
     "3becf0eea887454f9a35a6628aecfe5e": {
      "model_module": "@jupyter-widgets/controls",
      "model_module_version": "1.5.0",
      "model_name": "ProgressStyleModel",
      "state": {
       "description_width": ""
      }
     },
     "3bf83cd148a84e42a70f1d97f2a8bb5d": {
      "model_module": "@jupyter-widgets/controls",
      "model_module_version": "1.5.0",
      "model_name": "DescriptionStyleModel",
      "state": {
       "description_width": ""
      }
     },
     "3c261a6ad52a495dbaa5cc407c719954": {
      "model_module": "@jupyter-widgets/controls",
      "model_module_version": "1.5.0",
      "model_name": "ProgressStyleModel",
      "state": {
       "description_width": ""
      }
     },
     "3c416b6fd98f401f809d8324afbbac7c": {
      "model_module": "@jupyter-widgets/controls",
      "model_module_version": "1.5.0",
      "model_name": "ProgressStyleModel",
      "state": {
       "description_width": ""
      }
     },
     "3c4a11fd53b44673afda5b8cb0ab1698": {
      "model_module": "@jupyter-widgets/base",
      "model_module_version": "1.2.0",
      "model_name": "LayoutModel",
      "state": {}
     },
     "3c540974f423491491550c62cec35283": {
      "model_module": "@jupyter-widgets/controls",
      "model_module_version": "1.5.0",
      "model_name": "DescriptionStyleModel",
      "state": {
       "description_width": ""
      }
     },
     "3c581d0aa10940379bf1df08da78aea4": {
      "model_module": "@jupyter-widgets/base",
      "model_module_version": "1.2.0",
      "model_name": "LayoutModel",
      "state": {}
     },
     "3cc034d5692b4e41b624d0e18698a974": {
      "model_module": "@jupyter-widgets/base",
      "model_module_version": "1.2.0",
      "model_name": "LayoutModel",
      "state": {}
     },
     "3cfed32fdc114c6bbea4462c7367ffef": {
      "model_module": "@jupyter-widgets/controls",
      "model_module_version": "1.5.0",
      "model_name": "DescriptionStyleModel",
      "state": {
       "description_width": ""
      }
     },
     "3d1649c7437241d7ba8432a77765414a": {
      "model_module": "@jupyter-widgets/base",
      "model_module_version": "1.2.0",
      "model_name": "LayoutModel",
      "state": {}
     },
     "3d1978ccf6414ef1a3ba85c1d5121724": {
      "model_module": "@jupyter-widgets/base",
      "model_module_version": "1.2.0",
      "model_name": "LayoutModel",
      "state": {}
     },
     "3d2bd8fe40824601b408429b4798ef76": {
      "model_module": "@jupyter-widgets/base",
      "model_module_version": "1.2.0",
      "model_name": "LayoutModel",
      "state": {}
     },
     "3d37733607b447489d27391f31d1b910": {
      "model_module": "@jupyter-widgets/base",
      "model_module_version": "1.2.0",
      "model_name": "LayoutModel",
      "state": {}
     },
     "3d3f549bb70f486c88ba4c04e551a795": {
      "model_module": "@jupyter-widgets/base",
      "model_module_version": "1.2.0",
      "model_name": "LayoutModel",
      "state": {}
     },
     "3d5efcfa322843bd938b4d096ea6c0ac": {
      "model_module": "@jupyter-widgets/controls",
      "model_module_version": "1.5.0",
      "model_name": "HBoxModel",
      "state": {
       "children": [
        "IPY_MODEL_e4d5cc54db9d45a6be07769ce8174936",
        "IPY_MODEL_feecea0c34b14c129835c1d2b3a18b73",
        "IPY_MODEL_155db9115f7749a89a2c4be2d432a272"
       ],
       "layout": "IPY_MODEL_cebf9daf52444a57888be23a41a81e19"
      }
     },
     "3dad4e2d2ffe46af91e6465d059cdcf5": {
      "model_module": "@jupyter-widgets/controls",
      "model_module_version": "1.5.0",
      "model_name": "FloatProgressModel",
      "state": {
       "bar_style": "success",
       "layout": "IPY_MODEL_a1bee7d380814862b3296b301092e66e",
       "max": 4,
       "style": "IPY_MODEL_3c261a6ad52a495dbaa5cc407c719954",
       "value": 4
      }
     },
     "3dbb13625cf34d0aa24372ab273bb598": {
      "model_module": "@jupyter-widgets/base",
      "model_module_version": "1.2.0",
      "model_name": "LayoutModel",
      "state": {}
     },
     "3dc8646ed4d046dfaa7d60bc5bf14430": {
      "model_module": "@jupyter-widgets/controls",
      "model_module_version": "1.5.0",
      "model_name": "HTMLModel",
      "state": {
       "layout": "IPY_MODEL_5ba8465211404fb5be4c1eab5f5c03a7",
       "style": "IPY_MODEL_124d43ef51bc4e6280c809d027987b91",
       "value": "COVID: 100%"
      }
     },
     "3dcd83f0bfd34961af7a6b4933ebeda7": {
      "model_module": "@jupyter-widgets/base",
      "model_module_version": "1.2.0",
      "model_name": "LayoutModel",
      "state": {}
     },
     "3e07bdc53d8a47b081cd52d24dee7c18": {
      "model_module": "@jupyter-widgets/base",
      "model_module_version": "1.2.0",
      "model_name": "LayoutModel",
      "state": {}
     },
     "3e4e934fad5a454e8472a89fb29f8ab4": {
      "model_module": "@jupyter-widgets/base",
      "model_module_version": "1.2.0",
      "model_name": "LayoutModel",
      "state": {}
     },
     "3eaa2ccb9f8f44e68ef3f74b737eec9f": {
      "model_module": "@jupyter-widgets/base",
      "model_module_version": "1.2.0",
      "model_name": "LayoutModel",
      "state": {}
     },
     "3ef54568a4544aeda88a82ac38edbfbd": {
      "model_module": "@jupyter-widgets/controls",
      "model_module_version": "1.5.0",
      "model_name": "FloatProgressModel",
      "state": {
       "bar_style": "success",
       "layout": "IPY_MODEL_60989c4b965145fd86658da97255b8dd",
       "max": 4,
       "style": "IPY_MODEL_ff83be63921c4993abd64fb7396e9958",
       "value": 4
      }
     },
     "3f0c914568a541518d9a5796d045f0d8": {
      "model_module": "@jupyter-widgets/base",
      "model_module_version": "1.2.0",
      "model_name": "LayoutModel",
      "state": {}
     },
     "3f0cc9e39d544128808e9671186f2aaa": {
      "model_module": "@jupyter-widgets/controls",
      "model_module_version": "1.5.0",
      "model_name": "ProgressStyleModel",
      "state": {
       "description_width": ""
      }
     },
     "3f29951178d74b8d91bc72f1071493ad": {
      "model_module": "@jupyter-widgets/controls",
      "model_module_version": "1.5.0",
      "model_name": "HTMLModel",
      "state": {
       "layout": "IPY_MODEL_5734200596b44b20959a645f37e1627d",
       "style": "IPY_MODEL_813f71c891804e7fa2ec9ed4d2982b37",
       "value": " 4/4 [00:00&lt;00:00, 29.43it/s]"
      }
     },
     "3f333ead0df146d8922fc006d524e2a9": {
      "model_module": "@jupyter-widgets/controls",
      "model_module_version": "1.5.0",
      "model_name": "HTMLModel",
      "state": {
       "layout": "IPY_MODEL_df2c39b28b0342f6a8a24e1579f91ce8",
       "style": "IPY_MODEL_36e097280e3740c580d04020d7a52c85",
       "value": "NORMAL: 100%"
      }
     },
     "3f65b31ea8e54ee881b45aaa0179946b": {
      "model_module": "@jupyter-widgets/base",
      "model_module_version": "1.2.0",
      "model_name": "LayoutModel",
      "state": {}
     },
     "3f7c929ee9e24ccbb0e417d99bd1a470": {
      "model_module": "@jupyter-widgets/controls",
      "model_module_version": "1.5.0",
      "model_name": "HTMLModel",
      "state": {
       "layout": "IPY_MODEL_be5f624d938848e1acc07c3ce01b9951",
       "style": "IPY_MODEL_fd0f0f7e0bad46a2a513f2db58274f2b",
       "value": "DATASETS: 100%"
      }
     },
     "3f8a3ad848a941ff8380f0dce5de9981": {
      "model_module": "@jupyter-widgets/controls",
      "model_module_version": "1.5.0",
      "model_name": "HBoxModel",
      "state": {
       "children": [
        "IPY_MODEL_3630095be2834d7d92c130ce42378b8d",
        "IPY_MODEL_14d1ed3ea34943d2883c878cc4818b72",
        "IPY_MODEL_20251fff22f04a4fbcba8e90e6ce6ef5"
       ],
       "layout": "IPY_MODEL_29d06797d8164302979c17d6c1393735"
      }
     },
     "3f997cb349c64aac82b04829331cd1a4": {
      "model_module": "@jupyter-widgets/controls",
      "model_module_version": "1.5.0",
      "model_name": "DescriptionStyleModel",
      "state": {
       "description_width": ""
      }
     },
     "3fb22a30fd54450da0be24eb441aa76e": {
      "model_module": "@jupyter-widgets/controls",
      "model_module_version": "1.5.0",
      "model_name": "DescriptionStyleModel",
      "state": {
       "description_width": ""
      }
     },
     "3fd3c9744a3c478f847e87b255ef0ba3": {
      "model_module": "@jupyter-widgets/controls",
      "model_module_version": "1.5.0",
      "model_name": "ProgressStyleModel",
      "state": {
       "description_width": ""
      }
     },
     "3fd643c103c2448e8c1dcfb9b3ad0fcd": {
      "model_module": "@jupyter-widgets/controls",
      "model_module_version": "1.5.0",
      "model_name": "HTMLModel",
      "state": {
       "layout": "IPY_MODEL_163b0cd13f944710930628dc36a12b9c",
       "style": "IPY_MODEL_458a4850fedd40af8880f0bd1639bd4f",
       "value": " 1200/1200 [00:03&lt;00:00, 317.15it/s]"
      }
     },
     "3ff6da90d8b0421f9e5064404519a233": {
      "model_module": "@jupyter-widgets/base",
      "model_module_version": "1.2.0",
      "model_name": "LayoutModel",
      "state": {}
     },
     "3ffc0b614de84ed5a7404ce4353863cd": {
      "model_module": "@jupyter-widgets/base",
      "model_module_version": "1.2.0",
      "model_name": "LayoutModel",
      "state": {}
     },
     "402c7e5eb2024df3b5e0523c624b27ac": {
      "model_module": "@jupyter-widgets/base",
      "model_module_version": "1.2.0",
      "model_name": "LayoutModel",
      "state": {}
     },
     "4048026b74504c7aa8ebd31c34eee2bb": {
      "model_module": "@jupyter-widgets/base",
      "model_module_version": "1.2.0",
      "model_name": "LayoutModel",
      "state": {}
     },
     "404a2190b2d14556864f531422458857": {
      "model_module": "@jupyter-widgets/controls",
      "model_module_version": "1.5.0",
      "model_name": "HTMLModel",
      "state": {
       "layout": "IPY_MODEL_32da56bc132141cb94e860821078f859",
       "style": "IPY_MODEL_f46d32d5d5884d6486cc3b8fbd93ba5b",
       "value": " 4/4 [00:00&lt;00:00, 38.91it/s]"
      }
     },
     "404ff0e0efeb4cea9f0243ddd8301fe3": {
      "model_module": "@jupyter-widgets/controls",
      "model_module_version": "1.5.0",
      "model_name": "HBoxModel",
      "state": {
       "children": [
        "IPY_MODEL_bad0239b2ffa485fb687f2b5fb1b78c1",
        "IPY_MODEL_f74e53fd2cc5435db8cff69d4fdcc277",
        "IPY_MODEL_e9db41c54e44412ea3a81c6c2ef854d0"
       ],
       "layout": "IPY_MODEL_72cb90e765ac4441832d2fdd2b0b9224"
      }
     },
     "40521c47787b4ebcb86e2d91400f823a": {
      "model_module": "@jupyter-widgets/controls",
      "model_module_version": "1.5.0",
      "model_name": "HTMLModel",
      "state": {
       "layout": "IPY_MODEL_0dc19d6bc1ab4407948be802444e068f",
       "style": "IPY_MODEL_507a126033e74817a1c191602434d292",
       "value": " 4/4 [00:00&lt;00:00, 34.67it/s]"
      }
     },
     "411651123ab84837b830e5573fc4c966": {
      "model_module": "@jupyter-widgets/base",
      "model_module_version": "1.2.0",
      "model_name": "LayoutModel",
      "state": {}
     },
     "41932a40bd1844d98b2d2fabde0a06e7": {
      "model_module": "@jupyter-widgets/base",
      "model_module_version": "1.2.0",
      "model_name": "LayoutModel",
      "state": {}
     },
     "41beb909076e4a4ab49fb8c146bf9f64": {
      "model_module": "@jupyter-widgets/base",
      "model_module_version": "1.2.0",
      "model_name": "LayoutModel",
      "state": {}
     },
     "41c57a776f134c8198f6bd5d266ca7db": {
      "model_module": "@jupyter-widgets/controls",
      "model_module_version": "1.5.0",
      "model_name": "HBoxModel",
      "state": {
       "children": [
        "IPY_MODEL_7b57e1b515e34e5790b71cdf6a35083e",
        "IPY_MODEL_ca184301b4004d2c883e2a786bd56554",
        "IPY_MODEL_858702133b974707abc6347f73c966e1"
       ],
       "layout": "IPY_MODEL_809f440c12f34d6d93ce114703398966"
      }
     },
     "41cf9e509ee34e7d860f01cd9e17f0b2": {
      "model_module": "@jupyter-widgets/controls",
      "model_module_version": "1.5.0",
      "model_name": "HTMLModel",
      "state": {
       "layout": "IPY_MODEL_b931648ab97a4b9699de11d0160ee868",
       "style": "IPY_MODEL_44bf445499fe45359c8b3a97c0a17a74",
       "value": " 3/3 [00:00&lt;00:00,  8.17it/s]"
      }
     },
     "41d9ff91dbdd47a7bcbc9e08d585bcb8": {
      "model_module": "@jupyter-widgets/controls",
      "model_module_version": "1.5.0",
      "model_name": "HTMLModel",
      "state": {
       "layout": "IPY_MODEL_2400cded450b417fbe214164e972d9d0",
       "style": "IPY_MODEL_61ec6effea7b4573956fd367d87b3449",
       "value": " 4/4 [00:00&lt;00:00, 40.74it/s]"
      }
     },
     "41e60d2f8f904e6a9af310e0e4804608": {
      "model_module": "@jupyter-widgets/base",
      "model_module_version": "1.2.0",
      "model_name": "LayoutModel",
      "state": {}
     },
     "41e9ddf82db542a4b7afe5b137c3d3e2": {
      "model_module": "@jupyter-widgets/base",
      "model_module_version": "1.2.0",
      "model_name": "LayoutModel",
      "state": {}
     },
     "421ed56d267c46b196956b1b41281b44": {
      "model_module": "@jupyter-widgets/controls",
      "model_module_version": "1.5.0",
      "model_name": "HTMLModel",
      "state": {
       "layout": "IPY_MODEL_5cadc6b41b924927a6327b32645ecf72",
       "style": "IPY_MODEL_10b3f5dbe039483688d42ea301b111b4",
       "value": " 4/4 [00:00&lt;00:00, 73.85it/s]"
      }
     },
     "4239895ea07743d986536853a04bf42c": {
      "model_module": "@jupyter-widgets/base",
      "model_module_version": "1.2.0",
      "model_name": "LayoutModel",
      "state": {}
     },
     "423fc985b1f14c5581fdd6081b823256": {
      "model_module": "@jupyter-widgets/base",
      "model_module_version": "1.2.0",
      "model_name": "LayoutModel",
      "state": {}
     },
     "424b4cd236844079b6e0c19b595e71b5": {
      "model_module": "@jupyter-widgets/controls",
      "model_module_version": "1.5.0",
      "model_name": "HTMLModel",
      "state": {
       "layout": "IPY_MODEL_deb1c8ac9c0e4821a6cdd28265ba6656",
       "style": "IPY_MODEL_3b9f01b3e7a842ed866b8e84ea68e826",
       "value": "NORMAL: 100%"
      }
     },
     "424ec702abce4030a0972177196fd60c": {
      "model_module": "@jupyter-widgets/base",
      "model_module_version": "1.2.0",
      "model_name": "LayoutModel",
      "state": {}
     },
     "425139241ecf4780ac1a76cc2602e56c": {
      "model_module": "@jupyter-widgets/controls",
      "model_module_version": "1.5.0",
      "model_name": "HTMLModel",
      "state": {
       "layout": "IPY_MODEL_c85870f12bf3454d86b79d55f38fa5ba",
       "style": "IPY_MODEL_c9fca83776104b7a92d4257bc7df57eb",
       "value": "NORMAL: 100%"
      }
     },
     "42540a769c574cdfadee211696deb3c7": {
      "model_module": "@jupyter-widgets/controls",
      "model_module_version": "1.5.0",
      "model_name": "DescriptionStyleModel",
      "state": {
       "description_width": ""
      }
     },
     "425a1b40f4c844579a8bfb2e58860cc2": {
      "model_module": "@jupyter-widgets/controls",
      "model_module_version": "1.5.0",
      "model_name": "ProgressStyleModel",
      "state": {
       "description_width": ""
      }
     },
     "42d13bd3cf0044198e81bd6ead5307b7": {
      "model_module": "@jupyter-widgets/controls",
      "model_module_version": "1.5.0",
      "model_name": "DescriptionStyleModel",
      "state": {
       "description_width": ""
      }
     },
     "42d3dda30904455d91bfbafb4ee4f595": {
      "model_module": "@jupyter-widgets/base",
      "model_module_version": "1.2.0",
      "model_name": "LayoutModel",
      "state": {}
     },
     "42daa1a099414e909fac881c83c05213": {
      "model_module": "@jupyter-widgets/controls",
      "model_module_version": "1.5.0",
      "model_name": "HBoxModel",
      "state": {
       "children": [
        "IPY_MODEL_01e38da1dc094f9bbbfe202f0ec5d28b",
        "IPY_MODEL_58ba970c87c64082871aebb35937eb51",
        "IPY_MODEL_ba50468eb2ad427e97b247dbb96d0882"
       ],
       "layout": "IPY_MODEL_772e51b0baa44e28bb1115bde999f8b3"
      }
     },
     "42ec023506654ddc9e51c726fd4a3395": {
      "model_module": "@jupyter-widgets/controls",
      "model_module_version": "1.5.0",
      "model_name": "ProgressStyleModel",
      "state": {
       "description_width": ""
      }
     },
     "42fc27dd33dc45cf9e63388f23a7f3d5": {
      "model_module": "@jupyter-widgets/base",
      "model_module_version": "1.2.0",
      "model_name": "LayoutModel",
      "state": {}
     },
     "43046844742c443499a94f61abb70f08": {
      "model_module": "@jupyter-widgets/base",
      "model_module_version": "1.2.0",
      "model_name": "LayoutModel",
      "state": {}
     },
     "430b1384a7eb4405baaa148855316232": {
      "model_module": "@jupyter-widgets/controls",
      "model_module_version": "1.5.0",
      "model_name": "FloatProgressModel",
      "state": {
       "bar_style": "success",
       "layout": "IPY_MODEL_7f9d3b739ddb405db70cdeae23e3d713",
       "max": 4,
       "style": "IPY_MODEL_e58240823f82482eb9a251c2ea977b4f",
       "value": 4
      }
     },
     "43102e780f3148309881f38d058f2a0f": {
      "model_module": "@jupyter-widgets/base",
      "model_module_version": "1.2.0",
      "model_name": "LayoutModel",
      "state": {}
     },
     "4354eecdf1384a91b01f5c2f15447b5a": {
      "model_module": "@jupyter-widgets/controls",
      "model_module_version": "1.5.0",
      "model_name": "HBoxModel",
      "state": {
       "children": [
        "IPY_MODEL_10064ed7b8be4c72985d59517d635690",
        "IPY_MODEL_f7733ca0385d4d6dabdaaee9ea114967",
        "IPY_MODEL_b4a5c34df6714047b6ad267d39164bbf"
       ],
       "layout": "IPY_MODEL_8ef60fc56288427a9246e1a104c5ec1c"
      }
     },
     "43cf887678c54553a48f33da17b4def6": {
      "model_module": "@jupyter-widgets/base",
      "model_module_version": "1.2.0",
      "model_name": "LayoutModel",
      "state": {}
     },
     "43e143f5fdf04b468e4f722635714ab5": {
      "model_module": "@jupyter-widgets/controls",
      "model_module_version": "1.5.0",
      "model_name": "DescriptionStyleModel",
      "state": {
       "description_width": ""
      }
     },
     "43fe9727209e4fe3a8f40b19a9dc1620": {
      "model_module": "@jupyter-widgets/controls",
      "model_module_version": "1.5.0",
      "model_name": "HTMLModel",
      "state": {
       "layout": "IPY_MODEL_c26e3266b03d487d86b1f2745038e286",
       "style": "IPY_MODEL_a12488564c0d40a191b589f20b6b534b",
       "value": " 3/3 [00:00&lt;00:00,  9.16it/s]"
      }
     },
     "44208fd0a98840af822752736a360e7b": {
      "model_module": "@jupyter-widgets/base",
      "model_module_version": "1.2.0",
      "model_name": "LayoutModel",
      "state": {}
     },
     "44383bbb963641fca75be84d35759cc5": {
      "model_module": "@jupyter-widgets/controls",
      "model_module_version": "1.5.0",
      "model_name": "HTMLModel",
      "state": {
       "layout": "IPY_MODEL_2a706da278fc43048d7a56b4c210e752",
       "style": "IPY_MODEL_b62b78b856e3442789699ff601ee5efd",
       "value": " 3/3 [00:00&lt;00:00,  7.99it/s]"
      }
     },
     "4467015755d84ad9a6018f6d18dac192": {
      "model_module": "@jupyter-widgets/base",
      "model_module_version": "1.2.0",
      "model_name": "LayoutModel",
      "state": {}
     },
     "449221a8785844b5be88b2ccba93750e": {
      "model_module": "@jupyter-widgets/base",
      "model_module_version": "1.2.0",
      "model_name": "LayoutModel",
      "state": {}
     },
     "44b6c08575044a228a7de3ba239461bd": {
      "model_module": "@jupyter-widgets/controls",
      "model_module_version": "1.5.0",
      "model_name": "FloatProgressModel",
      "state": {
       "bar_style": "success",
       "layout": "IPY_MODEL_95853a2816c34ef0ac3147ce18d49a26",
       "max": 4,
       "style": "IPY_MODEL_7714302ca33f4216a2f699c501e7d1d9",
       "value": 4
      }
     },
     "44bf445499fe45359c8b3a97c0a17a74": {
      "model_module": "@jupyter-widgets/controls",
      "model_module_version": "1.5.0",
      "model_name": "DescriptionStyleModel",
      "state": {
       "description_width": ""
      }
     },
     "44fb63db131d44e19a785ea35c3e49c0": {
      "model_module": "@jupyter-widgets/base",
      "model_module_version": "1.2.0",
      "model_name": "LayoutModel",
      "state": {}
     },
     "456d96a5b2b44a0f94cd0a28152543a5": {
      "model_module": "@jupyter-widgets/controls",
      "model_module_version": "1.5.0",
      "model_name": "FloatProgressModel",
      "state": {
       "bar_style": "success",
       "layout": "IPY_MODEL_17704628285f47e58492a3df15785da1",
       "max": 4,
       "style": "IPY_MODEL_26e9f3ab705a4cea81b1274a78aaeede",
       "value": 4
      }
     },
     "4578435433c2452fac679d8b7c8bb61c": {
      "model_module": "@jupyter-widgets/controls",
      "model_module_version": "1.5.0",
      "model_name": "FloatProgressModel",
      "state": {
       "bar_style": "success",
       "layout": "IPY_MODEL_e0d4d587263d4e17a23bb8e721ecd7d4",
       "max": 1341,
       "style": "IPY_MODEL_64160d9c22be4301a7a9c56e065ee017",
       "value": 1341
      }
     },
     "458a4850fedd40af8880f0bd1639bd4f": {
      "model_module": "@jupyter-widgets/controls",
      "model_module_version": "1.5.0",
      "model_name": "DescriptionStyleModel",
      "state": {
       "description_width": ""
      }
     },
     "458b2c6d947241d5834a9ebe0c5b7234": {
      "model_module": "@jupyter-widgets/controls",
      "model_module_version": "1.5.0",
      "model_name": "DescriptionStyleModel",
      "state": {
       "description_width": ""
      }
     },
     "45c31533e13c46819ada59f2a5478eba": {
      "model_module": "@jupyter-widgets/base",
      "model_module_version": "1.2.0",
      "model_name": "LayoutModel",
      "state": {}
     },
     "45e8ab0642ec4ff29bfe36429415c818": {
      "model_module": "@jupyter-widgets/base",
      "model_module_version": "1.2.0",
      "model_name": "LayoutModel",
      "state": {}
     },
     "45ebebe220324e6cb536acc44c8fc590": {
      "model_module": "@jupyter-widgets/base",
      "model_module_version": "1.2.0",
      "model_name": "LayoutModel",
      "state": {}
     },
     "462040e1d6c94dc2b08691b6dd9195de": {
      "model_module": "@jupyter-widgets/controls",
      "model_module_version": "1.5.0",
      "model_name": "DescriptionStyleModel",
      "state": {
       "description_width": ""
      }
     },
     "4636abe940e743e99cc698bce5f3d9a3": {
      "model_module": "@jupyter-widgets/base",
      "model_module_version": "1.2.0",
      "model_name": "LayoutModel",
      "state": {}
     },
     "4677d8a9faef459c8b18f8522e844cb1": {
      "model_module": "@jupyter-widgets/base",
      "model_module_version": "1.2.0",
      "model_name": "LayoutModel",
      "state": {}
     },
     "4699cbed7c2d4cc8ba03e035d52a87a8": {
      "model_module": "@jupyter-widgets/controls",
      "model_module_version": "1.5.0",
      "model_name": "HBoxModel",
      "state": {
       "children": [
        "IPY_MODEL_9d8b6dd882dd4a52a9fda91bf0412582",
        "IPY_MODEL_f53756de23034c74aed418fa99b28eca",
        "IPY_MODEL_8a5efb5862684f4586bc5379d0805439"
       ],
       "layout": "IPY_MODEL_506847759c4d472f9d16711e6da2025a"
      }
     },
     "46e5ccab00e54c3a836141407be12cf7": {
      "model_module": "@jupyter-widgets/base",
      "model_module_version": "1.2.0",
      "model_name": "LayoutModel",
      "state": {}
     },
     "4716e226debb4186abc5c284c3201d2a": {
      "model_module": "@jupyter-widgets/base",
      "model_module_version": "1.2.0",
      "model_name": "LayoutModel",
      "state": {}
     },
     "47388a98de874e0482ac8f7e0560e26c": {
      "model_module": "@jupyter-widgets/controls",
      "model_module_version": "1.5.0",
      "model_name": "FloatProgressModel",
      "state": {
       "bar_style": "success",
       "layout": "IPY_MODEL_97e320630bc5491492aea95541816c2a",
       "max": 3,
       "style": "IPY_MODEL_afb32461155040a18c564ef6a666437a",
       "value": 3
      }
     },
     "474f5b6d08d849c488c42d4491448907": {
      "model_module": "@jupyter-widgets/controls",
      "model_module_version": "1.5.0",
      "model_name": "HBoxModel",
      "state": {
       "children": [
        "IPY_MODEL_3f333ead0df146d8922fc006d524e2a9",
        "IPY_MODEL_a1d9f06c5ac243f99a58bd676bbca196",
        "IPY_MODEL_4db91754fd1e4cec9c86ad39b9969f07"
       ],
       "layout": "IPY_MODEL_149e21cfa1aa41a3bb77deaeaf4a963d"
      }
     },
     "47634069adae468e8e67bd07f533114c": {
      "model_module": "@jupyter-widgets/controls",
      "model_module_version": "1.5.0",
      "model_name": "DescriptionStyleModel",
      "state": {
       "description_width": ""
      }
     },
     "47695acce0b04d668621c302ff7028c4": {
      "model_module": "@jupyter-widgets/controls",
      "model_module_version": "1.5.0",
      "model_name": "ProgressStyleModel",
      "state": {
       "description_width": ""
      }
     },
     "4769fef5845246c4a997579e5383c7a3": {
      "model_module": "@jupyter-widgets/controls",
      "model_module_version": "1.5.0",
      "model_name": "HTMLModel",
      "state": {
       "layout": "IPY_MODEL_210faf8063094bec90624562ab8060fd",
       "style": "IPY_MODEL_6331cf6e6bb9436fa026a76aaf29a2fd",
       "value": "VIRAL-PNEUMONIA: 100%"
      }
     },
     "477b1f2aef7b4c1dac3a8c313fe8ae40": {
      "model_module": "@jupyter-widgets/controls",
      "model_module_version": "1.5.0",
      "model_name": "ProgressStyleModel",
      "state": {
       "description_width": ""
      }
     },
     "478bffda914d4ac7b9345f3a73cda962": {
      "model_module": "@jupyter-widgets/controls",
      "model_module_version": "1.5.0",
      "model_name": "FloatProgressModel",
      "state": {
       "bar_style": "success",
       "layout": "IPY_MODEL_b7a5470476d44eaf9bba64988ae147ba",
       "max": 4,
       "style": "IPY_MODEL_4c1e4024ed334fba84c52f862e5d55fe",
       "value": 4
      }
     },
     "47c316f4146346ab896df361da87fad7": {
      "model_module": "@jupyter-widgets/controls",
      "model_module_version": "1.5.0",
      "model_name": "HTMLModel",
      "state": {
       "layout": "IPY_MODEL_14b0ca97ae5d40028d623a276b98d932",
       "style": "IPY_MODEL_fdacdc26b33345ca90acff3c598aa2c4",
       "value": "NORMAL: 100%"
      }
     },
     "47ce3343cb1a4e1c927bfef38990553f": {
      "model_module": "@jupyter-widgets/controls",
      "model_module_version": "1.5.0",
      "model_name": "FloatProgressModel",
      "state": {
       "bar_style": "success",
       "layout": "IPY_MODEL_37c0bbc7771045a084e7843fcb8f5385",
       "max": 3,
       "style": "IPY_MODEL_eacec8b142af4ad58c68bcefd387b2ba",
       "value": 3
      }
     },
     "48074b049bb34726a3678484664ca560": {
      "model_module": "@jupyter-widgets/controls",
      "model_module_version": "1.5.0",
      "model_name": "HBoxModel",
      "state": {
       "children": [
        "IPY_MODEL_5a015ce8ceeb4cc8ad6207ecea01ebb1",
        "IPY_MODEL_5baba32592df4104850156e9ffe181bf",
        "IPY_MODEL_b7d5c2cf90b34266a856efe34e7d5534"
       ],
       "layout": "IPY_MODEL_561723cf8e6a4135a226041fab3a4bbd"
      }
     },
     "483406c87ee24a32b35bd0283b95474e": {
      "model_module": "@jupyter-widgets/controls",
      "model_module_version": "1.5.0",
      "model_name": "FloatProgressModel",
      "state": {
       "bar_style": "success",
       "layout": "IPY_MODEL_790ab1d73883446fb49f0ce40da87a37",
       "max": 3,
       "style": "IPY_MODEL_e490a8c053fb468995524bf9e8824da5",
       "value": 3
      }
     },
     "4839eaa494154d05b2177114d06eaac2": {
      "model_module": "@jupyter-widgets/controls",
      "model_module_version": "1.5.0",
      "model_name": "HTMLModel",
      "state": {
       "layout": "IPY_MODEL_45e8ab0642ec4ff29bfe36429415c818",
       "style": "IPY_MODEL_323df0206ce345f89fe4032d4cb98918",
       "value": " 4/4 [00:00&lt;00:00, 36.84it/s]"
      }
     },
     "4840313e6e1e4142b06d43dd6e1f095e": {
      "model_module": "@jupyter-widgets/base",
      "model_module_version": "1.2.0",
      "model_name": "LayoutModel",
      "state": {}
     },
     "4853ea3d9e0d44a0967bf57584ebd57b": {
      "model_module": "@jupyter-widgets/base",
      "model_module_version": "1.2.0",
      "model_name": "LayoutModel",
      "state": {}
     },
     "487d0c97b33846b288f31c8a7fc24e27": {
      "model_module": "@jupyter-widgets/base",
      "model_module_version": "1.2.0",
      "model_name": "LayoutModel",
      "state": {}
     },
     "48abf9b59e5a4684b251e6a14160ce68": {
      "model_module": "@jupyter-widgets/controls",
      "model_module_version": "1.5.0",
      "model_name": "FloatProgressModel",
      "state": {
       "bar_style": "success",
       "layout": "IPY_MODEL_d54c5d3a78544355b420d668d2f5818d",
       "max": 4,
       "style": "IPY_MODEL_e0ff0bac7e934973a05ce5d7acae62a3",
       "value": 4
      }
     },
     "48dd7bc37d3644c591f833c83bad81d0": {
      "model_module": "@jupyter-widgets/controls",
      "model_module_version": "1.5.0",
      "model_name": "HBoxModel",
      "state": {
       "children": [
        "IPY_MODEL_ffed038f28e2486f8602fedcd7003f99",
        "IPY_MODEL_cd65e7823f3542059faeb7718a58427a",
        "IPY_MODEL_9225fe02fe594bc4b40ff402035d4e95"
       ],
       "layout": "IPY_MODEL_2237eee842244cc289061d5da9c06015"
      }
     },
     "48e6f675ba6c46ca8c76c79835978e59": {
      "model_module": "@jupyter-widgets/controls",
      "model_module_version": "1.5.0",
      "model_name": "FloatProgressModel",
      "state": {
       "bar_style": "success",
       "layout": "IPY_MODEL_6f2b73896ecb468bb040297c876829e6",
       "max": 4,
       "style": "IPY_MODEL_e546cc9e29b14697b3452c77ad991f73",
       "value": 4
      }
     },
     "48f14e6b1cf3428d88e975782dc2b01b": {
      "model_module": "@jupyter-widgets/base",
      "model_module_version": "1.2.0",
      "model_name": "LayoutModel",
      "state": {}
     },
     "49105ff60a96447ba3807e5b5325eaa2": {
      "model_module": "@jupyter-widgets/base",
      "model_module_version": "1.2.0",
      "model_name": "LayoutModel",
      "state": {}
     },
     "4949071ec6034c1798e8c1d848f5f0a9": {
      "model_module": "@jupyter-widgets/controls",
      "model_module_version": "1.5.0",
      "model_name": "DescriptionStyleModel",
      "state": {
       "description_width": ""
      }
     },
     "4971c6d38e924b2e91667056d0575f75": {
      "model_module": "@jupyter-widgets/base",
      "model_module_version": "1.2.0",
      "model_name": "LayoutModel",
      "state": {}
     },
     "499f301ea3634caf9ca1713893055fb3": {
      "model_module": "@jupyter-widgets/base",
      "model_module_version": "1.2.0",
      "model_name": "LayoutModel",
      "state": {}
     },
     "49a24dd6b3534ab48bdb5783bfcb6e93": {
      "model_module": "@jupyter-widgets/base",
      "model_module_version": "1.2.0",
      "model_name": "LayoutModel",
      "state": {}
     },
     "49eec55f552d4d28826a5e546496923a": {
      "model_module": "@jupyter-widgets/controls",
      "model_module_version": "1.5.0",
      "model_name": "DescriptionStyleModel",
      "state": {
       "description_width": ""
      }
     },
     "4a0eae7215794163ba65b617bb60b9a0": {
      "model_module": "@jupyter-widgets/base",
      "model_module_version": "1.2.0",
      "model_name": "LayoutModel",
      "state": {}
     },
     "4a3ca9f7c4f74c91adb8fa4c86c54242": {
      "model_module": "@jupyter-widgets/base",
      "model_module_version": "1.2.0",
      "model_name": "LayoutModel",
      "state": {}
     },
     "4a423053f7964c9caf725b46dc777003": {
      "model_module": "@jupyter-widgets/controls",
      "model_module_version": "1.5.0",
      "model_name": "HTMLModel",
      "state": {
       "layout": "IPY_MODEL_6e0f64901f574977ba8edde049d196b4",
       "style": "IPY_MODEL_2f489f6e593d43b3ad961e27c51fa55e",
       "value": "VIRAL-PNEUMONIA: 100%"
      }
     },
     "4a488b81005b48ef9d19b28a3ac490a2": {
      "model_module": "@jupyter-widgets/base",
      "model_module_version": "1.2.0",
      "model_name": "LayoutModel",
      "state": {}
     },
     "4a5e915fc645465c9046fbda0f59535a": {
      "model_module": "@jupyter-widgets/controls",
      "model_module_version": "1.5.0",
      "model_name": "DescriptionStyleModel",
      "state": {
       "description_width": ""
      }
     },
     "4a8594ead8a94f818652694267fcf165": {
      "model_module": "@jupyter-widgets/controls",
      "model_module_version": "1.5.0",
      "model_name": "HTMLModel",
      "state": {
       "layout": "IPY_MODEL_32a3d968f12b4735b53c5726482c935a",
       "style": "IPY_MODEL_dded3c4e81ef4c6cbf9c9de1d8a82c6b",
       "value": "VIRAL-PNEUMONIA: 100%"
      }
     },
     "4a9c36b13dc842b49c7894f4838ce8c1": {
      "model_module": "@jupyter-widgets/controls",
      "model_module_version": "1.5.0",
      "model_name": "HTMLModel",
      "state": {
       "layout": "IPY_MODEL_e100489a67b145579caacba553c4d440",
       "style": "IPY_MODEL_64870181c8564e439951fc22125aadf8",
       "value": " 4/4 [00:00&lt;00:00, 36.17it/s]"
      }
     },
     "4aaa3f6c40d44a568a08fd8227d063b1": {
      "model_module": "@jupyter-widgets/controls",
      "model_module_version": "1.5.0",
      "model_name": "HBoxModel",
      "state": {
       "children": [
        "IPY_MODEL_d7d1c0fe219743e9a6a7bb285519e2fb",
        "IPY_MODEL_913e7f24a05544c596723a6fb782ea2d",
        "IPY_MODEL_54fa57eacf7145ac9e1fd528443485a7"
       ],
       "layout": "IPY_MODEL_cd749c8350c04a0a986bb2db351ac677"
      }
     },
     "4aabd502e2974d0baf62d5e33c836da9": {
      "model_module": "@jupyter-widgets/controls",
      "model_module_version": "1.5.0",
      "model_name": "FloatProgressModel",
      "state": {
       "bar_style": "success",
       "layout": "IPY_MODEL_b027417e7136413da802542a6c923ba2",
       "max": 3,
       "style": "IPY_MODEL_106959ba7237426db59ff8865abae825",
       "value": 3
      }
     },
     "4ab1be90e3f04cd7848637e16f1deca3": {
      "model_module": "@jupyter-widgets/controls",
      "model_module_version": "1.5.0",
      "model_name": "HTMLModel",
      "state": {
       "layout": "IPY_MODEL_07ab15f51a4f4c228b3869688dbb1820",
       "style": "IPY_MODEL_234265d4fd3d4212944d13d8971bfbc1",
       "value": "DATASETS: 100%"
      }
     },
     "4adddfbe566d45e1bd0b4dd7e11f89c9": {
      "model_module": "@jupyter-widgets/base",
      "model_module_version": "1.2.0",
      "model_name": "LayoutModel",
      "state": {}
     },
     "4af02e5440d24b94ae72fc703786feda": {
      "model_module": "@jupyter-widgets/controls",
      "model_module_version": "1.5.0",
      "model_name": "HBoxModel",
      "state": {
       "children": [
        "IPY_MODEL_80a1cea3235e4d9eb90453436c2f2b5a",
        "IPY_MODEL_f6e44df2a25143cc8ec9cdbf834b8585",
        "IPY_MODEL_7e990ab1c0da4215876d0bc9c756018f"
       ],
       "layout": "IPY_MODEL_f6a763b9933645b2b8489a048db1d9cc"
      }
     },
     "4b1734d27a3f419b81c54239395635d7": {
      "model_module": "@jupyter-widgets/controls",
      "model_module_version": "1.5.0",
      "model_name": "HTMLModel",
      "state": {
       "layout": "IPY_MODEL_247692d0c6d142338044d5bed794d634",
       "style": "IPY_MODEL_b42a840cb21a4b95a181716f93cce9b2",
       "value": "VIRAL-PNEUMONIA: 100%"
      }
     },
     "4b1e21135ead41b79676b8fd27b04e37": {
      "model_module": "@jupyter-widgets/controls",
      "model_module_version": "1.5.0",
      "model_name": "DescriptionStyleModel",
      "state": {
       "description_width": ""
      }
     },
     "4b5b8392121942238eea76fb048f2495": {
      "model_module": "@jupyter-widgets/controls",
      "model_module_version": "1.5.0",
      "model_name": "DescriptionStyleModel",
      "state": {
       "description_width": ""
      }
     },
     "4b5d9e980e4b4134acbe10f7fdc2a647": {
      "model_module": "@jupyter-widgets/controls",
      "model_module_version": "1.5.0",
      "model_name": "HBoxModel",
      "state": {
       "children": [
        "IPY_MODEL_4e00fac2e6b0411fbfe0ea509ea15201",
        "IPY_MODEL_95382d0812d54769bba0b62a9dcbd259",
        "IPY_MODEL_759457bf0e7941909e9a6dfab0a32688"
       ],
       "layout": "IPY_MODEL_5b91d330a2294b28bdf82a5ea27a0fa9"
      }
     },
     "4b893333839f4127875a7940e08ef814": {
      "model_module": "@jupyter-widgets/controls",
      "model_module_version": "1.5.0",
      "model_name": "HTMLModel",
      "state": {
       "layout": "IPY_MODEL_38595a8d0c6847c3878a687217ecb4cf",
       "style": "IPY_MODEL_78fca534c1f347e1b88536348195798e",
       "value": " 4/4 [00:00&lt;00:00, 28.84it/s]"
      }
     },
     "4babdfc5ccf844a2a9a81bc224a31fe0": {
      "model_module": "@jupyter-widgets/controls",
      "model_module_version": "1.5.0",
      "model_name": "DescriptionStyleModel",
      "state": {
       "description_width": ""
      }
     },
     "4bebbae1122742f390d7b70bffc1c509": {
      "model_module": "@jupyter-widgets/base",
      "model_module_version": "1.2.0",
      "model_name": "LayoutModel",
      "state": {}
     },
     "4bee73139e9843fa8259ede85772d491": {
      "model_module": "@jupyter-widgets/base",
      "model_module_version": "1.2.0",
      "model_name": "LayoutModel",
      "state": {}
     },
     "4bf2ccc7b83a4abc94f079c61954509f": {
      "model_module": "@jupyter-widgets/controls",
      "model_module_version": "1.5.0",
      "model_name": "DescriptionStyleModel",
      "state": {
       "description_width": ""
      }
     },
     "4c151406368340cb923f84ae4f36454e": {
      "model_module": "@jupyter-widgets/base",
      "model_module_version": "1.2.0",
      "model_name": "LayoutModel",
      "state": {}
     },
     "4c1cdb97330f4ac2a5f989fadd51f7e3": {
      "model_module": "@jupyter-widgets/base",
      "model_module_version": "1.2.0",
      "model_name": "LayoutModel",
      "state": {}
     },
     "4c1e4024ed334fba84c52f862e5d55fe": {
      "model_module": "@jupyter-widgets/controls",
      "model_module_version": "1.5.0",
      "model_name": "ProgressStyleModel",
      "state": {
       "description_width": ""
      }
     },
     "4c21311473cd455aa1ad55c1d19ea31d": {
      "model_module": "@jupyter-widgets/controls",
      "model_module_version": "1.5.0",
      "model_name": "HBoxModel",
      "state": {
       "children": [
        "IPY_MODEL_4fa85f2418f34a688de9417016c9a8dd",
        "IPY_MODEL_a6d9fa593d1d4e639aacf5de00fc3db9",
        "IPY_MODEL_863fcfe3ab4146359baee55a5d6b704b"
       ],
       "layout": "IPY_MODEL_8320fbe1779f45e6a2c3e502f4df3d0d"
      }
     },
     "4c2bf6edf8224f5fb1c4d79ac14fae3f": {
      "model_module": "@jupyter-widgets/base",
      "model_module_version": "1.2.0",
      "model_name": "LayoutModel",
      "state": {}
     },
     "4c43139709b44d8fb73890ec0a3b3a37": {
      "model_module": "@jupyter-widgets/controls",
      "model_module_version": "1.5.0",
      "model_name": "ProgressStyleModel",
      "state": {
       "description_width": ""
      }
     },
     "4c4e9385f1a64c068ba8d2ab0ecb65d8": {
      "model_module": "@jupyter-widgets/controls",
      "model_module_version": "1.5.0",
      "model_name": "ProgressStyleModel",
      "state": {
       "description_width": ""
      }
     },
     "4c6ac34e8c464734927c62822ba2f4cd": {
      "model_module": "@jupyter-widgets/controls",
      "model_module_version": "1.5.0",
      "model_name": "ProgressStyleModel",
      "state": {
       "description_width": ""
      }
     },
     "4c9126aaf3e340bcb4197bbc0f1e7775": {
      "model_module": "@jupyter-widgets/controls",
      "model_module_version": "1.5.0",
      "model_name": "DescriptionStyleModel",
      "state": {
       "description_width": ""
      }
     },
     "4c966539c21a4476851f63e9562d6911": {
      "model_module": "@jupyter-widgets/base",
      "model_module_version": "1.2.0",
      "model_name": "LayoutModel",
      "state": {}
     },
     "4c99732ec3ee4af787d365fdbf915fa1": {
      "model_module": "@jupyter-widgets/base",
      "model_module_version": "1.2.0",
      "model_name": "LayoutModel",
      "state": {}
     },
     "4ca2ed1c544a429994233de541f18292": {
      "model_module": "@jupyter-widgets/base",
      "model_module_version": "1.2.0",
      "model_name": "LayoutModel",
      "state": {}
     },
     "4cb571f7dad94636ba466e77595d10f7": {
      "model_module": "@jupyter-widgets/base",
      "model_module_version": "1.2.0",
      "model_name": "LayoutModel",
      "state": {}
     },
     "4cc4f592f371438599d3a413e02e397f": {
      "model_module": "@jupyter-widgets/base",
      "model_module_version": "1.2.0",
      "model_name": "LayoutModel",
      "state": {}
     },
     "4ceda29539a646f7aba880f1dfd232d5": {
      "model_module": "@jupyter-widgets/base",
      "model_module_version": "1.2.0",
      "model_name": "LayoutModel",
      "state": {}
     },
     "4d04692ef0ae46b68fccb0ccd80f943a": {
      "model_module": "@jupyter-widgets/base",
      "model_module_version": "1.2.0",
      "model_name": "LayoutModel",
      "state": {}
     },
     "4d2a610ab11042ba8fc954f10edd7942": {
      "model_module": "@jupyter-widgets/base",
      "model_module_version": "1.2.0",
      "model_name": "LayoutModel",
      "state": {}
     },
     "4d4504e5259e42329caf6e6c04fc9ce7": {
      "model_module": "@jupyter-widgets/base",
      "model_module_version": "1.2.0",
      "model_name": "LayoutModel",
      "state": {}
     },
     "4d9b622653694c16a7a4cf3cd4d97d6f": {
      "model_module": "@jupyter-widgets/controls",
      "model_module_version": "1.5.0",
      "model_name": "FloatProgressModel",
      "state": {
       "bar_style": "success",
       "layout": "IPY_MODEL_4f56bdf52de64a9a802192e64a6c15e0",
       "max": 4,
       "style": "IPY_MODEL_b9f65956c2594999a848328aaa30acb6",
       "value": 4
      }
     },
     "4d9d9ced29fe4ec69c88fa93d94d1152": {
      "model_module": "@jupyter-widgets/base",
      "model_module_version": "1.2.0",
      "model_name": "LayoutModel",
      "state": {}
     },
     "4db91754fd1e4cec9c86ad39b9969f07": {
      "model_module": "@jupyter-widgets/controls",
      "model_module_version": "1.5.0",
      "model_name": "HTMLModel",
      "state": {
       "layout": "IPY_MODEL_e9cba2473fd64a61a2d42fe417f407f4",
       "style": "IPY_MODEL_d95370b3d78549348629448b55e76cf3",
       "value": " 4/4 [00:00&lt;00:00, 37.41it/s]"
      }
     },
     "4dbb18909d5e42059b4e08d79f993a84": {
      "model_module": "@jupyter-widgets/controls",
      "model_module_version": "1.5.0",
      "model_name": "HBoxModel",
      "state": {
       "children": [
        "IPY_MODEL_6bded54d387c468d8b5afd5059b5fc20",
        "IPY_MODEL_fb28f716b2f64b6eb452ae2920c668c2",
        "IPY_MODEL_4e86d0ebd8e5446b9ecd45f88ff796ae"
       ],
       "layout": "IPY_MODEL_d81ed823b5744989934464b6f0ebec51"
      }
     },
     "4ddb5ac2fe3842a4bbca2833a309d20b": {
      "model_module": "@jupyter-widgets/controls",
      "model_module_version": "1.5.0",
      "model_name": "DescriptionStyleModel",
      "state": {
       "description_width": ""
      }
     },
     "4ddf91fc42b0437cbed5f5a116cfd0f0": {
      "model_module": "@jupyter-widgets/base",
      "model_module_version": "1.2.0",
      "model_name": "LayoutModel",
      "state": {}
     },
     "4e00fac2e6b0411fbfe0ea509ea15201": {
      "model_module": "@jupyter-widgets/controls",
      "model_module_version": "1.5.0",
      "model_name": "HTMLModel",
      "state": {
       "layout": "IPY_MODEL_c4e4531fb3d64078a395b65fd785288d",
       "style": "IPY_MODEL_2fc8112b78d7488bac963faf0331be78",
       "value": "NORMAL: 100%"
      }
     },
     "4e3e32804501458487d4f251a5e84369": {
      "model_module": "@jupyter-widgets/base",
      "model_module_version": "1.2.0",
      "model_name": "LayoutModel",
      "state": {}
     },
     "4e5bf2ec03d848b1ab90a5c2f35ad46d": {
      "model_module": "@jupyter-widgets/controls",
      "model_module_version": "1.5.0",
      "model_name": "DescriptionStyleModel",
      "state": {
       "description_width": ""
      }
     },
     "4e6e7dd7f8c94beebf921e4f0d06114c": {
      "model_module": "@jupyter-widgets/controls",
      "model_module_version": "1.5.0",
      "model_name": "HTMLModel",
      "state": {
       "layout": "IPY_MODEL_6664708550344198ba62b76aeee54241",
       "style": "IPY_MODEL_a7f9b432e0d14a1ba1ed1de6242a1a0e",
       "value": "DATASETS: 100%"
      }
     },
     "4e7cacf882b444fb990d9c19f654276c": {
      "model_module": "@jupyter-widgets/base",
      "model_module_version": "1.2.0",
      "model_name": "LayoutModel",
      "state": {}
     },
     "4e86d0ebd8e5446b9ecd45f88ff796ae": {
      "model_module": "@jupyter-widgets/controls",
      "model_module_version": "1.5.0",
      "model_name": "HTMLModel",
      "state": {
       "layout": "IPY_MODEL_61b25937fef24c8dacee96ee6e23bd1b",
       "style": "IPY_MODEL_819fe47439e24e9496c4a0f759ea31e2",
       "value": " 4/4 [00:00&lt;00:00, 35.61it/s]"
      }
     },
     "4eb059caa93944e9826da82883e5ebc1": {
      "model_module": "@jupyter-widgets/controls",
      "model_module_version": "1.5.0",
      "model_name": "HBoxModel",
      "state": {
       "children": [
        "IPY_MODEL_6bcaaf8340c44ecf92d53e13203ed4b9",
        "IPY_MODEL_c7dcc63f5bd1482fb64d59eab77059f9",
        "IPY_MODEL_1f66acda14cc4c2d84a9a8a12f417b5a"
       ],
       "layout": "IPY_MODEL_cdc37af7883049ee9290c4073ecbd901"
      }
     },
     "4ee3587ddb27447aae78ba4148af6415": {
      "model_module": "@jupyter-widgets/base",
      "model_module_version": "1.2.0",
      "model_name": "LayoutModel",
      "state": {}
     },
     "4ee3cfbd535c4c0a959b072254f7f166": {
      "model_module": "@jupyter-widgets/controls",
      "model_module_version": "1.5.0",
      "model_name": "FloatProgressModel",
      "state": {
       "bar_style": "success",
       "layout": "IPY_MODEL_bede4c21a358451ca622c27bcb419342",
       "max": 1345,
       "style": "IPY_MODEL_c3ce5d28d37d429291ac42fc0ff1547f",
       "value": 1345
      }
     },
     "4efcb547bcff4d569535f482b4ccdfdf": {
      "model_module": "@jupyter-widgets/base",
      "model_module_version": "1.2.0",
      "model_name": "LayoutModel",
      "state": {}
     },
     "4f56bdf52de64a9a802192e64a6c15e0": {
      "model_module": "@jupyter-widgets/base",
      "model_module_version": "1.2.0",
      "model_name": "LayoutModel",
      "state": {}
     },
     "4f7f83336612402e8f4aa6a92f9a72a2": {
      "model_module": "@jupyter-widgets/controls",
      "model_module_version": "1.5.0",
      "model_name": "FloatProgressModel",
      "state": {
       "bar_style": "success",
       "layout": "IPY_MODEL_fe3ca3731d384a4487f255d4857b7cbc",
       "max": 3,
       "style": "IPY_MODEL_88ec18337be54357ab163ff476829471",
       "value": 3
      }
     },
     "4f8d61dd41504a1491b1b0bb7952eb98": {
      "model_module": "@jupyter-widgets/controls",
      "model_module_version": "1.5.0",
      "model_name": "ProgressStyleModel",
      "state": {
       "description_width": ""
      }
     },
     "4fa85f2418f34a688de9417016c9a8dd": {
      "model_module": "@jupyter-widgets/controls",
      "model_module_version": "1.5.0",
      "model_name": "HTMLModel",
      "state": {
       "layout": "IPY_MODEL_4efcb547bcff4d569535f482b4ccdfdf",
       "style": "IPY_MODEL_8febe4bb0c5c4c658b34b09a3e527edd",
       "value": "NORMAL: 100%"
      }
     },
     "4fb6949ec8374bb0a86ede57a46494c1": {
      "model_module": "@jupyter-widgets/base",
      "model_module_version": "1.2.0",
      "model_name": "LayoutModel",
      "state": {}
     },
     "4feb735fd03941b7abf8d5c7194ae2c2": {
      "model_module": "@jupyter-widgets/controls",
      "model_module_version": "1.5.0",
      "model_name": "HTMLModel",
      "state": {
       "layout": "IPY_MODEL_4971c6d38e924b2e91667056d0575f75",
       "style": "IPY_MODEL_a3db8fb1bb4f420f860d2764090a1a5b",
       "value": " 4/4 [00:00&lt;00:00, 29.89it/s]"
      }
     },
     "4ff76d49a5b4485c97c9a1327b7d91ba": {
      "model_module": "@jupyter-widgets/controls",
      "model_module_version": "1.5.0",
      "model_name": "DescriptionStyleModel",
      "state": {
       "description_width": ""
      }
     },
     "5012b3df724147d88c35f78c578db68d": {
      "model_module": "@jupyter-widgets/base",
      "model_module_version": "1.2.0",
      "model_name": "LayoutModel",
      "state": {}
     },
     "50508e2ebc9241899f154bfc6a91832f": {
      "model_module": "@jupyter-widgets/base",
      "model_module_version": "1.2.0",
      "model_name": "LayoutModel",
      "state": {}
     },
     "506847759c4d472f9d16711e6da2025a": {
      "model_module": "@jupyter-widgets/base",
      "model_module_version": "1.2.0",
      "model_name": "LayoutModel",
      "state": {}
     },
     "50714600f61d4e808da93257423313ab": {
      "model_module": "@jupyter-widgets/controls",
      "model_module_version": "1.5.0",
      "model_name": "DescriptionStyleModel",
      "state": {
       "description_width": ""
      }
     },
     "5073cd288a5447d1bbf83e8a9daa0425": {
      "model_module": "@jupyter-widgets/controls",
      "model_module_version": "1.5.0",
      "model_name": "DescriptionStyleModel",
      "state": {
       "description_width": ""
      }
     },
     "5075e2df46394834970e7e9a3de51cf8": {
      "model_module": "@jupyter-widgets/controls",
      "model_module_version": "1.5.0",
      "model_name": "FloatProgressModel",
      "state": {
       "bar_style": "success",
       "layout": "IPY_MODEL_a7c68348ee1f480fb9e1b26f097d32c5",
       "max": 4,
       "style": "IPY_MODEL_fae951055fa44684b38ca981154c85c1",
       "value": 4
      }
     },
     "507a126033e74817a1c191602434d292": {
      "model_module": "@jupyter-widgets/controls",
      "model_module_version": "1.5.0",
      "model_name": "DescriptionStyleModel",
      "state": {
       "description_width": ""
      }
     },
     "5095f77aaee14c5fb0aabc5a22e9f4e9": {
      "model_module": "@jupyter-widgets/base",
      "model_module_version": "1.2.0",
      "model_name": "LayoutModel",
      "state": {}
     },
     "50addb411fc8401ba0db2fdb0f16e1eb": {
      "model_module": "@jupyter-widgets/controls",
      "model_module_version": "1.5.0",
      "model_name": "DescriptionStyleModel",
      "state": {
       "description_width": ""
      }
     },
     "50c01917f1804bbaa6788cfefa9599a0": {
      "model_module": "@jupyter-widgets/controls",
      "model_module_version": "1.5.0",
      "model_name": "DescriptionStyleModel",
      "state": {
       "description_width": ""
      }
     },
     "50caa9f2fea64419bb927bf467988057": {
      "model_module": "@jupyter-widgets/controls",
      "model_module_version": "1.5.0",
      "model_name": "FloatProgressModel",
      "state": {
       "bar_style": "success",
       "layout": "IPY_MODEL_affe7d667886414c9bdcb94870627aff",
       "max": 4,
       "style": "IPY_MODEL_a9114e0ca8c441d08ee926472b7ddde7",
       "value": 4
      }
     },
     "50f7f55e22b44d1999b2ff121c866c37": {
      "model_module": "@jupyter-widgets/base",
      "model_module_version": "1.2.0",
      "model_name": "LayoutModel",
      "state": {}
     },
     "51121961f93d46f992461ad24656d46d": {
      "model_module": "@jupyter-widgets/controls",
      "model_module_version": "1.5.0",
      "model_name": "FloatProgressModel",
      "state": {
       "bar_style": "success",
       "layout": "IPY_MODEL_31d0f0f61637462cb584d87a3f6a79b0",
       "max": 4,
       "style": "IPY_MODEL_ffec62e662704c2fba109a0d82b12041",
       "value": 4
      }
     },
     "512ab4bf71514df896a692c7aadcecd9": {
      "model_module": "@jupyter-widgets/controls",
      "model_module_version": "1.5.0",
      "model_name": "HBoxModel",
      "state": {
       "children": [
        "IPY_MODEL_dab57a92466e462fbc2d3261d630462d",
        "IPY_MODEL_cdc3a1e0e56643b4a6fc5be59fe4d8ed",
        "IPY_MODEL_e4385215d4d74367b822cf00d5b4a249"
       ],
       "layout": "IPY_MODEL_fe9b9d07db2c49a88206dc49504de67a"
      }
     },
     "51725654038843c2aa873af93dae1e0c": {
      "model_module": "@jupyter-widgets/controls",
      "model_module_version": "1.5.0",
      "model_name": "DescriptionStyleModel",
      "state": {
       "description_width": ""
      }
     },
     "517dfca4c57545b5bca9e2f6cee0b722": {
      "model_module": "@jupyter-widgets/controls",
      "model_module_version": "1.5.0",
      "model_name": "ProgressStyleModel",
      "state": {
       "description_width": ""
      }
     },
     "51bbc1f4efc64011bee9ccfc987c84dd": {
      "model_module": "@jupyter-widgets/controls",
      "model_module_version": "1.5.0",
      "model_name": "HTMLModel",
      "state": {
       "layout": "IPY_MODEL_1f786aa3315f4b17838dfb2d0c8111bd",
       "style": "IPY_MODEL_77e7d4aed2fe4c4a96f82e13f2dce83e",
       "value": "DATASETS: 100%"
      }
     },
     "521d8c8850a541ba8102cebf7f569acc": {
      "model_module": "@jupyter-widgets/controls",
      "model_module_version": "1.5.0",
      "model_name": "HBoxModel",
      "state": {
       "children": [
        "IPY_MODEL_bfe034b80a34456099feb7b831702339",
        "IPY_MODEL_1c4327271dd5414087524ff15525ce2c",
        "IPY_MODEL_bbd0fb3735494f0b9ae99a9164d70e5c"
       ],
       "layout": "IPY_MODEL_8992837c0a554796973e705235df1e34"
      }
     },
     "526d2d2021ee47ecbd1b04da21718f58": {
      "model_module": "@jupyter-widgets/base",
      "model_module_version": "1.2.0",
      "model_name": "LayoutModel",
      "state": {}
     },
     "526fdcc8e702403ca375c8ae6a9c958c": {
      "model_module": "@jupyter-widgets/base",
      "model_module_version": "1.2.0",
      "model_name": "LayoutModel",
      "state": {}
     },
     "527a23d107784669bb4309446127de65": {
      "model_module": "@jupyter-widgets/controls",
      "model_module_version": "1.5.0",
      "model_name": "HTMLModel",
      "state": {
       "layout": "IPY_MODEL_ac65032c401743739c4a84bdd8d1a371",
       "style": "IPY_MODEL_2e5acd8313a342b09dc337e22c679f6d",
       "value": " 4/4 [00:00&lt;00:00, 37.31it/s]"
      }
     },
     "528d1cfeb1dd4452a6c63e1c7de73d23": {
      "model_module": "@jupyter-widgets/base",
      "model_module_version": "1.2.0",
      "model_name": "LayoutModel",
      "state": {}
     },
     "5293992a723748258b1b6003d9672cdf": {
      "model_module": "@jupyter-widgets/base",
      "model_module_version": "1.2.0",
      "model_name": "LayoutModel",
      "state": {}
     },
     "52b10ddf772143c1a7497db30aa6f02f": {
      "model_module": "@jupyter-widgets/controls",
      "model_module_version": "1.5.0",
      "model_name": "ProgressStyleModel",
      "state": {
       "description_width": ""
      }
     },
     "52ef80139b92481480dffebb0f76dbfd": {
      "model_module": "@jupyter-widgets/base",
      "model_module_version": "1.2.0",
      "model_name": "LayoutModel",
      "state": {}
     },
     "5331fa0d491b4ea08192a0b566dd08dd": {
      "model_module": "@jupyter-widgets/base",
      "model_module_version": "1.2.0",
      "model_name": "LayoutModel",
      "state": {}
     },
     "53430b9e0659400e8deff38800adcf17": {
      "model_module": "@jupyter-widgets/controls",
      "model_module_version": "1.5.0",
      "model_name": "DescriptionStyleModel",
      "state": {
       "description_width": ""
      }
     },
     "53487a92e8a743cdb2319abfb559e959": {
      "model_module": "@jupyter-widgets/controls",
      "model_module_version": "1.5.0",
      "model_name": "HBoxModel",
      "state": {
       "children": [
        "IPY_MODEL_17c4d0b50a834bd2b8e311a146ecaebf",
        "IPY_MODEL_4d9b622653694c16a7a4cf3cd4d97d6f",
        "IPY_MODEL_c8207df18a104c79934fa7978047ef16"
       ],
       "layout": "IPY_MODEL_8fe1daddfff94854ac9c5bdc32dc1458"
      }
     },
     "53a1953bd0b94db38ca134e28b881b22": {
      "model_module": "@jupyter-widgets/controls",
      "model_module_version": "1.5.0",
      "model_name": "HTMLModel",
      "state": {
       "layout": "IPY_MODEL_d23d9563d3c34cae995dfdff371e4c40",
       "style": "IPY_MODEL_5f2482eb3edf483bb734bf0a96f7242d",
       "value": "DATASETS: 100%"
      }
     },
     "53a3518093d442f785658843819201ba": {
      "model_module": "@jupyter-widgets/controls",
      "model_module_version": "1.5.0",
      "model_name": "HTMLModel",
      "state": {
       "layout": "IPY_MODEL_4239895ea07743d986536853a04bf42c",
       "style": "IPY_MODEL_c0117a919ae444b1aa68a95b09cd5cc0",
       "value": "COVID: 100%"
      }
     },
     "53fd664b183f416a8cfbba2d9a63ae0c": {
      "model_module": "@jupyter-widgets/controls",
      "model_module_version": "1.5.0",
      "model_name": "DescriptionStyleModel",
      "state": {
       "description_width": ""
      }
     },
     "540b9cb95e88489e8d52ffecbb28e1cd": {
      "model_module": "@jupyter-widgets/controls",
      "model_module_version": "1.5.0",
      "model_name": "DescriptionStyleModel",
      "state": {
       "description_width": ""
      }
     },
     "5446a919cffa423bb5c3d06f30ab8e9b": {
      "model_module": "@jupyter-widgets/controls",
      "model_module_version": "1.5.0",
      "model_name": "HTMLModel",
      "state": {
       "layout": "IPY_MODEL_acfcc195657640af836969febdc1b980",
       "style": "IPY_MODEL_7541977d21a54d1b9b71b94c28813ba9",
       "value": "NORMAL: 100%"
      }
     },
     "544fd85eeb46430b9d8a4db10f5315ff": {
      "model_module": "@jupyter-widgets/base",
      "model_module_version": "1.2.0",
      "model_name": "LayoutModel",
      "state": {}
     },
     "54522f02667248bbab356247b5e1d27b": {
      "model_module": "@jupyter-widgets/controls",
      "model_module_version": "1.5.0",
      "model_name": "HTMLModel",
      "state": {
       "layout": "IPY_MODEL_f5184df6d90a4609b134fc52d805b1c7",
       "style": "IPY_MODEL_2ca22140913343b98d2c0fbbc1ab4aff",
       "value": " 1345/1345 [00:25&lt;00:00, 55.00it/s]"
      }
     },
     "545824f85f164bc19e729bb60326e4da": {
      "model_module": "@jupyter-widgets/base",
      "model_module_version": "1.2.0",
      "model_name": "LayoutModel",
      "state": {}
     },
     "54681090e7e2462db3e0eb1b7127e0ee": {
      "model_module": "@jupyter-widgets/base",
      "model_module_version": "1.2.0",
      "model_name": "LayoutModel",
      "state": {}
     },
     "54a3ba5503374535bb86b5d2a5cc2fee": {
      "model_module": "@jupyter-widgets/base",
      "model_module_version": "1.2.0",
      "model_name": "LayoutModel",
      "state": {}
     },
     "54ad9b8d0c1c4417b39154d5ca27b167": {
      "model_module": "@jupyter-widgets/controls",
      "model_module_version": "1.5.0",
      "model_name": "HBoxModel",
      "state": {
       "children": [
        "IPY_MODEL_0ea03c4c3dc14afd8ecda30c2ed396ba",
        "IPY_MODEL_86dfa2f50ab74337bd15747c0acdb558",
        "IPY_MODEL_87d8459e1d2443d4b86f5b69e770734b"
       ],
       "layout": "IPY_MODEL_a1870a2ce4ab46eb9aa3d528e2b9f1c3"
      }
     },
     "54af44ca5a9348e4ba93d747a5d24932": {
      "model_module": "@jupyter-widgets/controls",
      "model_module_version": "1.5.0",
      "model_name": "HBoxModel",
      "state": {
       "children": [
        "IPY_MODEL_9b407b8df50341efbc2d572d3dc758da",
        "IPY_MODEL_94fd72c7593f42ad9497ef7fdf796860",
        "IPY_MODEL_0883e4228c324155833fc6ae2b51b838"
       ],
       "layout": "IPY_MODEL_43102e780f3148309881f38d058f2a0f"
      }
     },
     "54b7c4c110ea47c6be24459e2406200f": {
      "model_module": "@jupyter-widgets/controls",
      "model_module_version": "1.5.0",
      "model_name": "DescriptionStyleModel",
      "state": {
       "description_width": ""
      }
     },
     "54df2d2ec8014e9f885c1dc053ea0ebf": {
      "model_module": "@jupyter-widgets/base",
      "model_module_version": "1.2.0",
      "model_name": "LayoutModel",
      "state": {}
     },
     "54fa57eacf7145ac9e1fd528443485a7": {
      "model_module": "@jupyter-widgets/controls",
      "model_module_version": "1.5.0",
      "model_name": "HTMLModel",
      "state": {
       "layout": "IPY_MODEL_15521435dbd441aea4090c2dda7fee1a",
       "style": "IPY_MODEL_c1fffee8f48b4824b9efb64606e7295a",
       "value": " 4/4 [00:00&lt;00:00, 108.36it/s]"
      }
     },
     "54fa8edb797e4ee8a057fa7841986258": {
      "model_module": "@jupyter-widgets/controls",
      "model_module_version": "1.5.0",
      "model_name": "ProgressStyleModel",
      "state": {
       "description_width": ""
      }
     },
     "5508b03f095f4becbe377174402bcd0d": {
      "model_module": "@jupyter-widgets/controls",
      "model_module_version": "1.5.0",
      "model_name": "HBoxModel",
      "state": {
       "children": [
        "IPY_MODEL_0a29fdef35464efba3b285d28dadf46d",
        "IPY_MODEL_2cea9dbe595047cb8b26623954f1742e",
        "IPY_MODEL_c5ffe0d5a7cf4c2c9446838c4beebd60"
       ],
       "layout": "IPY_MODEL_dcb1ef36eebd4ceda6fcdafd835adfad"
      }
     },
     "5558db043dbe4210a3913bf41c2235f2": {
      "model_module": "@jupyter-widgets/controls",
      "model_module_version": "1.5.0",
      "model_name": "DescriptionStyleModel",
      "state": {
       "description_width": ""
      }
     },
     "559ef60f1e5f424c903657537c740660": {
      "model_module": "@jupyter-widgets/controls",
      "model_module_version": "1.5.0",
      "model_name": "DescriptionStyleModel",
      "state": {
       "description_width": ""
      }
     },
     "55a1685b458d47f99d34a86b15d197b3": {
      "model_module": "@jupyter-widgets/base",
      "model_module_version": "1.2.0",
      "model_name": "LayoutModel",
      "state": {}
     },
     "55ab586ee43e430e99fade0165e91372": {
      "model_module": "@jupyter-widgets/controls",
      "model_module_version": "1.5.0",
      "model_name": "FloatProgressModel",
      "state": {
       "bar_style": "success",
       "layout": "IPY_MODEL_78ec973bf6d544d4acb3e93a948da1f0",
       "max": 4,
       "style": "IPY_MODEL_9794afe097a94fe19c7de8f619ebe655",
       "value": 4
      }
     },
     "55b08d3431334bb59ddd30668bdc2f56": {
      "model_module": "@jupyter-widgets/base",
      "model_module_version": "1.2.0",
      "model_name": "LayoutModel",
      "state": {}
     },
     "55cf4ee114604574be4c550b34809d9e": {
      "model_module": "@jupyter-widgets/base",
      "model_module_version": "1.2.0",
      "model_name": "LayoutModel",
      "state": {}
     },
     "55d576743a934a1fa95d6f8d9677b26c": {
      "model_module": "@jupyter-widgets/base",
      "model_module_version": "1.2.0",
      "model_name": "LayoutModel",
      "state": {}
     },
     "55d64a6ea40147e9b9d47c69a7082e13": {
      "model_module": "@jupyter-widgets/controls",
      "model_module_version": "1.5.0",
      "model_name": "HTMLModel",
      "state": {
       "layout": "IPY_MODEL_7753719574894125873418e75a94f6a6",
       "style": "IPY_MODEL_c8e2745dabe94e279e764dcb00bafc84",
       "value": "NORMAL: 100%"
      }
     },
     "55ead293b3d3491da3106691f130183c": {
      "model_module": "@jupyter-widgets/controls",
      "model_module_version": "1.5.0",
      "model_name": "DescriptionStyleModel",
      "state": {
       "description_width": ""
      }
     },
     "561723cf8e6a4135a226041fab3a4bbd": {
      "model_module": "@jupyter-widgets/base",
      "model_module_version": "1.2.0",
      "model_name": "LayoutModel",
      "state": {}
     },
     "56349a8b005f4646a7a982db57d1ccef": {
      "model_module": "@jupyter-widgets/base",
      "model_module_version": "1.2.0",
      "model_name": "LayoutModel",
      "state": {}
     },
     "56396588a0874f848ea42fd36ac6672c": {
      "model_module": "@jupyter-widgets/controls",
      "model_module_version": "1.5.0",
      "model_name": "ProgressStyleModel",
      "state": {
       "description_width": ""
      }
     },
     "566c2e06f6634636a29d80a62b8f43e5": {
      "model_module": "@jupyter-widgets/base",
      "model_module_version": "1.2.0",
      "model_name": "LayoutModel",
      "state": {}
     },
     "5694c27479164db28c9571834c14cafa": {
      "model_module": "@jupyter-widgets/base",
      "model_module_version": "1.2.0",
      "model_name": "LayoutModel",
      "state": {}
     },
     "56dd3bce169346e5a6569a65a2c3740b": {
      "model_module": "@jupyter-widgets/controls",
      "model_module_version": "1.5.0",
      "model_name": "DescriptionStyleModel",
      "state": {
       "description_width": ""
      }
     },
     "5734200596b44b20959a645f37e1627d": {
      "model_module": "@jupyter-widgets/base",
      "model_module_version": "1.2.0",
      "model_name": "LayoutModel",
      "state": {}
     },
     "575055340d6a448dab10d73f92fa099d": {
      "model_module": "@jupyter-widgets/base",
      "model_module_version": "1.2.0",
      "model_name": "LayoutModel",
      "state": {}
     },
     "5772b0c1e9f9482380808116026c74c7": {
      "model_module": "@jupyter-widgets/base",
      "model_module_version": "1.2.0",
      "model_name": "LayoutModel",
      "state": {}
     },
     "57a5c8193b6d4345b5c7d8cb25d01341": {
      "model_module": "@jupyter-widgets/base",
      "model_module_version": "1.2.0",
      "model_name": "LayoutModel",
      "state": {}
     },
     "57b75bc755de4eae98cabf2a6393a0c0": {
      "model_module": "@jupyter-widgets/controls",
      "model_module_version": "1.5.0",
      "model_name": "HTMLModel",
      "state": {
       "layout": "IPY_MODEL_ea9e10dbe26545e8a989c8f1f159d92c",
       "style": "IPY_MODEL_c29a0b603c0c4660872925b0cb3ee131",
       "value": " 3/3 [00:00&lt;00:00,  9.35it/s]"
      }
     },
     "57e52664eb2746ce8ef15e7aebb8b595": {
      "model_module": "@jupyter-widgets/controls",
      "model_module_version": "1.5.0",
      "model_name": "HTMLModel",
      "state": {
       "layout": "IPY_MODEL_4bebbae1122742f390d7b70bffc1c509",
       "style": "IPY_MODEL_fc35d0dc1ee84f54973d15f03acbebb9",
       "value": " 4/4 [00:00&lt;00:00, 28.18it/s]"
      }
     },
     "57e9ebaba7c64b94a7566aba985133c8": {
      "model_module": "@jupyter-widgets/base",
      "model_module_version": "1.2.0",
      "model_name": "LayoutModel",
      "state": {}
     },
     "580a5ac1ca5d4c41be062cef5d019755": {
      "model_module": "@jupyter-widgets/controls",
      "model_module_version": "1.5.0",
      "model_name": "HBoxModel",
      "state": {
       "children": [
        "IPY_MODEL_3b8ffa0070c1466b8757353ff96739ba",
        "IPY_MODEL_cca6a0ff813547fa8da2c48161343830",
        "IPY_MODEL_8656b7568f64403da6d7af583347c965"
       ],
       "layout": "IPY_MODEL_a47ef1fae0094d648585737cabcc4fad"
      }
     },
     "5810fbe543d64a4287f4bcf1a4dcc17a": {
      "model_module": "@jupyter-widgets/controls",
      "model_module_version": "1.5.0",
      "model_name": "FloatProgressModel",
      "state": {
       "bar_style": "success",
       "layout": "IPY_MODEL_e0dcdfa24f8348498f605f5c4c999444",
       "max": 4,
       "style": "IPY_MODEL_2572f05692dc462494a595adc11f6506",
       "value": 4
      }
     },
     "5852367237fa4d4c85891dd09677712a": {
      "model_module": "@jupyter-widgets/controls",
      "model_module_version": "1.5.0",
      "model_name": "HTMLModel",
      "state": {
       "layout": "IPY_MODEL_80aa445677c64355b14f53e18d89ecc7",
       "style": "IPY_MODEL_72befd74d40d46f2a8ef0b02ee983c67",
       "value": " 4/4 [00:00&lt;00:00, 28.99it/s]"
      }
     },
     "585471c71dec414d9e3ee193254900a1": {
      "model_module": "@jupyter-widgets/controls",
      "model_module_version": "1.5.0",
      "model_name": "DescriptionStyleModel",
      "state": {
       "description_width": ""
      }
     },
     "58778908a9654af2bc3e86cfbd3b36ab": {
      "model_module": "@jupyter-widgets/base",
      "model_module_version": "1.2.0",
      "model_name": "LayoutModel",
      "state": {}
     },
     "58af7ffe9cda4ec2b00c289e2c865fcd": {
      "model_module": "@jupyter-widgets/base",
      "model_module_version": "1.2.0",
      "model_name": "LayoutModel",
      "state": {}
     },
     "58ba970c87c64082871aebb35937eb51": {
      "model_module": "@jupyter-widgets/controls",
      "model_module_version": "1.5.0",
      "model_name": "FloatProgressModel",
      "state": {
       "bar_style": "success",
       "layout": "IPY_MODEL_0891fcaeb88f4618ba92f3fce8f0eff9",
       "max": 4,
       "style": "IPY_MODEL_6f92e12c11bc495894af32bbd4a32613",
       "value": 4
      }
     },
     "58c6de2198bb48c794c808f067199cc1": {
      "model_module": "@jupyter-widgets/controls",
      "model_module_version": "1.5.0",
      "model_name": "DescriptionStyleModel",
      "state": {
       "description_width": ""
      }
     },
     "58f5aa749afe4209a311257eff9a0f8f": {
      "model_module": "@jupyter-widgets/base",
      "model_module_version": "1.2.0",
      "model_name": "LayoutModel",
      "state": {}
     },
     "5908bbb860b146bca34f9e067e874314": {
      "model_module": "@jupyter-widgets/controls",
      "model_module_version": "1.5.0",
      "model_name": "HTMLModel",
      "state": {
       "layout": "IPY_MODEL_1cbd8d5421be4ffe940f4af36e5379d2",
       "style": "IPY_MODEL_ac44949e87aa480b9c69fef872c307f6",
       "value": " 4/4 [00:00&lt;00:00, 38.69it/s]"
      }
     },
     "5957a28e78e04de39f42abf9d9f3ee6f": {
      "model_module": "@jupyter-widgets/base",
      "model_module_version": "1.2.0",
      "model_name": "LayoutModel",
      "state": {}
     },
     "59601079231a4410b400e03c6d491296": {
      "model_module": "@jupyter-widgets/controls",
      "model_module_version": "1.5.0",
      "model_name": "DescriptionStyleModel",
      "state": {
       "description_width": ""
      }
     },
     "598765d30cce42a5b887ad87b119ead8": {
      "model_module": "@jupyter-widgets/controls",
      "model_module_version": "1.5.0",
      "model_name": "ProgressStyleModel",
      "state": {
       "description_width": ""
      }
     },
     "59a40a9e2c614c14bf1cf5c29d9cf260": {
      "model_module": "@jupyter-widgets/controls",
      "model_module_version": "1.5.0",
      "model_name": "HTMLModel",
      "state": {
       "layout": "IPY_MODEL_71166e68e5dd47c1a2a5243cf85d6fac",
       "style": "IPY_MODEL_9742643f273e46e0adaa250556b0378d",
       "value": " 3/3 [00:00&lt;00:00,  9.02it/s]"
      }
     },
     "59b471ed5db948828ebd1874611b889d": {
      "model_module": "@jupyter-widgets/controls",
      "model_module_version": "1.5.0",
      "model_name": "HTMLModel",
      "state": {
       "layout": "IPY_MODEL_7389c038203540628e3a66c51df030dc",
       "style": "IPY_MODEL_80185864637a4d88afff9d9fb6f29d4f",
       "value": " 1200/1200 [00:05&lt;00:00, 264.22it/s]"
      }
     },
     "59b941e7fa404230ae67e857ec68bf11": {
      "model_module": "@jupyter-widgets/controls",
      "model_module_version": "1.5.0",
      "model_name": "FloatProgressModel",
      "state": {
       "bar_style": "success",
       "layout": "IPY_MODEL_bcaebf1979a74fb98352c5834d25e84d",
       "max": 4,
       "style": "IPY_MODEL_2f90007e2b7e45d9b720c9ab67801349",
       "value": 4
      }
     },
     "5a015ce8ceeb4cc8ad6207ecea01ebb1": {
      "model_module": "@jupyter-widgets/controls",
      "model_module_version": "1.5.0",
      "model_name": "HTMLModel",
      "state": {
       "layout": "IPY_MODEL_a6700437904e4fa791c6b8d8251278f9",
       "style": "IPY_MODEL_e0d2beb511ae442d9f07a108b811ef17",
       "value": "VIRAL-PNEUMONIA: 100%"
      }
     },
     "5a0c146833f641bda539c4a17c42111b": {
      "model_module": "@jupyter-widgets/controls",
      "model_module_version": "1.5.0",
      "model_name": "DescriptionStyleModel",
      "state": {
       "description_width": ""
      }
     },
     "5a2af69a7d564654b2cda042fbbbbb40": {
      "model_module": "@jupyter-widgets/controls",
      "model_module_version": "1.5.0",
      "model_name": "HTMLModel",
      "state": {
       "layout": "IPY_MODEL_49a24dd6b3534ab48bdb5783bfcb6e93",
       "style": "IPY_MODEL_7b3b4435e0f7459d951e03f0e5307da0",
       "value": " 4/4 [00:00&lt;00:00, 27.37it/s]"
      }
     },
     "5a5556a2a79e42cc9b9a517cbbbf7e05": {
      "model_module": "@jupyter-widgets/controls",
      "model_module_version": "1.5.0",
      "model_name": "HBoxModel",
      "state": {
       "children": [
        "IPY_MODEL_22535debbf8146b9bed0d4b95a6b44ee",
        "IPY_MODEL_e9961f3676cc4dcaaf0ed66c192d4b1a",
        "IPY_MODEL_ae7addec5145460cb67e6bc8e36dd3c8"
       ],
       "layout": "IPY_MODEL_7e6089ede193448b8e1336392b8aa035"
      }
     },
     "5a899aac66f14fb8800fb3705494ca52": {
      "model_module": "@jupyter-widgets/controls",
      "model_module_version": "1.5.0",
      "model_name": "DescriptionStyleModel",
      "state": {
       "description_width": ""
      }
     },
     "5abdecfbd67a45158c4f5560c6ed3412": {
      "model_module": "@jupyter-widgets/controls",
      "model_module_version": "1.5.0",
      "model_name": "HTMLModel",
      "state": {
       "layout": "IPY_MODEL_4d2a610ab11042ba8fc954f10edd7942",
       "style": "IPY_MODEL_9ec920b507834ff4aae30bccc714758d",
       "value": "VIRAL-PNEUMONIA: 100%"
      }
     },
     "5adbe45937b04242a0b3b683a408146c": {
      "model_module": "@jupyter-widgets/controls",
      "model_module_version": "1.5.0",
      "model_name": "DescriptionStyleModel",
      "state": {
       "description_width": ""
      }
     },
     "5ae12ebbe455493381e8bddc716ef5e2": {
      "model_module": "@jupyter-widgets/controls",
      "model_module_version": "1.5.0",
      "model_name": "HTMLModel",
      "state": {
       "layout": "IPY_MODEL_0b0031d93b5f4a9fba9dc3b1dd26244f",
       "style": "IPY_MODEL_858c0729ac7e42a096fc1319626ce73c",
       "value": " 3/3 [00:47&lt;00:00, 18.20s/it]"
      }
     },
     "5ae4bb4628114a4fac6e7b2a772dec82": {
      "model_module": "@jupyter-widgets/controls",
      "model_module_version": "1.5.0",
      "model_name": "FloatProgressModel",
      "state": {
       "bar_style": "success",
       "layout": "IPY_MODEL_87bcd358ec024e3182d8e09539fccbc3",
       "max": 4,
       "style": "IPY_MODEL_0458f84f9616433ca146a6243d2ec98a",
       "value": 4
      }
     },
     "5b1d925256f746d1823ea93d06056730": {
      "model_module": "@jupyter-widgets/base",
      "model_module_version": "1.2.0",
      "model_name": "LayoutModel",
      "state": {}
     },
     "5b40f12099624e99958ab4eaec6ce249": {
      "model_module": "@jupyter-widgets/controls",
      "model_module_version": "1.5.0",
      "model_name": "FloatProgressModel",
      "state": {
       "bar_style": "success",
       "layout": "IPY_MODEL_3768cf2468f24e6696cf4cc180df3ad5",
       "max": 1345,
       "style": "IPY_MODEL_e2e26495e02d4c2f8147787b02afaf3a",
       "value": 1345
      }
     },
     "5b61104472034b119a5381443d726a89": {
      "model_module": "@jupyter-widgets/base",
      "model_module_version": "1.2.0",
      "model_name": "LayoutModel",
      "state": {}
     },
     "5b6f9457763f4f5d95857ec0623f3102": {
      "model_module": "@jupyter-widgets/base",
      "model_module_version": "1.2.0",
      "model_name": "LayoutModel",
      "state": {}
     },
     "5b792d7da9a84d3a8d38dbf33ae33ee0": {
      "model_module": "@jupyter-widgets/base",
      "model_module_version": "1.2.0",
      "model_name": "LayoutModel",
      "state": {}
     },
     "5b91d330a2294b28bdf82a5ea27a0fa9": {
      "model_module": "@jupyter-widgets/base",
      "model_module_version": "1.2.0",
      "model_name": "LayoutModel",
      "state": {}
     },
     "5ba8465211404fb5be4c1eab5f5c03a7": {
      "model_module": "@jupyter-widgets/base",
      "model_module_version": "1.2.0",
      "model_name": "LayoutModel",
      "state": {}
     },
     "5baba32592df4104850156e9ffe181bf": {
      "model_module": "@jupyter-widgets/controls",
      "model_module_version": "1.5.0",
      "model_name": "FloatProgressModel",
      "state": {
       "bar_style": "success",
       "layout": "IPY_MODEL_76886086548a4a0884b0f4900cf6e9a5",
       "max": 4,
       "style": "IPY_MODEL_d960dd5a64ec40d0b93e6b1e11d25ac9",
       "value": 4
      }
     },
     "5bda0bfc2aaf417db1104f8a68ca200f": {
      "model_module": "@jupyter-widgets/base",
      "model_module_version": "1.2.0",
      "model_name": "LayoutModel",
      "state": {}
     },
     "5bfc7fadc0e24921a8ac6245f6af595b": {
      "model_module": "@jupyter-widgets/controls",
      "model_module_version": "1.5.0",
      "model_name": "DescriptionStyleModel",
      "state": {
       "description_width": ""
      }
     },
     "5c0cf681378f40178a9c5af82d4a3893": {
      "model_module": "@jupyter-widgets/controls",
      "model_module_version": "1.5.0",
      "model_name": "DescriptionStyleModel",
      "state": {
       "description_width": ""
      }
     },
     "5c4057a276744b5e8317aa01925fe7ed": {
      "model_module": "@jupyter-widgets/controls",
      "model_module_version": "1.5.0",
      "model_name": "ProgressStyleModel",
      "state": {
       "description_width": ""
      }
     },
     "5c659ba8ac2246409b6311f562aab43f": {
      "model_module": "@jupyter-widgets/controls",
      "model_module_version": "1.5.0",
      "model_name": "HBoxModel",
      "state": {
       "children": [
        "IPY_MODEL_e2ca0d8b229c43c6b90c948647bd3317",
        "IPY_MODEL_8be2040b18c84dcba76e90b5804b4b88",
        "IPY_MODEL_05dac69e034d41f784141d625b21b978"
       ],
       "layout": "IPY_MODEL_ab6c81f61f7e47ae977c0c7e2fbabd19"
      }
     },
     "5c77b3f7707e41aba99a49b124083fb8": {
      "model_module": "@jupyter-widgets/controls",
      "model_module_version": "1.5.0",
      "model_name": "HTMLModel",
      "state": {
       "layout": "IPY_MODEL_34bbf1940fa14568b2650d0928e8b4ac",
       "style": "IPY_MODEL_ba56358feac04d50bf066199bd5bb0e5",
       "value": " 3/3 [00:50&lt;00:00, 19.20s/it]"
      }
     },
     "5c78969b5a414e968b207f39d6599bc7": {
      "model_module": "@jupyter-widgets/base",
      "model_module_version": "1.2.0",
      "model_name": "LayoutModel",
      "state": {}
     },
     "5c8a4f7b61b14e868aa2235bd0df8bb5": {
      "model_module": "@jupyter-widgets/controls",
      "model_module_version": "1.5.0",
      "model_name": "DescriptionStyleModel",
      "state": {
       "description_width": ""
      }
     },
     "5c9d228b66aa437897aabd51e43a39f1": {
      "model_module": "@jupyter-widgets/base",
      "model_module_version": "1.2.0",
      "model_name": "LayoutModel",
      "state": {}
     },
     "5cadc6b41b924927a6327b32645ecf72": {
      "model_module": "@jupyter-widgets/base",
      "model_module_version": "1.2.0",
      "model_name": "LayoutModel",
      "state": {}
     },
     "5d00ba533e3c451fae6af5a9bfa53153": {
      "model_module": "@jupyter-widgets/controls",
      "model_module_version": "1.5.0",
      "model_name": "FloatProgressModel",
      "state": {
       "bar_style": "success",
       "layout": "IPY_MODEL_4c2bf6edf8224f5fb1c4d79ac14fae3f",
       "max": 1345,
       "style": "IPY_MODEL_b712f84bb02648898fd1ed8e5057796a",
       "value": 1345
      }
     },
     "5d3311daf8be4773b12d6f0493b2f128": {
      "model_module": "@jupyter-widgets/controls",
      "model_module_version": "1.5.0",
      "model_name": "HTMLModel",
      "state": {
       "layout": "IPY_MODEL_983b1a20086a473987c48bd046d852f6",
       "style": "IPY_MODEL_a797625f8bc048938238699519d2bc66",
       "value": "COVID: 100%"
      }
     },
     "5dacff0cb7ec4653a4ec7068fed11614": {
      "model_module": "@jupyter-widgets/base",
      "model_module_version": "1.2.0",
      "model_name": "LayoutModel",
      "state": {}
     },
     "5dafa76cfa5647c1bbabbd496f2b9524": {
      "model_module": "@jupyter-widgets/base",
      "model_module_version": "1.2.0",
      "model_name": "LayoutModel",
      "state": {}
     },
     "5deff86d1e834c5b8a544a482a3366d2": {
      "model_module": "@jupyter-widgets/controls",
      "model_module_version": "1.5.0",
      "model_name": "HBoxModel",
      "state": {
       "children": [
        "IPY_MODEL_15c8fef4745f486d94e8809d951bf05c",
        "IPY_MODEL_55ab586ee43e430e99fade0165e91372",
        "IPY_MODEL_699df7c65cfd421eb6da222f6fadf85e"
       ],
       "layout": "IPY_MODEL_4677d8a9faef459c8b18f8522e844cb1"
      }
     },
     "5df4c1edd1774d29a3a7259c8e1df2ea": {
      "model_module": "@jupyter-widgets/controls",
      "model_module_version": "1.5.0",
      "model_name": "FloatProgressModel",
      "state": {
       "bar_style": "success",
       "layout": "IPY_MODEL_e597abaadc9a4ee5a0f19e9db1e9785f",
       "max": 1200,
       "style": "IPY_MODEL_117a278ab2fa4be7869f27e4d7e5d3c9",
       "value": 1200
      }
     },
     "5e46dc7bdcab443484406a93c7160b3e": {
      "model_module": "@jupyter-widgets/controls",
      "model_module_version": "1.5.0",
      "model_name": "HTMLModel",
      "state": {
       "layout": "IPY_MODEL_b7757aa8622a42f2b967beb1cd8e9179",
       "style": "IPY_MODEL_a69afb01f80845a58abeb2a2a04dfdb1",
       "value": " 4/4 [00:00&lt;00:00, 77.50it/s]"
      }
     },
     "5e69d4d43bad474d8a31c6574340ce81": {
      "model_module": "@jupyter-widgets/controls",
      "model_module_version": "1.5.0",
      "model_name": "HTMLModel",
      "state": {
       "layout": "IPY_MODEL_d4a5de790f054857b766a1b4722bb36a",
       "style": "IPY_MODEL_2f8bee2df0014f2490a175f6f82c1645",
       "value": "DATASETS: 100%"
      }
     },
     "5ea29455673e4e8d9256931ca0c1c431": {
      "model_module": "@jupyter-widgets/controls",
      "model_module_version": "1.5.0",
      "model_name": "HBoxModel",
      "state": {
       "children": [
        "IPY_MODEL_fa12ef244f1443df8f5fe1c919dcbefb",
        "IPY_MODEL_d8969d5e31ba4d45b9393865a181def1",
        "IPY_MODEL_40521c47787b4ebcb86e2d91400f823a"
       ],
       "layout": "IPY_MODEL_e66634ce834c4df085c50b6b099e4a50"
      }
     },
     "5ee5f24f3eb14d9396fe7d78fbfe0a8e": {
      "model_module": "@jupyter-widgets/controls",
      "model_module_version": "1.5.0",
      "model_name": "HTMLModel",
      "state": {
       "layout": "IPY_MODEL_3dbb13625cf34d0aa24372ab273bb598",
       "style": "IPY_MODEL_75502ce2f1a6483aad9009bfed3ba357",
       "value": "NORMAL: 100%"
      }
     },
     "5f09fad847fb45d4bc9671f9f5da4692": {
      "model_module": "@jupyter-widgets/base",
      "model_module_version": "1.2.0",
      "model_name": "LayoutModel",
      "state": {}
     },
     "5f2482eb3edf483bb734bf0a96f7242d": {
      "model_module": "@jupyter-widgets/controls",
      "model_module_version": "1.5.0",
      "model_name": "DescriptionStyleModel",
      "state": {
       "description_width": ""
      }
     },
     "5f54d099307148b3ad5950e44679718a": {
      "model_module": "@jupyter-widgets/base",
      "model_module_version": "1.2.0",
      "model_name": "LayoutModel",
      "state": {}
     },
     "5f6c655a68ae4a3daf8187562aee6a1b": {
      "model_module": "@jupyter-widgets/controls",
      "model_module_version": "1.5.0",
      "model_name": "FloatProgressModel",
      "state": {
       "bar_style": "success",
       "layout": "IPY_MODEL_7af80d626e4c4fe68f48e9fe06623576",
       "max": 3,
       "style": "IPY_MODEL_14fdda1a2cc344ea971be58475280bd2",
       "value": 3
      }
     },
     "5fbbf249591a40599708580064c52e2a": {
      "model_module": "@jupyter-widgets/controls",
      "model_module_version": "1.5.0",
      "model_name": "HTMLModel",
      "state": {
       "layout": "IPY_MODEL_307a723c675f4cca958eb8aa5d060c8c",
       "style": "IPY_MODEL_a150ee10e0744e3fb92c9e8318d7826d",
       "value": "VIRAL-PNEUMONIA: 100%"
      }
     },
     "5fd683c076794a0a9a3f11f915f950e4": {
      "model_module": "@jupyter-widgets/controls",
      "model_module_version": "1.5.0",
      "model_name": "HTMLModel",
      "state": {
       "layout": "IPY_MODEL_7b439fe84f0b4947a82ca691c8c1066c",
       "style": "IPY_MODEL_07d5302db88e490eabd73f502686c3c1",
       "value": "VIRAL-PNEUMONIA: 100%"
      }
     },
     "6017b1e9bbe34a97bf2e9d76e9054304": {
      "model_module": "@jupyter-widgets/base",
      "model_module_version": "1.2.0",
      "model_name": "LayoutModel",
      "state": {}
     },
     "6044a074d66041cc98312ae7e73f1e46": {
      "model_module": "@jupyter-widgets/base",
      "model_module_version": "1.2.0",
      "model_name": "LayoutModel",
      "state": {}
     },
     "606e68422f9047ecbb114ffba11e10fb": {
      "model_module": "@jupyter-widgets/controls",
      "model_module_version": "1.5.0",
      "model_name": "DescriptionStyleModel",
      "state": {
       "description_width": ""
      }
     },
     "607aeb83ff034c749f84e932b0841e9c": {
      "model_module": "@jupyter-widgets/controls",
      "model_module_version": "1.5.0",
      "model_name": "HBoxModel",
      "state": {
       "children": [
        "IPY_MODEL_8fce9be8ecd2439ea6e2b301bb9b964c",
        "IPY_MODEL_456d96a5b2b44a0f94cd0a28152543a5",
        "IPY_MODEL_004b4253b761447988e539d171e1f05b"
       ],
       "layout": "IPY_MODEL_4e3e32804501458487d4f251a5e84369"
      }
     },
     "60989c4b965145fd86658da97255b8dd": {
      "model_module": "@jupyter-widgets/base",
      "model_module_version": "1.2.0",
      "model_name": "LayoutModel",
      "state": {}
     },
     "609a05be88d540e49011337d58636ba3": {
      "model_module": "@jupyter-widgets/controls",
      "model_module_version": "1.5.0",
      "model_name": "HTMLModel",
      "state": {
       "layout": "IPY_MODEL_e90098c917ce4be99b77f254c0b9e805",
       "style": "IPY_MODEL_81959d4e727549a4b2571ea76143fe65",
       "value": "VIRAL-PNEUMONIA: 100%"
      }
     },
     "60aab2aaf84844818dccbd7ab0b373d4": {
      "model_module": "@jupyter-widgets/controls",
      "model_module_version": "1.5.0",
      "model_name": "DescriptionStyleModel",
      "state": {
       "description_width": ""
      }
     },
     "60b37555009a4a318bb15bab678e100c": {
      "model_module": "@jupyter-widgets/controls",
      "model_module_version": "1.5.0",
      "model_name": "HTMLModel",
      "state": {
       "layout": "IPY_MODEL_55a1685b458d47f99d34a86b15d197b3",
       "style": "IPY_MODEL_2a7516887f7844e5b1244bc58035da28",
       "value": " 3/3 [00:48&lt;00:00, 18.54s/it]"
      }
     },
     "60cb0d605dee478c9fb4c1a22eed3ff1": {
      "model_module": "@jupyter-widgets/controls",
      "model_module_version": "1.5.0",
      "model_name": "HTMLModel",
      "state": {
       "layout": "IPY_MODEL_b8f688c812af45deb1e8c548641a90df",
       "style": "IPY_MODEL_fb17cc5086934484b83793dd19dab3be",
       "value": " 1200/1200 [00:03&lt;00:00, 306.45it/s]"
      }
     },
     "60d4c1a5a8a54027a9458fcefcd38b29": {
      "model_module": "@jupyter-widgets/base",
      "model_module_version": "1.2.0",
      "model_name": "LayoutModel",
      "state": {}
     },
     "60e1ac2fd4ac44b6b14cf8b2a1e1a8a2": {
      "model_module": "@jupyter-widgets/base",
      "model_module_version": "1.2.0",
      "model_name": "LayoutModel",
      "state": {}
     },
     "60e1b82c0a0145f2bafe8df10a73a0e0": {
      "model_module": "@jupyter-widgets/base",
      "model_module_version": "1.2.0",
      "model_name": "LayoutModel",
      "state": {}
     },
     "6116262cfc5443d49758eb9b07e9acf1": {
      "model_module": "@jupyter-widgets/controls",
      "model_module_version": "1.5.0",
      "model_name": "DescriptionStyleModel",
      "state": {
       "description_width": ""
      }
     },
     "616c038242d6434e92ea6f82802028d8": {
      "model_module": "@jupyter-widgets/controls",
      "model_module_version": "1.5.0",
      "model_name": "HBoxModel",
      "state": {
       "children": [
        "IPY_MODEL_425139241ecf4780ac1a76cc2602e56c",
        "IPY_MODEL_eadf326defa04c4c96a01614cec906a8",
        "IPY_MODEL_3f29951178d74b8d91bc72f1071493ad"
       ],
       "layout": "IPY_MODEL_3005ecc8a216438f9d568da76a9b1648"
      }
     },
     "61b25937fef24c8dacee96ee6e23bd1b": {
      "model_module": "@jupyter-widgets/base",
      "model_module_version": "1.2.0",
      "model_name": "LayoutModel",
      "state": {}
     },
     "61b6e8961a414228a32b8e312fb545c6": {
      "model_module": "@jupyter-widgets/base",
      "model_module_version": "1.2.0",
      "model_name": "LayoutModel",
      "state": {}
     },
     "61ebe102734147c5b7a082ccce4a1732": {
      "model_module": "@jupyter-widgets/base",
      "model_module_version": "1.2.0",
      "model_name": "LayoutModel",
      "state": {}
     },
     "61ec6effea7b4573956fd367d87b3449": {
      "model_module": "@jupyter-widgets/controls",
      "model_module_version": "1.5.0",
      "model_name": "DescriptionStyleModel",
      "state": {
       "description_width": ""
      }
     },
     "6221c4652eb443049d8cf662ff4023f7": {
      "model_module": "@jupyter-widgets/base",
      "model_module_version": "1.2.0",
      "model_name": "LayoutModel",
      "state": {}
     },
     "623b34fd05764f73a71d5332e67a1fcd": {
      "model_module": "@jupyter-widgets/base",
      "model_module_version": "1.2.0",
      "model_name": "LayoutModel",
      "state": {}
     },
     "62536ceb625743a6bf518a7f833a7b5d": {
      "model_module": "@jupyter-widgets/base",
      "model_module_version": "1.2.0",
      "model_name": "LayoutModel",
      "state": {}
     },
     "625559bee0f84adc9a1e9a531136a643": {
      "model_module": "@jupyter-widgets/controls",
      "model_module_version": "1.5.0",
      "model_name": "HBoxModel",
      "state": {
       "children": [
        "IPY_MODEL_6d30ef4fc9b34c5e933f7594ec55a3e2",
        "IPY_MODEL_51121961f93d46f992461ad24656d46d",
        "IPY_MODEL_f55d810a16704c2fadce0e0cb4286964"
       ],
       "layout": "IPY_MODEL_9ac3672d6e9e423c8143b309df5e5ebd"
      }
     },
     "625fbabc175441a1b65a0ad758878d36": {
      "model_module": "@jupyter-widgets/controls",
      "model_module_version": "1.5.0",
      "model_name": "ProgressStyleModel",
      "state": {
       "description_width": ""
      }
     },
     "62abd27c5c5243cb9a59bea8f7c3d207": {
      "model_module": "@jupyter-widgets/base",
      "model_module_version": "1.2.0",
      "model_name": "LayoutModel",
      "state": {}
     },
     "62b98ab204344aa8b503bf4ca3bfc68e": {
      "model_module": "@jupyter-widgets/controls",
      "model_module_version": "1.5.0",
      "model_name": "HBoxModel",
      "state": {
       "children": [
        "IPY_MODEL_23ecf0ccedae477ea52bcc5755c4f913",
        "IPY_MODEL_18677ad882e3479d8a5a6e0f9e61a669",
        "IPY_MODEL_c26ec233f8724878a2eced9472166a88"
       ],
       "layout": "IPY_MODEL_642d818ae298463e99c21c00948073c3"
      }
     },
     "62d9de17eced42709f6c813e341eb757": {
      "model_module": "@jupyter-widgets/controls",
      "model_module_version": "1.5.0",
      "model_name": "DescriptionStyleModel",
      "state": {
       "description_width": ""
      }
     },
     "6331cf6e6bb9436fa026a76aaf29a2fd": {
      "model_module": "@jupyter-widgets/controls",
      "model_module_version": "1.5.0",
      "model_name": "DescriptionStyleModel",
      "state": {
       "description_width": ""
      }
     },
     "633342ff53d347e7a1f89a70c74a6f72": {
      "model_module": "@jupyter-widgets/controls",
      "model_module_version": "1.5.0",
      "model_name": "HTMLModel",
      "state": {
       "layout": "IPY_MODEL_b10f93d5bddd4aa88f3d84ba6c5633ec",
       "style": "IPY_MODEL_e1e2cbfad0b448389d63d1126d9d5b6a",
       "value": " 4/4 [00:00&lt;00:00, 38.05it/s]"
      }
     },
     "63bcd3e4245a49a9aae44b62d080e1d6": {
      "model_module": "@jupyter-widgets/controls",
      "model_module_version": "1.5.0",
      "model_name": "DescriptionStyleModel",
      "state": {
       "description_width": ""
      }
     },
     "64160d9c22be4301a7a9c56e065ee017": {
      "model_module": "@jupyter-widgets/controls",
      "model_module_version": "1.5.0",
      "model_name": "ProgressStyleModel",
      "state": {
       "description_width": ""
      }
     },
     "64197aa491814c37b37ca5e76b1281e4": {
      "model_module": "@jupyter-widgets/controls",
      "model_module_version": "1.5.0",
      "model_name": "HTMLModel",
      "state": {
       "layout": "IPY_MODEL_a89c49b51778458b95b2ace7073a10f1",
       "style": "IPY_MODEL_1f51ac586fcb4652bbd1e68c4dadd7f9",
       "value": " 4/4 [00:00&lt;00:00, 96.92it/s]"
      }
     },
     "642ba36b6e0646ec9454e1d34bf14811": {
      "model_module": "@jupyter-widgets/controls",
      "model_module_version": "1.5.0",
      "model_name": "DescriptionStyleModel",
      "state": {
       "description_width": ""
      }
     },
     "642d818ae298463e99c21c00948073c3": {
      "model_module": "@jupyter-widgets/base",
      "model_module_version": "1.2.0",
      "model_name": "LayoutModel",
      "state": {}
     },
     "64512bde5e624e6ca3118f86ad3869c3": {
      "model_module": "@jupyter-widgets/controls",
      "model_module_version": "1.5.0",
      "model_name": "HTMLModel",
      "state": {
       "layout": "IPY_MODEL_1a217e29f37c4a3fb3afe50e218756c2",
       "style": "IPY_MODEL_01dc8ddf547a462d905d5e7148f3b6e4",
       "value": "COVID: 100%"
      }
     },
     "6454b5ec750a4137b459f7bcf5eb8711": {
      "model_module": "@jupyter-widgets/controls",
      "model_module_version": "1.5.0",
      "model_name": "DescriptionStyleModel",
      "state": {
       "description_width": ""
      }
     },
     "64870181c8564e439951fc22125aadf8": {
      "model_module": "@jupyter-widgets/controls",
      "model_module_version": "1.5.0",
      "model_name": "DescriptionStyleModel",
      "state": {
       "description_width": ""
      }
     },
     "64a867954f93454f8af902677e6b49f8": {
      "model_module": "@jupyter-widgets/controls",
      "model_module_version": "1.5.0",
      "model_name": "ProgressStyleModel",
      "state": {
       "description_width": ""
      }
     },
     "6514b45421c743388ffaf61b07e19409": {
      "model_module": "@jupyter-widgets/base",
      "model_module_version": "1.2.0",
      "model_name": "LayoutModel",
      "state": {}
     },
     "6515957a1a9543768bdb25ada8b151b2": {
      "model_module": "@jupyter-widgets/controls",
      "model_module_version": "1.5.0",
      "model_name": "HBoxModel",
      "state": {
       "children": [
        "IPY_MODEL_51bbc1f4efc64011bee9ccfc987c84dd",
        "IPY_MODEL_1c621a6b1d514528a54fd5c18ae4c481",
        "IPY_MODEL_7e72cc79c49b4a29ad9b2205df3b9aa6"
       ],
       "layout": "IPY_MODEL_84cf3d7186f8477f844ab7f07940f35e"
      }
     },
     "6532deb3321a4272955eae569e2e587e": {
      "model_module": "@jupyter-widgets/controls",
      "model_module_version": "1.5.0",
      "model_name": "FloatProgressModel",
      "state": {
       "bar_style": "success",
       "layout": "IPY_MODEL_1469a0e5be5441d1b05ad655553c7a85",
       "max": 4,
       "style": "IPY_MODEL_9251c838f184458a8052b4544bb52d2c",
       "value": 4
      }
     },
     "6553f6a8cf674076bbc5aa9abde38922": {
      "model_module": "@jupyter-widgets/controls",
      "model_module_version": "1.5.0",
      "model_name": "ProgressStyleModel",
      "state": {
       "description_width": ""
      }
     },
     "655a43487b074b4d8f08cf0aca67fa4a": {
      "model_module": "@jupyter-widgets/controls",
      "model_module_version": "1.5.0",
      "model_name": "HTMLModel",
      "state": {
       "layout": "IPY_MODEL_70fc7f0e42cc43789916e8443b457bf8",
       "style": "IPY_MODEL_263a50640dd2402e8d2dc79957de9db1",
       "value": " 4/4 [00:00&lt;00:00, 35.73it/s]"
      }
     },
     "6563cdb277d3437494fb96d52476bdaa": {
      "model_module": "@jupyter-widgets/controls",
      "model_module_version": "1.5.0",
      "model_name": "DescriptionStyleModel",
      "state": {
       "description_width": ""
      }
     },
     "65ef1379db384eb488779421293c470c": {
      "model_module": "@jupyter-widgets/controls",
      "model_module_version": "1.5.0",
      "model_name": "FloatProgressModel",
      "state": {
       "bar_style": "success",
       "layout": "IPY_MODEL_31048cade8e2487dab77bae7ad5869f4",
       "max": 3,
       "style": "IPY_MODEL_33154faf74aa42d7b23d35507db156a9",
       "value": 3
      }
     },
     "66000cd892144b8fb1304798e8c7e6ce": {
      "model_module": "@jupyter-widgets/base",
      "model_module_version": "1.2.0",
      "model_name": "LayoutModel",
      "state": {}
     },
     "6608245addba43c9b83c3dc914691133": {
      "model_module": "@jupyter-widgets/controls",
      "model_module_version": "1.5.0",
      "model_name": "ProgressStyleModel",
      "state": {
       "description_width": ""
      }
     },
     "661b5a905800493d95c510e5dd9a5cc9": {
      "model_module": "@jupyter-widgets/base",
      "model_module_version": "1.2.0",
      "model_name": "LayoutModel",
      "state": {}
     },
     "662a6fee9dd1482b8096c75c004b45a4": {
      "model_module": "@jupyter-widgets/controls",
      "model_module_version": "1.5.0",
      "model_name": "HTMLModel",
      "state": {
       "layout": "IPY_MODEL_c67bebcf598349e1aa16e8e4aae00e05",
       "style": "IPY_MODEL_ae899e0ae11c4974be8b283b3a00896a",
       "value": "VIRAL-PNEUMONIA: 100%"
      }
     },
     "6640906dd4074ab8a8e6c4a0bb9ac5f8": {
      "model_module": "@jupyter-widgets/controls",
      "model_module_version": "1.5.0",
      "model_name": "HBoxModel",
      "state": {
       "children": [
        "IPY_MODEL_66d8adee8ced4cd9b19b6eafb042905d",
        "IPY_MODEL_d09dda9a7d364018868260d63605f5b5",
        "IPY_MODEL_749b797c51c74464a84529bc2c4a7bed"
       ],
       "layout": "IPY_MODEL_d0f21f9ea96f4b43815dcf6ad147d9e0"
      }
     },
     "6658d20269d14d5a88fa40a61a26f317": {
      "model_module": "@jupyter-widgets/controls",
      "model_module_version": "1.5.0",
      "model_name": "HTMLModel",
      "state": {
       "layout": "IPY_MODEL_4ddf91fc42b0437cbed5f5a116cfd0f0",
       "style": "IPY_MODEL_6c24bd6a474a47609b392e54376dac0f",
       "value": "VIRAL-PNEUMONIA: 100%"
      }
     },
     "6664708550344198ba62b76aeee54241": {
      "model_module": "@jupyter-widgets/base",
      "model_module_version": "1.2.0",
      "model_name": "LayoutModel",
      "state": {}
     },
     "667ef1e44ac3424e89ae219fb33687d6": {
      "model_module": "@jupyter-widgets/controls",
      "model_module_version": "1.5.0",
      "model_name": "HTMLModel",
      "state": {
       "layout": "IPY_MODEL_d8795bcb0556440fa513a265635b9074",
       "style": "IPY_MODEL_3a85c494e8eb427eb445773d63db259f",
       "value": "NORMAL: 100%"
      }
     },
     "6687568948b84643a7bfc6921cb1ab38": {
      "model_module": "@jupyter-widgets/base",
      "model_module_version": "1.2.0",
      "model_name": "LayoutModel",
      "state": {}
     },
     "66a7b1bc40fb4f928a46e6da193c228c": {
      "model_module": "@jupyter-widgets/base",
      "model_module_version": "1.2.0",
      "model_name": "LayoutModel",
      "state": {}
     },
     "66cb7185e92b43a4a1bfe741afb66170": {
      "model_module": "@jupyter-widgets/controls",
      "model_module_version": "1.5.0",
      "model_name": "HTMLModel",
      "state": {
       "layout": "IPY_MODEL_f29c536568cf4847bdc1abeebad1859e",
       "style": "IPY_MODEL_c80180dff4664ef9ad81b8d34d6d2158",
       "value": "COVID: 100%"
      }
     },
     "66d8adee8ced4cd9b19b6eafb042905d": {
      "model_module": "@jupyter-widgets/controls",
      "model_module_version": "1.5.0",
      "model_name": "HTMLModel",
      "state": {
       "layout": "IPY_MODEL_da1090f7b9054fc199ac77575ba1ef25",
       "style": "IPY_MODEL_54b7c4c110ea47c6be24459e2406200f",
       "value": "NORMAL: 100%"
      }
     },
     "66da15bfd3674830ad50f3d666163a51": {
      "model_module": "@jupyter-widgets/controls",
      "model_module_version": "1.5.0",
      "model_name": "FloatProgressModel",
      "state": {
       "bar_style": "success",
       "layout": "IPY_MODEL_88ad03c6f7104bbfa33fcb4b666b4a6f",
       "max": 4,
       "style": "IPY_MODEL_dd106905b50947aa926da511cef86350",
       "value": 4
      }
     },
     "66fe8262ad9641fb98582cec6ed5d909": {
      "model_module": "@jupyter-widgets/controls",
      "model_module_version": "1.5.0",
      "model_name": "DescriptionStyleModel",
      "state": {
       "description_width": ""
      }
     },
     "6711aa8abadb4b8c8bd18522488c9e24": {
      "model_module": "@jupyter-widgets/controls",
      "model_module_version": "1.5.0",
      "model_name": "HBoxModel",
      "state": {
       "children": [
        "IPY_MODEL_87a740c245204413b00759abd5575425",
        "IPY_MODEL_25d878476fa34de8a354ea70ededba10",
        "IPY_MODEL_5852367237fa4d4c85891dd09677712a"
       ],
       "layout": "IPY_MODEL_248c5abe5bd74fce89e79b7a7bb1059d"
      }
     },
     "6713c69875f94f64b90eb8cf22ec0a71": {
      "model_module": "@jupyter-widgets/base",
      "model_module_version": "1.2.0",
      "model_name": "LayoutModel",
      "state": {}
     },
     "671454f7bb79455c8e6e974e1445e26d": {
      "model_module": "@jupyter-widgets/controls",
      "model_module_version": "1.5.0",
      "model_name": "HBoxModel",
      "state": {
       "children": [
        "IPY_MODEL_25a7806a48694f538342ee161aba9fef",
        "IPY_MODEL_c0ed05c7485740ae8f9f30823489b939",
        "IPY_MODEL_1589876c8d4c4551822c71a262c43e50"
       ],
       "layout": "IPY_MODEL_aea7be3b84ee435b91c64bdd559c3e9a"
      }
     },
     "673cd362d8af4d3b98e847c881e8607a": {
      "model_module": "@jupyter-widgets/base",
      "model_module_version": "1.2.0",
      "model_name": "LayoutModel",
      "state": {}
     },
     "67435ad55fff41608d160b3b25ec6c89": {
      "model_module": "@jupyter-widgets/controls",
      "model_module_version": "1.5.0",
      "model_name": "ProgressStyleModel",
      "state": {
       "description_width": ""
      }
     },
     "674365bc0b4b402e8ef5eb527cb1d89a": {
      "model_module": "@jupyter-widgets/controls",
      "model_module_version": "1.5.0",
      "model_name": "DescriptionStyleModel",
      "state": {
       "description_width": ""
      }
     },
     "676d59580e1a4c2891af3aa9d71e3333": {
      "model_module": "@jupyter-widgets/base",
      "model_module_version": "1.2.0",
      "model_name": "LayoutModel",
      "state": {}
     },
     "6770eec1d2f04e26a8306680dca2588d": {
      "model_module": "@jupyter-widgets/base",
      "model_module_version": "1.2.0",
      "model_name": "LayoutModel",
      "state": {}
     },
     "6779c99ec8b547f8947fccf4eda81ad9": {
      "model_module": "@jupyter-widgets/controls",
      "model_module_version": "1.5.0",
      "model_name": "HTMLModel",
      "state": {
       "layout": "IPY_MODEL_34ca77f1f3554da2a5a3b9ab97e323cd",
       "style": "IPY_MODEL_ff210ac4019e4adfb32ab4faa1689e38",
       "value": "NORMAL: 100%"
      }
     },
     "67ba4d7c7fc048d193195605654bee22": {
      "model_module": "@jupyter-widgets/controls",
      "model_module_version": "1.5.0",
      "model_name": "HTMLModel",
      "state": {
       "layout": "IPY_MODEL_ffdbdc369b0f4793a3f688f99fad78ac",
       "style": "IPY_MODEL_9eec157e705240b998ef4e67b1f371f8",
       "value": "COVID: 100%"
      }
     },
     "67c96ac49d2044f09c332d77a3e64120": {
      "model_module": "@jupyter-widgets/base",
      "model_module_version": "1.2.0",
      "model_name": "LayoutModel",
      "state": {}
     },
     "67ccd57dfb1845bb84cd9b00a8caaac0": {
      "model_module": "@jupyter-widgets/controls",
      "model_module_version": "1.5.0",
      "model_name": "ProgressStyleModel",
      "state": {
       "description_width": ""
      }
     },
     "67d3c23555f8498bb1c23b57fcc90a3f": {
      "model_module": "@jupyter-widgets/base",
      "model_module_version": "1.2.0",
      "model_name": "LayoutModel",
      "state": {}
     },
     "6837f1d0cf484419859709a82cf1edfd": {
      "model_module": "@jupyter-widgets/base",
      "model_module_version": "1.2.0",
      "model_name": "LayoutModel",
      "state": {}
     },
     "6850e97ec5244c1fa879b94cb0c4830e": {
      "model_module": "@jupyter-widgets/controls",
      "model_module_version": "1.5.0",
      "model_name": "HTMLModel",
      "state": {
       "layout": "IPY_MODEL_57a5c8193b6d4345b5c7d8cb25d01341",
       "style": "IPY_MODEL_5c8a4f7b61b14e868aa2235bd0df8bb5",
       "value": " 4/4 [00:00&lt;00:00, 83.70it/s]"
      }
     },
     "687549782763411c9331a01b5b3c0ded": {
      "model_module": "@jupyter-widgets/controls",
      "model_module_version": "1.5.0",
      "model_name": "HBoxModel",
      "state": {
       "children": [
        "IPY_MODEL_eba058e602cc4af985897fa7a8810390",
        "IPY_MODEL_47388a98de874e0482ac8f7e0560e26c",
        "IPY_MODEL_23fbb233849f401fa0d1849dae912b0e"
       ],
       "layout": "IPY_MODEL_2d7c93c1969442bcbf29f1774edacfaf"
      }
     },
     "68bc6f5a5eb04fb7be212680ed9403ec": {
      "model_module": "@jupyter-widgets/base",
      "model_module_version": "1.2.0",
      "model_name": "LayoutModel",
      "state": {}
     },
     "68f23b014e9e47639ec13b500f1a48b9": {
      "model_module": "@jupyter-widgets/controls",
      "model_module_version": "1.5.0",
      "model_name": "HTMLModel",
      "state": {
       "layout": "IPY_MODEL_940dbfdf7c9d45879badf9dbf22189d6",
       "style": "IPY_MODEL_47634069adae468e8e67bd07f533114c",
       "value": "DATASETS: 100%"
      }
     },
     "68fc9526cc7448c788e9061bb67cb3c9": {
      "model_module": "@jupyter-widgets/controls",
      "model_module_version": "1.5.0",
      "model_name": "ProgressStyleModel",
      "state": {
       "description_width": ""
      }
     },
     "6916041671e1416086e0ebe9dbf901a4": {
      "model_module": "@jupyter-widgets/controls",
      "model_module_version": "1.5.0",
      "model_name": "HTMLModel",
      "state": {
       "layout": "IPY_MODEL_6c9939d33c2c49cda67e5a07c73e5daf",
       "style": "IPY_MODEL_82569fcb2f98439abb92ec7e5d4befd8",
       "value": "NORMAL: 100%"
      }
     },
     "691c36a5ee8c4ea3b7b731e614a90e0c": {
      "model_module": "@jupyter-widgets/base",
      "model_module_version": "1.2.0",
      "model_name": "LayoutModel",
      "state": {}
     },
     "6951ead8b5f24c1da18a0d543461eb39": {
      "model_module": "@jupyter-widgets/controls",
      "model_module_version": "1.5.0",
      "model_name": "HBoxModel",
      "state": {
       "children": [
        "IPY_MODEL_a3529c1ddaea4c6ca10911b2ab1e0859",
        "IPY_MODEL_169208222280496981002c6e8b75d831",
        "IPY_MODEL_90078532bae04254949d307e7a5159a8"
       ],
       "layout": "IPY_MODEL_b6cfa89f9c53400a90e1794cac1bd3d7"
      }
     },
     "696098a2a23c445e8428921658a30f3d": {
      "model_module": "@jupyter-widgets/controls",
      "model_module_version": "1.5.0",
      "model_name": "HTMLModel",
      "state": {
       "layout": "IPY_MODEL_1bc19e3d393b46f581fa1574c3bf94df",
       "style": "IPY_MODEL_0106dc9873c5469e83975af9299c86a1",
       "value": "VIRAL-PNEUMONIA: 100%"
      }
     },
     "6973a4a22b434d53b701035178f52bbb": {
      "model_module": "@jupyter-widgets/base",
      "model_module_version": "1.2.0",
      "model_name": "LayoutModel",
      "state": {}
     },
     "699df7c65cfd421eb6da222f6fadf85e": {
      "model_module": "@jupyter-widgets/controls",
      "model_module_version": "1.5.0",
      "model_name": "HTMLModel",
      "state": {
       "layout": "IPY_MODEL_d4db708d14cf42f9bdeb772dce7780f4",
       "style": "IPY_MODEL_a45f31410f694a1cbe74ab6a15d4be30",
       "value": " 4/4 [00:00&lt;00:00, 79.72it/s]"
      }
     },
     "69ada60e09b24d879d63588872c73c89": {
      "model_module": "@jupyter-widgets/base",
      "model_module_version": "1.2.0",
      "model_name": "LayoutModel",
      "state": {}
     },
     "69b1bf3d62834a0e85de9c7b40a4ecf7": {
      "model_module": "@jupyter-widgets/controls",
      "model_module_version": "1.5.0",
      "model_name": "DescriptionStyleModel",
      "state": {
       "description_width": ""
      }
     },
     "6a0d2c08971547d586e5da6f6ef32cdd": {
      "model_module": "@jupyter-widgets/base",
      "model_module_version": "1.2.0",
      "model_name": "LayoutModel",
      "state": {}
     },
     "6a2f2c03de5a4b6f81c362f0156ec241": {
      "model_module": "@jupyter-widgets/controls",
      "model_module_version": "1.5.0",
      "model_name": "HTMLModel",
      "state": {
       "layout": "IPY_MODEL_36e741a2f6244bf7b9585362e6d3bdbd",
       "style": "IPY_MODEL_e7d9ceba0ebc41818578d72d4db6b8fb",
       "value": " 3/3 [00:00&lt;00:00,  8.70it/s]"
      }
     },
     "6a393e30b9564a5ab50a1dd1ebcd5469": {
      "model_module": "@jupyter-widgets/controls",
      "model_module_version": "1.5.0",
      "model_name": "HTMLModel",
      "state": {
       "layout": "IPY_MODEL_86982698a7f9446cb84dcd25306f75a7",
       "style": "IPY_MODEL_0d19eaee45f944fab10e6bb99747b3d3",
       "value": "NORMAL: 100%"
      }
     },
     "6a5489193e714138ab6dddb556fb6cbc": {
      "model_module": "@jupyter-widgets/controls",
      "model_module_version": "1.5.0",
      "model_name": "ProgressStyleModel",
      "state": {
       "description_width": ""
      }
     },
     "6acfb65ae30146248aa1bd716b8b5bd3": {
      "model_module": "@jupyter-widgets/controls",
      "model_module_version": "1.5.0",
      "model_name": "HTMLModel",
      "state": {
       "layout": "IPY_MODEL_b61bfc79a566409f92366801f220875a",
       "style": "IPY_MODEL_42540a769c574cdfadee211696deb3c7",
       "value": " 4/4 [00:00&lt;00:00, 37.77it/s]"
      }
     },
     "6b19971853a646eabcf9a05e863968e7": {
      "model_module": "@jupyter-widgets/controls",
      "model_module_version": "1.5.0",
      "model_name": "DescriptionStyleModel",
      "state": {
       "description_width": ""
      }
     },
     "6b72e8a9efa94530b972947fec2f8418": {
      "model_module": "@jupyter-widgets/base",
      "model_module_version": "1.2.0",
      "model_name": "LayoutModel",
      "state": {}
     },
     "6b82857dce89494cb1d13fa327d4ca56": {
      "model_module": "@jupyter-widgets/controls",
      "model_module_version": "1.5.0",
      "model_name": "DescriptionStyleModel",
      "state": {
       "description_width": ""
      }
     },
     "6bc80409e16a4937ab42cfcd18873812": {
      "model_module": "@jupyter-widgets/controls",
      "model_module_version": "1.5.0",
      "model_name": "DescriptionStyleModel",
      "state": {
       "description_width": ""
      }
     },
     "6bcaaf8340c44ecf92d53e13203ed4b9": {
      "model_module": "@jupyter-widgets/controls",
      "model_module_version": "1.5.0",
      "model_name": "HTMLModel",
      "state": {
       "layout": "IPY_MODEL_68bc6f5a5eb04fb7be212680ed9403ec",
       "style": "IPY_MODEL_9189b5add0e54d7ab72dbabf40a1df6b",
       "value": "DATASETS: 100%"
      }
     },
     "6bded54d387c468d8b5afd5059b5fc20": {
      "model_module": "@jupyter-widgets/controls",
      "model_module_version": "1.5.0",
      "model_name": "HTMLModel",
      "state": {
       "layout": "IPY_MODEL_21a17f438888457bafe2b208c4603073",
       "style": "IPY_MODEL_d40fbea87237400283769793c7c47d05",
       "value": "NORMAL: 100%"
      }
     },
     "6c24bd6a474a47609b392e54376dac0f": {
      "model_module": "@jupyter-widgets/controls",
      "model_module_version": "1.5.0",
      "model_name": "DescriptionStyleModel",
      "state": {
       "description_width": ""
      }
     },
     "6c24dc9083a0401d9f237706b03b3505": {
      "model_module": "@jupyter-widgets/base",
      "model_module_version": "1.2.0",
      "model_name": "LayoutModel",
      "state": {}
     },
     "6c3ff40738f14a798a2f63fc7bbe507f": {
      "model_module": "@jupyter-widgets/controls",
      "model_module_version": "1.5.0",
      "model_name": "DescriptionStyleModel",
      "state": {
       "description_width": ""
      }
     },
     "6c8b1556b492443294d51194c23e10c5": {
      "model_module": "@jupyter-widgets/controls",
      "model_module_version": "1.5.0",
      "model_name": "HTMLModel",
      "state": {
       "layout": "IPY_MODEL_43046844742c443499a94f61abb70f08",
       "style": "IPY_MODEL_be0aedd1d79c4b169b344c05b9684f20",
       "value": " 4/4 [00:00&lt;00:00, 60.78it/s]"
      }
     },
     "6c9939d33c2c49cda67e5a07c73e5daf": {
      "model_module": "@jupyter-widgets/base",
      "model_module_version": "1.2.0",
      "model_name": "LayoutModel",
      "state": {}
     },
     "6cce5e89867641649a026718878233b0": {
      "model_module": "@jupyter-widgets/base",
      "model_module_version": "1.2.0",
      "model_name": "LayoutModel",
      "state": {}
     },
     "6ce1bcc6771c4c0db12aceb253e130c5": {
      "model_module": "@jupyter-widgets/base",
      "model_module_version": "1.2.0",
      "model_name": "LayoutModel",
      "state": {}
     },
     "6ceddc8909e6463f851ac35b070c2f8a": {
      "model_module": "@jupyter-widgets/controls",
      "model_module_version": "1.5.0",
      "model_name": "HTMLModel",
      "state": {
       "layout": "IPY_MODEL_b7f64dcc54c648bcbfab1fabadeb638b",
       "style": "IPY_MODEL_301cd0ed02fe4212bab26a8f49f797e9",
       "value": "COVID: 100%"
      }
     },
     "6d0b5b9aedfe43a3b47c14da255fd6b8": {
      "model_module": "@jupyter-widgets/base",
      "model_module_version": "1.2.0",
      "model_name": "LayoutModel",
      "state": {}
     },
     "6d0fb7e33be44afab5568c2960ddf18a": {
      "model_module": "@jupyter-widgets/base",
      "model_module_version": "1.2.0",
      "model_name": "LayoutModel",
      "state": {}
     },
     "6d30ef4fc9b34c5e933f7594ec55a3e2": {
      "model_module": "@jupyter-widgets/controls",
      "model_module_version": "1.5.0",
      "model_name": "HTMLModel",
      "state": {
       "layout": "IPY_MODEL_dda370b50edb40b0b8eb67efb09291d4",
       "style": "IPY_MODEL_d44917849e1f45ff8f2eccbec4507165",
       "value": "COVID: 100%"
      }
     },
     "6d4273c4af3b4ff188b8b95910a13bec": {
      "model_module": "@jupyter-widgets/controls",
      "model_module_version": "1.5.0",
      "model_name": "ProgressStyleModel",
      "state": {
       "description_width": ""
      }
     },
     "6d4433abc9dc41cf9ff140a03b204610": {
      "model_module": "@jupyter-widgets/base",
      "model_module_version": "1.2.0",
      "model_name": "LayoutModel",
      "state": {}
     },
     "6d4d7a5a240d46b79c63947fcaeadb82": {
      "model_module": "@jupyter-widgets/controls",
      "model_module_version": "1.5.0",
      "model_name": "DescriptionStyleModel",
      "state": {
       "description_width": ""
      }
     },
     "6d87725d60ce4d5ba34d2e6a19e86a87": {
      "model_module": "@jupyter-widgets/base",
      "model_module_version": "1.2.0",
      "model_name": "LayoutModel",
      "state": {}
     },
     "6d8794a0ef8044a9b6cc760f41c33ff5": {
      "model_module": "@jupyter-widgets/controls",
      "model_module_version": "1.5.0",
      "model_name": "ProgressStyleModel",
      "state": {
       "description_width": ""
      }
     },
     "6d9d0cd1a2584641906e157856d9b87e": {
      "model_module": "@jupyter-widgets/controls",
      "model_module_version": "1.5.0",
      "model_name": "DescriptionStyleModel",
      "state": {
       "description_width": ""
      }
     },
     "6e021c17f3034cd2a06af68a69a9fd92": {
      "model_module": "@jupyter-widgets/controls",
      "model_module_version": "1.5.0",
      "model_name": "HTMLModel",
      "state": {
       "layout": "IPY_MODEL_80b58625d1b9407eba2a95b8edfc67ef",
       "style": "IPY_MODEL_8f2ae428775947399c6effa055441104",
       "value": " 4/4 [00:00&lt;00:00, 72.98it/s]"
      }
     },
     "6e0f64901f574977ba8edde049d196b4": {
      "model_module": "@jupyter-widgets/base",
      "model_module_version": "1.2.0",
      "model_name": "LayoutModel",
      "state": {}
     },
     "6e2a46a7378443709ecc12ef4eb01723": {
      "model_module": "@jupyter-widgets/controls",
      "model_module_version": "1.5.0",
      "model_name": "DescriptionStyleModel",
      "state": {
       "description_width": ""
      }
     },
     "6e89563661d94d7c9bc84704ea2b8f20": {
      "model_module": "@jupyter-widgets/controls",
      "model_module_version": "1.5.0",
      "model_name": "HBoxModel",
      "state": {
       "children": [
        "IPY_MODEL_2f7ceac7a9a840bfa19b9dee80298ecc",
        "IPY_MODEL_48abf9b59e5a4684b251e6a14160ce68",
        "IPY_MODEL_57e52664eb2746ce8ef15e7aebb8b595"
       ],
       "layout": "IPY_MODEL_2b6b6cbfe99a4e0dafb2083269e2623f"
      }
     },
     "6e8d15bc941b4c6b838ca7b93bce66ee": {
      "model_module": "@jupyter-widgets/controls",
      "model_module_version": "1.5.0",
      "model_name": "FloatProgressModel",
      "state": {
       "bar_style": "success",
       "layout": "IPY_MODEL_b17064169ec345ed8e7f1e79fb634077",
       "max": 1345,
       "style": "IPY_MODEL_cfec2cd58bbd4a7199ecc495bbbb88ec",
       "value": 1345
      }
     },
     "6eabc1319dee4d8ca56932524105cead": {
      "model_module": "@jupyter-widgets/controls",
      "model_module_version": "1.5.0",
      "model_name": "DescriptionStyleModel",
      "state": {
       "description_width": ""
      }
     },
     "6eb0711f08d74af1be457f23e67ac372": {
      "model_module": "@jupyter-widgets/controls",
      "model_module_version": "1.5.0",
      "model_name": "HTMLModel",
      "state": {
       "layout": "IPY_MODEL_dd8e2a69f9ce4e139e632c0cbe233835",
       "style": "IPY_MODEL_b6e749c6093049abb80591641fe320c3",
       "value": "VIRAL-PNEUMONIA: 100%"
      }
     },
     "6eba1d4a0d5d40b5b01e6d4c780d21e1": {
      "model_module": "@jupyter-widgets/controls",
      "model_module_version": "1.5.0",
      "model_name": "DescriptionStyleModel",
      "state": {
       "description_width": ""
      }
     },
     "6f105573de334dbcb51596a2bfa6b89d": {
      "model_module": "@jupyter-widgets/controls",
      "model_module_version": "1.5.0",
      "model_name": "HTMLModel",
      "state": {
       "layout": "IPY_MODEL_1ecb2ea384d14c93aa8028c07dd04b17",
       "style": "IPY_MODEL_321e5c093c874eceafea5e35fa20efde",
       "value": "DATASETS: 100%"
      }
     },
     "6f2b73896ecb468bb040297c876829e6": {
      "model_module": "@jupyter-widgets/base",
      "model_module_version": "1.2.0",
      "model_name": "LayoutModel",
      "state": {}
     },
     "6f4580ba5fd749fab205dfda341b46d0": {
      "model_module": "@jupyter-widgets/controls",
      "model_module_version": "1.5.0",
      "model_name": "HBoxModel",
      "state": {
       "children": [
        "IPY_MODEL_7284f70cc6f44ad090ad4c178f298950",
        "IPY_MODEL_348eebccb0f144ad994f7eeadb93346a",
        "IPY_MODEL_ea15569710034317ab611a1c6fdb9b86"
       ],
       "layout": "IPY_MODEL_912304d045aa49998dba395ca956f3cf"
      }
     },
     "6f54c90177484340b16ae0e39d3c3483": {
      "model_module": "@jupyter-widgets/controls",
      "model_module_version": "1.5.0",
      "model_name": "HTMLModel",
      "state": {
       "layout": "IPY_MODEL_6feabafdcacb4d8e82e77279ef202032",
       "style": "IPY_MODEL_c2459b7c4ed049dba55beaf17c253553",
       "value": "VIRAL-PNEUMONIA: 100%"
      }
     },
     "6f92e12c11bc495894af32bbd4a32613": {
      "model_module": "@jupyter-widgets/controls",
      "model_module_version": "1.5.0",
      "model_name": "ProgressStyleModel",
      "state": {
       "description_width": ""
      }
     },
     "6fabc083605e49fea9f844c0f6cc86a6": {
      "model_module": "@jupyter-widgets/controls",
      "model_module_version": "1.5.0",
      "model_name": "HBoxModel",
      "state": {
       "children": [
        "IPY_MODEL_19b5844dfcf140fb87ea7b959040d216",
        "IPY_MODEL_c1546d21f088493391b9e424a716d1d6",
        "IPY_MODEL_f31290854614417e9d71618f03a8724d"
       ],
       "layout": "IPY_MODEL_8f97a5de489e4856840d15692c6ac6ec"
      }
     },
     "6fae44434b024c41822922eea5dd0534": {
      "model_module": "@jupyter-widgets/controls",
      "model_module_version": "1.5.0",
      "model_name": "DescriptionStyleModel",
      "state": {
       "description_width": ""
      }
     },
     "6fdf88a75ee744668d2dbeb0a91a93bf": {
      "model_module": "@jupyter-widgets/controls",
      "model_module_version": "1.5.0",
      "model_name": "DescriptionStyleModel",
      "state": {
       "description_width": ""
      }
     },
     "6feabafdcacb4d8e82e77279ef202032": {
      "model_module": "@jupyter-widgets/base",
      "model_module_version": "1.2.0",
      "model_name": "LayoutModel",
      "state": {}
     },
     "7005edab3c374b89a97aaa8c753fa24f": {
      "model_module": "@jupyter-widgets/controls",
      "model_module_version": "1.5.0",
      "model_name": "DescriptionStyleModel",
      "state": {
       "description_width": ""
      }
     },
     "701bc52462cd412d852878a58530a986": {
      "model_module": "@jupyter-widgets/controls",
      "model_module_version": "1.5.0",
      "model_name": "HBoxModel",
      "state": {
       "children": [
        "IPY_MODEL_35c0a69a1f0e42b891d84c2dcf3d3757",
        "IPY_MODEL_17b3d9e684794989b1a172ff0650384d",
        "IPY_MODEL_44383bbb963641fca75be84d35759cc5"
       ],
       "layout": "IPY_MODEL_a32e37de8f384432905e4f4f5a46e1a8"
      }
     },
     "7034b3abc8bc4be5b7c31c1a17e20cd8": {
      "model_module": "@jupyter-widgets/controls",
      "model_module_version": "1.5.0",
      "model_name": "HTMLModel",
      "state": {
       "layout": "IPY_MODEL_f4d553242a634be08c0a69f0ec41f1f1",
       "style": "IPY_MODEL_6e2a46a7378443709ecc12ef4eb01723",
       "value": "VIRAL-PNEUMONIA: 100%"
      }
     },
     "70fc7f0e42cc43789916e8443b457bf8": {
      "model_module": "@jupyter-widgets/base",
      "model_module_version": "1.2.0",
      "model_name": "LayoutModel",
      "state": {}
     },
     "71166e68e5dd47c1a2a5243cf85d6fac": {
      "model_module": "@jupyter-widgets/base",
      "model_module_version": "1.2.0",
      "model_name": "LayoutModel",
      "state": {}
     },
     "7131608086a342e7a4e6272fae439b47": {
      "model_module": "@jupyter-widgets/base",
      "model_module_version": "1.2.0",
      "model_name": "LayoutModel",
      "state": {}
     },
     "71443f9eae3943b5a4d24c85e2507c03": {
      "model_module": "@jupyter-widgets/base",
      "model_module_version": "1.2.0",
      "model_name": "LayoutModel",
      "state": {}
     },
     "7187b8e5dfc443e3a9e868473d93566b": {
      "model_module": "@jupyter-widgets/base",
      "model_module_version": "1.2.0",
      "model_name": "LayoutModel",
      "state": {}
     },
     "719b4ea6173f4086a5efa6a0a0565086": {
      "model_module": "@jupyter-widgets/controls",
      "model_module_version": "1.5.0",
      "model_name": "HBoxModel",
      "state": {
       "children": [
        "IPY_MODEL_7034b3abc8bc4be5b7c31c1a17e20cd8",
        "IPY_MODEL_75b4118c8f7c4f5da54a36bd807209ef",
        "IPY_MODEL_78d57820c0514264a261b0821521c1b0"
       ],
       "layout": "IPY_MODEL_c0c025d5c66b4c2ea4b73a9f394b1464"
      }
     },
     "71e20a7ea3a546e3b67eda1e1433e39a": {
      "model_module": "@jupyter-widgets/controls",
      "model_module_version": "1.5.0",
      "model_name": "FloatProgressModel",
      "state": {
       "bar_style": "success",
       "layout": "IPY_MODEL_122621539c534431b1c62588855e359f",
       "max": 4,
       "style": "IPY_MODEL_67ccd57dfb1845bb84cd9b00a8caaac0",
       "value": 4
      }
     },
     "71f4937302c24f0bbf28c94b06dd096e": {
      "model_module": "@jupyter-widgets/controls",
      "model_module_version": "1.5.0",
      "model_name": "DescriptionStyleModel",
      "state": {
       "description_width": ""
      }
     },
     "72092e8df38e4f62ad3cea93958b9c96": {
      "model_module": "@jupyter-widgets/controls",
      "model_module_version": "1.5.0",
      "model_name": "HTMLModel",
      "state": {
       "layout": "IPY_MODEL_238cff5b592d46eda8b720ca72962fdb",
       "style": "IPY_MODEL_8e46292e831f49ed8d29c668ecaa9eeb",
       "value": "NORMAL: 100%"
      }
     },
     "722517b834a84034973a8bf321ac155c": {
      "model_module": "@jupyter-widgets/controls",
      "model_module_version": "1.5.0",
      "model_name": "DescriptionStyleModel",
      "state": {
       "description_width": ""
      }
     },
     "7230feb03ab4404aa68684d143864328": {
      "model_module": "@jupyter-widgets/controls",
      "model_module_version": "1.5.0",
      "model_name": "HTMLModel",
      "state": {
       "layout": "IPY_MODEL_6713c69875f94f64b90eb8cf22ec0a71",
       "style": "IPY_MODEL_0af5f986fca842cea4f57177a64f2e45",
       "value": " 3/3 [00:00&lt;00:00,  8.49it/s]"
      }
     },
     "727fa7c39c564e35b8effe12ea380640": {
      "model_module": "@jupyter-widgets/controls",
      "model_module_version": "1.5.0",
      "model_name": "HBoxModel",
      "state": {
       "children": [
        "IPY_MODEL_4a423053f7964c9caf725b46dc777003",
        "IPY_MODEL_3b007389c73d4ae68f36d497d31d42ee",
        "IPY_MODEL_1df8a5e556d7433795aae388c20ec8e8"
       ],
       "layout": "IPY_MODEL_a82998988f08422e804b2500ee8dd241"
      }
     },
     "7284f70cc6f44ad090ad4c178f298950": {
      "model_module": "@jupyter-widgets/controls",
      "model_module_version": "1.5.0",
      "model_name": "HTMLModel",
      "state": {
       "layout": "IPY_MODEL_7f713a1102c84652a460cd1e566bcfd6",
       "style": "IPY_MODEL_c502e2775c3c46a1ad214335330c48d8",
       "value": "COVID: 100%"
      }
     },
     "72befd74d40d46f2a8ef0b02ee983c67": {
      "model_module": "@jupyter-widgets/controls",
      "model_module_version": "1.5.0",
      "model_name": "DescriptionStyleModel",
      "state": {
       "description_width": ""
      }
     },
     "72cb90e765ac4441832d2fdd2b0b9224": {
      "model_module": "@jupyter-widgets/base",
      "model_module_version": "1.2.0",
      "model_name": "LayoutModel",
      "state": {}
     },
     "7346b12b5b1d4148a8ad695131554196": {
      "model_module": "@jupyter-widgets/base",
      "model_module_version": "1.2.0",
      "model_name": "LayoutModel",
      "state": {}
     },
     "7350378ca3ab4b0ab3cd7ee20db6b6c0": {
      "model_module": "@jupyter-widgets/controls",
      "model_module_version": "1.5.0",
      "model_name": "HTMLModel",
      "state": {
       "layout": "IPY_MODEL_15abba7c841148e187c3debb1121bbff",
       "style": "IPY_MODEL_e2f0c27bf31648ceafe0a2dfa5482a06",
       "value": " 4/4 [00:00&lt;00:00, 37.44it/s]"
      }
     },
     "737d442ff30142888ed632846d585f9f": {
      "model_module": "@jupyter-widgets/base",
      "model_module_version": "1.2.0",
      "model_name": "LayoutModel",
      "state": {}
     },
     "7389c038203540628e3a66c51df030dc": {
      "model_module": "@jupyter-widgets/base",
      "model_module_version": "1.2.0",
      "model_name": "LayoutModel",
      "state": {}
     },
     "73b502bee4e14bd889e2d0d0175d7cdc": {
      "model_module": "@jupyter-widgets/controls",
      "model_module_version": "1.5.0",
      "model_name": "DescriptionStyleModel",
      "state": {
       "description_width": ""
      }
     },
     "743420a9bab141f0b498195eef9abc79": {
      "model_module": "@jupyter-widgets/controls",
      "model_module_version": "1.5.0",
      "model_name": "DescriptionStyleModel",
      "state": {
       "description_width": ""
      }
     },
     "743ffa166a5948beb7d788ebd2d8e41d": {
      "model_module": "@jupyter-widgets/controls",
      "model_module_version": "1.5.0",
      "model_name": "HBoxModel",
      "state": {
       "children": [
        "IPY_MODEL_696098a2a23c445e8428921658a30f3d",
        "IPY_MODEL_205e2efa38064da5b790f0fcb336693f",
        "IPY_MODEL_fb738515498b4cb6a08d7b1e46fda880"
       ],
       "layout": "IPY_MODEL_770a13e488114337a7184a4a3933cfae"
      }
     },
     "749b797c51c74464a84529bc2c4a7bed": {
      "model_module": "@jupyter-widgets/controls",
      "model_module_version": "1.5.0",
      "model_name": "HTMLModel",
      "state": {
       "layout": "IPY_MODEL_cc5e4b200591423e9dba3746486f5fb5",
       "style": "IPY_MODEL_c1d376197abc46e698b7d5e6ae9ec3aa",
       "value": " 4/4 [00:00&lt;00:00, 36.60it/s]"
      }
     },
     "74adcfb5c350456e9e05a4978debdddd": {
      "model_module": "@jupyter-widgets/controls",
      "model_module_version": "1.5.0",
      "model_name": "ProgressStyleModel",
      "state": {
       "description_width": ""
      }
     },
     "74c953f66c994b1c9b4431e9ebf0ae27": {
      "model_module": "@jupyter-widgets/base",
      "model_module_version": "1.2.0",
      "model_name": "LayoutModel",
      "state": {}
     },
     "75355fec526440f4b28321aea7a3aa02": {
      "model_module": "@jupyter-widgets/controls",
      "model_module_version": "1.5.0",
      "model_name": "ProgressStyleModel",
      "state": {
       "description_width": ""
      }
     },
     "7541977d21a54d1b9b71b94c28813ba9": {
      "model_module": "@jupyter-widgets/controls",
      "model_module_version": "1.5.0",
      "model_name": "DescriptionStyleModel",
      "state": {
       "description_width": ""
      }
     },
     "754fad069993415e80ec95bf7a39715e": {
      "model_module": "@jupyter-widgets/base",
      "model_module_version": "1.2.0",
      "model_name": "LayoutModel",
      "state": {}
     },
     "75502ce2f1a6483aad9009bfed3ba357": {
      "model_module": "@jupyter-widgets/controls",
      "model_module_version": "1.5.0",
      "model_name": "DescriptionStyleModel",
      "state": {
       "description_width": ""
      }
     },
     "755b8ab24f99405687565504adaff109": {
      "model_module": "@jupyter-widgets/controls",
      "model_module_version": "1.5.0",
      "model_name": "HTMLModel",
      "state": {
       "layout": "IPY_MODEL_7c1a05b9b88645ba9dea3d6935f07c1a",
       "style": "IPY_MODEL_0062d064967141b28a4ea40c339ae07f",
       "value": " 4/4 [00:00&lt;00:00, 83.64it/s]"
      }
     },
     "759457bf0e7941909e9a6dfab0a32688": {
      "model_module": "@jupyter-widgets/controls",
      "model_module_version": "1.5.0",
      "model_name": "HTMLModel",
      "state": {
       "layout": "IPY_MODEL_f0ba2241f8dd4d2f9c45042a51738afa",
       "style": "IPY_MODEL_2884c2fae55d467981ce81013212926a",
       "value": " 4/4 [00:00&lt;00:00, 35.70it/s]"
      }
     },
     "75acb65508c44996a912386eb7593f56": {
      "model_module": "@jupyter-widgets/controls",
      "model_module_version": "1.5.0",
      "model_name": "HTMLModel",
      "state": {
       "layout": "IPY_MODEL_0b0f77388872497f8eb199f692c9b57a",
       "style": "IPY_MODEL_896f9aaa586b48af9ddec169fb6d8e9e",
       "value": "COVID: 100%"
      }
     },
     "75b4118c8f7c4f5da54a36bd807209ef": {
      "model_module": "@jupyter-widgets/controls",
      "model_module_version": "1.5.0",
      "model_name": "FloatProgressModel",
      "state": {
       "bar_style": "success",
       "layout": "IPY_MODEL_3dcd83f0bfd34961af7a6b4933ebeda7",
       "max": 4,
       "style": "IPY_MODEL_f6e27d2799c247aa82274b7933c2080e",
       "value": 4
      }
     },
     "75c203c12a264b1197f7e120e721bdb5": {
      "model_module": "@jupyter-widgets/controls",
      "model_module_version": "1.5.0",
      "model_name": "HTMLModel",
      "state": {
       "layout": "IPY_MODEL_fee14d28b7074ca79fe1bf6eb750cdcb",
       "style": "IPY_MODEL_6b82857dce89494cb1d13fa327d4ca56",
       "value": " 3/3 [00:00&lt;00:00,  8.80it/s]"
      }
     },
     "75cee0b1cd5c46a591c48a1247532dca": {
      "model_module": "@jupyter-widgets/base",
      "model_module_version": "1.2.0",
      "model_name": "LayoutModel",
      "state": {}
     },
     "75eda73223424d7caa33043ad95acba9": {
      "model_module": "@jupyter-widgets/base",
      "model_module_version": "1.2.0",
      "model_name": "LayoutModel",
      "state": {}
     },
     "75f38ac56a25480880febc390ba73042": {
      "model_module": "@jupyter-widgets/controls",
      "model_module_version": "1.5.0",
      "model_name": "HTMLModel",
      "state": {
       "layout": "IPY_MODEL_41e60d2f8f904e6a9af310e0e4804608",
       "style": "IPY_MODEL_b3ccc03c3eb243b0ba1a8d6b55633883",
       "value": "DATASETS: 100%"
      }
     },
     "7613aa20b0e84e3bbf003dd3cb98be59": {
      "model_module": "@jupyter-widgets/controls",
      "model_module_version": "1.5.0",
      "model_name": "HTMLModel",
      "state": {
       "layout": "IPY_MODEL_1138ab30fca343d6822481438cdbea20",
       "style": "IPY_MODEL_88992cf9ca5c4f498e427b7973b2ea59",
       "value": "COVID: 100%"
      }
     },
     "7635e3c951c54b6292262173c0c90fc2": {
      "model_module": "@jupyter-widgets/controls",
      "model_module_version": "1.5.0",
      "model_name": "HTMLModel",
      "state": {
       "layout": "IPY_MODEL_566c2e06f6634636a29d80a62b8f43e5",
       "style": "IPY_MODEL_9a7c6132317042059a3dcdcc4fa78d9e",
       "value": "COVID: 100%"
      }
     },
     "7643a7025e5c444097f032593976e18c": {
      "model_module": "@jupyter-widgets/base",
      "model_module_version": "1.2.0",
      "model_name": "LayoutModel",
      "state": {}
     },
     "764eb24878514987bc30cc143cd46866": {
      "model_module": "@jupyter-widgets/controls",
      "model_module_version": "1.5.0",
      "model_name": "DescriptionStyleModel",
      "state": {
       "description_width": ""
      }
     },
     "76886086548a4a0884b0f4900cf6e9a5": {
      "model_module": "@jupyter-widgets/base",
      "model_module_version": "1.2.0",
      "model_name": "LayoutModel",
      "state": {}
     },
     "768ae0932a35432485878ef6da1d83cc": {
      "model_module": "@jupyter-widgets/controls",
      "model_module_version": "1.5.0",
      "model_name": "DescriptionStyleModel",
      "state": {
       "description_width": ""
      }
     },
     "76fea3eabc8f4ab5a9329209cc05d7be": {
      "model_module": "@jupyter-widgets/controls",
      "model_module_version": "1.5.0",
      "model_name": "DescriptionStyleModel",
      "state": {
       "description_width": ""
      }
     },
     "770a13e488114337a7184a4a3933cfae": {
      "model_module": "@jupyter-widgets/base",
      "model_module_version": "1.2.0",
      "model_name": "LayoutModel",
      "state": {}
     },
     "7714302ca33f4216a2f699c501e7d1d9": {
      "model_module": "@jupyter-widgets/controls",
      "model_module_version": "1.5.0",
      "model_name": "ProgressStyleModel",
      "state": {
       "description_width": ""
      }
     },
     "772e51b0baa44e28bb1115bde999f8b3": {
      "model_module": "@jupyter-widgets/base",
      "model_module_version": "1.2.0",
      "model_name": "LayoutModel",
      "state": {}
     },
     "7732e68b23614cda9cb6463a7762b143": {
      "model_module": "@jupyter-widgets/base",
      "model_module_version": "1.2.0",
      "model_name": "LayoutModel",
      "state": {}
     },
     "7753719574894125873418e75a94f6a6": {
      "model_module": "@jupyter-widgets/base",
      "model_module_version": "1.2.0",
      "model_name": "LayoutModel",
      "state": {}
     },
     "77882d2eaee245a2b0968ffe211fa7e0": {
      "model_module": "@jupyter-widgets/controls",
      "model_module_version": "1.5.0",
      "model_name": "ProgressStyleModel",
      "state": {
       "description_width": ""
      }
     },
     "7788f165704048819d07f3f38cc75f32": {
      "model_module": "@jupyter-widgets/base",
      "model_module_version": "1.2.0",
      "model_name": "LayoutModel",
      "state": {}
     },
     "778da79ca8c24aba8dc12a66cc318a26": {
      "model_module": "@jupyter-widgets/controls",
      "model_module_version": "1.5.0",
      "model_name": "DescriptionStyleModel",
      "state": {
       "description_width": ""
      }
     },
     "7793b0848dbe4a50b1648292e6c31ecf": {
      "model_module": "@jupyter-widgets/base",
      "model_module_version": "1.2.0",
      "model_name": "LayoutModel",
      "state": {}
     },
     "77e7d4aed2fe4c4a96f82e13f2dce83e": {
      "model_module": "@jupyter-widgets/controls",
      "model_module_version": "1.5.0",
      "model_name": "DescriptionStyleModel",
      "state": {
       "description_width": ""
      }
     },
     "7808287acebb45d296d5207b38a04feb": {
      "model_module": "@jupyter-widgets/controls",
      "model_module_version": "1.5.0",
      "model_name": "HTMLModel",
      "state": {
       "layout": "IPY_MODEL_ff2273ed62b94be1b2eeda12217e4ecf",
       "style": "IPY_MODEL_3386148145354d52bb2b3ba75b2d0b7c",
       "value": " 4/4 [00:00&lt;00:00, 38.17it/s]"
      }
     },
     "781fc5c3a8a246edbe3e6a8e84ba7a75": {
      "model_module": "@jupyter-widgets/controls",
      "model_module_version": "1.5.0",
      "model_name": "ProgressStyleModel",
      "state": {
       "description_width": ""
      }
     },
     "782a02b48b1a41c7942985b1f967a107": {
      "model_module": "@jupyter-widgets/base",
      "model_module_version": "1.2.0",
      "model_name": "LayoutModel",
      "state": {}
     },
     "782aed4da52c451d94fe16a34b3639c3": {
      "model_module": "@jupyter-widgets/base",
      "model_module_version": "1.2.0",
      "model_name": "LayoutModel",
      "state": {}
     },
     "78553240f223420aaaa5ac156c25dc21": {
      "model_module": "@jupyter-widgets/controls",
      "model_module_version": "1.5.0",
      "model_name": "HTMLModel",
      "state": {
       "layout": "IPY_MODEL_79619b12542c47f7bf9b7477a1935d6d",
       "style": "IPY_MODEL_50addb411fc8401ba0db2fdb0f16e1eb",
       "value": " 4/4 [00:00&lt;00:00, 27.28it/s]"
      }
     },
     "786b15d619874106bbd657217c3d6e36": {
      "model_module": "@jupyter-widgets/controls",
      "model_module_version": "1.5.0",
      "model_name": "DescriptionStyleModel",
      "state": {
       "description_width": ""
      }
     },
     "78d57820c0514264a261b0821521c1b0": {
      "model_module": "@jupyter-widgets/controls",
      "model_module_version": "1.5.0",
      "model_name": "HTMLModel",
      "state": {
       "layout": "IPY_MODEL_c1af1a8e82cd4ec19e90b794de21a851",
       "style": "IPY_MODEL_c4443c2de38d4e5aaa7bbfe87b314b33",
       "value": " 4/4 [00:00&lt;00:00, 35.88it/s]"
      }
     },
     "78ec973bf6d544d4acb3e93a948da1f0": {
      "model_module": "@jupyter-widgets/base",
      "model_module_version": "1.2.0",
      "model_name": "LayoutModel",
      "state": {}
     },
     "78fb7aaa3d204228bd3f4594b2edefda": {
      "model_module": "@jupyter-widgets/controls",
      "model_module_version": "1.5.0",
      "model_name": "HBoxModel",
      "state": {
       "children": [
        "IPY_MODEL_fcd857d0ff9241a6bde118c4be1e17e7",
        "IPY_MODEL_815dbbce730f443abf4e1687400cf870",
        "IPY_MODEL_f31716b4142a47eda82abd16f232b00c"
       ],
       "layout": "IPY_MODEL_2dcebbd178084564be441d06726c1d70"
      }
     },
     "78fb8696f51e4cd58b31c1cf489333fb": {
      "model_module": "@jupyter-widgets/controls",
      "model_module_version": "1.5.0",
      "model_name": "FloatProgressModel",
      "state": {
       "bar_style": "success",
       "layout": "IPY_MODEL_9d8ae454b7d245f4b98dbbc3e57874ff",
       "max": 4,
       "style": "IPY_MODEL_34f7ae02629f44b98d19695d93f9e2e6",
       "value": 4
      }
     },
     "78fca534c1f347e1b88536348195798e": {
      "model_module": "@jupyter-widgets/controls",
      "model_module_version": "1.5.0",
      "model_name": "DescriptionStyleModel",
      "state": {
       "description_width": ""
      }
     },
     "790ab1d73883446fb49f0ce40da87a37": {
      "model_module": "@jupyter-widgets/base",
      "model_module_version": "1.2.0",
      "model_name": "LayoutModel",
      "state": {}
     },
     "791fb0074e3544d8aeb4e414081250bf": {
      "model_module": "@jupyter-widgets/base",
      "model_module_version": "1.2.0",
      "model_name": "LayoutModel",
      "state": {}
     },
     "792d3c00d7a04ce18f57db6018fe60ca": {
      "model_module": "@jupyter-widgets/base",
      "model_module_version": "1.2.0",
      "model_name": "LayoutModel",
      "state": {}
     },
     "79619b12542c47f7bf9b7477a1935d6d": {
      "model_module": "@jupyter-widgets/base",
      "model_module_version": "1.2.0",
      "model_name": "LayoutModel",
      "state": {}
     },
     "79665f517ce6417bad588d0d9a6200a0": {
      "model_module": "@jupyter-widgets/controls",
      "model_module_version": "1.5.0",
      "model_name": "HBoxModel",
      "state": {
       "children": [
        "IPY_MODEL_0dc61101a29f43d6870a70894e202ac1",
        "IPY_MODEL_b9066fb44b164300b2c97bd8446fe194",
        "IPY_MODEL_6e021c17f3034cd2a06af68a69a9fd92"
       ],
       "layout": "IPY_MODEL_90c4d6797ee64a6e8e3b4e39a89c1b0c"
      }
     },
     "79a04a1b2b1b4745bb418a9e0b0ddc5f": {
      "model_module": "@jupyter-widgets/controls",
      "model_module_version": "1.5.0",
      "model_name": "FloatProgressModel",
      "state": {
       "bar_style": "success",
       "layout": "IPY_MODEL_41beb909076e4a4ab49fb8c146bf9f64",
       "max": 4,
       "style": "IPY_MODEL_ce59e68112be4d538ca12274edd6afe3",
       "value": 4
      }
     },
     "79ca3841e35a4d4cafffe8de5fa20633": {
      "model_module": "@jupyter-widgets/base",
      "model_module_version": "1.2.0",
      "model_name": "LayoutModel",
      "state": {}
     },
     "7a07fc9eb460456d8981f7fe70bbb0b2": {
      "model_module": "@jupyter-widgets/controls",
      "model_module_version": "1.5.0",
      "model_name": "HBoxModel",
      "state": {
       "children": [
        "IPY_MODEL_6f105573de334dbcb51596a2bfa6b89d",
        "IPY_MODEL_ee3d0b13174a47158e18fd27a994aff7",
        "IPY_MODEL_a9c910dfe74c4eb49c1886859af8054e"
       ],
       "layout": "IPY_MODEL_cd76e5831fe640ce9ac8a035312aa2d8"
      }
     },
     "7a232843cc374992834b6f34fed48c19": {
      "model_module": "@jupyter-widgets/controls",
      "model_module_version": "1.5.0",
      "model_name": "DescriptionStyleModel",
      "state": {
       "description_width": ""
      }
     },
     "7a4cf3e0244843a6ae661511aa4ee2a3": {
      "model_module": "@jupyter-widgets/controls",
      "model_module_version": "1.5.0",
      "model_name": "HTMLModel",
      "state": {
       "layout": "IPY_MODEL_2c851ba2b9334800a9b6c85d73771807",
       "style": "IPY_MODEL_d9836a340f384acb9e0e38e11481ce95",
       "value": " 4/4 [00:00&lt;00:00, 36.62it/s]"
      }
     },
     "7a6b8298b9fb4e73b3f97d31ff457606": {
      "model_module": "@jupyter-widgets/controls",
      "model_module_version": "1.5.0",
      "model_name": "FloatProgressModel",
      "state": {
       "bar_style": "success",
       "layout": "IPY_MODEL_cbfbd544172a46cca888868f08b442b3",
       "max": 4,
       "style": "IPY_MODEL_c3167cdbeb2a48278e7e0ca1f74cf6f6",
       "value": 4
      }
     },
     "7a78c39d89a04535a4671caa3797512a": {
      "model_module": "@jupyter-widgets/base",
      "model_module_version": "1.2.0",
      "model_name": "LayoutModel",
      "state": {}
     },
     "7af80d626e4c4fe68f48e9fe06623576": {
      "model_module": "@jupyter-widgets/base",
      "model_module_version": "1.2.0",
      "model_name": "LayoutModel",
      "state": {}
     },
     "7b1b17c1e92f4f838b525f72399b39c4": {
      "model_module": "@jupyter-widgets/base",
      "model_module_version": "1.2.0",
      "model_name": "LayoutModel",
      "state": {}
     },
     "7b25991e001644c8964ec2bb016f1a51": {
      "model_module": "@jupyter-widgets/controls",
      "model_module_version": "1.5.0",
      "model_name": "HTMLModel",
      "state": {
       "layout": "IPY_MODEL_673cd362d8af4d3b98e847c881e8607a",
       "style": "IPY_MODEL_71f4937302c24f0bbf28c94b06dd096e",
       "value": " 3/3 [00:00&lt;00:00,  8.82it/s]"
      }
     },
     "7b3b4435e0f7459d951e03f0e5307da0": {
      "model_module": "@jupyter-widgets/controls",
      "model_module_version": "1.5.0",
      "model_name": "DescriptionStyleModel",
      "state": {
       "description_width": ""
      }
     },
     "7b439fe84f0b4947a82ca691c8c1066c": {
      "model_module": "@jupyter-widgets/base",
      "model_module_version": "1.2.0",
      "model_name": "LayoutModel",
      "state": {}
     },
     "7b57e1b515e34e5790b71cdf6a35083e": {
      "model_module": "@jupyter-widgets/controls",
      "model_module_version": "1.5.0",
      "model_name": "HTMLModel",
      "state": {
       "layout": "IPY_MODEL_4bee73139e9843fa8259ede85772d491",
       "style": "IPY_MODEL_3bf83cd148a84e42a70f1d97f2a8bb5d",
       "value": "VIRAL-PNEUMONIA: 100%"
      }
     },
     "7b6bc8c01ac34e9493308ad93a47e733": {
      "model_module": "@jupyter-widgets/controls",
      "model_module_version": "1.5.0",
      "model_name": "DescriptionStyleModel",
      "state": {
       "description_width": ""
      }
     },
     "7b6f7e8018b3468b98cb33a2ca318eaa": {
      "model_module": "@jupyter-widgets/controls",
      "model_module_version": "1.5.0",
      "model_name": "DescriptionStyleModel",
      "state": {
       "description_width": ""
      }
     },
     "7bafb46b1afe4366a2192a0869f48c63": {
      "model_module": "@jupyter-widgets/controls",
      "model_module_version": "1.5.0",
      "model_name": "FloatProgressModel",
      "state": {
       "bar_style": "success",
       "layout": "IPY_MODEL_944320bd99bb44d3bd5fa57ef519453f",
       "max": 3,
       "style": "IPY_MODEL_3becf0eea887454f9a35a6628aecfe5e",
       "value": 3
      }
     },
     "7bc63423366943f6bfc6f0b58e5dd670": {
      "model_module": "@jupyter-widgets/base",
      "model_module_version": "1.2.0",
      "model_name": "LayoutModel",
      "state": {}
     },
     "7bcfd936efdc49768b2ea11e635c2ef5": {
      "model_module": "@jupyter-widgets/controls",
      "model_module_version": "1.5.0",
      "model_name": "DescriptionStyleModel",
      "state": {
       "description_width": ""
      }
     },
     "7c1a05b9b88645ba9dea3d6935f07c1a": {
      "model_module": "@jupyter-widgets/base",
      "model_module_version": "1.2.0",
      "model_name": "LayoutModel",
      "state": {}
     },
     "7c1bad880dd649b0a190337c29fe12fc": {
      "model_module": "@jupyter-widgets/base",
      "model_module_version": "1.2.0",
      "model_name": "LayoutModel",
      "state": {}
     },
     "7c283d323eb0414daa10906b1e43f109": {
      "model_module": "@jupyter-widgets/base",
      "model_module_version": "1.2.0",
      "model_name": "LayoutModel",
      "state": {}
     },
     "7c389a2048274140a42b7fd99bb1c138": {
      "model_module": "@jupyter-widgets/controls",
      "model_module_version": "1.5.0",
      "model_name": "DescriptionStyleModel",
      "state": {
       "description_width": ""
      }
     },
     "7c816cf5e1f34b3a8dec39cf06f62563": {
      "model_module": "@jupyter-widgets/controls",
      "model_module_version": "1.5.0",
      "model_name": "HTMLModel",
      "state": {
       "layout": "IPY_MODEL_14c51bde53bd4ab4acf632dfbf825cdd",
       "style": "IPY_MODEL_9f371e66e74e403fa81b6b0f84b12d45",
       "value": "NORMAL: 100%"
      }
     },
     "7cb07bd0e6fa4254bac2c6682b107250": {
      "model_module": "@jupyter-widgets/base",
      "model_module_version": "1.2.0",
      "model_name": "LayoutModel",
      "state": {}
     },
     "7cc524d091ee4bebb407a1dc7b12f0e2": {
      "model_module": "@jupyter-widgets/controls",
      "model_module_version": "1.5.0",
      "model_name": "DescriptionStyleModel",
      "state": {
       "description_width": ""
      }
     },
     "7ce1940a9dbf45ae99d262f95d1e6798": {
      "model_module": "@jupyter-widgets/base",
      "model_module_version": "1.2.0",
      "model_name": "LayoutModel",
      "state": {}
     },
     "7d058d5773b14ab280ecd8dfb3bc7b77": {
      "model_module": "@jupyter-widgets/controls",
      "model_module_version": "1.5.0",
      "model_name": "DescriptionStyleModel",
      "state": {
       "description_width": ""
      }
     },
     "7d359e35c5764d549fc36d74cfc1b091": {
      "model_module": "@jupyter-widgets/controls",
      "model_module_version": "1.5.0",
      "model_name": "ProgressStyleModel",
      "state": {
       "description_width": ""
      }
     },
     "7d6549c936d84914a36db03aa70dfb45": {
      "model_module": "@jupyter-widgets/controls",
      "model_module_version": "1.5.0",
      "model_name": "FloatProgressModel",
      "state": {
       "bar_style": "success",
       "layout": "IPY_MODEL_08d3d0aca6bd46e395194da4db905875",
       "max": 3,
       "style": "IPY_MODEL_e1f0465cf4c1498aa91a697c18b359eb",
       "value": 3
      }
     },
     "7d7f8c0b71a34474860953efac2abb78": {
      "model_module": "@jupyter-widgets/controls",
      "model_module_version": "1.5.0",
      "model_name": "DescriptionStyleModel",
      "state": {
       "description_width": ""
      }
     },
     "7dd8f53ed11348f78d49df724f284fc6": {
      "model_module": "@jupyter-widgets/controls",
      "model_module_version": "1.5.0",
      "model_name": "HTMLModel",
      "state": {
       "layout": "IPY_MODEL_526d2d2021ee47ecbd1b04da21718f58",
       "style": "IPY_MODEL_0f8bbd805af046529bac09272616b7cb",
       "value": "DATASETS: 100%"
      }
     },
     "7ddd0590f9e246d591b9ab7fb2fcaa64": {
      "model_module": "@jupyter-widgets/controls",
      "model_module_version": "1.5.0",
      "model_name": "FloatProgressModel",
      "state": {
       "bar_style": "success",
       "layout": "IPY_MODEL_aca32acafcaa4fc5af682db047de08b1",
       "max": 3,
       "style": "IPY_MODEL_6553f6a8cf674076bbc5aa9abde38922",
       "value": 3
      }
     },
     "7df7582906e64c13add69cc47f128cba": {
      "model_module": "@jupyter-widgets/controls",
      "model_module_version": "1.5.0",
      "model_name": "HBoxModel",
      "state": {
       "children": [
        "IPY_MODEL_cf578377333048b9b34a5dcc805826e5",
        "IPY_MODEL_9503d67076864443a2156210ef85bc91",
        "IPY_MODEL_60cb0d605dee478c9fb4c1a22eed3ff1"
       ],
       "layout": "IPY_MODEL_ef782a6d52d84caf90efaeb712d7ec02"
      }
     },
     "7e1f90cf225f4769a342b8c0956c9b3c": {
      "model_module": "@jupyter-widgets/controls",
      "model_module_version": "1.5.0",
      "model_name": "FloatProgressModel",
      "state": {
       "bar_style": "success",
       "layout": "IPY_MODEL_424ec702abce4030a0972177196fd60c",
       "max": 3,
       "style": "IPY_MODEL_a220ba8261e34db3ae7adf907bfa2612",
       "value": 3
      }
     },
     "7e3b3af222fb446bbbe44a3f0c02e34c": {
      "model_module": "@jupyter-widgets/base",
      "model_module_version": "1.2.0",
      "model_name": "LayoutModel",
      "state": {}
     },
     "7e4e4cf4256b4d0b99f35245726e6b8d": {
      "model_module": "@jupyter-widgets/controls",
      "model_module_version": "1.5.0",
      "model_name": "HBoxModel",
      "state": {
       "children": [
        "IPY_MODEL_424b4cd236844079b6e0c19b595e71b5",
        "IPY_MODEL_aab843e0fe7e4ce8a32d80fce14601a0",
        "IPY_MODEL_655a43487b074b4d8f08cf0aca67fa4a"
       ],
       "layout": "IPY_MODEL_d31564661347465fb37c43e57b5dbffd"
      }
     },
     "7e6089ede193448b8e1336392b8aa035": {
      "model_module": "@jupyter-widgets/base",
      "model_module_version": "1.2.0",
      "model_name": "LayoutModel",
      "state": {}
     },
     "7e72cc79c49b4a29ad9b2205df3b9aa6": {
      "model_module": "@jupyter-widgets/controls",
      "model_module_version": "1.5.0",
      "model_name": "HTMLModel",
      "state": {
       "layout": "IPY_MODEL_5c9d228b66aa437897aabd51e43a39f1",
       "style": "IPY_MODEL_4b5b8392121942238eea76fb048f2495",
       "value": " 3/3 [00:00&lt;00:00,  8.97it/s]"
      }
     },
     "7e990ab1c0da4215876d0bc9c756018f": {
      "model_module": "@jupyter-widgets/controls",
      "model_module_version": "1.5.0",
      "model_name": "HTMLModel",
      "state": {
       "layout": "IPY_MODEL_7b1b17c1e92f4f838b525f72399b39c4",
       "style": "IPY_MODEL_daf9709a581744f4b996744f635fb4a1",
       "value": " 4/4 [00:00&lt;00:00, 28.38it/s]"
      }
     },
     "7eb22b719d5f49369657baa76669f250": {
      "model_module": "@jupyter-widgets/base",
      "model_module_version": "1.2.0",
      "model_name": "LayoutModel",
      "state": {}
     },
     "7ef1b004a402470c8e86feb2a18bf6fe": {
      "model_module": "@jupyter-widgets/controls",
      "model_module_version": "1.5.0",
      "model_name": "HBoxModel",
      "state": {
       "children": [
        "IPY_MODEL_87b4fda4fbc34b6391ef7429c31dab1d",
        "IPY_MODEL_b27c4df607b54253b1ef5aa3832c6916",
        "IPY_MODEL_ba35c05cb638458ca04ac13210aae676"
       ],
       "layout": "IPY_MODEL_bddf90fc7a434c5db07484386d3d5ee3"
      }
     },
     "7f23ef7761a24f6a80bfff443179c971": {
      "model_module": "@jupyter-widgets/controls",
      "model_module_version": "1.5.0",
      "model_name": "HTMLModel",
      "state": {
       "layout": "IPY_MODEL_60e1b82c0a0145f2bafe8df10a73a0e0",
       "style": "IPY_MODEL_e192e8646c9847928aa5a16a4510c0c0",
       "value": " 3/3 [00:00&lt;00:00,  9.35it/s]"
      }
     },
     "7f4c5a80e8444152ad32945206ba1d18": {
      "model_module": "@jupyter-widgets/controls",
      "model_module_version": "1.5.0",
      "model_name": "ProgressStyleModel",
      "state": {
       "description_width": ""
      }
     },
     "7f61db3bf4634c21ae35c92f7be699a2": {
      "model_module": "@jupyter-widgets/controls",
      "model_module_version": "1.5.0",
      "model_name": "HTMLModel",
      "state": {
       "layout": "IPY_MODEL_2b07bbe42b874d87b626f68fb62ec9fe",
       "style": "IPY_MODEL_7b6f7e8018b3468b98cb33a2ca318eaa",
       "value": " 4/4 [00:00&lt;00:00, 29.17it/s]"
      }
     },
     "7f6d20b48a1f42908deaad4895d334da": {
      "model_module": "@jupyter-widgets/base",
      "model_module_version": "1.2.0",
      "model_name": "LayoutModel",
      "state": {}
     },
     "7f713a1102c84652a460cd1e566bcfd6": {
      "model_module": "@jupyter-widgets/base",
      "model_module_version": "1.2.0",
      "model_name": "LayoutModel",
      "state": {}
     },
     "7f9d3b739ddb405db70cdeae23e3d713": {
      "model_module": "@jupyter-widgets/base",
      "model_module_version": "1.2.0",
      "model_name": "LayoutModel",
      "state": {}
     },
     "7fb10e01d6694d13b7d29dd2228de813": {
      "model_module": "@jupyter-widgets/base",
      "model_module_version": "1.2.0",
      "model_name": "LayoutModel",
      "state": {}
     },
     "7fd9a975e7204cbeaad98feda9f0aefa": {
      "model_module": "@jupyter-widgets/base",
      "model_module_version": "1.2.0",
      "model_name": "LayoutModel",
      "state": {}
     },
     "7feef17177a24b5c8ea9b5ea10c0971e": {
      "model_module": "@jupyter-widgets/controls",
      "model_module_version": "1.5.0",
      "model_name": "HBoxModel",
      "state": {
       "children": [
        "IPY_MODEL_15e800d5de4d448b840fbaaa2bb0d8dd",
        "IPY_MODEL_7e1f90cf225f4769a342b8c0956c9b3c",
        "IPY_MODEL_91508244b79e4e4bbb7ee92169a269df"
       ],
       "layout": "IPY_MODEL_5dafa76cfa5647c1bbabbd496f2b9524"
      }
     },
     "8010d7c0166648ecadd24d65a55702fa": {
      "model_module": "@jupyter-widgets/controls",
      "model_module_version": "1.5.0",
      "model_name": "HTMLModel",
      "state": {
       "layout": "IPY_MODEL_ca83dc2f37db4e0dafafa0f7faaf018c",
       "style": "IPY_MODEL_f14845c9cf794d178e8aaa4390027fc5",
       "value": " 4/4 [00:00&lt;00:00, 38.37it/s]"
      }
     },
     "80185864637a4d88afff9d9fb6f29d4f": {
      "model_module": "@jupyter-widgets/controls",
      "model_module_version": "1.5.0",
      "model_name": "DescriptionStyleModel",
      "state": {
       "description_width": ""
      }
     },
     "801942bab0844194a3240bdc37f96360": {
      "model_module": "@jupyter-widgets/base",
      "model_module_version": "1.2.0",
      "model_name": "LayoutModel",
      "state": {}
     },
     "8026df6fc5c44dfbbbe483e6fdb55dd7": {
      "model_module": "@jupyter-widgets/controls",
      "model_module_version": "1.5.0",
      "model_name": "HBoxModel",
      "state": {
       "children": [
        "IPY_MODEL_3dc8646ed4d046dfaa7d60bc5bf14430",
        "IPY_MODEL_0c1d14f5ef024e468552d2a84b1aeb2e",
        "IPY_MODEL_93840c6d315540eb855f6057d52be444"
       ],
       "layout": "IPY_MODEL_5b6f9457763f4f5d95857ec0623f3102"
      }
     },
     "8060dd8f57a14ec78a553ef7af9a285d": {
      "model_module": "@jupyter-widgets/controls",
      "model_module_version": "1.5.0",
      "model_name": "HBoxModel",
      "state": {
       "children": [
        "IPY_MODEL_85015f8bb7b04981903bf60529b89c4a",
        "IPY_MODEL_ad1edf2181274f3eaad9eac1e3c550bd",
        "IPY_MODEL_fde7bece977e4bb2951b6a3f9ba45791"
       ],
       "layout": "IPY_MODEL_d403961036ec4f6c85dfbf98961eb508"
      }
     },
     "809f440c12f34d6d93ce114703398966": {
      "model_module": "@jupyter-widgets/base",
      "model_module_version": "1.2.0",
      "model_name": "LayoutModel",
      "state": {}
     },
     "80a1cea3235e4d9eb90453436c2f2b5a": {
      "model_module": "@jupyter-widgets/controls",
      "model_module_version": "1.5.0",
      "model_name": "HTMLModel",
      "state": {
       "layout": "IPY_MODEL_cb1e166b5849430d9b2efbe0f7162082",
       "style": "IPY_MODEL_d06856c8596b4d1cab475cefb8dc0411",
       "value": "NORMAL: 100%"
      }
     },
     "80a3259c956e433bbdbbac2516f97d3b": {
      "model_module": "@jupyter-widgets/base",
      "model_module_version": "1.2.0",
      "model_name": "LayoutModel",
      "state": {}
     },
     "80aa445677c64355b14f53e18d89ecc7": {
      "model_module": "@jupyter-widgets/base",
      "model_module_version": "1.2.0",
      "model_name": "LayoutModel",
      "state": {}
     },
     "80b20c2ca5f84f499cdd1b6eaa9bee03": {
      "model_module": "@jupyter-widgets/base",
      "model_module_version": "1.2.0",
      "model_name": "LayoutModel",
      "state": {}
     },
     "80b21e82060542848f74965c7cb31b63": {
      "model_module": "@jupyter-widgets/controls",
      "model_module_version": "1.5.0",
      "model_name": "HTMLModel",
      "state": {
       "layout": "IPY_MODEL_ff7bcf12f89742979a3d072386286443",
       "style": "IPY_MODEL_13105803072a4eb7bbe7a3b9152f3be6",
       "value": "VIRAL-PNEUMONIA: 100%"
      }
     },
     "80b58625d1b9407eba2a95b8edfc67ef": {
      "model_module": "@jupyter-widgets/base",
      "model_module_version": "1.2.0",
      "model_name": "LayoutModel",
      "state": {}
     },
     "80d8528e053a497f83e575ed11b29c87": {
      "model_module": "@jupyter-widgets/controls",
      "model_module_version": "1.5.0",
      "model_name": "DescriptionStyleModel",
      "state": {
       "description_width": ""
      }
     },
     "80f21b5c4abd4796bb07abccd711a879": {
      "model_module": "@jupyter-widgets/controls",
      "model_module_version": "1.5.0",
      "model_name": "HBoxModel",
      "state": {
       "children": [
        "IPY_MODEL_ac2f6623a5ea4117b9a7ad5212c1c800",
        "IPY_MODEL_7ddd0590f9e246d591b9ab7fb2fcaa64",
        "IPY_MODEL_84a3aeb724c247ffb594438ab7bc7fd3"
       ],
       "layout": "IPY_MODEL_f6f426ffbd5447ff9d3016416562c908"
      }
     },
     "812bd359a06c4d20835b68f9e2516cb1": {
      "model_module": "@jupyter-widgets/controls",
      "model_module_version": "1.5.0",
      "model_name": "HTMLModel",
      "state": {
       "layout": "IPY_MODEL_46e5ccab00e54c3a836141407be12cf7",
       "style": "IPY_MODEL_17903db3cae947bbb5b9163db1f326a0",
       "value": "NORMAL: 100%"
      }
     },
     "813f71c891804e7fa2ec9ed4d2982b37": {
      "model_module": "@jupyter-widgets/controls",
      "model_module_version": "1.5.0",
      "model_name": "DescriptionStyleModel",
      "state": {
       "description_width": ""
      }
     },
     "815dbbce730f443abf4e1687400cf870": {
      "model_module": "@jupyter-widgets/controls",
      "model_module_version": "1.5.0",
      "model_name": "FloatProgressModel",
      "state": {
       "bar_style": "success",
       "layout": "IPY_MODEL_cb47ca0b8ebe4e9b8cefcb5cde96b1d0",
       "max": 3,
       "style": "IPY_MODEL_2dfc0a7ed3fb46d7be45b5b5e769c471",
       "value": 3
      }
     },
     "816ce1d044244ac58538bdcc1df1cf65": {
      "model_module": "@jupyter-widgets/controls",
      "model_module_version": "1.5.0",
      "model_name": "HTMLModel",
      "state": {
       "layout": "IPY_MODEL_375fb83aa14546f49044de347876eec3",
       "style": "IPY_MODEL_0cd1fcdf182a415e9103d25a77420a51",
       "value": " 4/4 [00:00&lt;00:00, 29.35it/s]"
      }
     },
     "81959d4e727549a4b2571ea76143fe65": {
      "model_module": "@jupyter-widgets/controls",
      "model_module_version": "1.5.0",
      "model_name": "DescriptionStyleModel",
      "state": {
       "description_width": ""
      }
     },
     "819fe47439e24e9496c4a0f759ea31e2": {
      "model_module": "@jupyter-widgets/controls",
      "model_module_version": "1.5.0",
      "model_name": "DescriptionStyleModel",
      "state": {
       "description_width": ""
      }
     },
     "8208935af20e4e25a7ba792ba31efda4": {
      "model_module": "@jupyter-widgets/base",
      "model_module_version": "1.2.0",
      "model_name": "LayoutModel",
      "state": {}
     },
     "821c8349113041d79fa401ebdb3dc0a1": {
      "model_module": "@jupyter-widgets/base",
      "model_module_version": "1.2.0",
      "model_name": "LayoutModel",
      "state": {}
     },
     "822b48602033410083325090e1948c96": {
      "model_module": "@jupyter-widgets/base",
      "model_module_version": "1.2.0",
      "model_name": "LayoutModel",
      "state": {}
     },
     "82383d9267bf41589759d8219d65750c": {
      "model_module": "@jupyter-widgets/base",
      "model_module_version": "1.2.0",
      "model_name": "LayoutModel",
      "state": {}
     },
     "82569fcb2f98439abb92ec7e5d4befd8": {
      "model_module": "@jupyter-widgets/controls",
      "model_module_version": "1.5.0",
      "model_name": "DescriptionStyleModel",
      "state": {
       "description_width": ""
      }
     },
     "825a1dbc9dd14b69bde335e85362b54a": {
      "model_module": "@jupyter-widgets/controls",
      "model_module_version": "1.5.0",
      "model_name": "HBoxModel",
      "state": {
       "children": [
        "IPY_MODEL_89b2b4bf371f427e9c5a4ecda08bb30c",
        "IPY_MODEL_19b1218cd5cb4f5ab4678935fdb6334a",
        "IPY_MODEL_b19984de94fb458daabfb7dcaae56c2f"
       ],
       "layout": "IPY_MODEL_c3dbae1a9cb14d8384d9bce02583aa31"
      }
     },
     "827fecafc702433788920b5e575ae55e": {
      "model_module": "@jupyter-widgets/base",
      "model_module_version": "1.2.0",
      "model_name": "LayoutModel",
      "state": {}
     },
     "828615e42e21491983a3da180f073032": {
      "model_module": "@jupyter-widgets/base",
      "model_module_version": "1.2.0",
      "model_name": "LayoutModel",
      "state": {}
     },
     "82d24224ab744fd7b4479ddcc50f4fd5": {
      "model_module": "@jupyter-widgets/controls",
      "model_module_version": "1.5.0",
      "model_name": "DescriptionStyleModel",
      "state": {
       "description_width": ""
      }
     },
     "82f6d783288445b4a38e6972e9ea15a2": {
      "model_module": "@jupyter-widgets/controls",
      "model_module_version": "1.5.0",
      "model_name": "HTMLModel",
      "state": {
       "layout": "IPY_MODEL_c7fb60f79f8b47558800586f1c76f2a0",
       "style": "IPY_MODEL_fd2eb8dadcf4484ba9754a546e018b49",
       "value": " 4/4 [00:00&lt;00:00, 36.07it/s]"
      }
     },
     "82f94dda34dd47ca99ca6810ebf4b2ab": {
      "model_module": "@jupyter-widgets/controls",
      "model_module_version": "1.5.0",
      "model_name": "HBoxModel",
      "state": {
       "children": [
        "IPY_MODEL_f33d0d56a49941338f331401fa78ff09",
        "IPY_MODEL_6532deb3321a4272955eae569e2e587e",
        "IPY_MODEL_203d527a2f2845db9e5252ec15694404"
       ],
       "layout": "IPY_MODEL_85575067d1a74f1bab12816ec9ab8cda"
      }
     },
     "83188dd433d848a1881c2c8118217ada": {
      "model_module": "@jupyter-widgets/controls",
      "model_module_version": "1.5.0",
      "model_name": "HTMLModel",
      "state": {
       "layout": "IPY_MODEL_88e0db3abe244d51a94bea48c9bc5cd9",
       "style": "IPY_MODEL_d2d641f723e24ee6a651aaaeca543caf",
       "value": "NORMAL: 100%"
      }
     },
     "8320fbe1779f45e6a2c3e502f4df3d0d": {
      "model_module": "@jupyter-widgets/base",
      "model_module_version": "1.2.0",
      "model_name": "LayoutModel",
      "state": {}
     },
     "83296dc783f64ceb995503d2a069a328": {
      "model_module": "@jupyter-widgets/controls",
      "model_module_version": "1.5.0",
      "model_name": "HTMLModel",
      "state": {
       "layout": "IPY_MODEL_dd92e3d7a449489d8fca99fed8452d07",
       "style": "IPY_MODEL_17f5149f68ab4b04af0905dd2e072572",
       "value": " 4/4 [00:00&lt;00:00, 28.75it/s]"
      }
     },
     "8376bb92de5d44e598df27f7d4d73f6b": {
      "model_module": "@jupyter-widgets/base",
      "model_module_version": "1.2.0",
      "model_name": "LayoutModel",
      "state": {}
     },
     "837e25664cbf41c48374eb90096ae3f6": {
      "model_module": "@jupyter-widgets/controls",
      "model_module_version": "1.5.0",
      "model_name": "HBoxModel",
      "state": {
       "children": [
        "IPY_MODEL_1904b44e3bc54b5a88b13df5f40a640f",
        "IPY_MODEL_de61f501012145228b0e1b43fc2ba3a5",
        "IPY_MODEL_d8c63f2cf8e942f88f15c19f57600a97"
       ],
       "layout": "IPY_MODEL_5694c27479164db28c9571834c14cafa"
      }
     },
     "8391b8824be0471391fcd707151a271a": {
      "model_module": "@jupyter-widgets/controls",
      "model_module_version": "1.5.0",
      "model_name": "FloatProgressModel",
      "state": {
       "bar_style": "success",
       "layout": "IPY_MODEL_99ee119d16964b9ea26dee13c831880b",
       "max": 4,
       "style": "IPY_MODEL_bfec9b9ca6454acdb2c65cf8d80e0576",
       "value": 4
      }
     },
     "83a39f40b9144046b401d2a523fcec60": {
      "model_module": "@jupyter-widgets/controls",
      "model_module_version": "1.5.0",
      "model_name": "ProgressStyleModel",
      "state": {
       "description_width": ""
      }
     },
     "83b55f60aa0a4b92a3fe0db76b0d78e9": {
      "model_module": "@jupyter-widgets/controls",
      "model_module_version": "1.5.0",
      "model_name": "HTMLModel",
      "state": {
       "layout": "IPY_MODEL_e9fa20e229d347f2a1da6d6358cc2353",
       "style": "IPY_MODEL_94a4232a218b40e5adbc1a4d1b92c12f",
       "value": "VIRAL-PNEUMONIA: 100%"
      }
     },
     "83d2a47eb2e04380b52ffc55d6e21a68": {
      "model_module": "@jupyter-widgets/controls",
      "model_module_version": "1.5.0",
      "model_name": "FloatProgressModel",
      "state": {
       "bar_style": "success",
       "layout": "IPY_MODEL_9de6be2b2f4845b9b9ca3eee5acd73d5",
       "max": 4,
       "style": "IPY_MODEL_ebd98f1d70744faca3e295e11f0e14f4",
       "value": 4
      }
     },
     "83d94c72fc5244cd8e89ca4933cb2434": {
      "model_module": "@jupyter-widgets/controls",
      "model_module_version": "1.5.0",
      "model_name": "DescriptionStyleModel",
      "state": {
       "description_width": ""
      }
     },
     "84a3aeb724c247ffb594438ab7bc7fd3": {
      "model_module": "@jupyter-widgets/controls",
      "model_module_version": "1.5.0",
      "model_name": "HTMLModel",
      "state": {
       "layout": "IPY_MODEL_b056b38c0fb7481c939d424049728e7a",
       "style": "IPY_MODEL_04e6d96e3d044993b95338ef3ca87010",
       "value": " 3/3 [00:00&lt;00:00,  9.23it/s]"
      }
     },
     "84cf3d7186f8477f844ab7f07940f35e": {
      "model_module": "@jupyter-widgets/base",
      "model_module_version": "1.2.0",
      "model_name": "LayoutModel",
      "state": {}
     },
     "84f1517852b549bd9dc76de9736c61b2": {
      "model_module": "@jupyter-widgets/controls",
      "model_module_version": "1.5.0",
      "model_name": "DescriptionStyleModel",
      "state": {
       "description_width": ""
      }
     },
     "85015f8bb7b04981903bf60529b89c4a": {
      "model_module": "@jupyter-widgets/controls",
      "model_module_version": "1.5.0",
      "model_name": "HTMLModel",
      "state": {
       "layout": "IPY_MODEL_58778908a9654af2bc3e86cfbd3b36ab",
       "style": "IPY_MODEL_6fdf88a75ee744668d2dbeb0a91a93bf",
       "value": "NORMAL: 100%"
      }
     },
     "8508459c0e4044f1b125b8bb3ebfae6a": {
      "model_module": "@jupyter-widgets/controls",
      "model_module_version": "1.5.0",
      "model_name": "HTMLModel",
      "state": {
       "layout": "IPY_MODEL_ba9b597c3a4a4481b40bce5c8621497e",
       "style": "IPY_MODEL_3699befb819b400bb602a59e7d757e3a",
       "value": " 4/4 [00:00&lt;00:00, 73.72it/s]"
      }
     },
     "851adf3b9e8143ec9d2b72da6b452b16": {
      "model_module": "@jupyter-widgets/controls",
      "model_module_version": "1.5.0",
      "model_name": "DescriptionStyleModel",
      "state": {
       "description_width": ""
      }
     },
     "85533ac7bcce4288a4c145c5fbb4cad5": {
      "model_module": "@jupyter-widgets/controls",
      "model_module_version": "1.5.0",
      "model_name": "DescriptionStyleModel",
      "state": {
       "description_width": ""
      }
     },
     "85575067d1a74f1bab12816ec9ab8cda": {
      "model_module": "@jupyter-widgets/base",
      "model_module_version": "1.2.0",
      "model_name": "LayoutModel",
      "state": {}
     },
     "8565e2f978dd4362a059743e4b0c939f": {
      "model_module": "@jupyter-widgets/base",
      "model_module_version": "1.2.0",
      "model_name": "LayoutModel",
      "state": {}
     },
     "858702133b974707abc6347f73c966e1": {
      "model_module": "@jupyter-widgets/controls",
      "model_module_version": "1.5.0",
      "model_name": "HTMLModel",
      "state": {
       "layout": "IPY_MODEL_3f0c914568a541518d9a5796d045f0d8",
       "style": "IPY_MODEL_cf423026488342be9ec90bcc2ff44fd3",
       "value": " 4/4 [00:00&lt;00:00, 41.69it/s]"
      }
     },
     "858c0729ac7e42a096fc1319626ce73c": {
      "model_module": "@jupyter-widgets/controls",
      "model_module_version": "1.5.0",
      "model_name": "DescriptionStyleModel",
      "state": {
       "description_width": ""
      }
     },
     "85a31a01067a428fb969e52ae4d961b6": {
      "model_module": "@jupyter-widgets/controls",
      "model_module_version": "1.5.0",
      "model_name": "HTMLModel",
      "state": {
       "layout": "IPY_MODEL_ac2f564e38404c34934a88805f7cc792",
       "style": "IPY_MODEL_3fb22a30fd54450da0be24eb441aa76e",
       "value": " 1341/1341 [00:18&lt;00:00, 74.03it/s]"
      }
     },
     "85b4dc59759542d8959fecc5d59a0f70": {
      "model_module": "@jupyter-widgets/controls",
      "model_module_version": "1.5.0",
      "model_name": "HBoxModel",
      "state": {
       "children": [
        "IPY_MODEL_d5be43e475ff4fe38188142bad48879b",
        "IPY_MODEL_33d286b87cff4c269b01cdf39b4c8581",
        "IPY_MODEL_9fe252c246d2425f8e7af1c5f0f21abf"
       ],
       "layout": "IPY_MODEL_0f5b831d01184f768fec281a5e87c54a"
      }
     },
     "863fcfe3ab4146359baee55a5d6b704b": {
      "model_module": "@jupyter-widgets/controls",
      "model_module_version": "1.5.0",
      "model_name": "HTMLModel",
      "state": {
       "layout": "IPY_MODEL_3ffc0b614de84ed5a7404ce4353863cd",
       "style": "IPY_MODEL_98993f2daaa14287be72f40c3ca6d097",
       "value": " 4/4 [00:00&lt;00:00, 34.88it/s]"
      }
     },
     "8655c29acb8b47f9beeb78241922f4f3": {
      "model_module": "@jupyter-widgets/controls",
      "model_module_version": "1.5.0",
      "model_name": "HBoxModel",
      "state": {
       "children": [
        "IPY_MODEL_a0d9550c461d48e68bab12f819038a8d",
        "IPY_MODEL_d6afc796a114406a98115323896a5543",
        "IPY_MODEL_64197aa491814c37b37ca5e76b1281e4"
       ],
       "layout": "IPY_MODEL_09efc251408846b59d97287b2b97d4fb"
      }
     },
     "8656b7568f64403da6d7af583347c965": {
      "model_module": "@jupyter-widgets/controls",
      "model_module_version": "1.5.0",
      "model_name": "HTMLModel",
      "state": {
       "layout": "IPY_MODEL_b071cf4dabb04b0387eafe721c4e625f",
       "style": "IPY_MODEL_80d8528e053a497f83e575ed11b29c87",
       "value": " 3/3 [00:00&lt;00:00,  8.75it/s]"
      }
     },
     "866a8663936e45f29e3e0a6e1df377db": {
      "model_module": "@jupyter-widgets/controls",
      "model_module_version": "1.5.0",
      "model_name": "HBoxModel",
      "state": {
       "children": [
        "IPY_MODEL_97470d8d27084dabb9d3be4ff23820cd",
        "IPY_MODEL_9a53dea731a74877a2c0d5ab100ec3cc",
        "IPY_MODEL_212001a2d5084346818518a18cad2263"
       ],
       "layout": "IPY_MODEL_d505f9338b994aa9998b52741ceda33c"
      }
     },
     "86982698a7f9446cb84dcd25306f75a7": {
      "model_module": "@jupyter-widgets/base",
      "model_module_version": "1.2.0",
      "model_name": "LayoutModel",
      "state": {}
     },
     "86c1d4a8f472495faeda67aafb4e9f80": {
      "model_module": "@jupyter-widgets/controls",
      "model_module_version": "1.5.0",
      "model_name": "HTMLModel",
      "state": {
       "layout": "IPY_MODEL_3d1978ccf6414ef1a3ba85c1d5121724",
       "style": "IPY_MODEL_4ff76d49a5b4485c97c9a1327b7d91ba",
       "value": "DATASETS: 100%"
      }
     },
     "86c562424be34ab6b84711da03f8cda2": {
      "model_module": "@jupyter-widgets/controls",
      "model_module_version": "1.5.0",
      "model_name": "HTMLModel",
      "state": {
       "layout": "IPY_MODEL_d7ed0c395c3949a99e1cf08a2711f5d3",
       "style": "IPY_MODEL_88fb08c94d8d41e7b0f0d36af37cc40b",
       "value": " 4/4 [00:00&lt;00:00, 37.47it/s]"
      }
     },
     "86cdf2efea3645c5b7850e9fcdb7ee74": {
      "model_module": "@jupyter-widgets/controls",
      "model_module_version": "1.5.0",
      "model_name": "DescriptionStyleModel",
      "state": {
       "description_width": ""
      }
     },
     "86dfa2f50ab74337bd15747c0acdb558": {
      "model_module": "@jupyter-widgets/controls",
      "model_module_version": "1.5.0",
      "model_name": "FloatProgressModel",
      "state": {
       "bar_style": "success",
       "layout": "IPY_MODEL_115db0d0efe54f0fb3123a770c6422a2",
       "max": 1341,
       "style": "IPY_MODEL_989a0c9312b64bbc848bace3ad31015e",
       "value": 1341
      }
     },
     "86facd4a61314a67b4bfb86507b577e4": {
      "model_module": "@jupyter-widgets/base",
      "model_module_version": "1.2.0",
      "model_name": "LayoutModel",
      "state": {}
     },
     "870fff278fb5440e8666fa32584f04cf": {
      "model_module": "@jupyter-widgets/base",
      "model_module_version": "1.2.0",
      "model_name": "LayoutModel",
      "state": {}
     },
     "872210273e2941dba6973bc94622c506": {
      "model_module": "@jupyter-widgets/controls",
      "model_module_version": "1.5.0",
      "model_name": "DescriptionStyleModel",
      "state": {
       "description_width": ""
      }
     },
     "8738c875d32c45759f0fd16fd160c772": {
      "model_module": "@jupyter-widgets/controls",
      "model_module_version": "1.5.0",
      "model_name": "ProgressStyleModel",
      "state": {
       "description_width": ""
      }
     },
     "87a6f2f5544f41e684febc0a7a84f804": {
      "model_module": "@jupyter-widgets/base",
      "model_module_version": "1.2.0",
      "model_name": "LayoutModel",
      "state": {}
     },
     "87a740c245204413b00759abd5575425": {
      "model_module": "@jupyter-widgets/controls",
      "model_module_version": "1.5.0",
      "model_name": "HTMLModel",
      "state": {
       "layout": "IPY_MODEL_b8b08465af1348aea15013eaea81e903",
       "style": "IPY_MODEL_b9844ab613f2420ab590c9003969429e",
       "value": "NORMAL: 100%"
      }
     },
     "87b4fda4fbc34b6391ef7429c31dab1d": {
      "model_module": "@jupyter-widgets/controls",
      "model_module_version": "1.5.0",
      "model_name": "HTMLModel",
      "state": {
       "layout": "IPY_MODEL_fb0f42996a2648a0af6c4f547d53f967",
       "style": "IPY_MODEL_1c31b8a179134a98a74720aa997f24a9",
       "value": "COVID: 100%"
      }
     },
     "87bcd358ec024e3182d8e09539fccbc3": {
      "model_module": "@jupyter-widgets/base",
      "model_module_version": "1.2.0",
      "model_name": "LayoutModel",
      "state": {}
     },
     "87d8459e1d2443d4b86f5b69e770734b": {
      "model_module": "@jupyter-widgets/controls",
      "model_module_version": "1.5.0",
      "model_name": "HTMLModel",
      "state": {
       "layout": "IPY_MODEL_2bcd6e60d2f944228e999c4904b0bab8",
       "style": "IPY_MODEL_851adf3b9e8143ec9d2b72da6b452b16",
       "value": " 1341/1341 [00:20&lt;00:00, 66.84it/s]"
      }
     },
     "885422c7a58a4e3ab234063145b2345b": {
      "model_module": "@jupyter-widgets/controls",
      "model_module_version": "1.5.0",
      "model_name": "DescriptionStyleModel",
      "state": {
       "description_width": ""
      }
     },
     "887d35d5e1944003823d5621b931e9d9": {
      "model_module": "@jupyter-widgets/controls",
      "model_module_version": "1.5.0",
      "model_name": "DescriptionStyleModel",
      "state": {
       "description_width": ""
      }
     },
     "88992cf9ca5c4f498e427b7973b2ea59": {
      "model_module": "@jupyter-widgets/controls",
      "model_module_version": "1.5.0",
      "model_name": "DescriptionStyleModel",
      "state": {
       "description_width": ""
      }
     },
     "88ad03c6f7104bbfa33fcb4b666b4a6f": {
      "model_module": "@jupyter-widgets/base",
      "model_module_version": "1.2.0",
      "model_name": "LayoutModel",
      "state": {}
     },
     "88daae4f7e92416ab71e38b9fc9ebb5b": {
      "model_module": "@jupyter-widgets/base",
      "model_module_version": "1.2.0",
      "model_name": "LayoutModel",
      "state": {}
     },
     "88e080baa57745f3970a438f05c01b1a": {
      "model_module": "@jupyter-widgets/controls",
      "model_module_version": "1.5.0",
      "model_name": "ProgressStyleModel",
      "state": {
       "description_width": ""
      }
     },
     "88e0db3abe244d51a94bea48c9bc5cd9": {
      "model_module": "@jupyter-widgets/base",
      "model_module_version": "1.2.0",
      "model_name": "LayoutModel",
      "state": {}
     },
     "88ec18337be54357ab163ff476829471": {
      "model_module": "@jupyter-widgets/controls",
      "model_module_version": "1.5.0",
      "model_name": "ProgressStyleModel",
      "state": {
       "description_width": ""
      }
     },
     "88fb08c94d8d41e7b0f0d36af37cc40b": {
      "model_module": "@jupyter-widgets/controls",
      "model_module_version": "1.5.0",
      "model_name": "DescriptionStyleModel",
      "state": {
       "description_width": ""
      }
     },
     "89571fa27ba844af92f00b19e7651892": {
      "model_module": "@jupyter-widgets/controls",
      "model_module_version": "1.5.0",
      "model_name": "FloatProgressModel",
      "state": {
       "bar_style": "success",
       "layout": "IPY_MODEL_3d2bd8fe40824601b408429b4798ef76",
       "max": 3,
       "style": "IPY_MODEL_67435ad55fff41608d160b3b25ec6c89",
       "value": 3
      }
     },
     "895848fbffc14fdca51fa769b51ab569": {
      "model_module": "@jupyter-widgets/base",
      "model_module_version": "1.2.0",
      "model_name": "LayoutModel",
      "state": {}
     },
     "896b9e1b32c24130a0b88313b22f5bf2": {
      "model_module": "@jupyter-widgets/controls",
      "model_module_version": "1.5.0",
      "model_name": "ProgressStyleModel",
      "state": {
       "description_width": ""
      }
     },
     "896f9aaa586b48af9ddec169fb6d8e9e": {
      "model_module": "@jupyter-widgets/controls",
      "model_module_version": "1.5.0",
      "model_name": "DescriptionStyleModel",
      "state": {
       "description_width": ""
      }
     },
     "8992837c0a554796973e705235df1e34": {
      "model_module": "@jupyter-widgets/base",
      "model_module_version": "1.2.0",
      "model_name": "LayoutModel",
      "state": {}
     },
     "89b2b4bf371f427e9c5a4ecda08bb30c": {
      "model_module": "@jupyter-widgets/controls",
      "model_module_version": "1.5.0",
      "model_name": "HTMLModel",
      "state": {
       "layout": "IPY_MODEL_57e9ebaba7c64b94a7566aba985133c8",
       "style": "IPY_MODEL_f866cac18d8442f695676fad1a7c2d60",
       "value": "VIRAL-PNEUMONIA: 100%"
      }
     },
     "89bb6b1c5cfd4a0daac3cd67ffc66aa8": {
      "model_module": "@jupyter-widgets/controls",
      "model_module_version": "1.5.0",
      "model_name": "HTMLModel",
      "state": {
       "layout": "IPY_MODEL_3ff6da90d8b0421f9e5064404519a233",
       "style": "IPY_MODEL_bd000d75970d45298de39356eb698925",
       "value": "NORMAL: 100%"
      }
     },
     "89cc14d978b444439351e56c8c90c860": {
      "model_module": "@jupyter-widgets/controls",
      "model_module_version": "1.5.0",
      "model_name": "HTMLModel",
      "state": {
       "layout": "IPY_MODEL_bbd5fba63ea34a49a981c3a87f6e8ff4",
       "style": "IPY_MODEL_1d8ba4f5f58c4f768a786da4d3f6aab6",
       "value": " 3/3 [00:00&lt;00:00,  8.45it/s]"
      }
     },
     "89fb6945a08f4aa08724113b25f731d5": {
      "model_module": "@jupyter-widgets/controls",
      "model_module_version": "1.5.0",
      "model_name": "DescriptionStyleModel",
      "state": {
       "description_width": ""
      }
     },
     "8a01c27879dc44ffa946ece235cd7c85": {
      "model_module": "@jupyter-widgets/base",
      "model_module_version": "1.2.0",
      "model_name": "LayoutModel",
      "state": {}
     },
     "8a5efb5862684f4586bc5379d0805439": {
      "model_module": "@jupyter-widgets/controls",
      "model_module_version": "1.5.0",
      "model_name": "HTMLModel",
      "state": {
       "layout": "IPY_MODEL_c5caf3fd1bb448af8aadf310d9aeb9ba",
       "style": "IPY_MODEL_16b71c8cd39a443f85b97a30eb293cc6",
       "value": " 1345/1345 [00:24&lt;00:00, 55.62it/s]"
      }
     },
     "8af332b31bff400582d4fc822a18c684": {
      "model_module": "@jupyter-widgets/controls",
      "model_module_version": "1.5.0",
      "model_name": "DescriptionStyleModel",
      "state": {
       "description_width": ""
      }
     },
     "8af44400ad6d458980182166e47f7c5a": {
      "model_module": "@jupyter-widgets/controls",
      "model_module_version": "1.5.0",
      "model_name": "DescriptionStyleModel",
      "state": {
       "description_width": ""
      }
     },
     "8b0cc193720a4e1ebb57bc10b33ed961": {
      "model_module": "@jupyter-widgets/base",
      "model_module_version": "1.2.0",
      "model_name": "LayoutModel",
      "state": {}
     },
     "8b26bb1b671646efac04add74509896a": {
      "model_module": "@jupyter-widgets/controls",
      "model_module_version": "1.5.0",
      "model_name": "FloatProgressModel",
      "state": {
       "bar_style": "success",
       "layout": "IPY_MODEL_a66a48b02bbb4309ae58d9cb920a58d2",
       "max": 4,
       "style": "IPY_MODEL_3584fe2ffa154819b29b6a637817982d",
       "value": 4
      }
     },
     "8b41f89093ee43b3ab054cc13fdd49d0": {
      "model_module": "@jupyter-widgets/base",
      "model_module_version": "1.2.0",
      "model_name": "LayoutModel",
      "state": {}
     },
     "8be2040b18c84dcba76e90b5804b4b88": {
      "model_module": "@jupyter-widgets/controls",
      "model_module_version": "1.5.0",
      "model_name": "FloatProgressModel",
      "state": {
       "bar_style": "success",
       "layout": "IPY_MODEL_2da6f449cd364e5fb40bb993fa54efd6",
       "max": 4,
       "style": "IPY_MODEL_068966e73f784831ac455fdb06655b89",
       "value": 4
      }
     },
     "8c559f2eb78c4678b3a06c1defd6383b": {
      "model_module": "@jupyter-widgets/base",
      "model_module_version": "1.2.0",
      "model_name": "LayoutModel",
      "state": {}
     },
     "8c6d7ff8c48a4e9896e4d87058f5d57e": {
      "model_module": "@jupyter-widgets/controls",
      "model_module_version": "1.5.0",
      "model_name": "DescriptionStyleModel",
      "state": {
       "description_width": ""
      }
     },
     "8c71300ff5344bcabcca7961aaa84579": {
      "model_module": "@jupyter-widgets/controls",
      "model_module_version": "1.5.0",
      "model_name": "HTMLModel",
      "state": {
       "layout": "IPY_MODEL_e06772d820b0449e87183da6de16afc5",
       "style": "IPY_MODEL_a53367d9c31c4b3ebfc70ad80f07f86a",
       "value": "NORMAL: 100%"
      }
     },
     "8d21f6c2b541469988d1946a55e1ccac": {
      "model_module": "@jupyter-widgets/controls",
      "model_module_version": "1.5.0",
      "model_name": "FloatProgressModel",
      "state": {
       "bar_style": "success",
       "layout": "IPY_MODEL_2f8ef283981440e6ad338857b6d8b965",
       "max": 3,
       "style": "IPY_MODEL_b24a9601990549598213fa09120ff5b9",
       "value": 3
      }
     },
     "8d2fc192306a4d838e20a94d821a1169": {
      "model_module": "@jupyter-widgets/base",
      "model_module_version": "1.2.0",
      "model_name": "LayoutModel",
      "state": {}
     },
     "8d388636518e43bfa8ac8b44e31033a2": {
      "model_module": "@jupyter-widgets/controls",
      "model_module_version": "1.5.0",
      "model_name": "HTMLModel",
      "state": {
       "layout": "IPY_MODEL_88daae4f7e92416ab71e38b9fc9ebb5b",
       "style": "IPY_MODEL_49eec55f552d4d28826a5e546496923a",
       "value": " 3/3 [00:00&lt;00:00,  9.21it/s]"
      }
     },
     "8d3e4cee091b432aaf3ac2cda0ae299a": {
      "model_module": "@jupyter-widgets/controls",
      "model_module_version": "1.5.0",
      "model_name": "DescriptionStyleModel",
      "state": {
       "description_width": ""
      }
     },
     "8d610b2e339a40ddaf2472fd2c6414e5": {
      "model_module": "@jupyter-widgets/controls",
      "model_module_version": "1.5.0",
      "model_name": "FloatProgressModel",
      "state": {
       "bar_style": "success",
       "layout": "IPY_MODEL_691c36a5ee8c4ea3b7b731e614a90e0c",
       "max": 4,
       "style": "IPY_MODEL_06f2508e2a7a4453b565312cb7be3f52",
       "value": 4
      }
     },
     "8d8ac518de40450e8c18e54dc9c92420": {
      "model_module": "@jupyter-widgets/base",
      "model_module_version": "1.2.0",
      "model_name": "LayoutModel",
      "state": {}
     },
     "8d94e6fcfd9a42fa9233b3f3b9f5ac3b": {
      "model_module": "@jupyter-widgets/controls",
      "model_module_version": "1.5.0",
      "model_name": "DescriptionStyleModel",
      "state": {
       "description_width": ""
      }
     },
     "8db889f00227418cbf321a96156f5730": {
      "model_module": "@jupyter-widgets/controls",
      "model_module_version": "1.5.0",
      "model_name": "DescriptionStyleModel",
      "state": {
       "description_width": ""
      }
     },
     "8ddd647e6c4e4b959b55fdb4cd78e1f7": {
      "model_module": "@jupyter-widgets/controls",
      "model_module_version": "1.5.0",
      "model_name": "ProgressStyleModel",
      "state": {
       "description_width": ""
      }
     },
     "8e23b25cdff24734be90292ec2d00092": {
      "model_module": "@jupyter-widgets/base",
      "model_module_version": "1.2.0",
      "model_name": "LayoutModel",
      "state": {}
     },
     "8e24dd77e1744f2fbf31ac1293008891": {
      "model_module": "@jupyter-widgets/controls",
      "model_module_version": "1.5.0",
      "model_name": "ProgressStyleModel",
      "state": {
       "description_width": ""
      }
     },
     "8e3ec8b221604cb5ae6d17b6fe8ed538": {
      "model_module": "@jupyter-widgets/controls",
      "model_module_version": "1.5.0",
      "model_name": "HBoxModel",
      "state": {
       "children": [
        "IPY_MODEL_022a197bec1a4e1ba9cb95bd7be3249a",
        "IPY_MODEL_1000793b669245559f49c6ed68df8bb7",
        "IPY_MODEL_6acfb65ae30146248aa1bd716b8b5bd3"
       ],
       "layout": "IPY_MODEL_13b4191d7b064185b59e65a0535542ed"
      }
     },
     "8e46292e831f49ed8d29c668ecaa9eeb": {
      "model_module": "@jupyter-widgets/controls",
      "model_module_version": "1.5.0",
      "model_name": "DescriptionStyleModel",
      "state": {
       "description_width": ""
      }
     },
     "8e51e04d7df1435e93a4330928a1fb51": {
      "model_module": "@jupyter-widgets/controls",
      "model_module_version": "1.5.0",
      "model_name": "ProgressStyleModel",
      "state": {
       "description_width": ""
      }
     },
     "8e53b504c4164b269148c14ec8c88a2b": {
      "model_module": "@jupyter-widgets/controls",
      "model_module_version": "1.5.0",
      "model_name": "ProgressStyleModel",
      "state": {
       "description_width": ""
      }
     },
     "8ee444fa77c844498e19b9512551cc31": {
      "model_module": "@jupyter-widgets/controls",
      "model_module_version": "1.5.0",
      "model_name": "HTMLModel",
      "state": {
       "layout": "IPY_MODEL_c591ef495f3a479f9ddeafd3e6b5c7d0",
       "style": "IPY_MODEL_9af6493ba3374a86833d10756b09f108",
       "value": " 3/3 [00:00&lt;00:00,  7.44it/s]"
      }
     },
     "8ef60fc56288427a9246e1a104c5ec1c": {
      "model_module": "@jupyter-widgets/base",
      "model_module_version": "1.2.0",
      "model_name": "LayoutModel",
      "state": {}
     },
     "8f2ae428775947399c6effa055441104": {
      "model_module": "@jupyter-widgets/controls",
      "model_module_version": "1.5.0",
      "model_name": "DescriptionStyleModel",
      "state": {
       "description_width": ""
      }
     },
     "8f4bc6123c95469e87b050359f1ba3cf": {
      "model_module": "@jupyter-widgets/controls",
      "model_module_version": "1.5.0",
      "model_name": "ProgressStyleModel",
      "state": {
       "description_width": ""
      }
     },
     "8f6bfda0bcf14010a1cb97028ac541ce": {
      "model_module": "@jupyter-widgets/base",
      "model_module_version": "1.2.0",
      "model_name": "LayoutModel",
      "state": {}
     },
     "8f97a5de489e4856840d15692c6ac6ec": {
      "model_module": "@jupyter-widgets/base",
      "model_module_version": "1.2.0",
      "model_name": "LayoutModel",
      "state": {}
     },
     "8fce9be8ecd2439ea6e2b301bb9b964c": {
      "model_module": "@jupyter-widgets/controls",
      "model_module_version": "1.5.0",
      "model_name": "HTMLModel",
      "state": {
       "layout": "IPY_MODEL_7187b8e5dfc443e3a9e868473d93566b",
       "style": "IPY_MODEL_074099d19c9c4ab98cb871b068631e67",
       "value": "COVID: 100%"
      }
     },
     "8fe1daddfff94854ac9c5bdc32dc1458": {
      "model_module": "@jupyter-widgets/base",
      "model_module_version": "1.2.0",
      "model_name": "LayoutModel",
      "state": {}
     },
     "8feb2b1dc8eb468abcfac86a793decb7": {
      "model_module": "@jupyter-widgets/controls",
      "model_module_version": "1.5.0",
      "model_name": "ProgressStyleModel",
      "state": {
       "description_width": ""
      }
     },
     "8febe4bb0c5c4c658b34b09a3e527edd": {
      "model_module": "@jupyter-widgets/controls",
      "model_module_version": "1.5.0",
      "model_name": "DescriptionStyleModel",
      "state": {
       "description_width": ""
      }
     },
     "90078532bae04254949d307e7a5159a8": {
      "model_module": "@jupyter-widgets/controls",
      "model_module_version": "1.5.0",
      "model_name": "HTMLModel",
      "state": {
       "layout": "IPY_MODEL_6ce1bcc6771c4c0db12aceb253e130c5",
       "style": "IPY_MODEL_4ddb5ac2fe3842a4bbca2833a309d20b",
       "value": " 3/3 [00:00&lt;00:00,  8.57it/s]"
      }
     },
     "903b37b44043472ca632bedda78d6b8e": {
      "model_module": "@jupyter-widgets/controls",
      "model_module_version": "1.5.0",
      "model_name": "ProgressStyleModel",
      "state": {
       "description_width": ""
      }
     },
     "90c4d6797ee64a6e8e3b4e39a89c1b0c": {
      "model_module": "@jupyter-widgets/base",
      "model_module_version": "1.2.0",
      "model_name": "LayoutModel",
      "state": {}
     },
     "90e0fef671b3438aa8ed82f205cc0c10": {
      "model_module": "@jupyter-widgets/base",
      "model_module_version": "1.2.0",
      "model_name": "LayoutModel",
      "state": {}
     },
     "912304d045aa49998dba395ca956f3cf": {
      "model_module": "@jupyter-widgets/base",
      "model_module_version": "1.2.0",
      "model_name": "LayoutModel",
      "state": {}
     },
     "913e7f24a05544c596723a6fb782ea2d": {
      "model_module": "@jupyter-widgets/controls",
      "model_module_version": "1.5.0",
      "model_name": "FloatProgressModel",
      "state": {
       "bar_style": "success",
       "layout": "IPY_MODEL_8e23b25cdff24734be90292ec2d00092",
       "max": 4,
       "style": "IPY_MODEL_896b9e1b32c24130a0b88313b22f5bf2",
       "value": 4
      }
     },
     "91508244b79e4e4bbb7ee92169a269df": {
      "model_module": "@jupyter-widgets/controls",
      "model_module_version": "1.5.0",
      "model_name": "HTMLModel",
      "state": {
       "layout": "IPY_MODEL_f15f3f8637f749dea082abefe7916ee2",
       "style": "IPY_MODEL_722517b834a84034973a8bf321ac155c",
       "value": " 3/3 [00:42&lt;00:00, 16.27s/it]"
      }
     },
     "916b6bec20cb410591ed1ffd248133fa": {
      "model_module": "@jupyter-widgets/controls",
      "model_module_version": "1.5.0",
      "model_name": "HBoxModel",
      "state": {
       "children": [
        "IPY_MODEL_6658d20269d14d5a88fa40a61a26f317",
        "IPY_MODEL_9388584beda4456eaf8b2414870034d7",
        "IPY_MODEL_7350378ca3ab4b0ab3cd7ee20db6b6c0"
       ],
       "layout": "IPY_MODEL_28661c7433534328ab02b4ee50bd4134"
      }
     },
     "9177a4112e114f8f8fc538bf31e00cd6": {
      "model_module": "@jupyter-widgets/controls",
      "model_module_version": "1.5.0",
      "model_name": "HTMLModel",
      "state": {
       "layout": "IPY_MODEL_141f70a0339144e7a4f246ef605e72ee",
       "style": "IPY_MODEL_186ae0b0dd4c4cb08ac0fdffdbfcf79e",
       "value": " 1345/1345 [00:23&lt;00:00, 60.39it/s]"
      }
     },
     "9189b5add0e54d7ab72dbabf40a1df6b": {
      "model_module": "@jupyter-widgets/controls",
      "model_module_version": "1.5.0",
      "model_name": "DescriptionStyleModel",
      "state": {
       "description_width": ""
      }
     },
     "918c6c76eedd410396c7fe3675c90fac": {
      "model_module": "@jupyter-widgets/controls",
      "model_module_version": "1.5.0",
      "model_name": "HBoxModel",
      "state": {
       "children": [
        "IPY_MODEL_b3c5f08c80e84035b264904fae7fbc3d",
        "IPY_MODEL_430b1384a7eb4405baaa148855316232",
        "IPY_MODEL_5908bbb860b146bca34f9e067e874314"
       ],
       "layout": "IPY_MODEL_4c966539c21a4476851f63e9562d6911"
      }
     },
     "919f764013f84d0cb9357b49e3484cf5": {
      "model_module": "@jupyter-widgets/controls",
      "model_module_version": "1.5.0",
      "model_name": "HTMLModel",
      "state": {
       "layout": "IPY_MODEL_2e81c8c487ef4a6294447cf25de9ad60",
       "style": "IPY_MODEL_10c64e92446249e98e064e3bca89a75a",
       "value": " 1345/1345 [00:25&lt;00:00, 51.95it/s]"
      }
     },
     "919f9960cb2c4fe6a8d8c3b8975fa962": {
      "model_module": "@jupyter-widgets/base",
      "model_module_version": "1.2.0",
      "model_name": "LayoutModel",
      "state": {}
     },
     "91e67103272544f6b325e64fc391ae23": {
      "model_module": "@jupyter-widgets/controls",
      "model_module_version": "1.5.0",
      "model_name": "HBoxModel",
      "state": {
       "children": [
        "IPY_MODEL_b3da90b2d81c48a9b7f6e61b3a1ec5c4",
        "IPY_MODEL_bfb4d144b94c4912a1c4fddf6bc73f9c",
        "IPY_MODEL_8d388636518e43bfa8ac8b44e31033a2"
       ],
       "layout": "IPY_MODEL_5957a28e78e04de39f42abf9d9f3ee6f"
      }
     },
     "921ca708171f4a2eaa9687c1e016ab01": {
      "model_module": "@jupyter-widgets/controls",
      "model_module_version": "1.5.0",
      "model_name": "HBoxModel",
      "state": {
       "children": [
        "IPY_MODEL_667ef1e44ac3424e89ae219fb33687d6",
        "IPY_MODEL_016241bc43684c02958fcd2ebb6e6cc9",
        "IPY_MODEL_7808287acebb45d296d5207b38a04feb"
       ],
       "layout": "IPY_MODEL_61b6e8961a414228a32b8e312fb545c6"
      }
     },
     "9225fe02fe594bc4b40ff402035d4e95": {
      "model_module": "@jupyter-widgets/controls",
      "model_module_version": "1.5.0",
      "model_name": "HTMLModel",
      "state": {
       "layout": "IPY_MODEL_be25bb063a034aae834097c7ad0a1e74",
       "style": "IPY_MODEL_06c32f5460584dfa84f4ef2a22c612a9",
       "value": " 3/3 [00:00&lt;00:00,  8.60it/s]"
      }
     },
     "9251c838f184458a8052b4544bb52d2c": {
      "model_module": "@jupyter-widgets/controls",
      "model_module_version": "1.5.0",
      "model_name": "ProgressStyleModel",
      "state": {
       "description_width": ""
      }
     },
     "9270fd5bad64486faaffe8f8015d3f8d": {
      "model_module": "@jupyter-widgets/controls",
      "model_module_version": "1.5.0",
      "model_name": "HBoxModel",
      "state": {
       "children": [
        "IPY_MODEL_0f18d5e7ec7f4916aaf2ce7b1f205397",
        "IPY_MODEL_09e1fcd6f60444d199f2b78abf6de381",
        "IPY_MODEL_1fa77ac567d6460e81ae157b40a21f41"
       ],
       "layout": "IPY_MODEL_3992ac0a33db45d3bad5d4ae7d515e5b"
      }
     },
     "928305255f6e4051949f7bb5f513e05a": {
      "model_module": "@jupyter-widgets/controls",
      "model_module_version": "1.5.0",
      "model_name": "HBoxModel",
      "state": {
       "children": [
        "IPY_MODEL_c729f5aad93c4566a90033d78c0d6a5e",
        "IPY_MODEL_c6c47b41df4640ca8a9cea0c8a2b3f06",
        "IPY_MODEL_7b25991e001644c8964ec2bb016f1a51"
       ],
       "layout": "IPY_MODEL_b7c0dd45a0ae4a679bd6d729b9beca2e"
      }
     },
     "929a88883cd146afa5c83002e4eafd04": {
      "model_module": "@jupyter-widgets/controls",
      "model_module_version": "1.5.0",
      "model_name": "HBoxModel",
      "state": {
       "children": [
        "IPY_MODEL_75acb65508c44996a912386eb7593f56",
        "IPY_MODEL_007b700d721b437a824669e9cb498902",
        "IPY_MODEL_421ed56d267c46b196956b1b41281b44"
       ],
       "layout": "IPY_MODEL_f6407bbe42834c09a1a39a76d7873419"
      }
     },
     "929f28c2779548d2ab8c7db609a41927": {
      "model_module": "@jupyter-widgets/controls",
      "model_module_version": "1.5.0",
      "model_name": "DescriptionStyleModel",
      "state": {
       "description_width": ""
      }
     },
     "932779852a5843caa5b4a8612a50df60": {
      "model_module": "@jupyter-widgets/base",
      "model_module_version": "1.2.0",
      "model_name": "LayoutModel",
      "state": {}
     },
     "9363d3c1eba84a0887135f9816b29b55": {
      "model_module": "@jupyter-widgets/controls",
      "model_module_version": "1.5.0",
      "model_name": "DescriptionStyleModel",
      "state": {
       "description_width": ""
      }
     },
     "93795829b151423da5ff0cdae84248bd": {
      "model_module": "@jupyter-widgets/controls",
      "model_module_version": "1.5.0",
      "model_name": "HBoxModel",
      "state": {
       "children": [
        "IPY_MODEL_fac294f7896b4c2d9d5fb2b15b84d5cc",
        "IPY_MODEL_adf9ef2e418e47da9f322e6e54db30c1",
        "IPY_MODEL_7f23ef7761a24f6a80bfff443179c971"
       ],
       "layout": "IPY_MODEL_7e3b3af222fb446bbbe44a3f0c02e34c"
      }
     },
     "93840c6d315540eb855f6057d52be444": {
      "model_module": "@jupyter-widgets/controls",
      "model_module_version": "1.5.0",
      "model_name": "HTMLModel",
      "state": {
       "layout": "IPY_MODEL_4a488b81005b48ef9d19b28a3ac490a2",
       "style": "IPY_MODEL_93d545109fae4d4d8389a0ed2a015968",
       "value": " 1200/1200 [00:03&lt;00:00, 331.00it/s]"
      }
     },
     "9388584beda4456eaf8b2414870034d7": {
      "model_module": "@jupyter-widgets/controls",
      "model_module_version": "1.5.0",
      "model_name": "FloatProgressModel",
      "state": {
       "bar_style": "success",
       "layout": "IPY_MODEL_0efa41c8983f4378bf09d92830368d69",
       "max": 4,
       "style": "IPY_MODEL_6608245addba43c9b83c3dc914691133",
       "value": 4
      }
     },
     "93ab3f3a8f9b4549a8bfec05a6642e80": {
      "model_module": "@jupyter-widgets/controls",
      "model_module_version": "1.5.0",
      "model_name": "DescriptionStyleModel",
      "state": {
       "description_width": ""
      }
     },
     "93acaab3fc66452296f58167f25f583f": {
      "model_module": "@jupyter-widgets/base",
      "model_module_version": "1.2.0",
      "model_name": "LayoutModel",
      "state": {}
     },
     "93b18eb162214f9b84a876e277511188": {
      "model_module": "@jupyter-widgets/controls",
      "model_module_version": "1.5.0",
      "model_name": "DescriptionStyleModel",
      "state": {
       "description_width": ""
      }
     },
     "93c585074f8e4cbfb8a941924f767d54": {
      "model_module": "@jupyter-widgets/base",
      "model_module_version": "1.2.0",
      "model_name": "LayoutModel",
      "state": {}
     },
     "93d545109fae4d4d8389a0ed2a015968": {
      "model_module": "@jupyter-widgets/controls",
      "model_module_version": "1.5.0",
      "model_name": "DescriptionStyleModel",
      "state": {
       "description_width": ""
      }
     },
     "93e9080cbb0e48319d2f42bb126a6e53": {
      "model_module": "@jupyter-widgets/controls",
      "model_module_version": "1.5.0",
      "model_name": "FloatProgressModel",
      "state": {
       "bar_style": "success",
       "layout": "IPY_MODEL_9bb2743ad7eb46f493b8176e43dfb7d3",
       "max": 4,
       "style": "IPY_MODEL_eb43b260986f43ec9bcfe7d2987085fd",
       "value": 4
      }
     },
     "940dbfdf7c9d45879badf9dbf22189d6": {
      "model_module": "@jupyter-widgets/base",
      "model_module_version": "1.2.0",
      "model_name": "LayoutModel",
      "state": {}
     },
     "944320bd99bb44d3bd5fa57ef519453f": {
      "model_module": "@jupyter-widgets/base",
      "model_module_version": "1.2.0",
      "model_name": "LayoutModel",
      "state": {}
     },
     "9448a93e5a54456c8ecc857480e0f9d8": {
      "model_module": "@jupyter-widgets/controls",
      "model_module_version": "1.5.0",
      "model_name": "HBoxModel",
      "state": {
       "children": [
        "IPY_MODEL_da66dfdfa53441a6b2f0fa193b782d75",
        "IPY_MODEL_16675d79d9a64d7e9abf2c82060fe68d",
        "IPY_MODEL_e4a54653af3d403687bb698607a73d66"
       ],
       "layout": "IPY_MODEL_41932a40bd1844d98b2d2fabde0a06e7"
      }
     },
     "944e777ee915473083a9ac2a56ad05b1": {
      "model_module": "@jupyter-widgets/controls",
      "model_module_version": "1.5.0",
      "model_name": "HTMLModel",
      "state": {
       "layout": "IPY_MODEL_f2ee3a21a3fb4dcf9fa6984bda5e8530",
       "style": "IPY_MODEL_9d8ce8aad34646bc8b3959debff2291f",
       "value": "VIRAL-PNEUMONIA: 100%"
      }
     },
     "9461bce873c04230ba8af9d0bcdece6a": {
      "model_module": "@jupyter-widgets/base",
      "model_module_version": "1.2.0",
      "model_name": "LayoutModel",
      "state": {}
     },
     "94a4232a218b40e5adbc1a4d1b92c12f": {
      "model_module": "@jupyter-widgets/controls",
      "model_module_version": "1.5.0",
      "model_name": "DescriptionStyleModel",
      "state": {
       "description_width": ""
      }
     },
     "94ad02a61b1340d795e5d62c72322df7": {
      "model_module": "@jupyter-widgets/base",
      "model_module_version": "1.2.0",
      "model_name": "LayoutModel",
      "state": {}
     },
     "94c8bb8d16ce42c588b6df2b78357481": {
      "model_module": "@jupyter-widgets/controls",
      "model_module_version": "1.5.0",
      "model_name": "FloatProgressModel",
      "state": {
       "bar_style": "success",
       "layout": "IPY_MODEL_58f5aa749afe4209a311257eff9a0f8f",
       "max": 1341,
       "style": "IPY_MODEL_cd1fca8579a64b6da44441e0699a8572",
       "value": 1341
      }
     },
     "94fa814c750b4a169949b669b23e9939": {
      "model_module": "@jupyter-widgets/controls",
      "model_module_version": "1.5.0",
      "model_name": "HTMLModel",
      "state": {
       "layout": "IPY_MODEL_09995d44e146483f8bdc1f62fa61e482",
       "style": "IPY_MODEL_ad49deb5745c45a6ad3c95f80ee20f15",
       "value": "DATASETS: 100%"
      }
     },
     "94fd72c7593f42ad9497ef7fdf796860": {
      "model_module": "@jupyter-widgets/controls",
      "model_module_version": "1.5.0",
      "model_name": "FloatProgressModel",
      "state": {
       "bar_style": "success",
       "layout": "IPY_MODEL_9a9b99ea58e040f69458c638fe5b43b9",
       "max": 4,
       "style": "IPY_MODEL_e3ddb41ce85d4ba6bd754486a32fbd04",
       "value": 4
      }
     },
     "9503d67076864443a2156210ef85bc91": {
      "model_module": "@jupyter-widgets/controls",
      "model_module_version": "1.5.0",
      "model_name": "FloatProgressModel",
      "state": {
       "bar_style": "success",
       "layout": "IPY_MODEL_827fecafc702433788920b5e575ae55e",
       "max": 1200,
       "style": "IPY_MODEL_2536673720234e6e9c7a7d0f3ae73447",
       "value": 1200
      }
     },
     "95382d0812d54769bba0b62a9dcbd259": {
      "model_module": "@jupyter-widgets/controls",
      "model_module_version": "1.5.0",
      "model_name": "FloatProgressModel",
      "state": {
       "bar_style": "success",
       "layout": "IPY_MODEL_e1a1f7e0f449443681a90290d38e2bbb",
       "max": 4,
       "style": "IPY_MODEL_96995a52def040199d76ca617cc72111",
       "value": 4
      }
     },
     "9542192c56b14736b513c71dac3ffd1f": {
      "model_module": "@jupyter-widgets/controls",
      "model_module_version": "1.5.0",
      "model_name": "FloatProgressModel",
      "state": {
       "bar_style": "success",
       "layout": "IPY_MODEL_801942bab0844194a3240bdc37f96360",
       "max": 3,
       "style": "IPY_MODEL_3c416b6fd98f401f809d8324afbbac7c",
       "value": 3
      }
     },
     "954a6c9e9e794f2ba45461253af573d0": {
      "model_module": "@jupyter-widgets/base",
      "model_module_version": "1.2.0",
      "model_name": "LayoutModel",
      "state": {}
     },
     "954adf4205424ef9a2ec40e4d7644784": {
      "model_module": "@jupyter-widgets/base",
      "model_module_version": "1.2.0",
      "model_name": "LayoutModel",
      "state": {}
     },
     "95853a2816c34ef0ac3147ce18d49a26": {
      "model_module": "@jupyter-widgets/base",
      "model_module_version": "1.2.0",
      "model_name": "LayoutModel",
      "state": {}
     },
     "95c1452c3dbe403799ad9d12ef8a0bb7": {
      "model_module": "@jupyter-widgets/controls",
      "model_module_version": "1.5.0",
      "model_name": "HBoxModel",
      "state": {
       "children": [
        "IPY_MODEL_3f7c929ee9e24ccbb0e417d99bd1a470",
        "IPY_MODEL_7bafb46b1afe4366a2192a0869f48c63",
        "IPY_MODEL_bfb823451acd4eb2893bca1d6f098701"
       ],
       "layout": "IPY_MODEL_e3bd1869abec4451986318bf69ab97b0"
      }
     },
     "9607e4e590d8440589bb4cbc4b63746a": {
      "model_module": "@jupyter-widgets/controls",
      "model_module_version": "1.5.0",
      "model_name": "DescriptionStyleModel",
      "state": {
       "description_width": ""
      }
     },
     "96686a341cd443dc8ef71fc4d99e5daf": {
      "model_module": "@jupyter-widgets/controls",
      "model_module_version": "1.5.0",
      "model_name": "HTMLModel",
      "state": {
       "layout": "IPY_MODEL_bd64e2e0ff164c5f911b1e45bc11955c",
       "style": "IPY_MODEL_13ecf00fb99e44f18175348cdaed57dd",
       "value": "DATASETS: 100%"
      }
     },
     "96995a52def040199d76ca617cc72111": {
      "model_module": "@jupyter-widgets/controls",
      "model_module_version": "1.5.0",
      "model_name": "ProgressStyleModel",
      "state": {
       "description_width": ""
      }
     },
     "96cdd64266ac419f976d6c760c7face8": {
      "model_module": "@jupyter-widgets/controls",
      "model_module_version": "1.5.0",
      "model_name": "FloatProgressModel",
      "state": {
       "bar_style": "success",
       "layout": "IPY_MODEL_93c585074f8e4cbfb8a941924f767d54",
       "max": 4,
       "style": "IPY_MODEL_09bd44b6fc5b4b6fb045e61f1bb68077",
       "value": 4
      }
     },
     "96fc8a2ab6f54eba90ce36ca8380de63": {
      "model_module": "@jupyter-widgets/base",
      "model_module_version": "1.2.0",
      "model_name": "LayoutModel",
      "state": {}
     },
     "9742643f273e46e0adaa250556b0378d": {
      "model_module": "@jupyter-widgets/controls",
      "model_module_version": "1.5.0",
      "model_name": "DescriptionStyleModel",
      "state": {
       "description_width": ""
      }
     },
     "97470d8d27084dabb9d3be4ff23820cd": {
      "model_module": "@jupyter-widgets/controls",
      "model_module_version": "1.5.0",
      "model_name": "HTMLModel",
      "state": {
       "layout": "IPY_MODEL_38fa86a8ab9c46aab4429f778def4001",
       "style": "IPY_MODEL_7a232843cc374992834b6f34fed48c19",
       "value": "NORMAL: 100%"
      }
     },
     "9794afe097a94fe19c7de8f619ebe655": {
      "model_module": "@jupyter-widgets/controls",
      "model_module_version": "1.5.0",
      "model_name": "ProgressStyleModel",
      "state": {
       "description_width": ""
      }
     },
     "97a89e86e3b540ed8bb583b1ba21c6be": {
      "model_module": "@jupyter-widgets/controls",
      "model_module_version": "1.5.0",
      "model_name": "ProgressStyleModel",
      "state": {
       "description_width": ""
      }
     },
     "97b51ca3274a4dad8ab61ec113d7af33": {
      "model_module": "@jupyter-widgets/base",
      "model_module_version": "1.2.0",
      "model_name": "LayoutModel",
      "state": {}
     },
     "97e320630bc5491492aea95541816c2a": {
      "model_module": "@jupyter-widgets/base",
      "model_module_version": "1.2.0",
      "model_name": "LayoutModel",
      "state": {}
     },
     "97f7754fc2594a1bb16c2ff1acd7ae1d": {
      "model_module": "@jupyter-widgets/base",
      "model_module_version": "1.2.0",
      "model_name": "LayoutModel",
      "state": {}
     },
     "980eb54dd44d41ea92eabc30b7229b31": {
      "model_module": "@jupyter-widgets/controls",
      "model_module_version": "1.5.0",
      "model_name": "FloatProgressModel",
      "state": {
       "bar_style": "success",
       "layout": "IPY_MODEL_ac8f5343d7ba4fb592ad7e0c482298fb",
       "max": 4,
       "style": "IPY_MODEL_1855f3c87f1545de975b7a19bb9a5702",
       "value": 4
      }
     },
     "983b1a20086a473987c48bd046d852f6": {
      "model_module": "@jupyter-widgets/base",
      "model_module_version": "1.2.0",
      "model_name": "LayoutModel",
      "state": {}
     },
     "98703c06faae453eb3a700973a0a8c42": {
      "model_module": "@jupyter-widgets/base",
      "model_module_version": "1.2.0",
      "model_name": "LayoutModel",
      "state": {}
     },
     "9880850784ff42729aa801a2e56db45d": {
      "model_module": "@jupyter-widgets/controls",
      "model_module_version": "1.5.0",
      "model_name": "ProgressStyleModel",
      "state": {
       "description_width": ""
      }
     },
     "98989b1c281f4c25b6e9a4adaa45ebbc": {
      "model_module": "@jupyter-widgets/controls",
      "model_module_version": "1.5.0",
      "model_name": "DescriptionStyleModel",
      "state": {
       "description_width": ""
      }
     },
     "98993f2daaa14287be72f40c3ca6d097": {
      "model_module": "@jupyter-widgets/controls",
      "model_module_version": "1.5.0",
      "model_name": "DescriptionStyleModel",
      "state": {
       "description_width": ""
      }
     },
     "989a0c9312b64bbc848bace3ad31015e": {
      "model_module": "@jupyter-widgets/controls",
      "model_module_version": "1.5.0",
      "model_name": "ProgressStyleModel",
      "state": {
       "description_width": ""
      }
     },
     "98c418d10a7f459fb9bb23af4bcba5d5": {
      "model_module": "@jupyter-widgets/base",
      "model_module_version": "1.2.0",
      "model_name": "LayoutModel",
      "state": {}
     },
     "98e995993200469d9a8022d7cbf46195": {
      "model_module": "@jupyter-widgets/controls",
      "model_module_version": "1.5.0",
      "model_name": "FloatProgressModel",
      "state": {
       "bar_style": "success",
       "layout": "IPY_MODEL_7a78c39d89a04535a4671caa3797512a",
       "max": 4,
       "style": "IPY_MODEL_cd5b0e4c765e4ef7b6a7471184fad5a7",
       "value": 4
      }
     },
     "98ef008c74664609a15e780593f745d1": {
      "model_module": "@jupyter-widgets/base",
      "model_module_version": "1.2.0",
      "model_name": "LayoutModel",
      "state": {}
     },
     "992bc2be25424502be8ce0020c068d81": {
      "model_module": "@jupyter-widgets/controls",
      "model_module_version": "1.5.0",
      "model_name": "DescriptionStyleModel",
      "state": {
       "description_width": ""
      }
     },
     "99b867eee29749e5988cb115234f0797": {
      "model_module": "@jupyter-widgets/controls",
      "model_module_version": "1.5.0",
      "model_name": "ProgressStyleModel",
      "state": {
       "description_width": ""
      }
     },
     "99c28bdeebda4b75b80e9c4d62fae531": {
      "model_module": "@jupyter-widgets/controls",
      "model_module_version": "1.5.0",
      "model_name": "HBoxModel",
      "state": {
       "children": [
        "IPY_MODEL_5446a919cffa423bb5c3d06f30ab8e9b",
        "IPY_MODEL_e71f365166464cc8b987d0cd06370e3e",
        "IPY_MODEL_0289e88eb4a645d9ab6fdecc559ef09e"
       ],
       "layout": "IPY_MODEL_4716e226debb4186abc5c284c3201d2a"
      }
     },
     "99cc29fc455a49fea4fd9553bf51d0ff": {
      "model_module": "@jupyter-widgets/controls",
      "model_module_version": "1.5.0",
      "model_name": "ProgressStyleModel",
      "state": {
       "description_width": ""
      }
     },
     "99ee119d16964b9ea26dee13c831880b": {
      "model_module": "@jupyter-widgets/base",
      "model_module_version": "1.2.0",
      "model_name": "LayoutModel",
      "state": {}
     },
     "99ee97b2ef2d4bce8171f1bce2b33c20": {
      "model_module": "@jupyter-widgets/controls",
      "model_module_version": "1.5.0",
      "model_name": "HTMLModel",
      "state": {
       "layout": "IPY_MODEL_c91fad12cd5540449733424765622c39",
       "style": "IPY_MODEL_69b1bf3d62834a0e85de9c7b40a4ecf7",
       "value": "VIRAL-PNEUMONIA: 100%"
      }
     },
     "9a2c7cd644ec4e0bbb1fcf9f49637203": {
      "model_module": "@jupyter-widgets/base",
      "model_module_version": "1.2.0",
      "model_name": "LayoutModel",
      "state": {}
     },
     "9a53dea731a74877a2c0d5ab100ec3cc": {
      "model_module": "@jupyter-widgets/controls",
      "model_module_version": "1.5.0",
      "model_name": "FloatProgressModel",
      "state": {
       "bar_style": "success",
       "layout": "IPY_MODEL_b805508049114c07bb71f130383f3279",
       "max": 4,
       "style": "IPY_MODEL_56396588a0874f848ea42fd36ac6672c",
       "value": 4
      }
     },
     "9a5acfc7a58a45dd840f516b01205960": {
      "model_module": "@jupyter-widgets/base",
      "model_module_version": "1.2.0",
      "model_name": "LayoutModel",
      "state": {}
     },
     "9a7c6132317042059a3dcdcc4fa78d9e": {
      "model_module": "@jupyter-widgets/controls",
      "model_module_version": "1.5.0",
      "model_name": "DescriptionStyleModel",
      "state": {
       "description_width": ""
      }
     },
     "9a97e4611f3f41e6abe92a4f307849aa": {
      "model_module": "@jupyter-widgets/base",
      "model_module_version": "1.2.0",
      "model_name": "LayoutModel",
      "state": {}
     },
     "9a9b99ea58e040f69458c638fe5b43b9": {
      "model_module": "@jupyter-widgets/base",
      "model_module_version": "1.2.0",
      "model_name": "LayoutModel",
      "state": {}
     },
     "9ac3672d6e9e423c8143b309df5e5ebd": {
      "model_module": "@jupyter-widgets/base",
      "model_module_version": "1.2.0",
      "model_name": "LayoutModel",
      "state": {}
     },
     "9af6493ba3374a86833d10756b09f108": {
      "model_module": "@jupyter-widgets/controls",
      "model_module_version": "1.5.0",
      "model_name": "DescriptionStyleModel",
      "state": {
       "description_width": ""
      }
     },
     "9b180113f4b64b878ff3ca815ab6d6fc": {
      "model_module": "@jupyter-widgets/controls",
      "model_module_version": "1.5.0",
      "model_name": "FloatProgressModel",
      "state": {
       "bar_style": "success",
       "layout": "IPY_MODEL_45ebebe220324e6cb536acc44c8fc590",
       "max": 3,
       "style": "IPY_MODEL_517dfca4c57545b5bca9e2f6cee0b722",
       "value": 3
      }
     },
     "9b406406e68a4db6b77c37c7d5af058c": {
      "model_module": "@jupyter-widgets/base",
      "model_module_version": "1.2.0",
      "model_name": "LayoutModel",
      "state": {}
     },
     "9b407b8df50341efbc2d572d3dc758da": {
      "model_module": "@jupyter-widgets/controls",
      "model_module_version": "1.5.0",
      "model_name": "HTMLModel",
      "state": {
       "layout": "IPY_MODEL_4467015755d84ad9a6018f6d18dac192",
       "style": "IPY_MODEL_1b68b39638ab4cf3bc932711e44c35df",
       "value": "COVID: 100%"
      }
     },
     "9b8f64823d494d32ab975370f36dba61": {
      "model_module": "@jupyter-widgets/controls",
      "model_module_version": "1.5.0",
      "model_name": "ProgressStyleModel",
      "state": {
       "description_width": ""
      }
     },
     "9bb2743ad7eb46f493b8176e43dfb7d3": {
      "model_module": "@jupyter-widgets/base",
      "model_module_version": "1.2.0",
      "model_name": "LayoutModel",
      "state": {}
     },
     "9bb96c51adb94d84a673be8e6475a3f8": {
      "model_module": "@jupyter-widgets/controls",
      "model_module_version": "1.5.0",
      "model_name": "DescriptionStyleModel",
      "state": {
       "description_width": ""
      }
     },
     "9bbb1b2012f04b18acc80d2a521be74c": {
      "model_module": "@jupyter-widgets/base",
      "model_module_version": "1.2.0",
      "model_name": "LayoutModel",
      "state": {}
     },
     "9c0c5a911b3742c0ad97e5253439a1b3": {
      "model_module": "@jupyter-widgets/controls",
      "model_module_version": "1.5.0",
      "model_name": "HTMLModel",
      "state": {
       "layout": "IPY_MODEL_4adddfbe566d45e1bd0b4dd7e11f89c9",
       "style": "IPY_MODEL_226e7e062ef34ea987a9079c418b5eab",
       "value": "DATASETS: 100%"
      }
     },
     "9c11e934faf94f2ab320a4dad868041b": {
      "model_module": "@jupyter-widgets/base",
      "model_module_version": "1.2.0",
      "model_name": "LayoutModel",
      "state": {}
     },
     "9cab132016374067b0bb0385cad6a2a4": {
      "model_module": "@jupyter-widgets/controls",
      "model_module_version": "1.5.0",
      "model_name": "HBoxModel",
      "state": {
       "children": [
        "IPY_MODEL_53a3518093d442f785658843819201ba",
        "IPY_MODEL_a4f40441dffb47d096df9b102a33e9c2",
        "IPY_MODEL_2ca39391df6b4763bcca6c1bed75b3a1"
       ],
       "layout": "IPY_MODEL_66a7b1bc40fb4f928a46e6da193c228c"
      }
     },
     "9cdbeb21d5fe4b41837cec2ed0417d56": {
      "model_module": "@jupyter-widgets/controls",
      "model_module_version": "1.5.0",
      "model_name": "FloatProgressModel",
      "state": {
       "bar_style": "success",
       "layout": "IPY_MODEL_d5e909563b7a4f579db51d8308f6d92d",
       "max": 4,
       "style": "IPY_MODEL_fa41e41d1b7746789b21783bfccbc60a",
       "value": 4
      }
     },
     "9d8ae454b7d245f4b98dbbc3e57874ff": {
      "model_module": "@jupyter-widgets/base",
      "model_module_version": "1.2.0",
      "model_name": "LayoutModel",
      "state": {}
     },
     "9d8b6dd882dd4a52a9fda91bf0412582": {
      "model_module": "@jupyter-widgets/controls",
      "model_module_version": "1.5.0",
      "model_name": "HTMLModel",
      "state": {
       "layout": "IPY_MODEL_d9c317221d87448d8374f1dd470eadef",
       "style": "IPY_MODEL_df276f6b40b04141b4105056ec038600",
       "value": "VIRAL-PNEUMONIA: 100%"
      }
     },
     "9d8ce8aad34646bc8b3959debff2291f": {
      "model_module": "@jupyter-widgets/controls",
      "model_module_version": "1.5.0",
      "model_name": "DescriptionStyleModel",
      "state": {
       "description_width": ""
      }
     },
     "9d926460eb544ade8fb211f1245ab435": {
      "model_module": "@jupyter-widgets/base",
      "model_module_version": "1.2.0",
      "model_name": "LayoutModel",
      "state": {}
     },
     "9de6be2b2f4845b9b9ca3eee5acd73d5": {
      "model_module": "@jupyter-widgets/base",
      "model_module_version": "1.2.0",
      "model_name": "LayoutModel",
      "state": {}
     },
     "9e1fb93804b942b9b1f09c7c3e14da54": {
      "model_module": "@jupyter-widgets/controls",
      "model_module_version": "1.5.0",
      "model_name": "HBoxModel",
      "state": {
       "children": [
        "IPY_MODEL_0b0545e19c854cde9a1fa678b8733046",
        "IPY_MODEL_48e6f675ba6c46ca8c76c79835978e59",
        "IPY_MODEL_7f61db3bf4634c21ae35c92f7be699a2"
       ],
       "layout": "IPY_MODEL_3d3f549bb70f486c88ba4c04e551a795"
      }
     },
     "9e7a1a9953c048caab92df28f3307f10": {
      "model_module": "@jupyter-widgets/controls",
      "model_module_version": "1.5.0",
      "model_name": "DescriptionStyleModel",
      "state": {
       "description_width": ""
      }
     },
     "9ea8b3d5f9d5493c9827faed75d2f0f3": {
      "model_module": "@jupyter-widgets/controls",
      "model_module_version": "1.5.0",
      "model_name": "FloatProgressModel",
      "state": {
       "bar_style": "success",
       "layout": "IPY_MODEL_ffda4746f1c341c69538533dd673f965",
       "max": 4,
       "style": "IPY_MODEL_1085f79fb961436a99f6e43e2a499db8",
       "value": 4
      }
     },
     "9eb1e047512042e6b307df0bdf148edf": {
      "model_module": "@jupyter-widgets/base",
      "model_module_version": "1.2.0",
      "model_name": "LayoutModel",
      "state": {}
     },
     "9ec920b507834ff4aae30bccc714758d": {
      "model_module": "@jupyter-widgets/controls",
      "model_module_version": "1.5.0",
      "model_name": "DescriptionStyleModel",
      "state": {
       "description_width": ""
      }
     },
     "9eebcd17512f42a3b4b955e15819d970": {
      "model_module": "@jupyter-widgets/controls",
      "model_module_version": "1.5.0",
      "model_name": "HTMLModel",
      "state": {
       "layout": "IPY_MODEL_5b792d7da9a84d3a8d38dbf33ae33ee0",
       "style": "IPY_MODEL_c03ae128e0e14efe80c1e518ca6f9c82",
       "value": " 4/4 [00:00&lt;00:00, 37.41it/s]"
      }
     },
     "9eec157e705240b998ef4e67b1f371f8": {
      "model_module": "@jupyter-widgets/controls",
      "model_module_version": "1.5.0",
      "model_name": "DescriptionStyleModel",
      "state": {
       "description_width": ""
      }
     },
     "9f200356f925400a86f140d07dec3792": {
      "model_module": "@jupyter-widgets/controls",
      "model_module_version": "1.5.0",
      "model_name": "HTMLModel",
      "state": {
       "layout": "IPY_MODEL_74c953f66c994b1c9b4431e9ebf0ae27",
       "style": "IPY_MODEL_a400a78aee7240d5b6c19bf49b14df90",
       "value": " 4/4 [00:00&lt;00:00, 38.18it/s]"
      }
     },
     "9f371e66e74e403fa81b6b0f84b12d45": {
      "model_module": "@jupyter-widgets/controls",
      "model_module_version": "1.5.0",
      "model_name": "DescriptionStyleModel",
      "state": {
       "description_width": ""
      }
     },
     "9f636928312e44129b9eec48ae87c15f": {
      "model_module": "@jupyter-widgets/controls",
      "model_module_version": "1.5.0",
      "model_name": "ProgressStyleModel",
      "state": {
       "description_width": ""
      }
     },
     "9f7718b79c1f43b0bec3cd9335b1af62": {
      "model_module": "@jupyter-widgets/base",
      "model_module_version": "1.2.0",
      "model_name": "LayoutModel",
      "state": {}
     },
     "9faa099c21dc4c789788a9d55199bcce": {
      "model_module": "@jupyter-widgets/controls",
      "model_module_version": "1.5.0",
      "model_name": "HBoxModel",
      "state": {
       "children": [
        "IPY_MODEL_eea27560f6b44140a017ee47dd357621",
        "IPY_MODEL_5df4c1edd1774d29a3a7259c8e1df2ea",
        "IPY_MODEL_3fd643c103c2448e8c1dcfb9b3ad0fcd"
       ],
       "layout": "IPY_MODEL_f430d8bf47044e1c99ec6b0836c022d8"
      }
     },
     "9fdfea40268d4379858b8f4d1b118d1e": {
      "model_module": "@jupyter-widgets/base",
      "model_module_version": "1.2.0",
      "model_name": "LayoutModel",
      "state": {}
     },
     "9fe252c246d2425f8e7af1c5f0f21abf": {
      "model_module": "@jupyter-widgets/controls",
      "model_module_version": "1.5.0",
      "model_name": "HTMLModel",
      "state": {
       "layout": "IPY_MODEL_cece74a2079b41ed98acaeb034bcd45a",
       "style": "IPY_MODEL_82d24224ab744fd7b4479ddcc50f4fd5",
       "value": " 3/3 [00:49&lt;00:00, 18.86s/it]"
      }
     },
     "9ff3b7f9fa064597adbb77a9d652b70a": {
      "model_module": "@jupyter-widgets/controls",
      "model_module_version": "1.5.0",
      "model_name": "FloatProgressModel",
      "state": {
       "bar_style": "success",
       "layout": "IPY_MODEL_e90b505b18a24fd8b151dfe1883f5693",
       "max": 4,
       "style": "IPY_MODEL_2b67a87c3af44ee29f0700c8e597ce45",
       "value": 4
      }
     },
     "a023b7e070a148608940c4a3b4c8fb2a": {
      "model_module": "@jupyter-widgets/controls",
      "model_module_version": "1.5.0",
      "model_name": "ProgressStyleModel",
      "state": {
       "description_width": ""
      }
     },
     "a030e5b744514cd18c986d274964352c": {
      "model_module": "@jupyter-widgets/controls",
      "model_module_version": "1.5.0",
      "model_name": "DescriptionStyleModel",
      "state": {
       "description_width": ""
      }
     },
     "a0661578c5d443d2bf6b762d4acbbf3a": {
      "model_module": "@jupyter-widgets/base",
      "model_module_version": "1.2.0",
      "model_name": "LayoutModel",
      "state": {}
     },
     "a07eef885cf04601a62acb058423c615": {
      "model_module": "@jupyter-widgets/controls",
      "model_module_version": "1.5.0",
      "model_name": "HTMLModel",
      "state": {
       "layout": "IPY_MODEL_1c35a7ae4724436ab249b8139ddd181a",
       "style": "IPY_MODEL_d7a74c900629480c8698a75791107e29",
       "value": " 3/3 [00:45&lt;00:00, 17.27s/it]"
      }
     },
     "a0812e29e96d407e9521dfca3d44948d": {
      "model_module": "@jupyter-widgets/base",
      "model_module_version": "1.2.0",
      "model_name": "LayoutModel",
      "state": {}
     },
     "a09de3da63c0452eb66f3bfc445ce9b0": {
      "model_module": "@jupyter-widgets/base",
      "model_module_version": "1.2.0",
      "model_name": "LayoutModel",
      "state": {}
     },
     "a0d9550c461d48e68bab12f819038a8d": {
      "model_module": "@jupyter-widgets/controls",
      "model_module_version": "1.5.0",
      "model_name": "HTMLModel",
      "state": {
       "layout": "IPY_MODEL_1a77a2376e0642b3acd94e843c79fc49",
       "style": "IPY_MODEL_2f60feaec144422fb0d3d4cd3f47888f",
       "value": "COVID: 100%"
      }
     },
     "a118137445c04060940ba0f63d587793": {
      "model_module": "@jupyter-widgets/controls",
      "model_module_version": "1.5.0",
      "model_name": "DescriptionStyleModel",
      "state": {
       "description_width": ""
      }
     },
     "a12488564c0d40a191b589f20b6b534b": {
      "model_module": "@jupyter-widgets/controls",
      "model_module_version": "1.5.0",
      "model_name": "DescriptionStyleModel",
      "state": {
       "description_width": ""
      }
     },
     "a124d4150bc64ca7a4b13051e05547ec": {
      "model_module": "@jupyter-widgets/controls",
      "model_module_version": "1.5.0",
      "model_name": "ProgressStyleModel",
      "state": {
       "description_width": ""
      }
     },
     "a150ee10e0744e3fb92c9e8318d7826d": {
      "model_module": "@jupyter-widgets/controls",
      "model_module_version": "1.5.0",
      "model_name": "DescriptionStyleModel",
      "state": {
       "description_width": ""
      }
     },
     "a158c8ec8918443bb7a6ee470087b65d": {
      "model_module": "@jupyter-widgets/base",
      "model_module_version": "1.2.0",
      "model_name": "LayoutModel",
      "state": {}
     },
     "a15b7a5b03e94c4ca52568607267b901": {
      "model_module": "@jupyter-widgets/controls",
      "model_module_version": "1.5.0",
      "model_name": "ProgressStyleModel",
      "state": {
       "description_width": ""
      }
     },
     "a15dedbb067b40dd9386bdff1d6d3564": {
      "model_module": "@jupyter-widgets/base",
      "model_module_version": "1.2.0",
      "model_name": "LayoutModel",
      "state": {}
     },
     "a1870a2ce4ab46eb9aa3d528e2b9f1c3": {
      "model_module": "@jupyter-widgets/base",
      "model_module_version": "1.2.0",
      "model_name": "LayoutModel",
      "state": {}
     },
     "a198732f70c14ba4a586e44775d5f9b2": {
      "model_module": "@jupyter-widgets/base",
      "model_module_version": "1.2.0",
      "model_name": "LayoutModel",
      "state": {}
     },
     "a1bee7d380814862b3296b301092e66e": {
      "model_module": "@jupyter-widgets/base",
      "model_module_version": "1.2.0",
      "model_name": "LayoutModel",
      "state": {}
     },
     "a1d9f06c5ac243f99a58bd676bbca196": {
      "model_module": "@jupyter-widgets/controls",
      "model_module_version": "1.5.0",
      "model_name": "FloatProgressModel",
      "state": {
       "bar_style": "success",
       "layout": "IPY_MODEL_f5a1bab898e547fcbefb6ca2d1f581c1",
       "max": 4,
       "style": "IPY_MODEL_4f8d61dd41504a1491b1b0bb7952eb98",
       "value": 4
      }
     },
     "a20152e93e4f4d7cbd2ef09475a76df8": {
      "model_module": "@jupyter-widgets/controls",
      "model_module_version": "1.5.0",
      "model_name": "HTMLModel",
      "state": {
       "layout": "IPY_MODEL_4840313e6e1e4142b06d43dd6e1f095e",
       "style": "IPY_MODEL_32b8ce6d335a4d6b861945c392bf5274",
       "value": " 4/4 [00:00&lt;00:00, 36.33it/s]"
      }
     },
     "a220ba8261e34db3ae7adf907bfa2612": {
      "model_module": "@jupyter-widgets/controls",
      "model_module_version": "1.5.0",
      "model_name": "ProgressStyleModel",
      "state": {
       "description_width": ""
      }
     },
     "a28c2ccc7e17424cacf901f144b9cab9": {
      "model_module": "@jupyter-widgets/controls",
      "model_module_version": "1.5.0",
      "model_name": "HTMLModel",
      "state": {
       "layout": "IPY_MODEL_d5970287b38a41b2b4fb0e3e61632576",
       "style": "IPY_MODEL_540b9cb95e88489e8d52ffecbb28e1cd",
       "value": "VIRAL-PNEUMONIA: 100%"
      }
     },
     "a29757b18e8c4e72ac3822f8e8465c27": {
      "model_module": "@jupyter-widgets/controls",
      "model_module_version": "1.5.0",
      "model_name": "DescriptionStyleModel",
      "state": {
       "description_width": ""
      }
     },
     "a29c26c781e441fd88f468e6f39b88b4": {
      "model_module": "@jupyter-widgets/controls",
      "model_module_version": "1.5.0",
      "model_name": "ProgressStyleModel",
      "state": {
       "description_width": ""
      }
     },
     "a2b76a19f44b435881db83a978d1abbe": {
      "model_module": "@jupyter-widgets/base",
      "model_module_version": "1.2.0",
      "model_name": "LayoutModel",
      "state": {}
     },
     "a2d914267e874310a42d4eb2bc3c9afa": {
      "model_module": "@jupyter-widgets/controls",
      "model_module_version": "1.5.0",
      "model_name": "HBoxModel",
      "state": {
       "children": [
        "IPY_MODEL_47c316f4146346ab896df361da87fad7",
        "IPY_MODEL_af4fb23541b142bd9cd958ea395c6ec2",
        "IPY_MODEL_d6a6bf9e782c492a8b8d80ed39bd73a2"
       ],
       "layout": "IPY_MODEL_661b5a905800493d95c510e5dd9a5cc9"
      }
     },
     "a2dbb366ea744c0580982af6d2bc829e": {
      "model_module": "@jupyter-widgets/controls",
      "model_module_version": "1.5.0",
      "model_name": "HTMLModel",
      "state": {
       "layout": "IPY_MODEL_23d4d261e4f546518c07af474d1a5f23",
       "style": "IPY_MODEL_32d6ef2846734c108421d5a604cf65b8",
       "value": "COVID: 100%"
      }
     },
     "a30ad7cce9964205a4882c62bef362fd": {
      "model_module": "@jupyter-widgets/base",
      "model_module_version": "1.2.0",
      "model_name": "LayoutModel",
      "state": {}
     },
     "a32e37de8f384432905e4f4f5a46e1a8": {
      "model_module": "@jupyter-widgets/base",
      "model_module_version": "1.2.0",
      "model_name": "LayoutModel",
      "state": {}
     },
     "a3529c1ddaea4c6ca10911b2ab1e0859": {
      "model_module": "@jupyter-widgets/controls",
      "model_module_version": "1.5.0",
      "model_name": "HTMLModel",
      "state": {
       "layout": "IPY_MODEL_6044a074d66041cc98312ae7e73f1e46",
       "style": "IPY_MODEL_fc86238281984127a7397b08c7da26ee",
       "value": "DATASETS: 100%"
      }
     },
     "a37eb6d7c96e47b29835e1cc471f8bfc": {
      "model_module": "@jupyter-widgets/base",
      "model_module_version": "1.2.0",
      "model_name": "LayoutModel",
      "state": {}
     },
     "a385f882b5194cf390cc3d6bfd3b0145": {
      "model_module": "@jupyter-widgets/base",
      "model_module_version": "1.2.0",
      "model_name": "LayoutModel",
      "state": {}
     },
     "a3c36a704110441cb2b62e8b09ba84a4": {
      "model_module": "@jupyter-widgets/base",
      "model_module_version": "1.2.0",
      "model_name": "LayoutModel",
      "state": {}
     },
     "a3db8fb1bb4f420f860d2764090a1a5b": {
      "model_module": "@jupyter-widgets/controls",
      "model_module_version": "1.5.0",
      "model_name": "DescriptionStyleModel",
      "state": {
       "description_width": ""
      }
     },
     "a400a78aee7240d5b6c19bf49b14df90": {
      "model_module": "@jupyter-widgets/controls",
      "model_module_version": "1.5.0",
      "model_name": "DescriptionStyleModel",
      "state": {
       "description_width": ""
      }
     },
     "a427edea8759440c9b0318da22ca6753": {
      "model_module": "@jupyter-widgets/base",
      "model_module_version": "1.2.0",
      "model_name": "LayoutModel",
      "state": {}
     },
     "a4343d6acfc94d8f8abe46a1a19827ec": {
      "model_module": "@jupyter-widgets/controls",
      "model_module_version": "1.5.0",
      "model_name": "FloatProgressModel",
      "state": {
       "bar_style": "success",
       "layout": "IPY_MODEL_4636abe940e743e99cc698bce5f3d9a3",
       "max": 3,
       "style": "IPY_MODEL_1bf41f9333a04b97b9cb7562e94a0add",
       "value": 3
      }
     },
     "a4389fe392e64b9191e64c0f923d615d": {
      "model_module": "@jupyter-widgets/controls",
      "model_module_version": "1.5.0",
      "model_name": "DescriptionStyleModel",
      "state": {
       "description_width": ""
      }
     },
     "a44b15a6117541aba088d8403275c208": {
      "model_module": "@jupyter-widgets/controls",
      "model_module_version": "1.5.0",
      "model_name": "FloatProgressModel",
      "state": {
       "bar_style": "success",
       "layout": "IPY_MODEL_fea3c22409064ea7880491969f783a7c",
       "max": 4,
       "style": "IPY_MODEL_fab317a838234615af76cf3fdcfe793d",
       "value": 4
      }
     },
     "a45f31410f694a1cbe74ab6a15d4be30": {
      "model_module": "@jupyter-widgets/controls",
      "model_module_version": "1.5.0",
      "model_name": "DescriptionStyleModel",
      "state": {
       "description_width": ""
      }
     },
     "a46359ec41b04c4bb6521f6f12930674": {
      "model_module": "@jupyter-widgets/base",
      "model_module_version": "1.2.0",
      "model_name": "LayoutModel",
      "state": {}
     },
     "a47ef1fae0094d648585737cabcc4fad": {
      "model_module": "@jupyter-widgets/base",
      "model_module_version": "1.2.0",
      "model_name": "LayoutModel",
      "state": {}
     },
     "a48bd8fb120549dfb2b526d88e43c550": {
      "model_module": "@jupyter-widgets/controls",
      "model_module_version": "1.5.0",
      "model_name": "DescriptionStyleModel",
      "state": {
       "description_width": ""
      }
     },
     "a4f40441dffb47d096df9b102a33e9c2": {
      "model_module": "@jupyter-widgets/controls",
      "model_module_version": "1.5.0",
      "model_name": "FloatProgressModel",
      "state": {
       "bar_style": "success",
       "layout": "IPY_MODEL_8d8ac518de40450e8c18e54dc9c92420",
       "max": 1200,
       "style": "IPY_MODEL_c8900abf9b68447e8d9cfe97c274c0fa",
       "value": 1200
      }
     },
     "a53367d9c31c4b3ebfc70ad80f07f86a": {
      "model_module": "@jupyter-widgets/controls",
      "model_module_version": "1.5.0",
      "model_name": "DescriptionStyleModel",
      "state": {
       "description_width": ""
      }
     },
     "a54ddf54935441ea9ac7a0fbf1b3dc86": {
      "model_module": "@jupyter-widgets/controls",
      "model_module_version": "1.5.0",
      "model_name": "DescriptionStyleModel",
      "state": {
       "description_width": ""
      }
     },
     "a5692f9347bd46b393fcadf751b871c1": {
      "model_module": "@jupyter-widgets/controls",
      "model_module_version": "1.5.0",
      "model_name": "HTMLModel",
      "state": {
       "layout": "IPY_MODEL_3002244d7eef44ccbb6eba5043ce9060",
       "style": "IPY_MODEL_559ef60f1e5f424c903657537c740660",
       "value": "DATASETS: 100%"
      }
     },
     "a5eeafe9fc2e45ee9d8ad250e0e912aa": {
      "model_module": "@jupyter-widgets/base",
      "model_module_version": "1.2.0",
      "model_name": "LayoutModel",
      "state": {}
     },
     "a625109198db49eba5d3a259553806bd": {
      "model_module": "@jupyter-widgets/base",
      "model_module_version": "1.2.0",
      "model_name": "LayoutModel",
      "state": {}
     },
     "a628e597e37840c8b79d57c45614698f": {
      "model_module": "@jupyter-widgets/controls",
      "model_module_version": "1.5.0",
      "model_name": "HTMLModel",
      "state": {
       "layout": "IPY_MODEL_bea1a902cf42412d81ca8fe37b7153c1",
       "style": "IPY_MODEL_ccbed6a6eae94d0c8caf85bc61fe6310",
       "value": " 3/3 [00:00&lt;00:00,  7.25it/s]"
      }
     },
     "a66a48b02bbb4309ae58d9cb920a58d2": {
      "model_module": "@jupyter-widgets/base",
      "model_module_version": "1.2.0",
      "model_name": "LayoutModel",
      "state": {}
     },
     "a6700437904e4fa791c6b8d8251278f9": {
      "model_module": "@jupyter-widgets/base",
      "model_module_version": "1.2.0",
      "model_name": "LayoutModel",
      "state": {}
     },
     "a6729433600f46b5ae6cf20d87e302a0": {
      "model_module": "@jupyter-widgets/controls",
      "model_module_version": "1.5.0",
      "model_name": "FloatProgressModel",
      "state": {
       "bar_style": "success",
       "layout": "IPY_MODEL_17ad9de5472a4f31a00c4be401b1a899",
       "max": 3,
       "style": "IPY_MODEL_b70df6c286534bb1991f00df8ae7da21",
       "value": 3
      }
     },
     "a675cbb6157a4b40ada2cf7c1823db2a": {
      "model_module": "@jupyter-widgets/base",
      "model_module_version": "1.2.0",
      "model_name": "LayoutModel",
      "state": {}
     },
     "a67d31c8337b4d5c8f525a20573fb8d9": {
      "model_module": "@jupyter-widgets/base",
      "model_module_version": "1.2.0",
      "model_name": "LayoutModel",
      "state": {}
     },
     "a68131c8c8c54f8e9171d558aa6f315f": {
      "model_module": "@jupyter-widgets/controls",
      "model_module_version": "1.5.0",
      "model_name": "HTMLModel",
      "state": {
       "layout": "IPY_MODEL_ab7cd999ad9942b7ab4bf3dae50bbf58",
       "style": "IPY_MODEL_8d94e6fcfd9a42fa9233b3f3b9f5ac3b",
       "value": "VIRAL-PNEUMONIA: 100%"
      }
     },
     "a69afb01f80845a58abeb2a2a04dfdb1": {
      "model_module": "@jupyter-widgets/controls",
      "model_module_version": "1.5.0",
      "model_name": "DescriptionStyleModel",
      "state": {
       "description_width": ""
      }
     },
     "a6c2dc361b234c66b65a71d1b1764648": {
      "model_module": "@jupyter-widgets/controls",
      "model_module_version": "1.5.0",
      "model_name": "HTMLModel",
      "state": {
       "layout": "IPY_MODEL_54df2d2ec8014e9f885c1dc053ea0ebf",
       "style": "IPY_MODEL_4c9126aaf3e340bcb4197bbc0f1e7775",
       "value": "DATASETS: 100%"
      }
     },
     "a6d7290a3adb4e559d90b848955fc45b": {
      "model_module": "@jupyter-widgets/controls",
      "model_module_version": "1.5.0",
      "model_name": "HBoxModel",
      "state": {
       "children": [
        "IPY_MODEL_e3ed136b2e9d4b07952035aced695683",
        "IPY_MODEL_7a6b8298b9fb4e73b3f97d31ff457606",
        "IPY_MODEL_e94a0739b1fa4730a0bfbf7e5bfa0707"
       ],
       "layout": "IPY_MODEL_d78645d3868b4c69b2013dbadcc5dece"
      }
     },
     "a6d9fa593d1d4e639aacf5de00fc3db9": {
      "model_module": "@jupyter-widgets/controls",
      "model_module_version": "1.5.0",
      "model_name": "FloatProgressModel",
      "state": {
       "bar_style": "success",
       "layout": "IPY_MODEL_1007de1f078d4f2aa8417bbfd033d40f",
       "max": 4,
       "style": "IPY_MODEL_77882d2eaee245a2b0968ffe211fa7e0",
       "value": 4
      }
     },
     "a6f726ec4d624c0bac9551c609afc5ed": {
      "model_module": "@jupyter-widgets/base",
      "model_module_version": "1.2.0",
      "model_name": "LayoutModel",
      "state": {}
     },
     "a70971b415be43b78d0ef67dc6b73131": {
      "model_module": "@jupyter-widgets/controls",
      "model_module_version": "1.5.0",
      "model_name": "ProgressStyleModel",
      "state": {
       "description_width": ""
      }
     },
     "a70c3afa78534e29bd394987039c8040": {
      "model_module": "@jupyter-widgets/base",
      "model_module_version": "1.2.0",
      "model_name": "LayoutModel",
      "state": {}
     },
     "a71c6156fa864e4e8bd53cf8c0990d94": {
      "model_module": "@jupyter-widgets/controls",
      "model_module_version": "1.5.0",
      "model_name": "DescriptionStyleModel",
      "state": {
       "description_width": ""
      }
     },
     "a73838e3a67746d2a5808e8cc5b608dd": {
      "model_module": "@jupyter-widgets/controls",
      "model_module_version": "1.5.0",
      "model_name": "FloatProgressModel",
      "state": {
       "bar_style": "success",
       "layout": "IPY_MODEL_6d87725d60ce4d5ba34d2e6a19e86a87",
       "max": 1200,
       "style": "IPY_MODEL_2a066f68b1ff4594837dbe72eca41e8e",
       "value": 1200
      }
     },
     "a78154e988d04033a5bea0fea2799670": {
      "model_module": "@jupyter-widgets/controls",
      "model_module_version": "1.5.0",
      "model_name": "ProgressStyleModel",
      "state": {
       "description_width": ""
      }
     },
     "a797625f8bc048938238699519d2bc66": {
      "model_module": "@jupyter-widgets/controls",
      "model_module_version": "1.5.0",
      "model_name": "DescriptionStyleModel",
      "state": {
       "description_width": ""
      }
     },
     "a7c68348ee1f480fb9e1b26f097d32c5": {
      "model_module": "@jupyter-widgets/base",
      "model_module_version": "1.2.0",
      "model_name": "LayoutModel",
      "state": {}
     },
     "a7f9b432e0d14a1ba1ed1de6242a1a0e": {
      "model_module": "@jupyter-widgets/controls",
      "model_module_version": "1.5.0",
      "model_name": "DescriptionStyleModel",
      "state": {
       "description_width": ""
      }
     },
     "a81a16d8c07941e49ad86292759b8f2e": {
      "model_module": "@jupyter-widgets/controls",
      "model_module_version": "1.5.0",
      "model_name": "DescriptionStyleModel",
      "state": {
       "description_width": ""
      }
     },
     "a82998988f08422e804b2500ee8dd241": {
      "model_module": "@jupyter-widgets/base",
      "model_module_version": "1.2.0",
      "model_name": "LayoutModel",
      "state": {}
     },
     "a868bb5f7a434fd9b62d7f3956f9582f": {
      "model_module": "@jupyter-widgets/controls",
      "model_module_version": "1.5.0",
      "model_name": "HBoxModel",
      "state": {
       "children": [
        "IPY_MODEL_5fd683c076794a0a9a3f11f915f950e4",
        "IPY_MODEL_83d2a47eb2e04380b52ffc55d6e21a68",
        "IPY_MODEL_ff28d91129a24eda934876f04eba7e6a"
       ],
       "layout": "IPY_MODEL_6d4433abc9dc41cf9ff140a03b204610"
      }
     },
     "a86c8dfb1d5d472ca9037172a9315e41": {
      "model_module": "@jupyter-widgets/controls",
      "model_module_version": "1.5.0",
      "model_name": "DescriptionStyleModel",
      "state": {
       "description_width": ""
      }
     },
     "a89c49b51778458b95b2ace7073a10f1": {
      "model_module": "@jupyter-widgets/base",
      "model_module_version": "1.2.0",
      "model_name": "LayoutModel",
      "state": {}
     },
     "a901c07591814e73be568048b03422a1": {
      "model_module": "@jupyter-widgets/base",
      "model_module_version": "1.2.0",
      "model_name": "LayoutModel",
      "state": {}
     },
     "a90b9e321d7948f2a81109c2a389df15": {
      "model_module": "@jupyter-widgets/controls",
      "model_module_version": "1.5.0",
      "model_name": "HTMLModel",
      "state": {
       "layout": "IPY_MODEL_a30ad7cce9964205a4882c62bef362fd",
       "style": "IPY_MODEL_50714600f61d4e808da93257423313ab",
       "value": "VIRAL-PNEUMONIA: 100%"
      }
     },
     "a9114e0ca8c441d08ee926472b7ddde7": {
      "model_module": "@jupyter-widgets/controls",
      "model_module_version": "1.5.0",
      "model_name": "ProgressStyleModel",
      "state": {
       "description_width": ""
      }
     },
     "a911a87e529a4b12b1b10d717926ebff": {
      "model_module": "@jupyter-widgets/controls",
      "model_module_version": "1.5.0",
      "model_name": "ProgressStyleModel",
      "state": {
       "description_width": ""
      }
     },
     "a9532fb1706d487ca2a24178e903a98c": {
      "model_module": "@jupyter-widgets/base",
      "model_module_version": "1.2.0",
      "model_name": "LayoutModel",
      "state": {}
     },
     "a9c910dfe74c4eb49c1886859af8054e": {
      "model_module": "@jupyter-widgets/controls",
      "model_module_version": "1.5.0",
      "model_name": "HTMLModel",
      "state": {
       "layout": "IPY_MODEL_d80cbaf98fc142bb9b28da356ac29870",
       "style": "IPY_MODEL_ead4a3a631c3439b82ed1f40a4c90527",
       "value": " 3/3 [00:00&lt;00:00,  9.09it/s]"
      }
     },
     "a9e200f7808d41e7927b7c058022c084": {
      "model_module": "@jupyter-widgets/base",
      "model_module_version": "1.2.0",
      "model_name": "LayoutModel",
      "state": {}
     },
     "a9ff85e4d49b4a3d8864773a11672223": {
      "model_module": "@jupyter-widgets/controls",
      "model_module_version": "1.5.0",
      "model_name": "DescriptionStyleModel",
      "state": {
       "description_width": ""
      }
     },
     "aa3f8ed924584ab5b220323d60fb14c6": {
      "model_module": "@jupyter-widgets/base",
      "model_module_version": "1.2.0",
      "model_name": "LayoutModel",
      "state": {}
     },
     "aa4393ff578a4dd4a81627c4a6801360": {
      "model_module": "@jupyter-widgets/base",
      "model_module_version": "1.2.0",
      "model_name": "LayoutModel",
      "state": {}
     },
     "aa836819726842e0a242fbe4a31310a9": {
      "model_module": "@jupyter-widgets/base",
      "model_module_version": "1.2.0",
      "model_name": "LayoutModel",
      "state": {}
     },
     "aab843e0fe7e4ce8a32d80fce14601a0": {
      "model_module": "@jupyter-widgets/controls",
      "model_module_version": "1.5.0",
      "model_name": "FloatProgressModel",
      "state": {
       "bar_style": "success",
       "layout": "IPY_MODEL_ce58f160371d42cea3c9e73caa51cef3",
       "max": 4,
       "style": "IPY_MODEL_52b10ddf772143c1a7497db30aa6f02f",
       "value": 4
      }
     },
     "aac008c3659b4787abbc1c18960fdccc": {
      "model_module": "@jupyter-widgets/controls",
      "model_module_version": "1.5.0",
      "model_name": "HBoxModel",
      "state": {
       "children": [
        "IPY_MODEL_609a05be88d540e49011337d58636ba3",
        "IPY_MODEL_98e995993200469d9a8022d7cbf46195",
        "IPY_MODEL_86c562424be34ab6b84711da03f8cda2"
       ],
       "layout": "IPY_MODEL_139c8ebe1a804738bd0cec36aa9fa1cc"
      }
     },
     "ab475230b26148c09b7ab011c3070159": {
      "model_module": "@jupyter-widgets/base",
      "model_module_version": "1.2.0",
      "model_name": "LayoutModel",
      "state": {}
     },
     "ab65385fa000475b9c6b5a9c7cd42ed5": {
      "model_module": "@jupyter-widgets/controls",
      "model_module_version": "1.5.0",
      "model_name": "DescriptionStyleModel",
      "state": {
       "description_width": ""
      }
     },
     "ab6811dcbae7447eb40ff616c3998057": {
      "model_module": "@jupyter-widgets/controls",
      "model_module_version": "1.5.0",
      "model_name": "ProgressStyleModel",
      "state": {
       "description_width": ""
      }
     },
     "ab6c81f61f7e47ae977c0c7e2fbabd19": {
      "model_module": "@jupyter-widgets/base",
      "model_module_version": "1.2.0",
      "model_name": "LayoutModel",
      "state": {}
     },
     "ab7cd999ad9942b7ab4bf3dae50bbf58": {
      "model_module": "@jupyter-widgets/base",
      "model_module_version": "1.2.0",
      "model_name": "LayoutModel",
      "state": {}
     },
     "abc7915c5831490c8c1a79bf63548078": {
      "model_module": "@jupyter-widgets/controls",
      "model_module_version": "1.5.0",
      "model_name": "DescriptionStyleModel",
      "state": {
       "description_width": ""
      }
     },
     "abdaee154eb64326b2732b479aa8c120": {
      "model_module": "@jupyter-widgets/controls",
      "model_module_version": "1.5.0",
      "model_name": "HTMLModel",
      "state": {
       "layout": "IPY_MODEL_ef55617689c24bcb8278e2b339890408",
       "style": "IPY_MODEL_16072bfb8b3e4dc583ae3e5044312530",
       "value": "NORMAL: 100%"
      }
     },
     "abdc2615707c473180132f8e8af098ec": {
      "model_module": "@jupyter-widgets/controls",
      "model_module_version": "1.5.0",
      "model_name": "DescriptionStyleModel",
      "state": {
       "description_width": ""
      }
     },
     "ac08a39871994f7d919b909ff03188dd": {
      "model_module": "@jupyter-widgets/base",
      "model_module_version": "1.2.0",
      "model_name": "LayoutModel",
      "state": {}
     },
     "ac2f564e38404c34934a88805f7cc792": {
      "model_module": "@jupyter-widgets/base",
      "model_module_version": "1.2.0",
      "model_name": "LayoutModel",
      "state": {}
     },
     "ac2f6623a5ea4117b9a7ad5212c1c800": {
      "model_module": "@jupyter-widgets/controls",
      "model_module_version": "1.5.0",
      "model_name": "HTMLModel",
      "state": {
       "layout": "IPY_MODEL_87a6f2f5544f41e684febc0a7a84f804",
       "style": "IPY_MODEL_a54ddf54935441ea9ac7a0fbf1b3dc86",
       "value": "DATASETS: 100%"
      }
     },
     "ac40669c4f404479854fa7d7266f90fd": {
      "model_module": "@jupyter-widgets/base",
      "model_module_version": "1.2.0",
      "model_name": "LayoutModel",
      "state": {}
     },
     "ac44949e87aa480b9c69fef872c307f6": {
      "model_module": "@jupyter-widgets/controls",
      "model_module_version": "1.5.0",
      "model_name": "DescriptionStyleModel",
      "state": {
       "description_width": ""
      }
     },
     "ac65032c401743739c4a84bdd8d1a371": {
      "model_module": "@jupyter-widgets/base",
      "model_module_version": "1.2.0",
      "model_name": "LayoutModel",
      "state": {}
     },
     "ac6fb62c46f24dbf863e3a0fabbf80b0": {
      "model_module": "@jupyter-widgets/controls",
      "model_module_version": "1.5.0",
      "model_name": "HTMLModel",
      "state": {
       "layout": "IPY_MODEL_7f6d20b48a1f42908deaad4895d334da",
       "style": "IPY_MODEL_8af332b31bff400582d4fc822a18c684",
       "value": " 4/4 [00:00&lt;00:00, 78.06it/s]"
      }
     },
     "ac8f5343d7ba4fb592ad7e0c482298fb": {
      "model_module": "@jupyter-widgets/base",
      "model_module_version": "1.2.0",
      "model_name": "LayoutModel",
      "state": {}
     },
     "aca32acafcaa4fc5af682db047de08b1": {
      "model_module": "@jupyter-widgets/base",
      "model_module_version": "1.2.0",
      "model_name": "LayoutModel",
      "state": {}
     },
     "aca54a4b04564585ab8bdffa6f806bb1": {
      "model_module": "@jupyter-widgets/controls",
      "model_module_version": "1.5.0",
      "model_name": "HBoxModel",
      "state": {
       "children": [
        "IPY_MODEL_b9f0b6197ad442e787101f9dddf37cff",
        "IPY_MODEL_f78d6d88aa8b4d88bc8f6f51a526bde0",
        "IPY_MODEL_37461a52b0e5417094ea5ba631479200"
       ],
       "layout": "IPY_MODEL_317a03c88e554fa3829f1b3a74ca6fa3"
      }
     },
     "acbd8649d80d448abc3c79cd301a3711": {
      "model_module": "@jupyter-widgets/controls",
      "model_module_version": "1.5.0",
      "model_name": "HBoxModel",
      "state": {
       "children": [
        "IPY_MODEL_c9e262e324544f71a4c49ff623462321",
        "IPY_MODEL_5075e2df46394834970e7e9a3de51cf8",
        "IPY_MODEL_6850e97ec5244c1fa879b94cb0c4830e"
       ],
       "layout": "IPY_MODEL_4fb6949ec8374bb0a86ede57a46494c1"
      }
     },
     "acfcc195657640af836969febdc1b980": {
      "model_module": "@jupyter-widgets/base",
      "model_module_version": "1.2.0",
      "model_name": "LayoutModel",
      "state": {}
     },
     "ad1edf2181274f3eaad9eac1e3c550bd": {
      "model_module": "@jupyter-widgets/controls",
      "model_module_version": "1.5.0",
      "model_name": "FloatProgressModel",
      "state": {
       "bar_style": "success",
       "layout": "IPY_MODEL_4853ea3d9e0d44a0967bf57584ebd57b",
       "max": 4,
       "style": "IPY_MODEL_9f636928312e44129b9eec48ae87c15f",
       "value": 4
      }
     },
     "ad46f1bec3c9451ab084d45fcc37fbd7": {
      "model_module": "@jupyter-widgets/controls",
      "model_module_version": "1.5.0",
      "model_name": "HBoxModel",
      "state": {
       "children": [
        "IPY_MODEL_b9d0e5a412fd42599bd08bb0bad8e70a",
        "IPY_MODEL_5b40f12099624e99958ab4eaec6ce249",
        "IPY_MODEL_919f764013f84d0cb9357b49e3484cf5"
       ],
       "layout": "IPY_MODEL_3cc034d5692b4e41b624d0e18698a974"
      }
     },
     "ad49deb5745c45a6ad3c95f80ee20f15": {
      "model_module": "@jupyter-widgets/controls",
      "model_module_version": "1.5.0",
      "model_name": "DescriptionStyleModel",
      "state": {
       "description_width": ""
      }
     },
     "ad54e01dfad94b0794309fc9cb8ccee3": {
      "model_module": "@jupyter-widgets/controls",
      "model_module_version": "1.5.0",
      "model_name": "ProgressStyleModel",
      "state": {
       "description_width": ""
      }
     },
     "ad99d43a32394efb9e8acc3afc61051f": {
      "model_module": "@jupyter-widgets/controls",
      "model_module_version": "1.5.0",
      "model_name": "FloatProgressModel",
      "state": {
       "bar_style": "success",
       "layout": "IPY_MODEL_9a5acfc7a58a45dd840f516b01205960",
       "max": 4,
       "style": "IPY_MODEL_efd90684dd034d7f8a078c3c8b7c0492",
       "value": 4
      }
     },
     "ada048a949ff441680049deccab877dd": {
      "model_module": "@jupyter-widgets/controls",
      "model_module_version": "1.5.0",
      "model_name": "HBoxModel",
      "state": {
       "children": [
        "IPY_MODEL_377a3a6f923b41a38c8e17600a76efb4",
        "IPY_MODEL_faa47447de63423c9bebe074dbb2a163",
        "IPY_MODEL_280be0ca9f2e4d87a3d4c175f4ab2353"
       ],
       "layout": "IPY_MODEL_139fba3185564cf99c74d2d2e80e008f"
      }
     },
     "adbd5726cdbb4eceb86881e81f4bf594": {
      "model_module": "@jupyter-widgets/controls",
      "model_module_version": "1.5.0",
      "model_name": "HTMLModel",
      "state": {
       "layout": "IPY_MODEL_c2def55670fc47d29d207eccc9aeebb6",
       "style": "IPY_MODEL_0d3623337bd0491f9c1c058d31752d03",
       "value": " 4/4 [00:00&lt;00:00, 82.09it/s]"
      }
     },
     "adcd93197fe44128a72c47a3c86db5b8": {
      "model_module": "@jupyter-widgets/controls",
      "model_module_version": "1.5.0",
      "model_name": "HTMLModel",
      "state": {
       "layout": "IPY_MODEL_c2e069ebf1af4018a0ccc731cfb59db6",
       "style": "IPY_MODEL_778da79ca8c24aba8dc12a66cc318a26",
       "value": "DATASETS: 100%"
      }
     },
     "adea3ea8e0d7410faf99a6194517f50d": {
      "model_module": "@jupyter-widgets/base",
      "model_module_version": "1.2.0",
      "model_name": "LayoutModel",
      "state": {}
     },
     "adecf3963abf4327bafb9ad22a8f111d": {
      "model_module": "@jupyter-widgets/base",
      "model_module_version": "1.2.0",
      "model_name": "LayoutModel",
      "state": {}
     },
     "adef08d6da9b443f8f227898e7a71147": {
      "model_module": "@jupyter-widgets/controls",
      "model_module_version": "1.5.0",
      "model_name": "ProgressStyleModel",
      "state": {
       "description_width": ""
      }
     },
     "adf9ef2e418e47da9f322e6e54db30c1": {
      "model_module": "@jupyter-widgets/controls",
      "model_module_version": "1.5.0",
      "model_name": "FloatProgressModel",
      "state": {
       "bar_style": "success",
       "layout": "IPY_MODEL_8f6bfda0bcf14010a1cb97028ac541ce",
       "max": 3,
       "style": "IPY_MODEL_dc123d1dff7e407b8c252aa25a32ae6b",
       "value": 3
      }
     },
     "ae3d362f022147ea8c01c62eb831b77f": {
      "model_module": "@jupyter-widgets/controls",
      "model_module_version": "1.5.0",
      "model_name": "HBoxModel",
      "state": {
       "children": [
        "IPY_MODEL_a68131c8c8c54f8e9171d558aa6f315f",
        "IPY_MODEL_330853aa8a614d44b3ebfe041dc6b739",
        "IPY_MODEL_5a2af69a7d564654b2cda042fbbbbb40"
       ],
       "layout": "IPY_MODEL_895848fbffc14fdca51fa769b51ab569"
      }
     },
     "ae7addec5145460cb67e6bc8e36dd3c8": {
      "model_module": "@jupyter-widgets/controls",
      "model_module_version": "1.5.0",
      "model_name": "HTMLModel",
      "state": {
       "layout": "IPY_MODEL_9bbb1b2012f04b18acc80d2a521be74c",
       "style": "IPY_MODEL_e5178aaa56194008af86a37b2d44a396",
       "value": " 4/4 [00:00&lt;00:00, 78.92it/s]"
      }
     },
     "ae899e0ae11c4974be8b283b3a00896a": {
      "model_module": "@jupyter-widgets/controls",
      "model_module_version": "1.5.0",
      "model_name": "DescriptionStyleModel",
      "state": {
       "description_width": ""
      }
     },
     "aea7be3b84ee435b91c64bdd559c3e9a": {
      "model_module": "@jupyter-widgets/base",
      "model_module_version": "1.2.0",
      "model_name": "LayoutModel",
      "state": {}
     },
     "aebf41ac5cc84c3b842ea32b98b84070": {
      "model_module": "@jupyter-widgets/controls",
      "model_module_version": "1.5.0",
      "model_name": "HTMLModel",
      "state": {
       "layout": "IPY_MODEL_ac40669c4f404479854fa7d7266f90fd",
       "style": "IPY_MODEL_0409846bffe244d79a8bdd3e7e16afab",
       "value": "NORMAL: 100%"
      }
     },
     "aeee0bc04bd34bcda69c8379bb7b4ad7": {
      "model_module": "@jupyter-widgets/controls",
      "model_module_version": "1.5.0",
      "model_name": "HTMLModel",
      "state": {
       "layout": "IPY_MODEL_c45d4e5060794620b1a5e357ef1a9006",
       "style": "IPY_MODEL_5a899aac66f14fb8800fb3705494ca52",
       "value": "COVID: 100%"
      }
     },
     "aef0f451eda04d53a864f83a43ec0a3a": {
      "model_module": "@jupyter-widgets/controls",
      "model_module_version": "1.5.0",
      "model_name": "HTMLModel",
      "state": {
       "layout": "IPY_MODEL_ed7891325e6744c1afe152fe0cd51113",
       "style": "IPY_MODEL_fd779edead864fe0975d5b0984779292",
       "value": "NORMAL: 100%"
      }
     },
     "af4fb23541b142bd9cd958ea395c6ec2": {
      "model_module": "@jupyter-widgets/controls",
      "model_module_version": "1.5.0",
      "model_name": "FloatProgressModel",
      "state": {
       "bar_style": "success",
       "layout": "IPY_MODEL_ff19177be83a4c09a9cc5f2f534369b9",
       "max": 1341,
       "style": "IPY_MODEL_ad54e01dfad94b0794309fc9cb8ccee3",
       "value": 1341
      }
     },
     "af6590f374444301821c3bfbe66f7cf8": {
      "model_module": "@jupyter-widgets/controls",
      "model_module_version": "1.5.0",
      "model_name": "HTMLModel",
      "state": {
       "layout": "IPY_MODEL_0bbc7d8bb18949ab93a218a35802021e",
       "style": "IPY_MODEL_e5f682039b0144a3b75a679f3163c22a",
       "value": " 4/4 [00:00&lt;00:00, 67.99it/s]"
      }
     },
     "af77797b626f42f8aabddb17c24698a9": {
      "model_module": "@jupyter-widgets/base",
      "model_module_version": "1.2.0",
      "model_name": "LayoutModel",
      "state": {}
     },
     "afb32461155040a18c564ef6a666437a": {
      "model_module": "@jupyter-widgets/controls",
      "model_module_version": "1.5.0",
      "model_name": "ProgressStyleModel",
      "state": {
       "description_width": ""
      }
     },
     "afdb8565ec144b65af8af1878438ba98": {
      "model_module": "@jupyter-widgets/controls",
      "model_module_version": "1.5.0",
      "model_name": "DescriptionStyleModel",
      "state": {
       "description_width": ""
      }
     },
     "affb92b4e631436a87380e6f3b934136": {
      "model_module": "@jupyter-widgets/controls",
      "model_module_version": "1.5.0",
      "model_name": "HTMLModel",
      "state": {
       "layout": "IPY_MODEL_fa2173a9800c498ea64b85979ff0e4f2",
       "style": "IPY_MODEL_7d058d5773b14ab280ecd8dfb3bc7b77",
       "value": " 3/3 [00:00&lt;00:00,  8.85it/s]"
      }
     },
     "affe7d667886414c9bdcb94870627aff": {
      "model_module": "@jupyter-widgets/base",
      "model_module_version": "1.2.0",
      "model_name": "LayoutModel",
      "state": {}
     },
     "b027417e7136413da802542a6c923ba2": {
      "model_module": "@jupyter-widgets/base",
      "model_module_version": "1.2.0",
      "model_name": "LayoutModel",
      "state": {}
     },
     "b045cc3e4f284d2baff6a1620f1fcfa9": {
      "model_module": "@jupyter-widgets/base",
      "model_module_version": "1.2.0",
      "model_name": "LayoutModel",
      "state": {}
     },
     "b056b38c0fb7481c939d424049728e7a": {
      "model_module": "@jupyter-widgets/base",
      "model_module_version": "1.2.0",
      "model_name": "LayoutModel",
      "state": {}
     },
     "b071cf4dabb04b0387eafe721c4e625f": {
      "model_module": "@jupyter-widgets/base",
      "model_module_version": "1.2.0",
      "model_name": "LayoutModel",
      "state": {}
     },
     "b079ee02cdf54640b4d3f9a171a3f895": {
      "model_module": "@jupyter-widgets/controls",
      "model_module_version": "1.5.0",
      "model_name": "HBoxModel",
      "state": {
       "children": [
        "IPY_MODEL_a90b9e321d7948f2a81109c2a389df15",
        "IPY_MODEL_daf402a2db4c4063bdf21d311e1349ae",
        "IPY_MODEL_7a4cf3e0244843a6ae661511aa4ee2a3"
       ],
       "layout": "IPY_MODEL_0f53dfb2cf304371a296c34ae4faac7c"
      }
     },
     "b09dfdc5f778493ba6934f8e79f80814": {
      "model_module": "@jupyter-widgets/controls",
      "model_module_version": "1.5.0",
      "model_name": "FloatProgressModel",
      "state": {
       "bar_style": "success",
       "layout": "IPY_MODEL_f84e52620ea6490fa54c9a856a2e3a6b",
       "max": 4,
       "style": "IPY_MODEL_a124d4150bc64ca7a4b13051e05547ec",
       "value": 4
      }
     },
     "b09f28d2f62544a79902545fa7ff92c0": {
      "model_module": "@jupyter-widgets/controls",
      "model_module_version": "1.5.0",
      "model_name": "DescriptionStyleModel",
      "state": {
       "description_width": ""
      }
     },
     "b0cb76b0d875485cb64cd32a1b0b5b7f": {
      "model_module": "@jupyter-widgets/controls",
      "model_module_version": "1.5.0",
      "model_name": "HTMLModel",
      "state": {
       "layout": "IPY_MODEL_dc81268981a7411dac6300652219bf5e",
       "style": "IPY_MODEL_c077ea63899a4695934a23ad99753b99",
       "value": " 1345/1345 [00:24&lt;00:00, 53.55it/s]"
      }
     },
     "b10f93d5bddd4aa88f3d84ba6c5633ec": {
      "model_module": "@jupyter-widgets/base",
      "model_module_version": "1.2.0",
      "model_name": "LayoutModel",
      "state": {}
     },
     "b14223f37dd44dbbb2a7e32de75d367f": {
      "model_module": "@jupyter-widgets/base",
      "model_module_version": "1.2.0",
      "model_name": "LayoutModel",
      "state": {}
     },
     "b153cf30e6624254be8788c1c44c5eed": {
      "model_module": "@jupyter-widgets/controls",
      "model_module_version": "1.5.0",
      "model_name": "HTMLModel",
      "state": {
       "layout": "IPY_MODEL_3eaa2ccb9f8f44e68ef3f74b737eec9f",
       "style": "IPY_MODEL_f0c6b755d97c4ea6aeb2282667697784",
       "value": " 3/3 [00:00&lt;00:00,  8.37it/s]"
      }
     },
     "b157cea6c7984f8ead47f1aa3df9d5e1": {
      "model_module": "@jupyter-widgets/controls",
      "model_module_version": "1.5.0",
      "model_name": "FloatProgressModel",
      "state": {
       "bar_style": "success",
       "layout": "IPY_MODEL_3ac529cc0e5b41b297b6b67a6924e21a",
       "max": 4,
       "style": "IPY_MODEL_9b8f64823d494d32ab975370f36dba61",
       "value": 4
      }
     },
     "b159ec236446467697526a377cdece7f": {
      "model_module": "@jupyter-widgets/controls",
      "model_module_version": "1.5.0",
      "model_name": "HTMLModel",
      "state": {
       "layout": "IPY_MODEL_aa3f8ed924584ab5b220323d60fb14c6",
       "style": "IPY_MODEL_4a5e915fc645465c9046fbda0f59535a",
       "value": " 3/3 [00:00&lt;00:00,  7.49it/s]"
      }
     },
     "b17064169ec345ed8e7f1e79fb634077": {
      "model_module": "@jupyter-widgets/base",
      "model_module_version": "1.2.0",
      "model_name": "LayoutModel",
      "state": {}
     },
     "b19984de94fb458daabfb7dcaae56c2f": {
      "model_module": "@jupyter-widgets/controls",
      "model_module_version": "1.5.0",
      "model_name": "HTMLModel",
      "state": {
       "layout": "IPY_MODEL_d0f4ee52485d453e9cb37f6471e98451",
       "style": "IPY_MODEL_642ba36b6e0646ec9454e1d34bf14811",
       "value": " 4/4 [00:00&lt;00:00, 39.22it/s]"
      }
     },
     "b19aa78be60541ee8f60e8aa5e490364": {
      "model_module": "@jupyter-widgets/base",
      "model_module_version": "1.2.0",
      "model_name": "LayoutModel",
      "state": {}
     },
     "b1c86f7f2e85400dbebe366d2361b7e4": {
      "model_module": "@jupyter-widgets/controls",
      "model_module_version": "1.5.0",
      "model_name": "DescriptionStyleModel",
      "state": {
       "description_width": ""
      }
     },
     "b24a9601990549598213fa09120ff5b9": {
      "model_module": "@jupyter-widgets/controls",
      "model_module_version": "1.5.0",
      "model_name": "ProgressStyleModel",
      "state": {
       "description_width": ""
      }
     },
     "b253372a0f6d45fdbed13486da055c79": {
      "model_module": "@jupyter-widgets/controls",
      "model_module_version": "1.5.0",
      "model_name": "FloatProgressModel",
      "state": {
       "bar_style": "success",
       "layout": "IPY_MODEL_9a97e4611f3f41e6abe92a4f307849aa",
       "max": 4,
       "style": "IPY_MODEL_1d197135ded446ee81817b050ddeeb45",
       "value": 4
      }
     },
     "b261046791a34363bdf031879d9e4743": {
      "model_module": "@jupyter-widgets/controls",
      "model_module_version": "1.5.0",
      "model_name": "HBoxModel",
      "state": {
       "children": [
        "IPY_MODEL_6ceddc8909e6463f851ac35b070c2f8a",
        "IPY_MODEL_de4501ad04e2430b95c01c3f4fc4f179",
        "IPY_MODEL_c23f8558490346e8a799f5ffe7417ea4"
       ],
       "layout": "IPY_MODEL_f34876f02bb44a328e8ca993b5d3e92c"
      }
     },
     "b278b82e6e714339a6ef6ad3da5888cc": {
      "model_module": "@jupyter-widgets/base",
      "model_module_version": "1.2.0",
      "model_name": "LayoutModel",
      "state": {}
     },
     "b27c4df607b54253b1ef5aa3832c6916": {
      "model_module": "@jupyter-widgets/controls",
      "model_module_version": "1.5.0",
      "model_name": "FloatProgressModel",
      "state": {
       "bar_style": "success",
       "layout": "IPY_MODEL_43cf887678c54553a48f33da17b4def6",
       "max": 4,
       "style": "IPY_MODEL_99b867eee29749e5988cb115234f0797",
       "value": 4
      }
     },
     "b2a2f93644a54b99898880e617a11aad": {
      "model_module": "@jupyter-widgets/controls",
      "model_module_version": "1.5.0",
      "model_name": "ProgressStyleModel",
      "state": {
       "description_width": ""
      }
     },
     "b2b81bdace1d4a7f8b0ac06cf37fdd7d": {
      "model_module": "@jupyter-widgets/controls",
      "model_module_version": "1.5.0",
      "model_name": "HBoxModel",
      "state": {
       "children": [
        "IPY_MODEL_ba6386115d6e4d10b7daf1ace4c2d579",
        "IPY_MODEL_96cdd64266ac419f976d6c760c7face8",
        "IPY_MODEL_37baebd1e8d14c2fac14ea1816927018"
       ],
       "layout": "IPY_MODEL_baa10a460e5f4a6fbc37a40ef777c231"
      }
     },
     "b31058547b8945b88c646d2c7126734a": {
      "model_module": "@jupyter-widgets/controls",
      "model_module_version": "1.5.0",
      "model_name": "ProgressStyleModel",
      "state": {
       "description_width": ""
      }
     },
     "b3371a06b18a465892e629d2dcbb026a": {
      "model_module": "@jupyter-widgets/controls",
      "model_module_version": "1.5.0",
      "model_name": "HBoxModel",
      "state": {
       "children": [
        "IPY_MODEL_5fbbf249591a40599708580064c52e2a",
        "IPY_MODEL_fb31d7f3c0df405394671b39a9cfd81f",
        "IPY_MODEL_9177a4112e114f8f8fc538bf31e00cd6"
       ],
       "layout": "IPY_MODEL_42d3dda30904455d91bfbafb4ee4f595"
      }
     },
     "b3956119fa034483b0933167320392db": {
      "model_module": "@jupyter-widgets/base",
      "model_module_version": "1.2.0",
      "model_name": "LayoutModel",
      "state": {}
     },
     "b39bb81aec51454eb7175b65736e64d4": {
      "model_module": "@jupyter-widgets/controls",
      "model_module_version": "1.5.0",
      "model_name": "HBoxModel",
      "state": {
       "children": [
        "IPY_MODEL_eff16205b85c49c1b31518b2f1a3114b",
        "IPY_MODEL_79a04a1b2b1b4745bb418a9e0b0ddc5f",
        "IPY_MODEL_293c8ace0a3d443cb2c03cb3208a51ac"
       ],
       "layout": "IPY_MODEL_1ab5120a15ad4a2bb1209b51daa810a4"
      }
     },
     "b39ca7a3dc8f4ea2a6b20cfb3607c590": {
      "model_module": "@jupyter-widgets/controls",
      "model_module_version": "1.5.0",
      "model_name": "FloatProgressModel",
      "state": {
       "bar_style": "success",
       "layout": "IPY_MODEL_1f6966b351e14a1e89de3e524ee69ca2",
       "max": 4,
       "style": "IPY_MODEL_ee1b56dd3b5045b28b3b5422e0f474a4",
       "value": 4
      }
     },
     "b3ba57b6adbe4f909d4316fa87f77cd9": {
      "model_module": "@jupyter-widgets/controls",
      "model_module_version": "1.5.0",
      "model_name": "HBoxModel",
      "state": {
       "children": [
        "IPY_MODEL_fd9fdfd7ad974f7d95a095d3c73df6f8",
        "IPY_MODEL_2b45176060c54ee793f4f941564da63e",
        "IPY_MODEL_e1c349754f0d4b95bcef2eb20d6a5358"
       ],
       "layout": "IPY_MODEL_2601bc3f4be74feba94a67fb09ed0406"
      }
     },
     "b3c5f08c80e84035b264904fae7fbc3d": {
      "model_module": "@jupyter-widgets/controls",
      "model_module_version": "1.5.0",
      "model_name": "HTMLModel",
      "state": {
       "layout": "IPY_MODEL_d3f8d7e15cc64a11b04b6d5b1e94c070",
       "style": "IPY_MODEL_b09f28d2f62544a79902545fa7ff92c0",
       "value": "VIRAL-PNEUMONIA: 100%"
      }
     },
     "b3ccc03c3eb243b0ba1a8d6b55633883": {
      "model_module": "@jupyter-widgets/controls",
      "model_module_version": "1.5.0",
      "model_name": "DescriptionStyleModel",
      "state": {
       "description_width": ""
      }
     },
     "b3d076cbd2ad4ddb966085a99bdef657": {
      "model_module": "@jupyter-widgets/base",
      "model_module_version": "1.2.0",
      "model_name": "LayoutModel",
      "state": {}
     },
     "b3da90b2d81c48a9b7f6e61b3a1ec5c4": {
      "model_module": "@jupyter-widgets/controls",
      "model_module_version": "1.5.0",
      "model_name": "HTMLModel",
      "state": {
       "layout": "IPY_MODEL_f729879d49474eaaa6cf2c7862f2b872",
       "style": "IPY_MODEL_872210273e2941dba6973bc94622c506",
       "value": "DATASETS: 100%"
      }
     },
     "b40cc94e48ca44faa6d6a259ab39a8da": {
      "model_module": "@jupyter-widgets/base",
      "model_module_version": "1.2.0",
      "model_name": "LayoutModel",
      "state": {}
     },
     "b41a5bc79e3146e3806fe325cc2ac886": {
      "model_module": "@jupyter-widgets/controls",
      "model_module_version": "1.5.0",
      "model_name": "HBoxModel",
      "state": {
       "children": [
        "IPY_MODEL_b53e33f26d5b451f854c8f91036a8e51",
        "IPY_MODEL_89571fa27ba844af92f00b19e7651892",
        "IPY_MODEL_b153cf30e6624254be8788c1c44c5eed"
       ],
       "layout": "IPY_MODEL_5772b0c1e9f9482380808116026c74c7"
      }
     },
     "b41dc40a8b1444899725e20cdf018a6f": {
      "model_module": "@jupyter-widgets/base",
      "model_module_version": "1.2.0",
      "model_name": "LayoutModel",
      "state": {}
     },
     "b42a840cb21a4b95a181716f93cce9b2": {
      "model_module": "@jupyter-widgets/controls",
      "model_module_version": "1.5.0",
      "model_name": "DescriptionStyleModel",
      "state": {
       "description_width": ""
      }
     },
     "b43dc11942f14a2790bbf2ff2afb3325": {
      "model_module": "@jupyter-widgets/base",
      "model_module_version": "1.2.0",
      "model_name": "LayoutModel",
      "state": {}
     },
     "b47ba38d2c8f49bd91e4699aff5df320": {
      "model_module": "@jupyter-widgets/controls",
      "model_module_version": "1.5.0",
      "model_name": "HBoxModel",
      "state": {
       "children": [
        "IPY_MODEL_5d3311daf8be4773b12d6f0493b2f128",
        "IPY_MODEL_50caa9f2fea64419bb927bf467988057",
        "IPY_MODEL_8508459c0e4044f1b125b8bb3ebfae6a"
       ],
       "layout": "IPY_MODEL_c8009919ec034882b1c4ef57ae50eaf1"
      }
     },
     "b496f59e501a4a279aedb2451780a5fc": {
      "model_module": "@jupyter-widgets/controls",
      "model_module_version": "1.5.0",
      "model_name": "DescriptionStyleModel",
      "state": {
       "description_width": ""
      }
     },
     "b4a5c34df6714047b6ad267d39164bbf": {
      "model_module": "@jupyter-widgets/controls",
      "model_module_version": "1.5.0",
      "model_name": "HTMLModel",
      "state": {
       "layout": "IPY_MODEL_ddb106151a1b46b9968070fe8b945e85",
       "style": "IPY_MODEL_bc4c8b39acab4d7f9d84d2b2a8928f44",
       "value": " 3/3 [00:00&lt;00:00,  9.27it/s]"
      }
     },
     "b53aae79975c42099e2a6d71092ebee2": {
      "model_module": "@jupyter-widgets/controls",
      "model_module_version": "1.5.0",
      "model_name": "HBoxModel",
      "state": {
       "children": [
        "IPY_MODEL_ce0fd42b73f14a9ca477ecb9eaa352a6",
        "IPY_MODEL_b39ca7a3dc8f4ea2a6b20cfb3607c590",
        "IPY_MODEL_ead92b0f4166439fbdf78f9966fad5d6"
       ],
       "layout": "IPY_MODEL_1cfa682c38754e3b85a9591c287ad473"
      }
     },
     "b53e33f26d5b451f854c8f91036a8e51": {
      "model_module": "@jupyter-widgets/controls",
      "model_module_version": "1.5.0",
      "model_name": "HTMLModel",
      "state": {
       "layout": "IPY_MODEL_4d9d9ced29fe4ec69c88fa93d94d1152",
       "style": "IPY_MODEL_bf75e7914ed640d48e97f8bec31da88f",
       "value": "DATASETS: 100%"
      }
     },
     "b55443b3f6f74ef7aba52b580e37d032": {
      "model_module": "@jupyter-widgets/controls",
      "model_module_version": "1.5.0",
      "model_name": "HTMLModel",
      "state": {
       "layout": "IPY_MODEL_98703c06faae453eb3a700973a0a8c42",
       "style": "IPY_MODEL_eb8c83a4c1464967a018d58d54456e70",
       "value": " 4/4 [00:00&lt;00:00, 39.67it/s]"
      }
     },
     "b56618f7ca594dfd8e5d4439fab90136": {
      "model_module": "@jupyter-widgets/base",
      "model_module_version": "1.2.0",
      "model_name": "LayoutModel",
      "state": {}
     },
     "b5974c6678744177afb9f473ce932ac6": {
      "model_module": "@jupyter-widgets/controls",
      "model_module_version": "1.5.0",
      "model_name": "ProgressStyleModel",
      "state": {
       "description_width": ""
      }
     },
     "b61bfc79a566409f92366801f220875a": {
      "model_module": "@jupyter-widgets/base",
      "model_module_version": "1.2.0",
      "model_name": "LayoutModel",
      "state": {}
     },
     "b62b78b856e3442789699ff601ee5efd": {
      "model_module": "@jupyter-widgets/controls",
      "model_module_version": "1.5.0",
      "model_name": "DescriptionStyleModel",
      "state": {
       "description_width": ""
      }
     },
     "b62be5a1c0414a7ab26675b8f25d557d": {
      "model_module": "@jupyter-widgets/controls",
      "model_module_version": "1.5.0",
      "model_name": "FloatProgressModel",
      "state": {
       "bar_style": "success",
       "layout": "IPY_MODEL_aa836819726842e0a242fbe4a31310a9",
       "max": 4,
       "style": "IPY_MODEL_c5d6c8ba048842268d7e5268fea105e3",
       "value": 4
      }
     },
     "b64a9487005c43f1b616d5ef3f25b671": {
      "model_module": "@jupyter-widgets/base",
      "model_module_version": "1.2.0",
      "model_name": "LayoutModel",
      "state": {}
     },
     "b676965b413642c18f62f72a2c96e20d": {
      "model_module": "@jupyter-widgets/base",
      "model_module_version": "1.2.0",
      "model_name": "LayoutModel",
      "state": {}
     },
     "b67f8c4fe7db4af3accf371477e20336": {
      "model_module": "@jupyter-widgets/controls",
      "model_module_version": "1.5.0",
      "model_name": "DescriptionStyleModel",
      "state": {
       "description_width": ""
      }
     },
     "b6a8c350a0034fb08a0bcb73690c2d34": {
      "model_module": "@jupyter-widgets/controls",
      "model_module_version": "1.5.0",
      "model_name": "HTMLModel",
      "state": {
       "layout": "IPY_MODEL_2f5929e659d5471ea828f340a63fd106",
       "style": "IPY_MODEL_6116262cfc5443d49758eb9b07e9acf1",
       "value": "VIRAL-PNEUMONIA: 100%"
      }
     },
     "b6c3a8c8a6b2406cacd2dbf3ded2abd0": {
      "model_module": "@jupyter-widgets/controls",
      "model_module_version": "1.5.0",
      "model_name": "HTMLModel",
      "state": {
       "layout": "IPY_MODEL_bf0640d17dc84c9d907d39868fedac75",
       "style": "IPY_MODEL_fb0740176d574e96ac3238ceef39badc",
       "value": " 4/4 [00:00&lt;00:00, 74.82it/s]"
      }
     },
     "b6cfa89f9c53400a90e1794cac1bd3d7": {
      "model_module": "@jupyter-widgets/base",
      "model_module_version": "1.2.0",
      "model_name": "LayoutModel",
      "state": {}
     },
     "b6e749c6093049abb80591641fe320c3": {
      "model_module": "@jupyter-widgets/controls",
      "model_module_version": "1.5.0",
      "model_name": "DescriptionStyleModel",
      "state": {
       "description_width": ""
      }
     },
     "b70df6c286534bb1991f00df8ae7da21": {
      "model_module": "@jupyter-widgets/controls",
      "model_module_version": "1.5.0",
      "model_name": "ProgressStyleModel",
      "state": {
       "description_width": ""
      }
     },
     "b712f84bb02648898fd1ed8e5057796a": {
      "model_module": "@jupyter-widgets/controls",
      "model_module_version": "1.5.0",
      "model_name": "ProgressStyleModel",
      "state": {
       "description_width": ""
      }
     },
     "b739f11b3e5440d4bed091aacb5495d9": {
      "model_module": "@jupyter-widgets/controls",
      "model_module_version": "1.5.0",
      "model_name": "ProgressStyleModel",
      "state": {
       "description_width": ""
      }
     },
     "b73b8e30f3ca477abe73a40086687474": {
      "model_module": "@jupyter-widgets/base",
      "model_module_version": "1.2.0",
      "model_name": "LayoutModel",
      "state": {}
     },
     "b7757aa8622a42f2b967beb1cd8e9179": {
      "model_module": "@jupyter-widgets/base",
      "model_module_version": "1.2.0",
      "model_name": "LayoutModel",
      "state": {}
     },
     "b78e753848454f408e0a43d65c9f0894": {
      "model_module": "@jupyter-widgets/controls",
      "model_module_version": "1.5.0",
      "model_name": "HTMLModel",
      "state": {
       "layout": "IPY_MODEL_b73b8e30f3ca477abe73a40086687474",
       "style": "IPY_MODEL_674365bc0b4b402e8ef5eb527cb1d89a",
       "value": " 1200/1200 [00:03&lt;00:00, 282.08it/s]"
      }
     },
     "b7a5470476d44eaf9bba64988ae147ba": {
      "model_module": "@jupyter-widgets/base",
      "model_module_version": "1.2.0",
      "model_name": "LayoutModel",
      "state": {}
     },
     "b7ab3395cd1f45deb450de089d574b07": {
      "model_module": "@jupyter-widgets/base",
      "model_module_version": "1.2.0",
      "model_name": "LayoutModel",
      "state": {}
     },
     "b7c0dd45a0ae4a679bd6d729b9beca2e": {
      "model_module": "@jupyter-widgets/base",
      "model_module_version": "1.2.0",
      "model_name": "LayoutModel",
      "state": {}
     },
     "b7d5c2cf90b34266a856efe34e7d5534": {
      "model_module": "@jupyter-widgets/controls",
      "model_module_version": "1.5.0",
      "model_name": "HTMLModel",
      "state": {
       "layout": "IPY_MODEL_62abd27c5c5243cb9a59bea8f7c3d207",
       "style": "IPY_MODEL_0987b46436a04e0facb645d59c93a9a1",
       "value": " 4/4 [00:00&lt;00:00, 38.49it/s]"
      }
     },
     "b7f64dcc54c648bcbfab1fabadeb638b": {
      "model_module": "@jupyter-widgets/base",
      "model_module_version": "1.2.0",
      "model_name": "LayoutModel",
      "state": {}
     },
     "b805508049114c07bb71f130383f3279": {
      "model_module": "@jupyter-widgets/base",
      "model_module_version": "1.2.0",
      "model_name": "LayoutModel",
      "state": {}
     },
     "b816752247df4f7dbf7a05589b56868f": {
      "model_module": "@jupyter-widgets/base",
      "model_module_version": "1.2.0",
      "model_name": "LayoutModel",
      "state": {}
     },
     "b819bf3f42a9498e97a00f6dbe5f7b30": {
      "model_module": "@jupyter-widgets/controls",
      "model_module_version": "1.5.0",
      "model_name": "HTMLModel",
      "state": {
       "layout": "IPY_MODEL_36e53ab702974e949e5c38831a25c9fc",
       "style": "IPY_MODEL_2cadd7cfda0a482aba6d430b00ce5c84",
       "value": " 4/4 [00:00&lt;00:00, 71.77it/s]"
      }
     },
     "b8737d24513b44acb76a1735c9484b69": {
      "model_module": "@jupyter-widgets/controls",
      "model_module_version": "1.5.0",
      "model_name": "ProgressStyleModel",
      "state": {
       "description_width": ""
      }
     },
     "b8b08465af1348aea15013eaea81e903": {
      "model_module": "@jupyter-widgets/base",
      "model_module_version": "1.2.0",
      "model_name": "LayoutModel",
      "state": {}
     },
     "b8c739bd97a44ee0ba937fb4e2d8a138": {
      "model_module": "@jupyter-widgets/base",
      "model_module_version": "1.2.0",
      "model_name": "LayoutModel",
      "state": {}
     },
     "b8f688c812af45deb1e8c548641a90df": {
      "model_module": "@jupyter-widgets/base",
      "model_module_version": "1.2.0",
      "model_name": "LayoutModel",
      "state": {}
     },
     "b9066fb44b164300b2c97bd8446fe194": {
      "model_module": "@jupyter-widgets/controls",
      "model_module_version": "1.5.0",
      "model_name": "FloatProgressModel",
      "state": {
       "bar_style": "success",
       "layout": "IPY_MODEL_b19aa78be60541ee8f60e8aa5e490364",
       "max": 4,
       "style": "IPY_MODEL_ca4ca703843442b684aec1e141269182",
       "value": 4
      }
     },
     "b911830bf45b444b8aaa813e1260bffd": {
      "model_module": "@jupyter-widgets/controls",
      "model_module_version": "1.5.0",
      "model_name": "DescriptionStyleModel",
      "state": {
       "description_width": ""
      }
     },
     "b931648ab97a4b9699de11d0160ee868": {
      "model_module": "@jupyter-widgets/base",
      "model_module_version": "1.2.0",
      "model_name": "LayoutModel",
      "state": {}
     },
     "b936c0b250db4bd8ae2ddefb4511bf72": {
      "model_module": "@jupyter-widgets/base",
      "model_module_version": "1.2.0",
      "model_name": "LayoutModel",
      "state": {}
     },
     "b9844ab613f2420ab590c9003969429e": {
      "model_module": "@jupyter-widgets/controls",
      "model_module_version": "1.5.0",
      "model_name": "DescriptionStyleModel",
      "state": {
       "description_width": ""
      }
     },
     "b9a4d08a836944829af39832ac293428": {
      "model_module": "@jupyter-widgets/controls",
      "model_module_version": "1.5.0",
      "model_name": "HBoxModel",
      "state": {
       "children": [
        "IPY_MODEL_53a1953bd0b94db38ca134e28b881b22",
        "IPY_MODEL_47ce3343cb1a4e1c927bfef38990553f",
        "IPY_MODEL_12ebf1d3496644f0bf18efd9c8104c30"
       ],
       "layout": "IPY_MODEL_e5e371a119324d90b36ff577d8db0ac2"
      }
     },
     "b9d0e5a412fd42599bd08bb0bad8e70a": {
      "model_module": "@jupyter-widgets/controls",
      "model_module_version": "1.5.0",
      "model_name": "HTMLModel",
      "state": {
       "layout": "IPY_MODEL_fbec882693f64db7a13a632f2af0a3aa",
       "style": "IPY_MODEL_76fea3eabc8f4ab5a9329209cc05d7be",
       "value": "VIRAL-PNEUMONIA: 100%"
      }
     },
     "b9f0b6197ad442e787101f9dddf37cff": {
      "model_module": "@jupyter-widgets/controls",
      "model_module_version": "1.5.0",
      "model_name": "HTMLModel",
      "state": {
       "layout": "IPY_MODEL_4cc4f592f371438599d3a413e02e397f",
       "style": "IPY_MODEL_f4eabd5c29e044b5897a440e749cbffd",
       "value": "COVID: 100%"
      }
     },
     "b9f65956c2594999a848328aaa30acb6": {
      "model_module": "@jupyter-widgets/controls",
      "model_module_version": "1.5.0",
      "model_name": "ProgressStyleModel",
      "state": {
       "description_width": ""
      }
     },
     "ba09611cd13f47c9b5044c45097c9ca1": {
      "model_module": "@jupyter-widgets/controls",
      "model_module_version": "1.5.0",
      "model_name": "HBoxModel",
      "state": {
       "children": [
        "IPY_MODEL_d100304ab8e24ab093385d039c854fa5",
        "IPY_MODEL_8391b8824be0471391fcd707151a271a",
        "IPY_MODEL_c1cdbe863ef34dfcbf444bb5245dfcd7"
       ],
       "layout": "IPY_MODEL_e9e85708095e4517b6dd73ecc02ca330"
      }
     },
     "ba0ca7be438a4d10b3f81fefb3126f70": {
      "model_module": "@jupyter-widgets/controls",
      "model_module_version": "1.5.0",
      "model_name": "ProgressStyleModel",
      "state": {
       "description_width": ""
      }
     },
     "ba35c05cb638458ca04ac13210aae676": {
      "model_module": "@jupyter-widgets/controls",
      "model_module_version": "1.5.0",
      "model_name": "HTMLModel",
      "state": {
       "layout": "IPY_MODEL_bba83738f7a24c659df21e0346d10f5b",
       "style": "IPY_MODEL_89fb6945a08f4aa08724113b25f731d5",
       "value": " 4/4 [00:00&lt;00:00, 81.99it/s]"
      }
     },
     "ba415b34668243a6bb5a991df9bf1fe6": {
      "model_module": "@jupyter-widgets/controls",
      "model_module_version": "1.5.0",
      "model_name": "DescriptionStyleModel",
      "state": {
       "description_width": ""
      }
     },
     "ba4f816c185e4afabd6ebb38e2624572": {
      "model_module": "@jupyter-widgets/base",
      "model_module_version": "1.2.0",
      "model_name": "LayoutModel",
      "state": {}
     },
     "ba50468eb2ad427e97b247dbb96d0882": {
      "model_module": "@jupyter-widgets/controls",
      "model_module_version": "1.5.0",
      "model_name": "HTMLModel",
      "state": {
       "layout": "IPY_MODEL_61ebe102734147c5b7a082ccce4a1732",
       "style": "IPY_MODEL_24a9f307d37046728ac06e6fc68f1794",
       "value": " 4/4 [00:00&lt;00:00, 36.45it/s]"
      }
     },
     "ba56358feac04d50bf066199bd5bb0e5": {
      "model_module": "@jupyter-widgets/controls",
      "model_module_version": "1.5.0",
      "model_name": "DescriptionStyleModel",
      "state": {
       "description_width": ""
      }
     },
     "ba6386115d6e4d10b7daf1ace4c2d579": {
      "model_module": "@jupyter-widgets/controls",
      "model_module_version": "1.5.0",
      "model_name": "HTMLModel",
      "state": {
       "layout": "IPY_MODEL_29ddf511a8d74f0687a5be5863fc32c5",
       "style": "IPY_MODEL_929f28c2779548d2ab8c7db609a41927",
       "value": "NORMAL: 100%"
      }
     },
     "ba6f020e1c8c4cd5bbf6a9c4b647be5e": {
      "model_module": "@jupyter-widgets/controls",
      "model_module_version": "1.5.0",
      "model_name": "DescriptionStyleModel",
      "state": {
       "description_width": ""
      }
     },
     "ba9b597c3a4a4481b40bce5c8621497e": {
      "model_module": "@jupyter-widgets/base",
      "model_module_version": "1.2.0",
      "model_name": "LayoutModel",
      "state": {}
     },
     "ba9de2307bbf4f12b3a854175a20124a": {
      "model_module": "@jupyter-widgets/base",
      "model_module_version": "1.2.0",
      "model_name": "LayoutModel",
      "state": {}
     },
     "baa10a460e5f4a6fbc37a40ef777c231": {
      "model_module": "@jupyter-widgets/base",
      "model_module_version": "1.2.0",
      "model_name": "LayoutModel",
      "state": {}
     },
     "babdeafdac1d45d39a5eb664eb3790d1": {
      "model_module": "@jupyter-widgets/base",
      "model_module_version": "1.2.0",
      "model_name": "LayoutModel",
      "state": {}
     },
     "bacdb197d10c4bbd86cee2fe1c7045ff": {
      "model_module": "@jupyter-widgets/base",
      "model_module_version": "1.2.0",
      "model_name": "LayoutModel",
      "state": {}
     },
     "bad0239b2ffa485fb687f2b5fb1b78c1": {
      "model_module": "@jupyter-widgets/controls",
      "model_module_version": "1.5.0",
      "model_name": "HTMLModel",
      "state": {
       "layout": "IPY_MODEL_c1ba3ec4ebc34b8999425f5b4cbfda26",
       "style": "IPY_MODEL_f9ba318a80c54927931a88e93676c0b3",
       "value": "VIRAL-PNEUMONIA: 100%"
      }
     },
     "bb270756d468441ca08609b65b5553d3": {
      "model_module": "@jupyter-widgets/base",
      "model_module_version": "1.2.0",
      "model_name": "LayoutModel",
      "state": {}
     },
     "bba83738f7a24c659df21e0346d10f5b": {
      "model_module": "@jupyter-widgets/base",
      "model_module_version": "1.2.0",
      "model_name": "LayoutModel",
      "state": {}
     },
     "bbd0fb3735494f0b9ae99a9164d70e5c": {
      "model_module": "@jupyter-widgets/controls",
      "model_module_version": "1.5.0",
      "model_name": "HTMLModel",
      "state": {
       "layout": "IPY_MODEL_28022e04dca94225adcdffde4ceadb54",
       "style": "IPY_MODEL_e9e52620fb004ad986a4a81b2284f557",
       "value": " 3/3 [00:00&lt;00:00,  7.31it/s]"
      }
     },
     "bbd5fba63ea34a49a981c3a87f6e8ff4": {
      "model_module": "@jupyter-widgets/base",
      "model_module_version": "1.2.0",
      "model_name": "LayoutModel",
      "state": {}
     },
     "bbf6505d3e234177ab49eaf29539a5d9": {
      "model_module": "@jupyter-widgets/controls",
      "model_module_version": "1.5.0",
      "model_name": "HBoxModel",
      "state": {
       "children": [
        "IPY_MODEL_c021edb54baa480c8583b44b3d5be6b3",
        "IPY_MODEL_02f50e3c33c24361a999b4b126c83bc9",
        "IPY_MODEL_1155eea6b6bf4d06963842ec21560888"
       ],
       "layout": "IPY_MODEL_ea0840378dbf4ecf9d5ed99797939224"
      }
     },
     "bc34d4e5b9fc4911a767e066fd757abc": {
      "model_module": "@jupyter-widgets/controls",
      "model_module_version": "1.5.0",
      "model_name": "HTMLModel",
      "state": {
       "layout": "IPY_MODEL_56349a8b005f4646a7a982db57d1ccef",
       "style": "IPY_MODEL_f787ab30a1b14b1bb2c725f871df2da2",
       "value": " 3/3 [00:00&lt;00:00,  8.05it/s]"
      }
     },
     "bc4c8b39acab4d7f9d84d2b2a8928f44": {
      "model_module": "@jupyter-widgets/controls",
      "model_module_version": "1.5.0",
      "model_name": "DescriptionStyleModel",
      "state": {
       "description_width": ""
      }
     },
     "bcaebf1979a74fb98352c5834d25e84d": {
      "model_module": "@jupyter-widgets/base",
      "model_module_version": "1.2.0",
      "model_name": "LayoutModel",
      "state": {}
     },
     "bd000d75970d45298de39356eb698925": {
      "model_module": "@jupyter-widgets/controls",
      "model_module_version": "1.5.0",
      "model_name": "DescriptionStyleModel",
      "state": {
       "description_width": ""
      }
     },
     "bd093fa23a5a4017be8b751389f6087d": {
      "model_module": "@jupyter-widgets/base",
      "model_module_version": "1.2.0",
      "model_name": "LayoutModel",
      "state": {}
     },
     "bd4bc95742e44c31b915aa9c4faa59a7": {
      "model_module": "@jupyter-widgets/base",
      "model_module_version": "1.2.0",
      "model_name": "LayoutModel",
      "state": {}
     },
     "bd5ba21172e8445cb56ff82d480f0105": {
      "model_module": "@jupyter-widgets/controls",
      "model_module_version": "1.5.0",
      "model_name": "FloatProgressModel",
      "state": {
       "bar_style": "success",
       "layout": "IPY_MODEL_97b51ca3274a4dad8ab61ec113d7af33",
       "max": 1341,
       "style": "IPY_MODEL_5c4057a276744b5e8317aa01925fe7ed",
       "value": 1341
      }
     },
     "bd64e2e0ff164c5f911b1e45bc11955c": {
      "model_module": "@jupyter-widgets/base",
      "model_module_version": "1.2.0",
      "model_name": "LayoutModel",
      "state": {}
     },
     "bd7b30a93fe4495ba67977794763b33e": {
      "model_module": "@jupyter-widgets/controls",
      "model_module_version": "1.5.0",
      "model_name": "ProgressStyleModel",
      "state": {
       "description_width": ""
      }
     },
     "bd889c7d39654ca1b8d25466d765a4f3": {
      "model_module": "@jupyter-widgets/controls",
      "model_module_version": "1.5.0",
      "model_name": "HBoxModel",
      "state": {
       "children": [
        "IPY_MODEL_c85a83ee32bb483e95dee2103eb5467a",
        "IPY_MODEL_3433528bdf214bd29656e7509c681170",
        "IPY_MODEL_cafe6d3471224f6788f96749b029cebd"
       ],
       "layout": "IPY_MODEL_5b61104472034b119a5381443d726a89"
      }
     },
     "bda72819ec0b495283c21c2b37fe9b63": {
      "model_module": "@jupyter-widgets/controls",
      "model_module_version": "1.5.0",
      "model_name": "ProgressStyleModel",
      "state": {
       "description_width": ""
      }
     },
     "bddf90fc7a434c5db07484386d3d5ee3": {
      "model_module": "@jupyter-widgets/base",
      "model_module_version": "1.2.0",
      "model_name": "LayoutModel",
      "state": {}
     },
     "be0aedd1d79c4b169b344c05b9684f20": {
      "model_module": "@jupyter-widgets/controls",
      "model_module_version": "1.5.0",
      "model_name": "DescriptionStyleModel",
      "state": {
       "description_width": ""
      }
     },
     "be25bb063a034aae834097c7ad0a1e74": {
      "model_module": "@jupyter-widgets/base",
      "model_module_version": "1.2.0",
      "model_name": "LayoutModel",
      "state": {}
     },
     "be5f624d938848e1acc07c3ce01b9951": {
      "model_module": "@jupyter-widgets/base",
      "model_module_version": "1.2.0",
      "model_name": "LayoutModel",
      "state": {}
     },
     "bea1a902cf42412d81ca8fe37b7153c1": {
      "model_module": "@jupyter-widgets/base",
      "model_module_version": "1.2.0",
      "model_name": "LayoutModel",
      "state": {}
     },
     "bebe8d5de4504f119077ff1d98062fa1": {
      "model_module": "@jupyter-widgets/base",
      "model_module_version": "1.2.0",
      "model_name": "LayoutModel",
      "state": {}
     },
     "bed1d44176854bb9ba6359b85f0b1a9b": {
      "model_module": "@jupyter-widgets/controls",
      "model_module_version": "1.5.0",
      "model_name": "ProgressStyleModel",
      "state": {
       "description_width": ""
      }
     },
     "bede4c21a358451ca622c27bcb419342": {
      "model_module": "@jupyter-widgets/base",
      "model_module_version": "1.2.0",
      "model_name": "LayoutModel",
      "state": {}
     },
     "bf0640d17dc84c9d907d39868fedac75": {
      "model_module": "@jupyter-widgets/base",
      "model_module_version": "1.2.0",
      "model_name": "LayoutModel",
      "state": {}
     },
     "bf5ef79608ae4faba6f066433c50f53f": {
      "model_module": "@jupyter-widgets/base",
      "model_module_version": "1.2.0",
      "model_name": "LayoutModel",
      "state": {}
     },
     "bf75e7914ed640d48e97f8bec31da88f": {
      "model_module": "@jupyter-widgets/controls",
      "model_module_version": "1.5.0",
      "model_name": "DescriptionStyleModel",
      "state": {
       "description_width": ""
      }
     },
     "bfb4d144b94c4912a1c4fddf6bc73f9c": {
      "model_module": "@jupyter-widgets/controls",
      "model_module_version": "1.5.0",
      "model_name": "FloatProgressModel",
      "state": {
       "bar_style": "success",
       "layout": "IPY_MODEL_c6dd6e6f0d784d54896262268539802e",
       "max": 3,
       "style": "IPY_MODEL_bd7b30a93fe4495ba67977794763b33e",
       "value": 3
      }
     },
     "bfb823451acd4eb2893bca1d6f098701": {
      "model_module": "@jupyter-widgets/controls",
      "model_module_version": "1.5.0",
      "model_name": "HTMLModel",
      "state": {
       "layout": "IPY_MODEL_1345c2504cba48289b68b0f8d817578f",
       "style": "IPY_MODEL_ec85e7c521ed474db7a4f85d484b73e7",
       "value": " 3/3 [00:00&lt;00:00,  8.30it/s]"
      }
     },
     "bfe023352de94d1d9de02c4c762dc02b": {
      "model_module": "@jupyter-widgets/base",
      "model_module_version": "1.2.0",
      "model_name": "LayoutModel",
      "state": {}
     },
     "bfe034b80a34456099feb7b831702339": {
      "model_module": "@jupyter-widgets/controls",
      "model_module_version": "1.5.0",
      "model_name": "HTMLModel",
      "state": {
       "layout": "IPY_MODEL_676d59580e1a4c2891af3aa9d71e3333",
       "style": "IPY_MODEL_b1c86f7f2e85400dbebe366d2361b7e4",
       "value": "DATASETS: 100%"
      }
     },
     "bfec9b9ca6454acdb2c65cf8d80e0576": {
      "model_module": "@jupyter-widgets/controls",
      "model_module_version": "1.5.0",
      "model_name": "ProgressStyleModel",
      "state": {
       "description_width": ""
      }
     },
     "c0117a919ae444b1aa68a95b09cd5cc0": {
      "model_module": "@jupyter-widgets/controls",
      "model_module_version": "1.5.0",
      "model_name": "DescriptionStyleModel",
      "state": {
       "description_width": ""
      }
     },
     "c021edb54baa480c8583b44b3d5be6b3": {
      "model_module": "@jupyter-widgets/controls",
      "model_module_version": "1.5.0",
      "model_name": "HTMLModel",
      "state": {
       "layout": "IPY_MODEL_b40cc94e48ca44faa6d6a259ab39a8da",
       "style": "IPY_MODEL_1452509c32fc4cbcb7b956bbd8e1e332",
       "value": "DATASETS: 100%"
      }
     },
     "c03ae128e0e14efe80c1e518ca6f9c82": {
      "model_module": "@jupyter-widgets/controls",
      "model_module_version": "1.5.0",
      "model_name": "DescriptionStyleModel",
      "state": {
       "description_width": ""
      }
     },
     "c077ea63899a4695934a23ad99753b99": {
      "model_module": "@jupyter-widgets/controls",
      "model_module_version": "1.5.0",
      "model_name": "DescriptionStyleModel",
      "state": {
       "description_width": ""
      }
     },
     "c0c025d5c66b4c2ea4b73a9f394b1464": {
      "model_module": "@jupyter-widgets/base",
      "model_module_version": "1.2.0",
      "model_name": "LayoutModel",
      "state": {}
     },
     "c0d0bfcfa7504cdea6231fbe50f018a1": {
      "model_module": "@jupyter-widgets/base",
      "model_module_version": "1.2.0",
      "model_name": "LayoutModel",
      "state": {}
     },
     "c0ed05c7485740ae8f9f30823489b939": {
      "model_module": "@jupyter-widgets/controls",
      "model_module_version": "1.5.0",
      "model_name": "FloatProgressModel",
      "state": {
       "bar_style": "success",
       "layout": "IPY_MODEL_9461bce873c04230ba8af9d0bcdece6a",
       "max": 1341,
       "style": "IPY_MODEL_a911a87e529a4b12b1b10d717926ebff",
       "value": 1341
      }
     },
     "c13c1facf57a4113b1bc80614e50b383": {
      "model_module": "@jupyter-widgets/base",
      "model_module_version": "1.2.0",
      "model_name": "LayoutModel",
      "state": {}
     },
     "c1546d21f088493391b9e424a716d1d6": {
      "model_module": "@jupyter-widgets/controls",
      "model_module_version": "1.5.0",
      "model_name": "FloatProgressModel",
      "state": {
       "bar_style": "success",
       "layout": "IPY_MODEL_00ef4dad14444cd5b34624dabc93aa8e",
       "max": 4,
       "style": "IPY_MODEL_6d4273c4af3b4ff188b8b95910a13bec",
       "value": 4
      }
     },
     "c18f063686454548a8bafd634403dce6": {
      "model_module": "@jupyter-widgets/controls",
      "model_module_version": "1.5.0",
      "model_name": "ProgressStyleModel",
      "state": {
       "description_width": ""
      }
     },
     "c1af1a8e82cd4ec19e90b794de21a851": {
      "model_module": "@jupyter-widgets/base",
      "model_module_version": "1.2.0",
      "model_name": "LayoutModel",
      "state": {}
     },
     "c1ba3ec4ebc34b8999425f5b4cbfda26": {
      "model_module": "@jupyter-widgets/base",
      "model_module_version": "1.2.0",
      "model_name": "LayoutModel",
      "state": {}
     },
     "c1cdbe863ef34dfcbf444bb5245dfcd7": {
      "model_module": "@jupyter-widgets/controls",
      "model_module_version": "1.5.0",
      "model_name": "HTMLModel",
      "state": {
       "layout": "IPY_MODEL_0b286b984b5843239833ff1bf2ccbddd",
       "style": "IPY_MODEL_6b19971853a646eabcf9a05e863968e7",
       "value": " 4/4 [00:00&lt;00:00, 18.66it/s]"
      }
     },
     "c1d3020c91d843d1b788cf42f8c10657": {
      "model_module": "@jupyter-widgets/base",
      "model_module_version": "1.2.0",
      "model_name": "LayoutModel",
      "state": {}
     },
     "c1d376197abc46e698b7d5e6ae9ec3aa": {
      "model_module": "@jupyter-widgets/controls",
      "model_module_version": "1.5.0",
      "model_name": "DescriptionStyleModel",
      "state": {
       "description_width": ""
      }
     },
     "c1fffee8f48b4824b9efb64606e7295a": {
      "model_module": "@jupyter-widgets/controls",
      "model_module_version": "1.5.0",
      "model_name": "DescriptionStyleModel",
      "state": {
       "description_width": ""
      }
     },
     "c22be51c1f4648208c44ddafefbdeaba": {
      "model_module": "@jupyter-widgets/controls",
      "model_module_version": "1.5.0",
      "model_name": "DescriptionStyleModel",
      "state": {
       "description_width": ""
      }
     },
     "c23f8558490346e8a799f5ffe7417ea4": {
      "model_module": "@jupyter-widgets/controls",
      "model_module_version": "1.5.0",
      "model_name": "HTMLModel",
      "state": {
       "layout": "IPY_MODEL_240c60a678894389afbbc2a946ef828a",
       "style": "IPY_MODEL_84f1517852b549bd9dc76de9736c61b2",
       "value": " 1200/1200 [00:03&lt;00:00, 298.26it/s]"
      }
     },
     "c240189eae674c178be06f12139b6e10": {
      "model_module": "@jupyter-widgets/controls",
      "model_module_version": "1.5.0",
      "model_name": "DescriptionStyleModel",
      "state": {
       "description_width": ""
      }
     },
     "c2459a5bdb794f2d9953a7e9a8106091": {
      "model_module": "@jupyter-widgets/controls",
      "model_module_version": "1.5.0",
      "model_name": "HTMLModel",
      "state": {
       "layout": "IPY_MODEL_6837f1d0cf484419859709a82cf1edfd",
       "style": "IPY_MODEL_887d35d5e1944003823d5621b931e9d9",
       "value": " 4/4 [00:00&lt;00:00, 73.37it/s]"
      }
     },
     "c2459b7c4ed049dba55beaf17c253553": {
      "model_module": "@jupyter-widgets/controls",
      "model_module_version": "1.5.0",
      "model_name": "DescriptionStyleModel",
      "state": {
       "description_width": ""
      }
     },
     "c26631a8566348b4a195b3095bb4b958": {
      "model_module": "@jupyter-widgets/base",
      "model_module_version": "1.2.0",
      "model_name": "LayoutModel",
      "state": {}
     },
     "c26e3266b03d487d86b1f2745038e286": {
      "model_module": "@jupyter-widgets/base",
      "model_module_version": "1.2.0",
      "model_name": "LayoutModel",
      "state": {}
     },
     "c26ec233f8724878a2eced9472166a88": {
      "model_module": "@jupyter-widgets/controls",
      "model_module_version": "1.5.0",
      "model_name": "HTMLModel",
      "state": {
       "layout": "IPY_MODEL_174ec04dd50e47dbaebde268497e39fb",
       "style": "IPY_MODEL_585471c71dec414d9e3ee193254900a1",
       "value": " 4/4 [00:00&lt;00:00, 29.18it/s]"
      }
     },
     "c29a0b603c0c4660872925b0cb3ee131": {
      "model_module": "@jupyter-widgets/controls",
      "model_module_version": "1.5.0",
      "model_name": "DescriptionStyleModel",
      "state": {
       "description_width": ""
      }
     },
     "c2a96b121b2748ef8e140ad7bef211ff": {
      "model_module": "@jupyter-widgets/controls",
      "model_module_version": "1.5.0",
      "model_name": "FloatProgressModel",
      "state": {
       "bar_style": "success",
       "layout": "IPY_MODEL_f0935ee9635e4f1ea697e0e7e1bdf9db",
       "max": 4,
       "style": "IPY_MODEL_8e51e04d7df1435e93a4330928a1fb51",
       "value": 4
      }
     },
     "c2cf8a3ddeca4d04baeff1effca0c0e9": {
      "model_module": "@jupyter-widgets/base",
      "model_module_version": "1.2.0",
      "model_name": "LayoutModel",
      "state": {}
     },
     "c2def55670fc47d29d207eccc9aeebb6": {
      "model_module": "@jupyter-widgets/base",
      "model_module_version": "1.2.0",
      "model_name": "LayoutModel",
      "state": {}
     },
     "c2e069ebf1af4018a0ccc731cfb59db6": {
      "model_module": "@jupyter-widgets/base",
      "model_module_version": "1.2.0",
      "model_name": "LayoutModel",
      "state": {}
     },
     "c2e6794ec7104c52a647a41b38002398": {
      "model_module": "@jupyter-widgets/controls",
      "model_module_version": "1.5.0",
      "model_name": "HTMLModel",
      "state": {
       "layout": "IPY_MODEL_23da85278e3d48ea86fd36676e6e638a",
       "style": "IPY_MODEL_d807782fee25457d84cbc9a1a598fe84",
       "value": " 4/4 [00:00&lt;00:00, 113.08it/s]"
      }
     },
     "c3167cdbeb2a48278e7e0ca1f74cf6f6": {
      "model_module": "@jupyter-widgets/controls",
      "model_module_version": "1.5.0",
      "model_name": "ProgressStyleModel",
      "state": {
       "description_width": ""
      }
     },
     "c32328eab8d8498b8c1c8c443026c29d": {
      "model_module": "@jupyter-widgets/base",
      "model_module_version": "1.2.0",
      "model_name": "LayoutModel",
      "state": {}
     },
     "c32b5ccd8d6643d5aa55e001e4423a75": {
      "model_module": "@jupyter-widgets/controls",
      "model_module_version": "1.5.0",
      "model_name": "HBoxModel",
      "state": {
       "children": [
        "IPY_MODEL_7613aa20b0e84e3bbf003dd3cb98be59",
        "IPY_MODEL_9cdbeb21d5fe4b41837cec2ed0417d56",
        "IPY_MODEL_358040f188284133873198022f6d84b5"
       ],
       "layout": "IPY_MODEL_44208fd0a98840af822752736a360e7b"
      }
     },
     "c366525819b14e76b0a72b219a607aef": {
      "model_module": "@jupyter-widgets/controls",
      "model_module_version": "1.5.0",
      "model_name": "HBoxModel",
      "state": {
       "children": [
        "IPY_MODEL_d9dac40c98f845e3ba7d65f7923e440e",
        "IPY_MODEL_a4343d6acfc94d8f8abe46a1a19827ec",
        "IPY_MODEL_b159ec236446467697526a377cdece7f"
       ],
       "layout": "IPY_MODEL_5bda0bfc2aaf417db1104f8a68ca200f"
      }
     },
     "c373f514b36d42399424d33d783a4962": {
      "model_module": "@jupyter-widgets/controls",
      "model_module_version": "1.5.0",
      "model_name": "HBoxModel",
      "state": {
       "children": [
        "IPY_MODEL_295240b8ebab4efaa80e2d155e78308c",
        "IPY_MODEL_b62be5a1c0414a7ab26675b8f25d557d",
        "IPY_MODEL_c2e6794ec7104c52a647a41b38002398"
       ],
       "layout": "IPY_MODEL_32a82a1ff52445fbbfcbf26ec52b2952"
      }
     },
     "c3ce5d28d37d429291ac42fc0ff1547f": {
      "model_module": "@jupyter-widgets/controls",
      "model_module_version": "1.5.0",
      "model_name": "ProgressStyleModel",
      "state": {
       "description_width": ""
      }
     },
     "c3dbae1a9cb14d8384d9bce02583aa31": {
      "model_module": "@jupyter-widgets/base",
      "model_module_version": "1.2.0",
      "model_name": "LayoutModel",
      "state": {}
     },
     "c40dd4cdc30544c9bf02d2c020be5f04": {
      "model_module": "@jupyter-widgets/controls",
      "model_module_version": "1.5.0",
      "model_name": "HTMLModel",
      "state": {
       "layout": "IPY_MODEL_3b744ddfbfc84f279e3fc75dddbbfff8",
       "style": "IPY_MODEL_1d1e4e331b284fceb221b7899c39d8f3",
       "value": " 4/4 [00:00&lt;00:00, 71.65it/s]"
      }
     },
     "c422645603034543939c339f949a49e9": {
      "model_module": "@jupyter-widgets/controls",
      "model_module_version": "1.5.0",
      "model_name": "HBoxModel",
      "state": {
       "children": [
        "IPY_MODEL_2e7c387a446e4932911903ba3f1c564b",
        "IPY_MODEL_1bd1c6ce49f34b7a8371d3702158b35c",
        "IPY_MODEL_0159bdd8f4d74868a956074b2772ddc7"
       ],
       "layout": "IPY_MODEL_2229c4601e16464d8f6720fb3fb3d7d9"
      }
     },
     "c4443c2de38d4e5aaa7bbfe87b314b33": {
      "model_module": "@jupyter-widgets/controls",
      "model_module_version": "1.5.0",
      "model_name": "DescriptionStyleModel",
      "state": {
       "description_width": ""
      }
     },
     "c451af6a293a498eb62874b527804d25": {
      "model_module": "@jupyter-widgets/controls",
      "model_module_version": "1.5.0",
      "model_name": "FloatProgressModel",
      "state": {
       "bar_style": "success",
       "layout": "IPY_MODEL_c32328eab8d8498b8c1c8c443026c29d",
       "max": 4,
       "style": "IPY_MODEL_477b1f2aef7b4c1dac3a8c313fe8ae40",
       "value": 4
      }
     },
     "c45d4e5060794620b1a5e357ef1a9006": {
      "model_module": "@jupyter-widgets/base",
      "model_module_version": "1.2.0",
      "model_name": "LayoutModel",
      "state": {}
     },
     "c46121402c4c42878fded731ca9677a0": {
      "model_module": "@jupyter-widgets/controls",
      "model_module_version": "1.5.0",
      "model_name": "ProgressStyleModel",
      "state": {
       "description_width": ""
      }
     },
     "c464360182664300917e26ca9a1770ec": {
      "model_module": "@jupyter-widgets/controls",
      "model_module_version": "1.5.0",
      "model_name": "HTMLModel",
      "state": {
       "layout": "IPY_MODEL_daf80bb5cbb24aa1a1ba1949c71448c3",
       "style": "IPY_MODEL_ee26d3200f8a4555b105449746c87f40",
       "value": " 4/4 [00:00&lt;00:00, 29.09it/s]"
      }
     },
     "c475b4e9a2404778b93860eaeeaba5cf": {
      "model_module": "@jupyter-widgets/controls",
      "model_module_version": "1.5.0",
      "model_name": "DescriptionStyleModel",
      "state": {
       "description_width": ""
      }
     },
     "c49da79b3cce463fac1ae8d5f15bef1a": {
      "model_module": "@jupyter-widgets/controls",
      "model_module_version": "1.5.0",
      "model_name": "DescriptionStyleModel",
      "state": {
       "description_width": ""
      }
     },
     "c4e4531fb3d64078a395b65fd785288d": {
      "model_module": "@jupyter-widgets/base",
      "model_module_version": "1.2.0",
      "model_name": "LayoutModel",
      "state": {}
     },
     "c502e2775c3c46a1ad214335330c48d8": {
      "model_module": "@jupyter-widgets/controls",
      "model_module_version": "1.5.0",
      "model_name": "DescriptionStyleModel",
      "state": {
       "description_width": ""
      }
     },
     "c5041b18ff6b46d1bed8f6612d08c1c8": {
      "model_module": "@jupyter-widgets/base",
      "model_module_version": "1.2.0",
      "model_name": "LayoutModel",
      "state": {}
     },
     "c52070ea72184a1984e614b2138e115e": {
      "model_module": "@jupyter-widgets/controls",
      "model_module_version": "1.5.0",
      "model_name": "DescriptionStyleModel",
      "state": {
       "description_width": ""
      }
     },
     "c591d8e0b0b54b5fa57dbb202d9b6717": {
      "model_module": "@jupyter-widgets/controls",
      "model_module_version": "1.5.0",
      "model_name": "DescriptionStyleModel",
      "state": {
       "description_width": ""
      }
     },
     "c591ef495f3a479f9ddeafd3e6b5c7d0": {
      "model_module": "@jupyter-widgets/base",
      "model_module_version": "1.2.0",
      "model_name": "LayoutModel",
      "state": {}
     },
     "c59c4f0faec845e3b3c98654d88e0e50": {
      "model_module": "@jupyter-widgets/controls",
      "model_module_version": "1.5.0",
      "model_name": "FloatProgressModel",
      "state": {
       "bar_style": "success",
       "layout": "IPY_MODEL_c5041b18ff6b46d1bed8f6612d08c1c8",
       "max": 4,
       "style": "IPY_MODEL_00ef20d922124caa9e76d638616aa743",
       "value": 4
      }
     },
     "c5ba9fc2cf054d9189f5d0a99e600c41": {
      "model_module": "@jupyter-widgets/base",
      "model_module_version": "1.2.0",
      "model_name": "LayoutModel",
      "state": {}
     },
     "c5caf3fd1bb448af8aadf310d9aeb9ba": {
      "model_module": "@jupyter-widgets/base",
      "model_module_version": "1.2.0",
      "model_name": "LayoutModel",
      "state": {}
     },
     "c5d6c8ba048842268d7e5268fea105e3": {
      "model_module": "@jupyter-widgets/controls",
      "model_module_version": "1.5.0",
      "model_name": "ProgressStyleModel",
      "state": {
       "description_width": ""
      }
     },
     "c5f3359dce4d4b34ab5426387eb1f055": {
      "model_module": "@jupyter-widgets/controls",
      "model_module_version": "1.5.0",
      "model_name": "HTMLModel",
      "state": {
       "layout": "IPY_MODEL_544fd85eeb46430b9d8a4db10f5315ff",
       "style": "IPY_MODEL_5a0c146833f641bda539c4a17c42111b",
       "value": "DATASETS: 100%"
      }
     },
     "c5ffe0d5a7cf4c2c9446838c4beebd60": {
      "model_module": "@jupyter-widgets/controls",
      "model_module_version": "1.5.0",
      "model_name": "HTMLModel",
      "state": {
       "layout": "IPY_MODEL_42fc27dd33dc45cf9e63388f23a7f3d5",
       "style": "IPY_MODEL_5073cd288a5447d1bbf83e8a9daa0425",
       "value": " 3/3 [00:00&lt;00:00,  8.96it/s]"
      }
     },
     "c614032861d54c6a9a44aa05d6148c4d": {
      "model_module": "@jupyter-widgets/controls",
      "model_module_version": "1.5.0",
      "model_name": "HTMLModel",
      "state": {
       "layout": "IPY_MODEL_e11a6e0edde5432298a3f6628a54b0a2",
       "style": "IPY_MODEL_6eabc1319dee4d8ca56932524105cead",
       "value": " 4/4 [00:00&lt;00:00, 36.86it/s]"
      }
     },
     "c659cf476ebe4fdea11354b1839f43f1": {
      "model_module": "@jupyter-widgets/controls",
      "model_module_version": "1.5.0",
      "model_name": "HTMLModel",
      "state": {
       "layout": "IPY_MODEL_14e9c9f07bea41d99938b3e7f8304c11",
       "style": "IPY_MODEL_6fae44434b024c41822922eea5dd0534",
       "value": "DATASETS: 100%"
      }
     },
     "c67bebcf598349e1aa16e8e4aae00e05": {
      "model_module": "@jupyter-widgets/base",
      "model_module_version": "1.2.0",
      "model_name": "LayoutModel",
      "state": {}
     },
     "c6c47b41df4640ca8a9cea0c8a2b3f06": {
      "model_module": "@jupyter-widgets/controls",
      "model_module_version": "1.5.0",
      "model_name": "FloatProgressModel",
      "state": {
       "bar_style": "success",
       "layout": "IPY_MODEL_828615e42e21491983a3da180f073032",
       "max": 3,
       "style": "IPY_MODEL_4c4e9385f1a64c068ba8d2ab0ecb65d8",
       "value": 3
      }
     },
     "c6dd6e6f0d784d54896262268539802e": {
      "model_module": "@jupyter-widgets/base",
      "model_module_version": "1.2.0",
      "model_name": "LayoutModel",
      "state": {}
     },
     "c70a56f3d23f499c997e0310bdaee1a9": {
      "model_module": "@jupyter-widgets/controls",
      "model_module_version": "1.5.0",
      "model_name": "HBoxModel",
      "state": {
       "children": [
        "IPY_MODEL_86c1d4a8f472495faeda67aafb4e9f80",
        "IPY_MODEL_8d21f6c2b541469988d1946a55e1ccac",
        "IPY_MODEL_5ae12ebbe455493381e8bddc716ef5e2"
       ],
       "layout": "IPY_MODEL_bebe8d5de4504f119077ff1d98062fa1"
      }
     },
     "c729f5aad93c4566a90033d78c0d6a5e": {
      "model_module": "@jupyter-widgets/controls",
      "model_module_version": "1.5.0",
      "model_name": "HTMLModel",
      "state": {
       "layout": "IPY_MODEL_3e07bdc53d8a47b081cd52d24dee7c18",
       "style": "IPY_MODEL_a86c8dfb1d5d472ca9037172a9315e41",
       "value": "DATASETS: 100%"
      }
     },
     "c7612a16d9694218836e8fbc8e07b68f": {
      "model_module": "@jupyter-widgets/controls",
      "model_module_version": "1.5.0",
      "model_name": "ProgressStyleModel",
      "state": {
       "description_width": ""
      }
     },
     "c7dcc63f5bd1482fb64d59eab77059f9": {
      "model_module": "@jupyter-widgets/controls",
      "model_module_version": "1.5.0",
      "model_name": "FloatProgressModel",
      "state": {
       "bar_style": "success",
       "layout": "IPY_MODEL_a5eeafe9fc2e45ee9d8ad250e0e912aa",
       "max": 3,
       "style": "IPY_MODEL_425a1b40f4c844579a8bfb2e58860cc2",
       "value": 3
      }
     },
     "c7fb60f79f8b47558800586f1c76f2a0": {
      "model_module": "@jupyter-widgets/base",
      "model_module_version": "1.2.0",
      "model_name": "LayoutModel",
      "state": {}
     },
     "c8009919ec034882b1c4ef57ae50eaf1": {
      "model_module": "@jupyter-widgets/base",
      "model_module_version": "1.2.0",
      "model_name": "LayoutModel",
      "state": {}
     },
     "c80180dff4664ef9ad81b8d34d6d2158": {
      "model_module": "@jupyter-widgets/controls",
      "model_module_version": "1.5.0",
      "model_name": "DescriptionStyleModel",
      "state": {
       "description_width": ""
      }
     },
     "c8207df18a104c79934fa7978047ef16": {
      "model_module": "@jupyter-widgets/controls",
      "model_module_version": "1.5.0",
      "model_name": "HTMLModel",
      "state": {
       "layout": "IPY_MODEL_c5ba9fc2cf054d9189f5d0a99e600c41",
       "style": "IPY_MODEL_7005edab3c374b89a97aaa8c753fa24f",
       "value": " 4/4 [00:00&lt;00:00, 36.11it/s]"
      }
     },
     "c85870f12bf3454d86b79d55f38fa5ba": {
      "model_module": "@jupyter-widgets/base",
      "model_module_version": "1.2.0",
      "model_name": "LayoutModel",
      "state": {}
     },
     "c85a83ee32bb483e95dee2103eb5467a": {
      "model_module": "@jupyter-widgets/controls",
      "model_module_version": "1.5.0",
      "model_name": "HTMLModel",
      "state": {
       "layout": "IPY_MODEL_4a3ca9f7c4f74c91adb8fa4c86c54242",
       "style": "IPY_MODEL_6eba1d4a0d5d40b5b01e6d4c780d21e1",
       "value": "VIRAL-PNEUMONIA: 100%"
      }
     },
     "c86b48f854264df1b56509eb25e44af3": {
      "model_module": "@jupyter-widgets/controls",
      "model_module_version": "1.5.0",
      "model_name": "ProgressStyleModel",
      "state": {
       "description_width": ""
      }
     },
     "c8900abf9b68447e8d9cfe97c274c0fa": {
      "model_module": "@jupyter-widgets/controls",
      "model_module_version": "1.5.0",
      "model_name": "ProgressStyleModel",
      "state": {
       "description_width": ""
      }
     },
     "c89a8d30948149349eb9ddaf545adef8": {
      "model_module": "@jupyter-widgets/controls",
      "model_module_version": "1.5.0",
      "model_name": "HBoxModel",
      "state": {
       "children": [
        "IPY_MODEL_4769fef5845246c4a997579e5383c7a3",
        "IPY_MODEL_0341003e80a0440ba8ad0192804694f8",
        "IPY_MODEL_9f200356f925400a86f140d07dec3792"
       ],
       "layout": "IPY_MODEL_adea3ea8e0d7410faf99a6194517f50d"
      }
     },
     "c8e2745dabe94e279e764dcb00bafc84": {
      "model_module": "@jupyter-widgets/controls",
      "model_module_version": "1.5.0",
      "model_name": "DescriptionStyleModel",
      "state": {
       "description_width": ""
      }
     },
     "c91fad12cd5540449733424765622c39": {
      "model_module": "@jupyter-widgets/base",
      "model_module_version": "1.2.0",
      "model_name": "LayoutModel",
      "state": {}
     },
     "c935366d681d4aa08ecfbb0e5affd938": {
      "model_module": "@jupyter-widgets/controls",
      "model_module_version": "1.5.0",
      "model_name": "FloatProgressModel",
      "state": {
       "bar_style": "success",
       "layout": "IPY_MODEL_782aed4da52c451d94fe16a34b3639c3",
       "max": 3,
       "style": "IPY_MODEL_0e64d92c8b5a49eab2ec31bfd6bba87a",
       "value": 3
      }
     },
     "c9a74ee6450d47aabc47b0cbbed8dd5d": {
      "model_module": "@jupyter-widgets/controls",
      "model_module_version": "1.5.0",
      "model_name": "HBoxModel",
      "state": {
       "children": [
        "IPY_MODEL_a6c2dc361b234c66b65a71d1b1764648",
        "IPY_MODEL_4aabd502e2974d0baf62d5e33c836da9",
        "IPY_MODEL_251490a912094752b44dcd34991aeaf9"
       ],
       "layout": "IPY_MODEL_5c78969b5a414e968b207f39d6599bc7"
      }
     },
     "c9e262e324544f71a4c49ff623462321": {
      "model_module": "@jupyter-widgets/controls",
      "model_module_version": "1.5.0",
      "model_name": "HTMLModel",
      "state": {
       "layout": "IPY_MODEL_528d1cfeb1dd4452a6c63e1c7de73d23",
       "style": "IPY_MODEL_56dd3bce169346e5a6569a65a2c3740b",
       "value": "COVID: 100%"
      }
     },
     "c9f7ee2763fd4da2b73f61866ada8dd5": {
      "model_module": "@jupyter-widgets/base",
      "model_module_version": "1.2.0",
      "model_name": "LayoutModel",
      "state": {}
     },
     "c9fca83776104b7a92d4257bc7df57eb": {
      "model_module": "@jupyter-widgets/controls",
      "model_module_version": "1.5.0",
      "model_name": "DescriptionStyleModel",
      "state": {
       "description_width": ""
      }
     },
     "ca184301b4004d2c883e2a786bd56554": {
      "model_module": "@jupyter-widgets/controls",
      "model_module_version": "1.5.0",
      "model_name": "FloatProgressModel",
      "state": {
       "bar_style": "success",
       "layout": "IPY_MODEL_c9f7ee2763fd4da2b73f61866ada8dd5",
       "max": 4,
       "style": "IPY_MODEL_b739f11b3e5440d4bed091aacb5495d9",
       "value": 4
      }
     },
     "ca36c935b2534790b927ac0af7288d6f": {
      "model_module": "@jupyter-widgets/controls",
      "model_module_version": "1.5.0",
      "model_name": "DescriptionStyleModel",
      "state": {
       "description_width": ""
      }
     },
     "ca3a07b4406c49f793d6b67412640b65": {
      "model_module": "@jupyter-widgets/base",
      "model_module_version": "1.2.0",
      "model_name": "LayoutModel",
      "state": {}
     },
     "ca4ca703843442b684aec1e141269182": {
      "model_module": "@jupyter-widgets/controls",
      "model_module_version": "1.5.0",
      "model_name": "ProgressStyleModel",
      "state": {
       "description_width": ""
      }
     },
     "ca696e67f1f94a9eb23be985b52af523": {
      "model_module": "@jupyter-widgets/base",
      "model_module_version": "1.2.0",
      "model_name": "LayoutModel",
      "state": {}
     },
     "ca83dc2f37db4e0dafafa0f7faaf018c": {
      "model_module": "@jupyter-widgets/base",
      "model_module_version": "1.2.0",
      "model_name": "LayoutModel",
      "state": {}
     },
     "cab7ce1f3baf4ed8a5987a1c9ce54511": {
      "model_module": "@jupyter-widgets/controls",
      "model_module_version": "1.5.0",
      "model_name": "ProgressStyleModel",
      "state": {
       "description_width": ""
      }
     },
     "cafe6d3471224f6788f96749b029cebd": {
      "model_module": "@jupyter-widgets/controls",
      "model_module_version": "1.5.0",
      "model_name": "HTMLModel",
      "state": {
       "layout": "IPY_MODEL_a9532fb1706d487ca2a24178e903a98c",
       "style": "IPY_MODEL_60aab2aaf84844818dccbd7ab0b373d4",
       "value": " 4/4 [00:00&lt;00:00, 37.88it/s]"
      }
     },
     "cb1e166b5849430d9b2efbe0f7162082": {
      "model_module": "@jupyter-widgets/base",
      "model_module_version": "1.2.0",
      "model_name": "LayoutModel",
      "state": {}
     },
     "cb47ca0b8ebe4e9b8cefcb5cde96b1d0": {
      "model_module": "@jupyter-widgets/base",
      "model_module_version": "1.2.0",
      "model_name": "LayoutModel",
      "state": {}
     },
     "cb5538304d0740678c613cd47a3ca53e": {
      "model_module": "@jupyter-widgets/controls",
      "model_module_version": "1.5.0",
      "model_name": "DescriptionStyleModel",
      "state": {
       "description_width": ""
      }
     },
     "cbba15d569b44acaa10c34a65e45516a": {
      "model_module": "@jupyter-widgets/base",
      "model_module_version": "1.2.0",
      "model_name": "LayoutModel",
      "state": {}
     },
     "cbf4d809eb774e85a483b169d83236ca": {
      "model_module": "@jupyter-widgets/controls",
      "model_module_version": "1.5.0",
      "model_name": "DescriptionStyleModel",
      "state": {
       "description_width": ""
      }
     },
     "cbfbd544172a46cca888868f08b442b3": {
      "model_module": "@jupyter-widgets/base",
      "model_module_version": "1.2.0",
      "model_name": "LayoutModel",
      "state": {}
     },
     "cbffa24eaf36431e87062e07084672fb": {
      "model_module": "@jupyter-widgets/base",
      "model_module_version": "1.2.0",
      "model_name": "LayoutModel",
      "state": {}
     },
     "cc14b928b6074e44a6299fa1f2a8db8c": {
      "model_module": "@jupyter-widgets/controls",
      "model_module_version": "1.5.0",
      "model_name": "HBoxModel",
      "state": {
       "children": [
        "IPY_MODEL_d14676ff375e4fa6aa79da6a025eb90d",
        "IPY_MODEL_e87e51f22f3a451fa0d34d2c93cf8434",
        "IPY_MODEL_de6778632da641abbfa41ff5d847fe04"
       ],
       "layout": "IPY_MODEL_0e92131254eb43308eaba1394e3ce918"
      }
     },
     "cc5e4b200591423e9dba3746486f5fb5": {
      "model_module": "@jupyter-widgets/base",
      "model_module_version": "1.2.0",
      "model_name": "LayoutModel",
      "state": {}
     },
     "cca6a0ff813547fa8da2c48161343830": {
      "model_module": "@jupyter-widgets/controls",
      "model_module_version": "1.5.0",
      "model_name": "FloatProgressModel",
      "state": {
       "bar_style": "success",
       "layout": "IPY_MODEL_fab3b38be4344d1bbbbfdedb29dda219",
       "max": 3,
       "style": "IPY_MODEL_64a867954f93454f8af902677e6b49f8",
       "value": 3
      }
     },
     "ccbed6a6eae94d0c8caf85bc61fe6310": {
      "model_module": "@jupyter-widgets/controls",
      "model_module_version": "1.5.0",
      "model_name": "DescriptionStyleModel",
      "state": {
       "description_width": ""
      }
     },
     "ccc8f70cc82c4fdab7264b6db96343ce": {
      "model_module": "@jupyter-widgets/base",
      "model_module_version": "1.2.0",
      "model_name": "LayoutModel",
      "state": {}
     },
     "cce119548f844e8ea4db744e1df1a7e1": {
      "model_module": "@jupyter-widgets/controls",
      "model_module_version": "1.5.0",
      "model_name": "HBoxModel",
      "state": {
       "children": [
        "IPY_MODEL_aeee0bc04bd34bcda69c8379bb7b4ad7",
        "IPY_MODEL_2d478898d075477d90954ce5700c4982",
        "IPY_MODEL_5e46dc7bdcab443484406a93c7160b3e"
       ],
       "layout": "IPY_MODEL_3b9c505c426e462c8e57898328d4cb8c"
      }
     },
     "ccebfb735f2343228628877843e23bcd": {
      "model_module": "@jupyter-widgets/controls",
      "model_module_version": "1.5.0",
      "model_name": "HTMLModel",
      "state": {
       "layout": "IPY_MODEL_f0c4b3de64214e1eb29190178a4f5c72",
       "style": "IPY_MODEL_e562d78ce7114c8bbdf034067464a00f",
       "value": "NORMAL: 100%"
      }
     },
     "cd1fca8579a64b6da44441e0699a8572": {
      "model_module": "@jupyter-widgets/controls",
      "model_module_version": "1.5.0",
      "model_name": "ProgressStyleModel",
      "state": {
       "description_width": ""
      }
     },
     "cd5b0e4c765e4ef7b6a7471184fad5a7": {
      "model_module": "@jupyter-widgets/controls",
      "model_module_version": "1.5.0",
      "model_name": "ProgressStyleModel",
      "state": {
       "description_width": ""
      }
     },
     "cd65e7823f3542059faeb7718a58427a": {
      "model_module": "@jupyter-widgets/controls",
      "model_module_version": "1.5.0",
      "model_name": "FloatProgressModel",
      "state": {
       "bar_style": "success",
       "layout": "IPY_MODEL_52ef80139b92481480dffebb0f76dbfd",
       "max": 3,
       "style": "IPY_MODEL_adef08d6da9b443f8f227898e7a71147",
       "value": 3
      }
     },
     "cd749c8350c04a0a986bb2db351ac677": {
      "model_module": "@jupyter-widgets/base",
      "model_module_version": "1.2.0",
      "model_name": "LayoutModel",
      "state": {}
     },
     "cd76e5831fe640ce9ac8a035312aa2d8": {
      "model_module": "@jupyter-widgets/base",
      "model_module_version": "1.2.0",
      "model_name": "LayoutModel",
      "state": {}
     },
     "cdaf64d3939442d7b4cbd9589babb570": {
      "model_module": "@jupyter-widgets/controls",
      "model_module_version": "1.5.0",
      "model_name": "DescriptionStyleModel",
      "state": {
       "description_width": ""
      }
     },
     "cdb514e0981d4319beb72f60a50e0950": {
      "model_module": "@jupyter-widgets/controls",
      "model_module_version": "1.5.0",
      "model_name": "HTMLModel",
      "state": {
       "layout": "IPY_MODEL_67d3c23555f8498bb1c23b57fcc90a3f",
       "style": "IPY_MODEL_a030e5b744514cd18c986d274964352c",
       "value": "NORMAL: 100%"
      }
     },
     "cdc37af7883049ee9290c4073ecbd901": {
      "model_module": "@jupyter-widgets/base",
      "model_module_version": "1.2.0",
      "model_name": "LayoutModel",
      "state": {}
     },
     "cdc3a1e0e56643b4a6fc5be59fe4d8ed": {
      "model_module": "@jupyter-widgets/controls",
      "model_module_version": "1.5.0",
      "model_name": "FloatProgressModel",
      "state": {
       "bar_style": "success",
       "layout": "IPY_MODEL_187408dc71b54fe591f8282007b50a0e",
       "max": 4,
       "style": "IPY_MODEL_a15b7a5b03e94c4ca52568607267b901",
       "value": 4
      }
     },
     "cdde48a8ba344b1bb21c3be03874f282": {
      "model_module": "@jupyter-widgets/controls",
      "model_module_version": "1.5.0",
      "model_name": "DescriptionStyleModel",
      "state": {
       "description_width": ""
      }
     },
     "cdfb1e199a0f4b9caa2e5f48bc275c89": {
      "model_module": "@jupyter-widgets/controls",
      "model_module_version": "1.5.0",
      "model_name": "HBoxModel",
      "state": {
       "children": [
        "IPY_MODEL_ccebfb735f2343228628877843e23bcd",
        "IPY_MODEL_20da2cb9f5cc4f74ae7a35ae0d0c819f",
        "IPY_MODEL_d1d6d223b96d42cba5ff45c6ba92f745"
       ],
       "layout": "IPY_MODEL_919f9960cb2c4fe6a8d8c3b8975fa962"
      }
     },
     "ce0fd42b73f14a9ca477ecb9eaa352a6": {
      "model_module": "@jupyter-widgets/controls",
      "model_module_version": "1.5.0",
      "model_name": "HTMLModel",
      "state": {
       "layout": "IPY_MODEL_86facd4a61314a67b4bfb86507b577e4",
       "style": "IPY_MODEL_310853a5f67b4492b3eb68867387c9c3",
       "value": "COVID: 100%"
      }
     },
     "ce58f160371d42cea3c9e73caa51cef3": {
      "model_module": "@jupyter-widgets/base",
      "model_module_version": "1.2.0",
      "model_name": "LayoutModel",
      "state": {}
     },
     "ce59e68112be4d538ca12274edd6afe3": {
      "model_module": "@jupyter-widgets/controls",
      "model_module_version": "1.5.0",
      "model_name": "ProgressStyleModel",
      "state": {
       "description_width": ""
      }
     },
     "cebf9daf52444a57888be23a41a81e19": {
      "model_module": "@jupyter-widgets/base",
      "model_module_version": "1.2.0",
      "model_name": "LayoutModel",
      "state": {}
     },
     "cece74a2079b41ed98acaeb034bcd45a": {
      "model_module": "@jupyter-widgets/base",
      "model_module_version": "1.2.0",
      "model_name": "LayoutModel",
      "state": {}
     },
     "cf392d4a41aa4853b96831f5821047be": {
      "model_module": "@jupyter-widgets/controls",
      "model_module_version": "1.5.0",
      "model_name": "HBoxModel",
      "state": {
       "children": [
        "IPY_MODEL_ebb3611b54c442fa90d68ebe07c593a4",
        "IPY_MODEL_b253372a0f6d45fdbed13486da055c79",
        "IPY_MODEL_633342ff53d347e7a1f89a70c74a6f72"
       ],
       "layout": "IPY_MODEL_9d926460eb544ade8fb211f1245ab435"
      }
     },
     "cf423026488342be9ec90bcc2ff44fd3": {
      "model_module": "@jupyter-widgets/controls",
      "model_module_version": "1.5.0",
      "model_name": "DescriptionStyleModel",
      "state": {
       "description_width": ""
      }
     },
     "cf4949baac754c85a2b494968976a98d": {
      "model_module": "@jupyter-widgets/controls",
      "model_module_version": "1.5.0",
      "model_name": "HTMLModel",
      "state": {
       "layout": "IPY_MODEL_fd9fd5f610b8445881d9987ced1a1e55",
       "style": "IPY_MODEL_b496f59e501a4a279aedb2451780a5fc",
       "value": " 4/4 [00:00&lt;00:00, 37.15it/s]"
      }
     },
     "cf5222b72e6046a992146e8acd7146d7": {
      "model_module": "@jupyter-widgets/base",
      "model_module_version": "1.2.0",
      "model_name": "LayoutModel",
      "state": {}
     },
     "cf578377333048b9b34a5dcc805826e5": {
      "model_module": "@jupyter-widgets/controls",
      "model_module_version": "1.5.0",
      "model_name": "HTMLModel",
      "state": {
       "layout": "IPY_MODEL_66000cd892144b8fb1304798e8c7e6ce",
       "style": "IPY_MODEL_fd181898e20043da8367115a9a6c4f49",
       "value": "COVID: 100%"
      }
     },
     "cf68ea85ab6c4cdd991340de7d5c36eb": {
      "model_module": "@jupyter-widgets/controls",
      "model_module_version": "1.5.0",
      "model_name": "HBoxModel",
      "state": {
       "children": [
        "IPY_MODEL_67ba4d7c7fc048d193195605654bee22",
        "IPY_MODEL_ad99d43a32394efb9e8acc3afc61051f",
        "IPY_MODEL_dfde2aa21d014e33a2e3fea0e69e66a3"
       ],
       "layout": "IPY_MODEL_4c151406368340cb923f84ae4f36454e"
      }
     },
     "cf8e8ee7d252425c8f1fb208db0d8967": {
      "model_module": "@jupyter-widgets/controls",
      "model_module_version": "1.5.0",
      "model_name": "HTMLModel",
      "state": {
       "layout": "IPY_MODEL_b3956119fa034483b0933167320392db",
       "style": "IPY_MODEL_a118137445c04060940ba0f63d587793",
       "value": "NORMAL: 100%"
      }
     },
     "cf9fcceac17946e0839c364f51fd2985": {
      "model_module": "@jupyter-widgets/controls",
      "model_module_version": "1.5.0",
      "model_name": "HTMLModel",
      "state": {
       "layout": "IPY_MODEL_ccc8f70cc82c4fdab7264b6db96343ce",
       "style": "IPY_MODEL_e390609372d547eda0220fb0004de6b0",
       "value": "VIRAL-PNEUMONIA: 100%"
      }
     },
     "cfaf07bc7ef04277a6867bff399514d1": {
      "model_module": "@jupyter-widgets/base",
      "model_module_version": "1.2.0",
      "model_name": "LayoutModel",
      "state": {}
     },
     "cfd37b493ec847329dc674f807d3427b": {
      "model_module": "@jupyter-widgets/base",
      "model_module_version": "1.2.0",
      "model_name": "LayoutModel",
      "state": {}
     },
     "cfec2cd58bbd4a7199ecc495bbbb88ec": {
      "model_module": "@jupyter-widgets/controls",
      "model_module_version": "1.5.0",
      "model_name": "ProgressStyleModel",
      "state": {
       "description_width": ""
      }
     },
     "d059b42ee4dc424da4be9605c86c8840": {
      "model_module": "@jupyter-widgets/controls",
      "model_module_version": "1.5.0",
      "model_name": "HBoxModel",
      "state": {
       "children": [
        "IPY_MODEL_e7a00fbf4083416e888db375cdcebece",
        "IPY_MODEL_a73838e3a67746d2a5808e8cc5b608dd",
        "IPY_MODEL_59b471ed5db948828ebd1874611b889d"
       ],
       "layout": "IPY_MODEL_243f0c3febac4ad4a1b4ab54a2fb3b24"
      }
     },
     "d06856c8596b4d1cab475cefb8dc0411": {
      "model_module": "@jupyter-widgets/controls",
      "model_module_version": "1.5.0",
      "model_name": "DescriptionStyleModel",
      "state": {
       "description_width": ""
      }
     },
     "d07a82085b604ac9b40a677b700be9b0": {
      "model_module": "@jupyter-widgets/controls",
      "model_module_version": "1.5.0",
      "model_name": "FloatProgressModel",
      "state": {
       "bar_style": "success",
       "layout": "IPY_MODEL_954a6c9e9e794f2ba45461253af573d0",
       "max": 4,
       "style": "IPY_MODEL_e97945e476c54c8583b68bd585a0f5ce",
       "value": 4
      }
     },
     "d09dda9a7d364018868260d63605f5b5": {
      "model_module": "@jupyter-widgets/controls",
      "model_module_version": "1.5.0",
      "model_name": "FloatProgressModel",
      "state": {
       "bar_style": "success",
       "layout": "IPY_MODEL_eec27994ac1d494e8a357f44b5647cdd",
       "max": 4,
       "style": "IPY_MODEL_3f0cc9e39d544128808e9671186f2aaa",
       "value": 4
      }
     },
     "d0f21f9ea96f4b43815dcf6ad147d9e0": {
      "model_module": "@jupyter-widgets/base",
      "model_module_version": "1.2.0",
      "model_name": "LayoutModel",
      "state": {}
     },
     "d0f4ee52485d453e9cb37f6471e98451": {
      "model_module": "@jupyter-widgets/base",
      "model_module_version": "1.2.0",
      "model_name": "LayoutModel",
      "state": {}
     },
     "d100304ab8e24ab093385d039c854fa5": {
      "model_module": "@jupyter-widgets/controls",
      "model_module_version": "1.5.0",
      "model_name": "HTMLModel",
      "state": {
       "layout": "IPY_MODEL_cbba15d569b44acaa10c34a65e45516a",
       "style": "IPY_MODEL_a4389fe392e64b9191e64c0f923d615d",
       "value": "NORMAL: 100%"
      }
     },
     "d14676ff375e4fa6aa79da6a025eb90d": {
      "model_module": "@jupyter-widgets/controls",
      "model_module_version": "1.5.0",
      "model_name": "HTMLModel",
      "state": {
       "layout": "IPY_MODEL_b936c0b250db4bd8ae2ddefb4511bf72",
       "style": "IPY_MODEL_743420a9bab141f0b498195eef9abc79",
       "value": "VIRAL-PNEUMONIA: 100%"
      }
     },
     "d177df2b92ad46e89c29f041e9c59882": {
      "model_module": "@jupyter-widgets/base",
      "model_module_version": "1.2.0",
      "model_name": "LayoutModel",
      "state": {}
     },
     "d1834c3a731c4edba2542a207d0b47e7": {
      "model_module": "@jupyter-widgets/controls",
      "model_module_version": "1.5.0",
      "model_name": "DescriptionStyleModel",
      "state": {
       "description_width": ""
      }
     },
     "d1d6d223b96d42cba5ff45c6ba92f745": {
      "model_module": "@jupyter-widgets/controls",
      "model_module_version": "1.5.0",
      "model_name": "HTMLModel",
      "state": {
       "layout": "IPY_MODEL_4c99732ec3ee4af787d365fdbf915fa1",
       "style": "IPY_MODEL_c591d8e0b0b54b5fa57dbb202d9b6717",
       "value": " 4/4 [00:00&lt;00:00, 29.88it/s]"
      }
     },
     "d1e2b9131aa1459ba55c26d1cab5fbf6": {
      "model_module": "@jupyter-widgets/controls",
      "model_module_version": "1.5.0",
      "model_name": "HTMLModel",
      "state": {
       "layout": "IPY_MODEL_754fad069993415e80ec95bf7a39715e",
       "style": "IPY_MODEL_a71c6156fa864e4e8bd53cf8c0990d94",
       "value": " 4/4 [00:00&lt;00:00, 66.31it/s]"
      }
     },
     "d1e8276ba76045168861994a00a43499": {
      "model_module": "@jupyter-widgets/controls",
      "model_module_version": "1.5.0",
      "model_name": "ProgressStyleModel",
      "state": {
       "description_width": ""
      }
     },
     "d23d9563d3c34cae995dfdff371e4c40": {
      "model_module": "@jupyter-widgets/base",
      "model_module_version": "1.2.0",
      "model_name": "LayoutModel",
      "state": {}
     },
     "d26acb93873f453da68ccf482332c369": {
      "model_module": "@jupyter-widgets/controls",
      "model_module_version": "1.5.0",
      "model_name": "FloatProgressModel",
      "state": {
       "bar_style": "success",
       "layout": "IPY_MODEL_294a12bba0ba4bba8c17db4244aab3cf",
       "max": 4,
       "style": "IPY_MODEL_d3cd5ed62db0449bab8d8abb8fa2bdef",
       "value": 4
      }
     },
     "d26eb1995cb24fd5bfeffb8d683c6624": {
      "model_module": "@jupyter-widgets/controls",
      "model_module_version": "1.5.0",
      "model_name": "DescriptionStyleModel",
      "state": {
       "description_width": ""
      }
     },
     "d2c4873ccc3e45fcb502b914f3ba9ceb": {
      "model_module": "@jupyter-widgets/controls",
      "model_module_version": "1.5.0",
      "model_name": "HBoxModel",
      "state": {
       "children": [
        "IPY_MODEL_9c0c5a911b3742c0ad97e5253439a1b3",
        "IPY_MODEL_9542192c56b14736b513c71dac3ffd1f",
        "IPY_MODEL_bc34d4e5b9fc4911a767e066fd757abc"
       ],
       "layout": "IPY_MODEL_f51f7d5f97124681bfc19d880de27577"
      }
     },
     "d2c6a75841cb456990e81ec8fc3087b3": {
      "model_module": "@jupyter-widgets/controls",
      "model_module_version": "1.5.0",
      "model_name": "FloatProgressModel",
      "state": {
       "bar_style": "success",
       "layout": "IPY_MODEL_0dd944b596874648aa76d896ff559c75",
       "max": 4,
       "style": "IPY_MODEL_a70971b415be43b78d0ef67dc6b73131",
       "value": 4
      }
     },
     "d2d641f723e24ee6a651aaaeca543caf": {
      "model_module": "@jupyter-widgets/controls",
      "model_module_version": "1.5.0",
      "model_name": "DescriptionStyleModel",
      "state": {
       "description_width": ""
      }
     },
     "d31564661347465fb37c43e57b5dbffd": {
      "model_module": "@jupyter-widgets/base",
      "model_module_version": "1.2.0",
      "model_name": "LayoutModel",
      "state": {}
     },
     "d356530eacd1404c9d90324ab505b4e5": {
      "model_module": "@jupyter-widgets/controls",
      "model_module_version": "1.5.0",
      "model_name": "ProgressStyleModel",
      "state": {
       "description_width": ""
      }
     },
     "d395fd5ed1c842d8b67d9956d5924246": {
      "model_module": "@jupyter-widgets/controls",
      "model_module_version": "1.5.0",
      "model_name": "DescriptionStyleModel",
      "state": {
       "description_width": ""
      }
     },
     "d3cd5ed62db0449bab8d8abb8fa2bdef": {
      "model_module": "@jupyter-widgets/controls",
      "model_module_version": "1.5.0",
      "model_name": "ProgressStyleModel",
      "state": {
       "description_width": ""
      }
     },
     "d3e67debfa774ab0b1331eeb46c0d0b6": {
      "model_module": "@jupyter-widgets/controls",
      "model_module_version": "1.5.0",
      "model_name": "HBoxModel",
      "state": {
       "children": [
        "IPY_MODEL_6a393e30b9564a5ab50a1dd1ebcd5469",
        "IPY_MODEL_313c6c0619d54630974a813fa995d5ee",
        "IPY_MODEL_279ea1054110421394c8d8846a7ecf10"
       ],
       "layout": "IPY_MODEL_7793b0848dbe4a50b1648292e6c31ecf"
      }
     },
     "d3f8d7e15cc64a11b04b6d5b1e94c070": {
      "model_module": "@jupyter-widgets/base",
      "model_module_version": "1.2.0",
      "model_name": "LayoutModel",
      "state": {}
     },
     "d401ff0d85704974b751605f1c8ac6a0": {
      "model_module": "@jupyter-widgets/controls",
      "model_module_version": "1.5.0",
      "model_name": "HBoxModel",
      "state": {
       "children": [
        "IPY_MODEL_812bd359a06c4d20835b68f9e2516cb1",
        "IPY_MODEL_b157cea6c7984f8ead47f1aa3df9d5e1",
        "IPY_MODEL_06870a1088134f1a9f6cf09180adb657"
       ],
       "layout": "IPY_MODEL_f0e0401f1e3244f1a814467c4d692898"
      }
     },
     "d403961036ec4f6c85dfbf98961eb508": {
      "model_module": "@jupyter-widgets/base",
      "model_module_version": "1.2.0",
      "model_name": "LayoutModel",
      "state": {}
     },
     "d40fbea87237400283769793c7c47d05": {
      "model_module": "@jupyter-widgets/controls",
      "model_module_version": "1.5.0",
      "model_name": "DescriptionStyleModel",
      "state": {
       "description_width": ""
      }
     },
     "d41b2adfaec44086939c3026ef532141": {
      "model_module": "@jupyter-widgets/controls",
      "model_module_version": "1.5.0",
      "model_name": "DescriptionStyleModel",
      "state": {
       "description_width": ""
      }
     },
     "d44917849e1f45ff8f2eccbec4507165": {
      "model_module": "@jupyter-widgets/controls",
      "model_module_version": "1.5.0",
      "model_name": "DescriptionStyleModel",
      "state": {
       "description_width": ""
      }
     },
     "d4575682798346a3a0939daedd892ba8": {
      "model_module": "@jupyter-widgets/base",
      "model_module_version": "1.2.0",
      "model_name": "LayoutModel",
      "state": {}
     },
     "d49b9652b2a3443183f9b0b78ce74ee2": {
      "model_module": "@jupyter-widgets/controls",
      "model_module_version": "1.5.0",
      "model_name": "HTMLModel",
      "state": {
       "layout": "IPY_MODEL_0f4be22475454c2192ad7fb166e6999e",
       "style": "IPY_MODEL_8af44400ad6d458980182166e47f7c5a",
       "value": "VIRAL-PNEUMONIA: 100%"
      }
     },
     "d4a5de790f054857b766a1b4722bb36a": {
      "model_module": "@jupyter-widgets/base",
      "model_module_version": "1.2.0",
      "model_name": "LayoutModel",
      "state": {}
     },
     "d4cbc9539c9348d984c8fcf495889ada": {
      "model_module": "@jupyter-widgets/controls",
      "model_module_version": "1.5.0",
      "model_name": "HBoxModel",
      "state": {
       "children": [
        "IPY_MODEL_5abdecfbd67a45158c4f5560c6ed3412",
        "IPY_MODEL_ffdcc1234caa49b6b3936df62831e9b1",
        "IPY_MODEL_dae2c58fb0e84efda697952868b746ff"
       ],
       "layout": "IPY_MODEL_75cee0b1cd5c46a591c48a1247532dca"
      }
     },
     "d4db708d14cf42f9bdeb772dce7780f4": {
      "model_module": "@jupyter-widgets/base",
      "model_module_version": "1.2.0",
      "model_name": "LayoutModel",
      "state": {}
     },
     "d4e6a6755f0749ec9963e7a416171eea": {
      "model_module": "@jupyter-widgets/controls",
      "model_module_version": "1.5.0",
      "model_name": "DescriptionStyleModel",
      "state": {
       "description_width": ""
      }
     },
     "d505f9338b994aa9998b52741ceda33c": {
      "model_module": "@jupyter-widgets/base",
      "model_module_version": "1.2.0",
      "model_name": "LayoutModel",
      "state": {}
     },
     "d53dabae3cc9493390d813915a042a28": {
      "model_module": "@jupyter-widgets/controls",
      "model_module_version": "1.5.0",
      "model_name": "DescriptionStyleModel",
      "state": {
       "description_width": ""
      }
     },
     "d54c5d3a78544355b420d668d2f5818d": {
      "model_module": "@jupyter-widgets/base",
      "model_module_version": "1.2.0",
      "model_name": "LayoutModel",
      "state": {}
     },
     "d580f5391d3044beadbd699f8573103c": {
      "model_module": "@jupyter-widgets/controls",
      "model_module_version": "1.5.0",
      "model_name": "HTMLModel",
      "state": {
       "layout": "IPY_MODEL_1293dc38741147aeb3124bc1b2a4e459",
       "style": "IPY_MODEL_9bb96c51adb94d84a673be8e6475a3f8",
       "value": " 1341/1341 [00:20&lt;00:00, 67.93it/s]"
      }
     },
     "d5890a23231f4aca9f218ed0e82f2c66": {
      "model_module": "@jupyter-widgets/controls",
      "model_module_version": "1.5.0",
      "model_name": "ProgressStyleModel",
      "state": {
       "description_width": ""
      }
     },
     "d58a850eebb847279e6a4a131cc86bd4": {
      "model_module": "@jupyter-widgets/base",
      "model_module_version": "1.2.0",
      "model_name": "LayoutModel",
      "state": {}
     },
     "d5970287b38a41b2b4fb0e3e61632576": {
      "model_module": "@jupyter-widgets/base",
      "model_module_version": "1.2.0",
      "model_name": "LayoutModel",
      "state": {}
     },
     "d59ed0941e8e42e990ad47b3abb93c58": {
      "model_module": "@jupyter-widgets/controls",
      "model_module_version": "1.5.0",
      "model_name": "HTMLModel",
      "state": {
       "layout": "IPY_MODEL_36798c588b404698a4e9a58e41269c0d",
       "style": "IPY_MODEL_c22be51c1f4648208c44ddafefbdeaba",
       "value": "VIRAL-PNEUMONIA: 100%"
      }
     },
     "d5a699c0aae2445880ad0a0b3945d68b": {
      "model_module": "@jupyter-widgets/controls",
      "model_module_version": "1.5.0",
      "model_name": "ProgressStyleModel",
      "state": {
       "description_width": ""
      }
     },
     "d5be43e475ff4fe38188142bad48879b": {
      "model_module": "@jupyter-widgets/controls",
      "model_module_version": "1.5.0",
      "model_name": "HTMLModel",
      "state": {
       "layout": "IPY_MODEL_a0812e29e96d407e9521dfca3d44948d",
       "style": "IPY_MODEL_afdb8565ec144b65af8af1878438ba98",
       "value": "DATASETS: 100%"
      }
     },
     "d5d1bf717c0c489bbd0ba38f1d297860": {
      "model_module": "@jupyter-widgets/controls",
      "model_module_version": "1.5.0",
      "model_name": "HTMLModel",
      "state": {
       "layout": "IPY_MODEL_035945f3bd6c4cae983c96bc409eefc8",
       "style": "IPY_MODEL_8db889f00227418cbf321a96156f5730",
       "value": "DATASETS: 100%"
      }
     },
     "d5e909563b7a4f579db51d8308f6d92d": {
      "model_module": "@jupyter-widgets/base",
      "model_module_version": "1.2.0",
      "model_name": "LayoutModel",
      "state": {}
     },
     "d62f2b1440bb4b8390a7c15944bbe8eb": {
      "model_module": "@jupyter-widgets/controls",
      "model_module_version": "1.5.0",
      "model_name": "DescriptionStyleModel",
      "state": {
       "description_width": ""
      }
     },
     "d63c2c99446f4fedb78a9e41064b8eeb": {
      "model_module": "@jupyter-widgets/base",
      "model_module_version": "1.2.0",
      "model_name": "LayoutModel",
      "state": {}
     },
     "d6418b66365e45c3890328d3d5bb2189": {
      "model_module": "@jupyter-widgets/controls",
      "model_module_version": "1.5.0",
      "model_name": "HBoxModel",
      "state": {
       "children": [
        "IPY_MODEL_72092e8df38e4f62ad3cea93958b9c96",
        "IPY_MODEL_f6cb4865d60046b696275c3652370ae9",
        "IPY_MODEL_4a9c36b13dc842b49c7894f4838ce8c1"
       ],
       "layout": "IPY_MODEL_82383d9267bf41589759d8219d65750c"
      }
     },
     "d66bd8335d5041658e220aad51b78ef2": {
      "model_module": "@jupyter-widgets/controls",
      "model_module_version": "1.5.0",
      "model_name": "ProgressStyleModel",
      "state": {
       "description_width": ""
      }
     },
     "d6a6bf9e782c492a8b8d80ed39bd73a2": {
      "model_module": "@jupyter-widgets/controls",
      "model_module_version": "1.5.0",
      "model_name": "HTMLModel",
      "state": {
       "layout": "IPY_MODEL_80b20c2ca5f84f499cdd1b6eaa9bee03",
       "style": "IPY_MODEL_a29757b18e8c4e72ac3822f8e8465c27",
       "value": " 1341/1341 [00:19&lt;00:00, 69.72it/s]"
      }
     },
     "d6afc796a114406a98115323896a5543": {
      "model_module": "@jupyter-widgets/controls",
      "model_module_version": "1.5.0",
      "model_name": "FloatProgressModel",
      "state": {
       "bar_style": "success",
       "layout": "IPY_MODEL_97f7754fc2594a1bb16c2ff1acd7ae1d",
       "max": 4,
       "style": "IPY_MODEL_598765d30cce42a5b887ad87b119ead8",
       "value": 4
      }
     },
     "d6e9755c04c74a59a5739b73df700619": {
      "model_module": "@jupyter-widgets/controls",
      "model_module_version": "1.5.0",
      "model_name": "HTMLModel",
      "state": {
       "layout": "IPY_MODEL_398351fc1bcc40bfb0a907ed90805420",
       "style": "IPY_MODEL_ba415b34668243a6bb5a991df9bf1fe6",
       "value": "VIRAL-PNEUMONIA: 100%"
      }
     },
     "d71befebf0734bfa82a64756efe54e49": {
      "model_module": "@jupyter-widgets/base",
      "model_module_version": "1.2.0",
      "model_name": "LayoutModel",
      "state": {}
     },
     "d7334f4b06f8445faf4a50cda84586b1": {
      "model_module": "@jupyter-widgets/base",
      "model_module_version": "1.2.0",
      "model_name": "LayoutModel",
      "state": {}
     },
     "d78645d3868b4c69b2013dbadcc5dece": {
      "model_module": "@jupyter-widgets/base",
      "model_module_version": "1.2.0",
      "model_name": "LayoutModel",
      "state": {}
     },
     "d793c7594c63495cb040d148149c6383": {
      "model_module": "@jupyter-widgets/base",
      "model_module_version": "1.2.0",
      "model_name": "LayoutModel",
      "state": {}
     },
     "d7a74c900629480c8698a75791107e29": {
      "model_module": "@jupyter-widgets/controls",
      "model_module_version": "1.5.0",
      "model_name": "DescriptionStyleModel",
      "state": {
       "description_width": ""
      }
     },
     "d7d1c0fe219743e9a6a7bb285519e2fb": {
      "model_module": "@jupyter-widgets/controls",
      "model_module_version": "1.5.0",
      "model_name": "HTMLModel",
      "state": {
       "layout": "IPY_MODEL_d71befebf0734bfa82a64756efe54e49",
       "style": "IPY_MODEL_4949071ec6034c1798e8c1d848f5f0a9",
       "value": "COVID: 100%"
      }
     },
     "d7ed0c395c3949a99e1cf08a2711f5d3": {
      "model_module": "@jupyter-widgets/base",
      "model_module_version": "1.2.0",
      "model_name": "LayoutModel",
      "state": {}
     },
     "d807782fee25457d84cbc9a1a598fe84": {
      "model_module": "@jupyter-widgets/controls",
      "model_module_version": "1.5.0",
      "model_name": "DescriptionStyleModel",
      "state": {
       "description_width": ""
      }
     },
     "d80cbaf98fc142bb9b28da356ac29870": {
      "model_module": "@jupyter-widgets/base",
      "model_module_version": "1.2.0",
      "model_name": "LayoutModel",
      "state": {}
     },
     "d81ed823b5744989934464b6f0ebec51": {
      "model_module": "@jupyter-widgets/base",
      "model_module_version": "1.2.0",
      "model_name": "LayoutModel",
      "state": {}
     },
     "d835e7e992814c7a9d747e80d4610c1c": {
      "model_module": "@jupyter-widgets/base",
      "model_module_version": "1.2.0",
      "model_name": "LayoutModel",
      "state": {}
     },
     "d837d028b7324cae98f086951c9b7768": {
      "model_module": "@jupyter-widgets/controls",
      "model_module_version": "1.5.0",
      "model_name": "ProgressStyleModel",
      "state": {
       "description_width": ""
      }
     },
     "d8795bcb0556440fa513a265635b9074": {
      "model_module": "@jupyter-widgets/base",
      "model_module_version": "1.2.0",
      "model_name": "LayoutModel",
      "state": {}
     },
     "d8969d5e31ba4d45b9393865a181def1": {
      "model_module": "@jupyter-widgets/controls",
      "model_module_version": "1.5.0",
      "model_name": "FloatProgressModel",
      "state": {
       "bar_style": "success",
       "layout": "IPY_MODEL_ca696e67f1f94a9eb23be985b52af523",
       "max": 4,
       "style": "IPY_MODEL_42ec023506654ddc9e51c726fd4a3395",
       "value": 4
      }
     },
     "d8c63f2cf8e942f88f15c19f57600a97": {
      "model_module": "@jupyter-widgets/controls",
      "model_module_version": "1.5.0",
      "model_name": "HTMLModel",
      "state": {
       "layout": "IPY_MODEL_7cb07bd0e6fa4254bac2c6682b107250",
       "style": "IPY_MODEL_4babdfc5ccf844a2a9a81bc224a31fe0",
       "value": " 4/4 [00:00&lt;00:00, 58.78it/s]"
      }
     },
     "d8e7d0c4e92240c1a062e908f4374a82": {
      "model_module": "@jupyter-widgets/controls",
      "model_module_version": "1.5.0",
      "model_name": "HBoxModel",
      "state": {
       "children": [
        "IPY_MODEL_aebf41ac5cc84c3b842ea32b98b84070",
        "IPY_MODEL_66da15bfd3674830ad50f3d666163a51",
        "IPY_MODEL_83296dc783f64ceb995503d2a069a328"
       ],
       "layout": "IPY_MODEL_98c418d10a7f459fb9bb23af4bcba5d5"
      }
     },
     "d92613387531486c83ff2785b311cfcd": {
      "model_module": "@jupyter-widgets/controls",
      "model_module_version": "1.5.0",
      "model_name": "DescriptionStyleModel",
      "state": {
       "description_width": ""
      }
     },
     "d95370b3d78549348629448b55e76cf3": {
      "model_module": "@jupyter-widgets/controls",
      "model_module_version": "1.5.0",
      "model_name": "DescriptionStyleModel",
      "state": {
       "description_width": ""
      }
     },
     "d9607aafc88e4efab6033aa4686d429f": {
      "model_module": "@jupyter-widgets/base",
      "model_module_version": "1.2.0",
      "model_name": "LayoutModel",
      "state": {}
     },
     "d960dd5a64ec40d0b93e6b1e11d25ac9": {
      "model_module": "@jupyter-widgets/controls",
      "model_module_version": "1.5.0",
      "model_name": "ProgressStyleModel",
      "state": {
       "description_width": ""
      }
     },
     "d9836a340f384acb9e0e38e11481ce95": {
      "model_module": "@jupyter-widgets/controls",
      "model_module_version": "1.5.0",
      "model_name": "DescriptionStyleModel",
      "state": {
       "description_width": ""
      }
     },
     "d9a6fa5f2d03483e96ee7454922e67cf": {
      "model_module": "@jupyter-widgets/controls",
      "model_module_version": "1.5.0",
      "model_name": "HTMLModel",
      "state": {
       "layout": "IPY_MODEL_e745e4a0e9634de8b30c9c4ed1212501",
       "style": "IPY_MODEL_ba6f020e1c8c4cd5bbf6a9c4b647be5e",
       "value": "NORMAL: 100%"
      }
     },
     "d9a906fcb1cc4382aa840baccc37ed37": {
      "model_module": "@jupyter-widgets/controls",
      "model_module_version": "1.5.0",
      "model_name": "DescriptionStyleModel",
      "state": {
       "description_width": ""
      }
     },
     "d9c317221d87448d8374f1dd470eadef": {
      "model_module": "@jupyter-widgets/base",
      "model_module_version": "1.2.0",
      "model_name": "LayoutModel",
      "state": {}
     },
     "d9dac40c98f845e3ba7d65f7923e440e": {
      "model_module": "@jupyter-widgets/controls",
      "model_module_version": "1.5.0",
      "model_name": "HTMLModel",
      "state": {
       "layout": "IPY_MODEL_deb4f48f55db4e4ea8a8027cbf65e737",
       "style": "IPY_MODEL_da7334f1b5fd49889b5155847c21a7c1",
       "value": "DATASETS: 100%"
      }
     },
     "da1090f7b9054fc199ac77575ba1ef25": {
      "model_module": "@jupyter-widgets/base",
      "model_module_version": "1.2.0",
      "model_name": "LayoutModel",
      "state": {}
     },
     "da66dfdfa53441a6b2f0fa193b782d75": {
      "model_module": "@jupyter-widgets/controls",
      "model_module_version": "1.5.0",
      "model_name": "HTMLModel",
      "state": {
       "layout": "IPY_MODEL_130780581e4349678f4102334b9cd24f",
       "style": "IPY_MODEL_3c540974f423491491550c62cec35283",
       "value": "COVID: 100%"
      }
     },
     "da7334f1b5fd49889b5155847c21a7c1": {
      "model_module": "@jupyter-widgets/controls",
      "model_module_version": "1.5.0",
      "model_name": "DescriptionStyleModel",
      "state": {
       "description_width": ""
      }
     },
     "da95627179c94209a91b0823220de81f": {
      "model_module": "@jupyter-widgets/base",
      "model_module_version": "1.2.0",
      "model_name": "LayoutModel",
      "state": {}
     },
     "daa343e0824843f3afde81a84a8f5046": {
      "model_module": "@jupyter-widgets/controls",
      "model_module_version": "1.5.0",
      "model_name": "HBoxModel",
      "state": {
       "children": [
        "IPY_MODEL_1fbb0d645da9453f8048686f6f95af47",
        "IPY_MODEL_4f7f83336612402e8f4aa6a92f9a72a2",
        "IPY_MODEL_1179f08191a7433ab108758b1881a835"
       ],
       "layout": "IPY_MODEL_02b7087029784d1ead6e868bd600c12f"
      }
     },
     "dab57a92466e462fbc2d3261d630462d": {
      "model_module": "@jupyter-widgets/controls",
      "model_module_version": "1.5.0",
      "model_name": "HTMLModel",
      "state": {
       "layout": "IPY_MODEL_545824f85f164bc19e729bb60326e4da",
       "style": "IPY_MODEL_73b502bee4e14bd889e2d0d0175d7cdc",
       "value": "COVID: 100%"
      }
     },
     "dac8075db7e14e159c6e7565e7f3a491": {
      "model_module": "@jupyter-widgets/controls",
      "model_module_version": "1.5.0",
      "model_name": "DescriptionStyleModel",
      "state": {
       "description_width": ""
      }
     },
     "daca0aebe7ef4c54bff1167508aa9c7c": {
      "model_module": "@jupyter-widgets/controls",
      "model_module_version": "1.5.0",
      "model_name": "DescriptionStyleModel",
      "state": {
       "description_width": ""
      }
     },
     "dae2c58fb0e84efda697952868b746ff": {
      "model_module": "@jupyter-widgets/controls",
      "model_module_version": "1.5.0",
      "model_name": "HTMLModel",
      "state": {
       "layout": "IPY_MODEL_792d3c00d7a04ce18f57db6018fe60ca",
       "style": "IPY_MODEL_daca0aebe7ef4c54bff1167508aa9c7c",
       "value": " 4/4 [00:00&lt;00:00, 38.35it/s]"
      }
     },
     "daf402a2db4c4063bdf21d311e1349ae": {
      "model_module": "@jupyter-widgets/controls",
      "model_module_version": "1.5.0",
      "model_name": "FloatProgressModel",
      "state": {
       "bar_style": "success",
       "layout": "IPY_MODEL_9f7718b79c1f43b0bec3cd9335b1af62",
       "max": 4,
       "style": "IPY_MODEL_6a5489193e714138ab6dddb556fb6cbc",
       "value": 4
      }
     },
     "daf80bb5cbb24aa1a1ba1949c71448c3": {
      "model_module": "@jupyter-widgets/base",
      "model_module_version": "1.2.0",
      "model_name": "LayoutModel",
      "state": {}
     },
     "daf9709a581744f4b996744f635fb4a1": {
      "model_module": "@jupyter-widgets/controls",
      "model_module_version": "1.5.0",
      "model_name": "DescriptionStyleModel",
      "state": {
       "description_width": ""
      }
     },
     "db1e3e2474b84180944f6f30cb0c9edf": {
      "model_module": "@jupyter-widgets/controls",
      "model_module_version": "1.5.0",
      "model_name": "HBoxModel",
      "state": {
       "children": [
        "IPY_MODEL_0f1abdf6aad640a4bd0fbe431a2ea6f4",
        "IPY_MODEL_187d347c7b3d4cafb10e821a0c8c800c",
        "IPY_MODEL_75c203c12a264b1197f7e120e721bdb5"
       ],
       "layout": "IPY_MODEL_a427edea8759440c9b0318da22ca6753"
      }
     },
     "db39cdc89d9a49338829059f760be4d5": {
      "model_module": "@jupyter-widgets/controls",
      "model_module_version": "1.5.0",
      "model_name": "HBoxModel",
      "state": {
       "children": [
        "IPY_MODEL_7635e3c951c54b6292262173c0c90fc2",
        "IPY_MODEL_ee509a5529764072bb1b3c7a843ac1d3",
        "IPY_MODEL_b78e753848454f408e0a43d65c9f0894"
       ],
       "layout": "IPY_MODEL_b7ab3395cd1f45deb450de089d574b07"
      }
     },
     "db8f39a2c9d1425f913deedec11f01f9": {
      "model_module": "@jupyter-widgets/base",
      "model_module_version": "1.2.0",
      "model_name": "LayoutModel",
      "state": {}
     },
     "dbb16776f23540eb80f19ae5a543a5bd": {
      "model_module": "@jupyter-widgets/controls",
      "model_module_version": "1.5.0",
      "model_name": "DescriptionStyleModel",
      "state": {
       "description_width": ""
      }
     },
     "dc123d1dff7e407b8c252aa25a32ae6b": {
      "model_module": "@jupyter-widgets/controls",
      "model_module_version": "1.5.0",
      "model_name": "ProgressStyleModel",
      "state": {
       "description_width": ""
      }
     },
     "dc81268981a7411dac6300652219bf5e": {
      "model_module": "@jupyter-widgets/base",
      "model_module_version": "1.2.0",
      "model_name": "LayoutModel",
      "state": {}
     },
     "dc86dda56cd74afe94750db021cb3bc8": {
      "model_module": "@jupyter-widgets/controls",
      "model_module_version": "1.5.0",
      "model_name": "HBoxModel",
      "state": {
       "children": [
        "IPY_MODEL_55d64a6ea40147e9b9d47c69a7082e13",
        "IPY_MODEL_d07a82085b604ac9b40a677b700be9b0",
        "IPY_MODEL_f87690b0669f41d3a7f4a7abcf0c1d28"
       ],
       "layout": "IPY_MODEL_b676965b413642c18f62f72a2c96e20d"
      }
     },
     "dc8dd19e7b3e47f2bd2ea519ac91a844": {
      "model_module": "@jupyter-widgets/base",
      "model_module_version": "1.2.0",
      "model_name": "LayoutModel",
      "state": {}
     },
     "dca837d15eca4071ac5cdc4ca89bae47": {
      "model_module": "@jupyter-widgets/base",
      "model_module_version": "1.2.0",
      "model_name": "LayoutModel",
      "state": {}
     },
     "dcb1ef36eebd4ceda6fcdafd835adfad": {
      "model_module": "@jupyter-widgets/base",
      "model_module_version": "1.2.0",
      "model_name": "LayoutModel",
      "state": {}
     },
     "dcd64763760b4cdb98692677ac6488e9": {
      "model_module": "@jupyter-widgets/controls",
      "model_module_version": "1.5.0",
      "model_name": "FloatProgressModel",
      "state": {
       "bar_style": "success",
       "layout": "IPY_MODEL_8565e2f978dd4362a059743e4b0c939f",
       "max": 4,
       "style": "IPY_MODEL_83a39f40b9144046b401d2a523fcec60",
       "value": 4
      }
     },
     "dcd88d862b3347c3836f8c4f3ffd280f": {
      "model_module": "@jupyter-widgets/controls",
      "model_module_version": "1.5.0",
      "model_name": "HBoxModel",
      "state": {
       "children": [
        "IPY_MODEL_e70f8dc4fcdf4e20a11e23d6f42e252a",
        "IPY_MODEL_b09dfdc5f778493ba6934f8e79f80814",
        "IPY_MODEL_c40dd4cdc30544c9bf02d2c020be5f04"
       ],
       "layout": "IPY_MODEL_6a0d2c08971547d586e5da6f6ef32cdd"
      }
     },
     "dd106905b50947aa926da511cef86350": {
      "model_module": "@jupyter-widgets/controls",
      "model_module_version": "1.5.0",
      "model_name": "ProgressStyleModel",
      "state": {
       "description_width": ""
      }
     },
     "dd4041f12b134e1b9a4699f0c394df3e": {
      "model_module": "@jupyter-widgets/controls",
      "model_module_version": "1.5.0",
      "model_name": "FloatProgressModel",
      "state": {
       "bar_style": "success",
       "layout": "IPY_MODEL_bd093fa23a5a4017be8b751389f6087d",
       "max": 4,
       "style": "IPY_MODEL_d837d028b7324cae98f086951c9b7768",
       "value": 4
      }
     },
     "dd663325aacf491a902579f53df85024": {
      "model_module": "@jupyter-widgets/controls",
      "model_module_version": "1.5.0",
      "model_name": "HBoxModel",
      "state": {
       "children": [
        "IPY_MODEL_4ab1be90e3f04cd7848637e16f1deca3",
        "IPY_MODEL_245d2a00d26847c2ba001c6ebd1b0095",
        "IPY_MODEL_7230feb03ab4404aa68684d143864328"
       ],
       "layout": "IPY_MODEL_6d0fb7e33be44afab5568c2960ddf18a"
      }
     },
     "dd85e54aafab43d99c44ab21d7095588": {
      "model_module": "@jupyter-widgets/controls",
      "model_module_version": "1.5.0",
      "model_name": "DescriptionStyleModel",
      "state": {
       "description_width": ""
      }
     },
     "dd8e2a69f9ce4e139e632c0cbe233835": {
      "model_module": "@jupyter-widgets/base",
      "model_module_version": "1.2.0",
      "model_name": "LayoutModel",
      "state": {}
     },
     "dd92e3d7a449489d8fca99fed8452d07": {
      "model_module": "@jupyter-widgets/base",
      "model_module_version": "1.2.0",
      "model_name": "LayoutModel",
      "state": {}
     },
     "dda370b50edb40b0b8eb67efb09291d4": {
      "model_module": "@jupyter-widgets/base",
      "model_module_version": "1.2.0",
      "model_name": "LayoutModel",
      "state": {}
     },
     "ddb106151a1b46b9968070fe8b945e85": {
      "model_module": "@jupyter-widgets/base",
      "model_module_version": "1.2.0",
      "model_name": "LayoutModel",
      "state": {}
     },
     "ddb11e72e8224b3d99f8b7d87daae32d": {
      "model_module": "@jupyter-widgets/controls",
      "model_module_version": "1.5.0",
      "model_name": "DescriptionStyleModel",
      "state": {
       "description_width": ""
      }
     },
     "ddcea6ac9ae1459499fb9ef036c694fe": {
      "model_module": "@jupyter-widgets/controls",
      "model_module_version": "1.5.0",
      "model_name": "DescriptionStyleModel",
      "state": {
       "description_width": ""
      }
     },
     "dded3c4e81ef4c6cbf9c9de1d8a82c6b": {
      "model_module": "@jupyter-widgets/controls",
      "model_module_version": "1.5.0",
      "model_name": "DescriptionStyleModel",
      "state": {
       "description_width": ""
      }
     },
     "de33ec65488348dc9485c1de4d16a46e": {
      "model_module": "@jupyter-widgets/base",
      "model_module_version": "1.2.0",
      "model_name": "LayoutModel",
      "state": {}
     },
     "de421c0366c74e6480de66df9c53bb6d": {
      "model_module": "@jupyter-widgets/controls",
      "model_module_version": "1.5.0",
      "model_name": "HTMLModel",
      "state": {
       "layout": "IPY_MODEL_71443f9eae3943b5a4d24c85e2507c03",
       "style": "IPY_MODEL_a48bd8fb120549dfb2b526d88e43c550",
       "value": "NORMAL: 100%"
      }
     },
     "de4501ad04e2430b95c01c3f4fc4f179": {
      "model_module": "@jupyter-widgets/controls",
      "model_module_version": "1.5.0",
      "model_name": "FloatProgressModel",
      "state": {
       "bar_style": "success",
       "layout": "IPY_MODEL_a46359ec41b04c4bb6521f6f12930674",
       "max": 1200,
       "style": "IPY_MODEL_ba0ca7be438a4d10b3f81fefb3126f70",
       "value": 1200
      }
     },
     "de61f501012145228b0e1b43fc2ba3a5": {
      "model_module": "@jupyter-widgets/controls",
      "model_module_version": "1.5.0",
      "model_name": "FloatProgressModel",
      "state": {
       "bar_style": "success",
       "layout": "IPY_MODEL_6d0b5b9aedfe43a3b47c14da255fd6b8",
       "max": 4,
       "style": "IPY_MODEL_f81a478b4f624f3e82b80f437db550c5",
       "value": 4
      }
     },
     "de6778632da641abbfa41ff5d847fe04": {
      "model_module": "@jupyter-widgets/controls",
      "model_module_version": "1.5.0",
      "model_name": "HTMLModel",
      "state": {
       "layout": "IPY_MODEL_af77797b626f42f8aabddb17c24698a9",
       "style": "IPY_MODEL_17e727b3e27e40a9b721442c0f1c3fbe",
       "value": " 1345/1345 [00:21&lt;00:00, 62.43it/s]"
      }
     },
     "deb1c8ac9c0e4821a6cdd28265ba6656": {
      "model_module": "@jupyter-widgets/base",
      "model_module_version": "1.2.0",
      "model_name": "LayoutModel",
      "state": {}
     },
     "deb4f48f55db4e4ea8a8027cbf65e737": {
      "model_module": "@jupyter-widgets/base",
      "model_module_version": "1.2.0",
      "model_name": "LayoutModel",
      "state": {}
     },
     "dee4c505b7184b73be7c19a323533ac3": {
      "model_module": "@jupyter-widgets/controls",
      "model_module_version": "1.5.0",
      "model_name": "HTMLModel",
      "state": {
       "layout": "IPY_MODEL_274f8b61c07c4890baf555dbf0cea007",
       "style": "IPY_MODEL_2ee67094d8cc4897b4dcb7f5640f9c92",
       "value": " 1345/1345 [00:24&lt;00:00, 55.38it/s]"
      }
     },
     "def1b1fcb2bb472e930cb90879c6dcaf": {
      "model_module": "@jupyter-widgets/controls",
      "model_module_version": "1.5.0",
      "model_name": "ProgressStyleModel",
      "state": {
       "description_width": ""
      }
     },
     "df276f6b40b04141b4105056ec038600": {
      "model_module": "@jupyter-widgets/controls",
      "model_module_version": "1.5.0",
      "model_name": "DescriptionStyleModel",
      "state": {
       "description_width": ""
      }
     },
     "df2c39b28b0342f6a8a24e1579f91ce8": {
      "model_module": "@jupyter-widgets/base",
      "model_module_version": "1.2.0",
      "model_name": "LayoutModel",
      "state": {}
     },
     "df789544cb954188b5b6153233066591": {
      "model_module": "@jupyter-widgets/controls",
      "model_module_version": "1.5.0",
      "model_name": "FloatProgressModel",
      "state": {
       "bar_style": "success",
       "layout": "IPY_MODEL_6770eec1d2f04e26a8306680dca2588d",
       "max": 4,
       "style": "IPY_MODEL_2b388bfdbc0b46a6a547d35371a61342",
       "value": 4
      }
     },
     "df91d3e03f2849798626fabca6204f40": {
      "model_module": "@jupyter-widgets/controls",
      "model_module_version": "1.5.0",
      "model_name": "DescriptionStyleModel",
      "state": {
       "description_width": ""
      }
     },
     "df98b643d31f4f3a9a951b3fdd04889e": {
      "model_module": "@jupyter-widgets/base",
      "model_module_version": "1.2.0",
      "model_name": "LayoutModel",
      "state": {}
     },
     "dfac518cdfec48e186e0be4d6b7d69e2": {
      "model_module": "@jupyter-widgets/base",
      "model_module_version": "1.2.0",
      "model_name": "LayoutModel",
      "state": {}
     },
     "dfde2aa21d014e33a2e3fea0e69e66a3": {
      "model_module": "@jupyter-widgets/controls",
      "model_module_version": "1.5.0",
      "model_name": "HTMLModel",
      "state": {
       "layout": "IPY_MODEL_f420411f4b394f3ab37c1a21922c05b4",
       "style": "IPY_MODEL_9607e4e590d8440589bb4cbc4b63746a",
       "value": " 4/4 [00:00&lt;00:00, 97.40it/s]"
      }
     },
     "dfe83abf1db94e06b0bb5f82763e850b": {
      "model_module": "@jupyter-widgets/controls",
      "model_module_version": "1.5.0",
      "model_name": "FloatProgressModel",
      "state": {
       "bar_style": "success",
       "layout": "IPY_MODEL_1d42e7a446c44e9fa2b7cbb5b31f96bc",
       "max": 3,
       "style": "IPY_MODEL_bed1d44176854bb9ba6359b85f0b1a9b",
       "value": 3
      }
     },
     "e06772d820b0449e87183da6de16afc5": {
      "model_module": "@jupyter-widgets/base",
      "model_module_version": "1.2.0",
      "model_name": "LayoutModel",
      "state": {}
     },
     "e0d2beb511ae442d9f07a108b811ef17": {
      "model_module": "@jupyter-widgets/controls",
      "model_module_version": "1.5.0",
      "model_name": "DescriptionStyleModel",
      "state": {
       "description_width": ""
      }
     },
     "e0d4d587263d4e17a23bb8e721ecd7d4": {
      "model_module": "@jupyter-widgets/base",
      "model_module_version": "1.2.0",
      "model_name": "LayoutModel",
      "state": {}
     },
     "e0dcdfa24f8348498f605f5c4c999444": {
      "model_module": "@jupyter-widgets/base",
      "model_module_version": "1.2.0",
      "model_name": "LayoutModel",
      "state": {}
     },
     "e0ff0bac7e934973a05ce5d7acae62a3": {
      "model_module": "@jupyter-widgets/controls",
      "model_module_version": "1.5.0",
      "model_name": "ProgressStyleModel",
      "state": {
       "description_width": ""
      }
     },
     "e100489a67b145579caacba553c4d440": {
      "model_module": "@jupyter-widgets/base",
      "model_module_version": "1.2.0",
      "model_name": "LayoutModel",
      "state": {}
     },
     "e10cd72ae8ac4d62aac00b87a147df8f": {
      "model_module": "@jupyter-widgets/controls",
      "model_module_version": "1.5.0",
      "model_name": "FloatProgressModel",
      "state": {
       "bar_style": "success",
       "layout": "IPY_MODEL_4cb571f7dad94636ba466e77595d10f7",
       "max": 4,
       "style": "IPY_MODEL_781fc5c3a8a246edbe3e6a8e84ba7a75",
       "value": 4
      }
     },
     "e11a6e0edde5432298a3f6628a54b0a2": {
      "model_module": "@jupyter-widgets/base",
      "model_module_version": "1.2.0",
      "model_name": "LayoutModel",
      "state": {}
     },
     "e192e8646c9847928aa5a16a4510c0c0": {
      "model_module": "@jupyter-widgets/controls",
      "model_module_version": "1.5.0",
      "model_name": "DescriptionStyleModel",
      "state": {
       "description_width": ""
      }
     },
     "e1a1f7e0f449443681a90290d38e2bbb": {
      "model_module": "@jupyter-widgets/base",
      "model_module_version": "1.2.0",
      "model_name": "LayoutModel",
      "state": {}
     },
     "e1a831942f38428c9320dec403b25261": {
      "model_module": "@jupyter-widgets/controls",
      "model_module_version": "1.5.0",
      "model_name": "HBoxModel",
      "state": {
       "children": [
        "IPY_MODEL_75f38ac56a25480880febc390ba73042",
        "IPY_MODEL_9b180113f4b64b878ff3ca815ab6d6fc",
        "IPY_MODEL_57b75bc755de4eae98cabf2a6393a0c0"
       ],
       "layout": "IPY_MODEL_f326fe424ebc41f5b8a1774805cf30a8"
      }
     },
     "e1afafd1b22c4c948c7f3afd736fe495": {
      "model_module": "@jupyter-widgets/base",
      "model_module_version": "1.2.0",
      "model_name": "LayoutModel",
      "state": {}
     },
     "e1c349754f0d4b95bcef2eb20d6a5358": {
      "model_module": "@jupyter-widgets/controls",
      "model_module_version": "1.5.0",
      "model_name": "HTMLModel",
      "state": {
       "layout": "IPY_MODEL_2981937c757c412fa2eee1ade4f74854",
       "style": "IPY_MODEL_f4b3b8b9af7b4a4d92c89063871fea03",
       "value": " 4/4 [00:00&lt;00:00, 91.80it/s]"
      }
     },
     "e1c877f3ac1d48ef95056b905f464216": {
      "model_module": "@jupyter-widgets/base",
      "model_module_version": "1.2.0",
      "model_name": "LayoutModel",
      "state": {}
     },
     "e1e2cbfad0b448389d63d1126d9d5b6a": {
      "model_module": "@jupyter-widgets/controls",
      "model_module_version": "1.5.0",
      "model_name": "DescriptionStyleModel",
      "state": {
       "description_width": ""
      }
     },
     "e1ee9d84624b4a6ab0d4278c7f8d6e8c": {
      "model_module": "@jupyter-widgets/base",
      "model_module_version": "1.2.0",
      "model_name": "LayoutModel",
      "state": {}
     },
     "e1f0465cf4c1498aa91a697c18b359eb": {
      "model_module": "@jupyter-widgets/controls",
      "model_module_version": "1.5.0",
      "model_name": "ProgressStyleModel",
      "state": {
       "description_width": ""
      }
     },
     "e2101f59e7d94fb6a154e3fd49384ee9": {
      "model_module": "@jupyter-widgets/base",
      "model_module_version": "1.2.0",
      "model_name": "LayoutModel",
      "state": {}
     },
     "e2ca0d8b229c43c6b90c948647bd3317": {
      "model_module": "@jupyter-widgets/controls",
      "model_module_version": "1.5.0",
      "model_name": "HTMLModel",
      "state": {
       "layout": "IPY_MODEL_a2b76a19f44b435881db83a978d1abbe",
       "style": "IPY_MODEL_42d13bd3cf0044198e81bd6ead5307b7",
       "value": "VIRAL-PNEUMONIA: 100%"
      }
     },
     "e2e26495e02d4c2f8147787b02afaf3a": {
      "model_module": "@jupyter-widgets/controls",
      "model_module_version": "1.5.0",
      "model_name": "ProgressStyleModel",
      "state": {
       "description_width": ""
      }
     },
     "e2e668115b354e66a4c2e16cc430ba75": {
      "model_module": "@jupyter-widgets/controls",
      "model_module_version": "1.5.0",
      "model_name": "DescriptionStyleModel",
      "state": {
       "description_width": ""
      }
     },
     "e2f0c27bf31648ceafe0a2dfa5482a06": {
      "model_module": "@jupyter-widgets/controls",
      "model_module_version": "1.5.0",
      "model_name": "DescriptionStyleModel",
      "state": {
       "description_width": ""
      }
     },
     "e31b7949a524459ca711afe4a91261c5": {
      "model_module": "@jupyter-widgets/controls",
      "model_module_version": "1.5.0",
      "model_name": "ProgressStyleModel",
      "state": {
       "description_width": ""
      }
     },
     "e32e2bd0021d45b59016f9bfd0ebac1e": {
      "model_module": "@jupyter-widgets/base",
      "model_module_version": "1.2.0",
      "model_name": "LayoutModel",
      "state": {}
     },
     "e36aeeed17ad4c738d63c9d167649d0b": {
      "model_module": "@jupyter-widgets/controls",
      "model_module_version": "1.5.0",
      "model_name": "HBoxModel",
      "state": {
       "children": [
        "IPY_MODEL_f75e6b1c55a8480d90eb118bd2a77ffc",
        "IPY_MODEL_ea19f5c4b067481a96af358117917056",
        "IPY_MODEL_250541f32a0042b4af83d0863018a0ca"
       ],
       "layout": "IPY_MODEL_bfe023352de94d1d9de02c4c762dc02b"
      }
     },
     "e378fc81a5114bcf8cec60cec28e481b": {
      "model_module": "@jupyter-widgets/base",
      "model_module_version": "1.2.0",
      "model_name": "LayoutModel",
      "state": {}
     },
     "e390609372d547eda0220fb0004de6b0": {
      "model_module": "@jupyter-widgets/controls",
      "model_module_version": "1.5.0",
      "model_name": "DescriptionStyleModel",
      "state": {
       "description_width": ""
      }
     },
     "e3bd1869abec4451986318bf69ab97b0": {
      "model_module": "@jupyter-widgets/base",
      "model_module_version": "1.2.0",
      "model_name": "LayoutModel",
      "state": {}
     },
     "e3d48fbe508f4ca6b18e493ee40cf8e5": {
      "model_module": "@jupyter-widgets/base",
      "model_module_version": "1.2.0",
      "model_name": "LayoutModel",
      "state": {}
     },
     "e3ddb41ce85d4ba6bd754486a32fbd04": {
      "model_module": "@jupyter-widgets/controls",
      "model_module_version": "1.5.0",
      "model_name": "ProgressStyleModel",
      "state": {
       "description_width": ""
      }
     },
     "e3ed136b2e9d4b07952035aced695683": {
      "model_module": "@jupyter-widgets/controls",
      "model_module_version": "1.5.0",
      "model_name": "HTMLModel",
      "state": {
       "layout": "IPY_MODEL_1fc01f819c034a22b437c8e7b1581ca2",
       "style": "IPY_MODEL_1bafeb1c500d4fd59b12d23e636c2e8d",
       "value": "NORMAL: 100%"
      }
     },
     "e41f389c5eb94869ba477c92b3db22fd": {
      "model_module": "@jupyter-widgets/base",
      "model_module_version": "1.2.0",
      "model_name": "LayoutModel",
      "state": {}
     },
     "e4385215d4d74367b822cf00d5b4a249": {
      "model_module": "@jupyter-widgets/controls",
      "model_module_version": "1.5.0",
      "model_name": "HTMLModel",
      "state": {
       "layout": "IPY_MODEL_ac08a39871994f7d919b909ff03188dd",
       "style": "IPY_MODEL_0eb3041943964b3a8cbb97a54ca823a9",
       "value": " 4/4 [00:00&lt;00:00, 78.88it/s]"
      }
     },
     "e43eefd1d15e4df28c8ca9cc4c33de1f": {
      "model_module": "@jupyter-widgets/controls",
      "model_module_version": "1.5.0",
      "model_name": "ProgressStyleModel",
      "state": {
       "description_width": ""
      }
     },
     "e45d41c5ff1242de953cd3f534202b76": {
      "model_module": "@jupyter-widgets/base",
      "model_module_version": "1.2.0",
      "model_name": "LayoutModel",
      "state": {}
     },
     "e47ede43b58849df8292f9713a4a343a": {
      "model_module": "@jupyter-widgets/base",
      "model_module_version": "1.2.0",
      "model_name": "LayoutModel",
      "state": {}
     },
     "e490a8c053fb468995524bf9e8824da5": {
      "model_module": "@jupyter-widgets/controls",
      "model_module_version": "1.5.0",
      "model_name": "ProgressStyleModel",
      "state": {
       "description_width": ""
      }
     },
     "e4a54653af3d403687bb698607a73d66": {
      "model_module": "@jupyter-widgets/controls",
      "model_module_version": "1.5.0",
      "model_name": "HTMLModel",
      "state": {
       "layout": "IPY_MODEL_332b4cde9cff4be3abc4d542a1970625",
       "style": "IPY_MODEL_31a40e24a51340349dd9aeb596c21974",
       "value": " 4/4 [00:00&lt;00:00, 96.77it/s]"
      }
     },
     "e4b40adaabf942e89312910e2b4293c1": {
      "model_module": "@jupyter-widgets/controls",
      "model_module_version": "1.5.0",
      "model_name": "HTMLModel",
      "state": {
       "layout": "IPY_MODEL_13855df5f03345a4b62a68f220b8464d",
       "style": "IPY_MODEL_f21352553cd24607bcbc3cd63e44b946",
       "value": "COVID: 100%"
      }
     },
     "e4d5cc54db9d45a6be07769ce8174936": {
      "model_module": "@jupyter-widgets/controls",
      "model_module_version": "1.5.0",
      "model_name": "HTMLModel",
      "state": {
       "layout": "IPY_MODEL_2d5234a05da845a097cbb5f7ea624359",
       "style": "IPY_MODEL_43e143f5fdf04b468e4f722635714ab5",
       "value": "COVID: 100%"
      }
     },
     "e4ee59360e4b4e4db230efa2a71195b7": {
      "model_module": "@jupyter-widgets/controls",
      "model_module_version": "1.5.0",
      "model_name": "FloatProgressModel",
      "state": {
       "bar_style": "success",
       "layout": "IPY_MODEL_ab475230b26148c09b7ab011c3070159",
       "max": 1345,
       "style": "IPY_MODEL_b2a2f93644a54b99898880e617a11aad",
       "value": 1345
      }
     },
     "e5178aaa56194008af86a37b2d44a396": {
      "model_module": "@jupyter-widgets/controls",
      "model_module_version": "1.5.0",
      "model_name": "DescriptionStyleModel",
      "state": {
       "description_width": ""
      }
     },
     "e546cc9e29b14697b3452c77ad991f73": {
      "model_module": "@jupyter-widgets/controls",
      "model_module_version": "1.5.0",
      "model_name": "ProgressStyleModel",
      "state": {
       "description_width": ""
      }
     },
     "e562d78ce7114c8bbdf034067464a00f": {
      "model_module": "@jupyter-widgets/controls",
      "model_module_version": "1.5.0",
      "model_name": "DescriptionStyleModel",
      "state": {
       "description_width": ""
      }
     },
     "e58240823f82482eb9a251c2ea977b4f": {
      "model_module": "@jupyter-widgets/controls",
      "model_module_version": "1.5.0",
      "model_name": "ProgressStyleModel",
      "state": {
       "description_width": ""
      }
     },
     "e597abaadc9a4ee5a0f19e9db1e9785f": {
      "model_module": "@jupyter-widgets/base",
      "model_module_version": "1.2.0",
      "model_name": "LayoutModel",
      "state": {}
     },
     "e5e371a119324d90b36ff577d8db0ac2": {
      "model_module": "@jupyter-widgets/base",
      "model_module_version": "1.2.0",
      "model_name": "LayoutModel",
      "state": {}
     },
     "e5f682039b0144a3b75a679f3163c22a": {
      "model_module": "@jupyter-widgets/controls",
      "model_module_version": "1.5.0",
      "model_name": "DescriptionStyleModel",
      "state": {
       "description_width": ""
      }
     },
     "e5f88b67428e4a74bdf3dd1584dc7fde": {
      "model_module": "@jupyter-widgets/controls",
      "model_module_version": "1.5.0",
      "model_name": "HBoxModel",
      "state": {
       "children": [
        "IPY_MODEL_2d78c7af10e94b59bb54f5d136d38125",
        "IPY_MODEL_36d08c37693c4d09876cb9126570fde3",
        "IPY_MODEL_41d9ff91dbdd47a7bcbc9e08d585bcb8"
       ],
       "layout": "IPY_MODEL_d9607aafc88e4efab6033aa4686d429f"
      }
     },
     "e6060a3184da4c8f8457dc883f3acf0e": {
      "model_module": "@jupyter-widgets/controls",
      "model_module_version": "1.5.0",
      "model_name": "HBoxModel",
      "state": {
       "children": [
        "IPY_MODEL_96686a341cd443dc8ef71fc4d99e5daf",
        "IPY_MODEL_e9ae77a4e702463882e8f1e066f08bf0",
        "IPY_MODEL_a628e597e37840c8b79d57c45614698f"
       ],
       "layout": "IPY_MODEL_279c397651f645548a3e4a41135bc9b6"
      }
     },
     "e6534e803c5b4d2492893f2d9669d864": {
      "model_module": "@jupyter-widgets/controls",
      "model_module_version": "1.5.0",
      "model_name": "HTMLModel",
      "state": {
       "layout": "IPY_MODEL_1b98545357ba4f36ab7fbc80ec45806c",
       "style": "IPY_MODEL_3193f89b6fe645ecb0b7f955be900c7a",
       "value": " 4/4 [00:00&lt;00:00, 39.61it/s]"
      }
     },
     "e66634ce834c4df085c50b6b099e4a50": {
      "model_module": "@jupyter-widgets/base",
      "model_module_version": "1.2.0",
      "model_name": "LayoutModel",
      "state": {}
     },
     "e6ac41703fe74e8a98b585de2bb23e4c": {
      "model_module": "@jupyter-widgets/base",
      "model_module_version": "1.2.0",
      "model_name": "LayoutModel",
      "state": {}
     },
     "e70f8dc4fcdf4e20a11e23d6f42e252a": {
      "model_module": "@jupyter-widgets/controls",
      "model_module_version": "1.5.0",
      "model_name": "HTMLModel",
      "state": {
       "layout": "IPY_MODEL_98ef008c74664609a15e780593f745d1",
       "style": "IPY_MODEL_53430b9e0659400e8deff38800adcf17",
       "value": "COVID: 100%"
      }
     },
     "e71ea2c7b64541239bf7559bce2e7d35": {
      "model_module": "@jupyter-widgets/controls",
      "model_module_version": "1.5.0",
      "model_name": "HTMLModel",
      "state": {
       "layout": "IPY_MODEL_4ee3587ddb27447aae78ba4148af6415",
       "style": "IPY_MODEL_cdde48a8ba344b1bb21c3be03874f282",
       "value": " 4/4 [00:00&lt;00:00, 73.18it/s]"
      }
     },
     "e71f365166464cc8b987d0cd06370e3e": {
      "model_module": "@jupyter-widgets/controls",
      "model_module_version": "1.5.0",
      "model_name": "FloatProgressModel",
      "state": {
       "bar_style": "success",
       "layout": "IPY_MODEL_c0d0bfcfa7504cdea6231fbe50f018a1",
       "max": 4,
       "style": "IPY_MODEL_f87d4c24b30a463980fa90209d32f60d",
       "value": 4
      }
     },
     "e745e4a0e9634de8b30c9c4ed1212501": {
      "model_module": "@jupyter-widgets/base",
      "model_module_version": "1.2.0",
      "model_name": "LayoutModel",
      "state": {}
     },
     "e767888b48d24b30acf8b09cc82f9a4c": {
      "model_module": "@jupyter-widgets/controls",
      "model_module_version": "1.5.0",
      "model_name": "ProgressStyleModel",
      "state": {
       "description_width": ""
      }
     },
     "e7774fff021046fe864fe480102c93c6": {
      "model_module": "@jupyter-widgets/controls",
      "model_module_version": "1.5.0",
      "model_name": "ProgressStyleModel",
      "state": {
       "description_width": ""
      }
     },
     "e7a00fbf4083416e888db375cdcebece": {
      "model_module": "@jupyter-widgets/controls",
      "model_module_version": "1.5.0",
      "model_name": "HTMLModel",
      "state": {
       "layout": "IPY_MODEL_94ad02a61b1340d795e5d62c72322df7",
       "style": "IPY_MODEL_8d3e4cee091b432aaf3ac2cda0ae299a",
       "value": "COVID: 100%"
      }
     },
     "e7ad94a0929543cb949d2818f0fe290b": {
      "model_module": "@jupyter-widgets/base",
      "model_module_version": "1.2.0",
      "model_name": "LayoutModel",
      "state": {}
     },
     "e7d9ceba0ebc41818578d72d4db6b8fb": {
      "model_module": "@jupyter-widgets/controls",
      "model_module_version": "1.5.0",
      "model_name": "DescriptionStyleModel",
      "state": {
       "description_width": ""
      }
     },
     "e7f09f574151405a8ca97e07bfc6011e": {
      "model_module": "@jupyter-widgets/base",
      "model_module_version": "1.2.0",
      "model_name": "LayoutModel",
      "state": {}
     },
     "e7f7324ee2484eac983fae8d416a60a9": {
      "model_module": "@jupyter-widgets/controls",
      "model_module_version": "1.5.0",
      "model_name": "FloatProgressModel",
      "state": {
       "bar_style": "success",
       "layout": "IPY_MODEL_55b08d3431334bb59ddd30668bdc2f56",
       "max": 4,
       "style": "IPY_MODEL_cab7ce1f3baf4ed8a5987a1c9ce54511",
       "value": 4
      }
     },
     "e816f0725e4f4ed5bd56c72ea2149258": {
      "model_module": "@jupyter-widgets/base",
      "model_module_version": "1.2.0",
      "model_name": "LayoutModel",
      "state": {}
     },
     "e87e51f22f3a451fa0d34d2c93cf8434": {
      "model_module": "@jupyter-widgets/controls",
      "model_module_version": "1.5.0",
      "model_name": "FloatProgressModel",
      "state": {
       "bar_style": "success",
       "layout": "IPY_MODEL_4048026b74504c7aa8ebd31c34eee2bb",
       "max": 1345,
       "style": "IPY_MODEL_00d571921ce344b7a05b896a8fcd7b68",
       "value": 1345
      }
     },
     "e88c2d3eb3d34a81b12763438430cce4": {
      "model_module": "@jupyter-widgets/controls",
      "model_module_version": "1.5.0",
      "model_name": "HTMLModel",
      "state": {
       "layout": "IPY_MODEL_db8f39a2c9d1425f913deedec11f01f9",
       "style": "IPY_MODEL_cbf4d809eb774e85a483b169d83236ca",
       "value": "COVID: 100%"
      }
     },
     "e8bccaaf57ba4572b7be3522b6f23a5c": {
      "model_module": "@jupyter-widgets/controls",
      "model_module_version": "1.5.0",
      "model_name": "HBoxModel",
      "state": {
       "children": [
        "IPY_MODEL_6916041671e1416086e0ebe9dbf901a4",
        "IPY_MODEL_e7f7324ee2484eac983fae8d416a60a9",
        "IPY_MODEL_c614032861d54c6a9a44aa05d6148c4d"
       ],
       "layout": "IPY_MODEL_da95627179c94209a91b0823220de81f"
      }
     },
     "e8c1b1f96fbf4433a3757bde911693b6": {
      "model_module": "@jupyter-widgets/controls",
      "model_module_version": "1.5.0",
      "model_name": "HTMLModel",
      "state": {
       "layout": "IPY_MODEL_3358742084df44fd82e3f05c5f9f2fd5",
       "style": "IPY_MODEL_29f5c634999244b4b2eb67a7c7ae4a2a",
       "value": " 4/4 [00:00&lt;00:00, 35.58it/s]"
      }
     },
     "e90098c917ce4be99b77f254c0b9e805": {
      "model_module": "@jupyter-widgets/base",
      "model_module_version": "1.2.0",
      "model_name": "LayoutModel",
      "state": {}
     },
     "e90b505b18a24fd8b151dfe1883f5693": {
      "model_module": "@jupyter-widgets/base",
      "model_module_version": "1.2.0",
      "model_name": "LayoutModel",
      "state": {}
     },
     "e91a7f68485c455f8af8bb0ab602bcfb": {
      "model_module": "@jupyter-widgets/controls",
      "model_module_version": "1.5.0",
      "model_name": "HTMLModel",
      "state": {
       "layout": "IPY_MODEL_50508e2ebc9241899f154bfc6a91832f",
       "style": "IPY_MODEL_62d9de17eced42709f6c813e341eb757",
       "value": "DATASETS: 100%"
      }
     },
     "e9274c47d2fd4693855ffdb5c7f72920": {
      "model_module": "@jupyter-widgets/base",
      "model_module_version": "1.2.0",
      "model_name": "LayoutModel",
      "state": {}
     },
     "e93bc8dbafc343dbaedee52a02549e78": {
      "model_module": "@jupyter-widgets/base",
      "model_module_version": "1.2.0",
      "model_name": "LayoutModel",
      "state": {}
     },
     "e9457ea64349443b8d1ad218bd8e4094": {
      "model_module": "@jupyter-widgets/controls",
      "model_module_version": "1.5.0",
      "model_name": "HBoxModel",
      "state": {
       "children": [
        "IPY_MODEL_d9a6fa5f2d03483e96ee7454922e67cf",
        "IPY_MODEL_229539061e594a6ba15918cd105a63af",
        "IPY_MODEL_816ce1d044244ac58538bdcc1df1cf65"
       ],
       "layout": "IPY_MODEL_fc7e09326387403d9e00116649e12188"
      }
     },
     "e94a0739b1fa4730a0bfbf7e5bfa0707": {
      "model_module": "@jupyter-widgets/controls",
      "model_module_version": "1.5.0",
      "model_name": "HTMLModel",
      "state": {
       "layout": "IPY_MODEL_0fd43c6c96d24b688b9db8654fe29b42",
       "style": "IPY_MODEL_59601079231a4410b400e03c6d491296",
       "value": " 4/4 [00:00&lt;00:00, 29.43it/s]"
      }
     },
     "e97945e476c54c8583b68bd585a0f5ce": {
      "model_module": "@jupyter-widgets/controls",
      "model_module_version": "1.5.0",
      "model_name": "ProgressStyleModel",
      "state": {
       "description_width": ""
      }
     },
     "e9961f3676cc4dcaaf0ed66c192d4b1a": {
      "model_module": "@jupyter-widgets/controls",
      "model_module_version": "1.5.0",
      "model_name": "FloatProgressModel",
      "state": {
       "bar_style": "success",
       "layout": "IPY_MODEL_a385f882b5194cf390cc3d6bfd3b0145",
       "max": 4,
       "style": "IPY_MODEL_117bb8724c7e4055b5af831d351ad1c2",
       "value": 4
      }
     },
     "e9ae77a4e702463882e8f1e066f08bf0": {
      "model_module": "@jupyter-widgets/controls",
      "model_module_version": "1.5.0",
      "model_name": "FloatProgressModel",
      "state": {
       "bar_style": "success",
       "layout": "IPY_MODEL_2299bd6e3ab444f3a5300d69850ff41c",
       "max": 3,
       "style": "IPY_MODEL_8738c875d32c45759f0fd16fd160c772",
       "value": 3
      }
     },
     "e9cba2473fd64a61a2d42fe417f407f4": {
      "model_module": "@jupyter-widgets/base",
      "model_module_version": "1.2.0",
      "model_name": "LayoutModel",
      "state": {}
     },
     "e9db41c54e44412ea3a81c6c2ef854d0": {
      "model_module": "@jupyter-widgets/controls",
      "model_module_version": "1.5.0",
      "model_name": "HTMLModel",
      "state": {
       "layout": "IPY_MODEL_90e0fef671b3438aa8ed82f205cc0c10",
       "style": "IPY_MODEL_073f67ac803e4a039f4cdfa836c87a48",
       "value": " 4/4 [00:00&lt;00:00, 27.35it/s]"
      }
     },
     "e9e52620fb004ad986a4a81b2284f557": {
      "model_module": "@jupyter-widgets/controls",
      "model_module_version": "1.5.0",
      "model_name": "DescriptionStyleModel",
      "state": {
       "description_width": ""
      }
     },
     "e9e85708095e4517b6dd73ecc02ca330": {
      "model_module": "@jupyter-widgets/base",
      "model_module_version": "1.2.0",
      "model_name": "LayoutModel",
      "state": {}
     },
     "e9fa20e229d347f2a1da6d6358cc2353": {
      "model_module": "@jupyter-widgets/base",
      "model_module_version": "1.2.0",
      "model_name": "LayoutModel",
      "state": {}
     },
     "ea02758d809846d2a08f3cb89a4e0ed9": {
      "model_module": "@jupyter-widgets/controls",
      "model_module_version": "1.5.0",
      "model_name": "DescriptionStyleModel",
      "state": {
       "description_width": ""
      }
     },
     "ea0840378dbf4ecf9d5ed99797939224": {
      "model_module": "@jupyter-widgets/base",
      "model_module_version": "1.2.0",
      "model_name": "LayoutModel",
      "state": {}
     },
     "ea15569710034317ab611a1c6fdb9b86": {
      "model_module": "@jupyter-widgets/controls",
      "model_module_version": "1.5.0",
      "model_name": "HTMLModel",
      "state": {
       "layout": "IPY_MODEL_ca3a07b4406c49f793d6b67412640b65",
       "style": "IPY_MODEL_d395fd5ed1c842d8b67d9956d5924246",
       "value": " 4/4 [00:00&lt;00:00, 69.56it/s]"
      }
     },
     "ea19f5c4b067481a96af358117917056": {
      "model_module": "@jupyter-widgets/controls",
      "model_module_version": "1.5.0",
      "model_name": "FloatProgressModel",
      "state": {
       "bar_style": "success",
       "layout": "IPY_MODEL_d4575682798346a3a0939daedd892ba8",
       "max": 4,
       "style": "IPY_MODEL_d356530eacd1404c9d90324ab505b4e5",
       "value": 4
      }
     },
     "ea422d7681764a609e8d5022293e1169": {
      "model_module": "@jupyter-widgets/controls",
      "model_module_version": "1.5.0",
      "model_name": "FloatProgressModel",
      "state": {
       "bar_style": "success",
       "layout": "IPY_MODEL_0c569393e46440ac90cfb6250bf492dd",
       "max": 1341,
       "style": "IPY_MODEL_8e24dd77e1744f2fbf31ac1293008891",
       "value": 1341
      }
     },
     "ea84228d2cfa44ebb46a910c564ec82f": {
      "model_module": "@jupyter-widgets/controls",
      "model_module_version": "1.5.0",
      "model_name": "HBoxModel",
      "state": {
       "children": [
        "IPY_MODEL_5e69d4d43bad474d8a31c6574340ce81",
        "IPY_MODEL_a6729433600f46b5ae6cf20d87e302a0",
        "IPY_MODEL_6a2f2c03de5a4b6f81c362f0156ec241"
       ],
       "layout": "IPY_MODEL_a625109198db49eba5d3a259553806bd"
      }
     },
     "ea9e10dbe26545e8a989c8f1f159d92c": {
      "model_module": "@jupyter-widgets/base",
      "model_module_version": "1.2.0",
      "model_name": "LayoutModel",
      "state": {}
     },
     "eacec8b142af4ad58c68bcefd387b2ba": {
      "model_module": "@jupyter-widgets/controls",
      "model_module_version": "1.5.0",
      "model_name": "ProgressStyleModel",
      "state": {
       "description_width": ""
      }
     },
     "eacf619778ad4557bc1ebd0739f1dd8a": {
      "model_module": "@jupyter-widgets/controls",
      "model_module_version": "1.5.0",
      "model_name": "FloatProgressModel",
      "state": {
       "bar_style": "success",
       "layout": "IPY_MODEL_4a0eae7215794163ba65b617bb60b9a0",
       "max": 4,
       "style": "IPY_MODEL_c18f063686454548a8bafd634403dce6",
       "value": 4
      }
     },
     "ead4a3a631c3439b82ed1f40a4c90527": {
      "model_module": "@jupyter-widgets/controls",
      "model_module_version": "1.5.0",
      "model_name": "DescriptionStyleModel",
      "state": {
       "description_width": ""
      }
     },
     "ead92b0f4166439fbdf78f9966fad5d6": {
      "model_module": "@jupyter-widgets/controls",
      "model_module_version": "1.5.0",
      "model_name": "HTMLModel",
      "state": {
       "layout": "IPY_MODEL_4e7cacf882b444fb990d9c19f654276c",
       "style": "IPY_MODEL_d92613387531486c83ff2785b311cfcd",
       "value": " 4/4 [00:00&lt;00:00, 86.21it/s]"
      }
     },
     "eadf326defa04c4c96a01614cec906a8": {
      "model_module": "@jupyter-widgets/controls",
      "model_module_version": "1.5.0",
      "model_name": "FloatProgressModel",
      "state": {
       "bar_style": "success",
       "layout": "IPY_MODEL_402c7e5eb2024df3b5e0523c624b27ac",
       "max": 4,
       "style": "IPY_MODEL_6d8794a0ef8044a9b6cc760f41c33ff5",
       "value": 4
      }
     },
     "eae6bcd7f6674d32b976e38614a8cd50": {
      "model_module": "@jupyter-widgets/base",
      "model_module_version": "1.2.0",
      "model_name": "LayoutModel",
      "state": {}
     },
     "eb43b260986f43ec9bcfe7d2987085fd": {
      "model_module": "@jupyter-widgets/controls",
      "model_module_version": "1.5.0",
      "model_name": "ProgressStyleModel",
      "state": {
       "description_width": ""
      }
     },
     "eb47dc5a43694f4abed04e614a5938a5": {
      "model_module": "@jupyter-widgets/base",
      "model_module_version": "1.2.0",
      "model_name": "LayoutModel",
      "state": {}
     },
     "eb8c83a4c1464967a018d58d54456e70": {
      "model_module": "@jupyter-widgets/controls",
      "model_module_version": "1.5.0",
      "model_name": "DescriptionStyleModel",
      "state": {
       "description_width": ""
      }
     },
     "eba058e602cc4af985897fa7a8810390": {
      "model_module": "@jupyter-widgets/controls",
      "model_module_version": "1.5.0",
      "model_name": "HTMLModel",
      "state": {
       "layout": "IPY_MODEL_a198732f70c14ba4a586e44775d5f9b2",
       "style": "IPY_MODEL_164e752b8c55433092e471b4a8e6e8bc",
       "value": "DATASETS: 100%"
      }
     },
     "ebb3611b54c442fa90d68ebe07c593a4": {
      "model_module": "@jupyter-widgets/controls",
      "model_module_version": "1.5.0",
      "model_name": "HTMLModel",
      "state": {
       "layout": "IPY_MODEL_c1d3020c91d843d1b788cf42f8c10657",
       "style": "IPY_MODEL_ddcea6ac9ae1459499fb9ef036c694fe",
       "value": "VIRAL-PNEUMONIA: 100%"
      }
     },
     "ebd98f1d70744faca3e295e11f0e14f4": {
      "model_module": "@jupyter-widgets/controls",
      "model_module_version": "1.5.0",
      "model_name": "ProgressStyleModel",
      "state": {
       "description_width": ""
      }
     },
     "ebdd6e62155d405bae80cfdc66fa58ae": {
      "model_module": "@jupyter-widgets/controls",
      "model_module_version": "1.5.0",
      "model_name": "DescriptionStyleModel",
      "state": {
       "description_width": ""
      }
     },
     "ebeeb30234c34782b5209a034dfaeb0e": {
      "model_module": "@jupyter-widgets/base",
      "model_module_version": "1.2.0",
      "model_name": "LayoutModel",
      "state": {}
     },
     "ec5b2542ada347dc849055d7a66c86a8": {
      "model_module": "@jupyter-widgets/base",
      "model_module_version": "1.2.0",
      "model_name": "LayoutModel",
      "state": {}
     },
     "ec85e7c521ed474db7a4f85d484b73e7": {
      "model_module": "@jupyter-widgets/controls",
      "model_module_version": "1.5.0",
      "model_name": "DescriptionStyleModel",
      "state": {
       "description_width": ""
      }
     },
     "ecfc646336df41a3971689c2f0def86d": {
      "model_module": "@jupyter-widgets/base",
      "model_module_version": "1.2.0",
      "model_name": "LayoutModel",
      "state": {}
     },
     "ed3ab9f8b6da4351bf56843aab86bdfd": {
      "model_module": "@jupyter-widgets/base",
      "model_module_version": "1.2.0",
      "model_name": "LayoutModel",
      "state": {}
     },
     "ed7891325e6744c1afe152fe0cd51113": {
      "model_module": "@jupyter-widgets/base",
      "model_module_version": "1.2.0",
      "model_name": "LayoutModel",
      "state": {}
     },
     "edd4a2c0c15c474c9855c904535fa726": {
      "model_module": "@jupyter-widgets/controls",
      "model_module_version": "1.5.0",
      "model_name": "ProgressStyleModel",
      "state": {
       "description_width": ""
      }
     },
     "ee0879df26d24e34a0e18df989fb2f30": {
      "model_module": "@jupyter-widgets/base",
      "model_module_version": "1.2.0",
      "model_name": "LayoutModel",
      "state": {}
     },
     "ee1b56dd3b5045b28b3b5422e0f474a4": {
      "model_module": "@jupyter-widgets/controls",
      "model_module_version": "1.5.0",
      "model_name": "ProgressStyleModel",
      "state": {
       "description_width": ""
      }
     },
     "ee1cfc2485f043d698375700c2fc7077": {
      "model_module": "@jupyter-widgets/base",
      "model_module_version": "1.2.0",
      "model_name": "LayoutModel",
      "state": {}
     },
     "ee26d3200f8a4555b105449746c87f40": {
      "model_module": "@jupyter-widgets/controls",
      "model_module_version": "1.5.0",
      "model_name": "DescriptionStyleModel",
      "state": {
       "description_width": ""
      }
     },
     "ee3d0b13174a47158e18fd27a994aff7": {
      "model_module": "@jupyter-widgets/controls",
      "model_module_version": "1.5.0",
      "model_name": "FloatProgressModel",
      "state": {
       "bar_style": "success",
       "layout": "IPY_MODEL_3c4a11fd53b44673afda5b8cb0ab1698",
       "max": 3,
       "style": "IPY_MODEL_def1b1fcb2bb472e930cb90879c6dcaf",
       "value": 3
      }
     },
     "ee509a5529764072bb1b3c7a843ac1d3": {
      "model_module": "@jupyter-widgets/controls",
      "model_module_version": "1.5.0",
      "model_name": "FloatProgressModel",
      "state": {
       "bar_style": "success",
       "layout": "IPY_MODEL_9a2c7cd644ec4e0bbb1fcf9f49637203",
       "max": 1200,
       "style": "IPY_MODEL_c7612a16d9694218836e8fbc8e07b68f",
       "value": 1200
      }
     },
     "eea27560f6b44140a017ee47dd357621": {
      "model_module": "@jupyter-widgets/controls",
      "model_module_version": "1.5.0",
      "model_name": "HTMLModel",
      "state": {
       "layout": "IPY_MODEL_f8865d7b0e324f11b8cc13f1cd6ed9b7",
       "style": "IPY_MODEL_85533ac7bcce4288a4c145c5fbb4cad5",
       "value": "COVID: 100%"
      }
     },
     "eec27994ac1d494e8a357f44b5647cdd": {
      "model_module": "@jupyter-widgets/base",
      "model_module_version": "1.2.0",
      "model_name": "LayoutModel",
      "state": {}
     },
     "eef26e4d90404edba77ff5e408feeb69": {
      "model_module": "@jupyter-widgets/controls",
      "model_module_version": "1.5.0",
      "model_name": "DescriptionStyleModel",
      "state": {
       "description_width": ""
      }
     },
     "eef31b06694640f59045858bf5bf5125": {
      "model_module": "@jupyter-widgets/base",
      "model_module_version": "1.2.0",
      "model_name": "LayoutModel",
      "state": {}
     },
     "ef324cdb147640458c28fdb5f87d9f90": {
      "model_module": "@jupyter-widgets/controls",
      "model_module_version": "1.5.0",
      "model_name": "DescriptionStyleModel",
      "state": {
       "description_width": ""
      }
     },
     "ef55617689c24bcb8278e2b339890408": {
      "model_module": "@jupyter-widgets/base",
      "model_module_version": "1.2.0",
      "model_name": "LayoutModel",
      "state": {}
     },
     "ef782a6d52d84caf90efaeb712d7ec02": {
      "model_module": "@jupyter-widgets/base",
      "model_module_version": "1.2.0",
      "model_name": "LayoutModel",
      "state": {}
     },
     "efcc7b890571495eb266397d0d274ab9": {
      "model_module": "@jupyter-widgets/controls",
      "model_module_version": "1.5.0",
      "model_name": "HTMLModel",
      "state": {
       "layout": "IPY_MODEL_75eda73223424d7caa33043ad95acba9",
       "style": "IPY_MODEL_04248383e99a401c8c43d7711dbc439e",
       "value": "COVID: 100%"
      }
     },
     "efd90684dd034d7f8a078c3c8b7c0492": {
      "model_module": "@jupyter-widgets/controls",
      "model_module_version": "1.5.0",
      "model_name": "ProgressStyleModel",
      "state": {
       "description_width": ""
      }
     },
     "efed9462216d402884cea6cb763e2d90": {
      "model_module": "@jupyter-widgets/controls",
      "model_module_version": "1.5.0",
      "model_name": "ProgressStyleModel",
      "state": {
       "description_width": ""
      }
     },
     "eff16205b85c49c1b31518b2f1a3114b": {
      "model_module": "@jupyter-widgets/controls",
      "model_module_version": "1.5.0",
      "model_name": "HTMLModel",
      "state": {
       "layout": "IPY_MODEL_48f14e6b1cf3428d88e975782dc2b01b",
       "style": "IPY_MODEL_55ead293b3d3491da3106691f130183c",
       "value": "NORMAL: 100%"
      }
     },
     "f02467c779514b079a6a2f323b3fc0b9": {
      "model_module": "@jupyter-widgets/controls",
      "model_module_version": "1.5.0",
      "model_name": "HBoxModel",
      "state": {
       "children": [
        "IPY_MODEL_a2dbb366ea744c0580982af6d2bc829e",
        "IPY_MODEL_d2c6a75841cb456990e81ec8fc3087b3",
        "IPY_MODEL_b819bf3f42a9498e97a00f6dbe5f7b30"
       ],
       "layout": "IPY_MODEL_f5d7e71e2edf421b83c3ff7a24b85857"
      }
     },
     "f08fa1aaeaf14e78ae6887bc7d02caba": {
      "model_module": "@jupyter-widgets/controls",
      "model_module_version": "1.5.0",
      "model_name": "DescriptionStyleModel",
      "state": {
       "description_width": ""
      }
     },
     "f0935ee9635e4f1ea697e0e7e1bdf9db": {
      "model_module": "@jupyter-widgets/base",
      "model_module_version": "1.2.0",
      "model_name": "LayoutModel",
      "state": {}
     },
     "f0ba2241f8dd4d2f9c45042a51738afa": {
      "model_module": "@jupyter-widgets/base",
      "model_module_version": "1.2.0",
      "model_name": "LayoutModel",
      "state": {}
     },
     "f0c4b3de64214e1eb29190178a4f5c72": {
      "model_module": "@jupyter-widgets/base",
      "model_module_version": "1.2.0",
      "model_name": "LayoutModel",
      "state": {}
     },
     "f0c6b755d97c4ea6aeb2282667697784": {
      "model_module": "@jupyter-widgets/controls",
      "model_module_version": "1.5.0",
      "model_name": "DescriptionStyleModel",
      "state": {
       "description_width": ""
      }
     },
     "f0e0401f1e3244f1a814467c4d692898": {
      "model_module": "@jupyter-widgets/base",
      "model_module_version": "1.2.0",
      "model_name": "LayoutModel",
      "state": {}
     },
     "f13955c5863841f3a2845f5c379b3867": {
      "model_module": "@jupyter-widgets/base",
      "model_module_version": "1.2.0",
      "model_name": "LayoutModel",
      "state": {}
     },
     "f14845c9cf794d178e8aaa4390027fc5": {
      "model_module": "@jupyter-widgets/controls",
      "model_module_version": "1.5.0",
      "model_name": "DescriptionStyleModel",
      "state": {
       "description_width": ""
      }
     },
     "f15f3f8637f749dea082abefe7916ee2": {
      "model_module": "@jupyter-widgets/base",
      "model_module_version": "1.2.0",
      "model_name": "LayoutModel",
      "state": {}
     },
     "f18677846eba4ce8a7bb98d408327efb": {
      "model_module": "@jupyter-widgets/controls",
      "model_module_version": "1.5.0",
      "model_name": "DescriptionStyleModel",
      "state": {
       "description_width": ""
      }
     },
     "f18d28bc4b144e1b800dd090dd030143": {
      "model_module": "@jupyter-widgets/base",
      "model_module_version": "1.2.0",
      "model_name": "LayoutModel",
      "state": {}
     },
     "f21352553cd24607bcbc3cd63e44b946": {
      "model_module": "@jupyter-widgets/controls",
      "model_module_version": "1.5.0",
      "model_name": "DescriptionStyleModel",
      "state": {
       "description_width": ""
      }
     },
     "f24b078622e441e18d624d9850a67061": {
      "model_module": "@jupyter-widgets/controls",
      "model_module_version": "1.5.0",
      "model_name": "HTMLModel",
      "state": {
       "layout": "IPY_MODEL_0f43806c8a554e6da27ad739896ad748",
       "style": "IPY_MODEL_d62f2b1440bb4b8390a7c15944bbe8eb",
       "value": "COVID: 100%"
      }
     },
     "f24fe4a996b94893ad482b7b6c38ea60": {
      "model_module": "@jupyter-widgets/base",
      "model_module_version": "1.2.0",
      "model_name": "LayoutModel",
      "state": {}
     },
     "f262cbb2dcaa4983896ae75ab5ac3622": {
      "model_module": "@jupyter-widgets/base",
      "model_module_version": "1.2.0",
      "model_name": "LayoutModel",
      "state": {}
     },
     "f29c536568cf4847bdc1abeebad1859e": {
      "model_module": "@jupyter-widgets/base",
      "model_module_version": "1.2.0",
      "model_name": "LayoutModel",
      "state": {}
     },
     "f2c075e7a25f4d6e89e2787a00035dfb": {
      "model_module": "@jupyter-widgets/controls",
      "model_module_version": "1.5.0",
      "model_name": "FloatProgressModel",
      "state": {
       "bar_style": "success",
       "layout": "IPY_MODEL_3f65b31ea8e54ee881b45aaa0179946b",
       "max": 3,
       "style": "IPY_MODEL_a29c26c781e441fd88f468e6f39b88b4",
       "value": 3
      }
     },
     "f2ee3a21a3fb4dcf9fa6984bda5e8530": {
      "model_module": "@jupyter-widgets/base",
      "model_module_version": "1.2.0",
      "model_name": "LayoutModel",
      "state": {}
     },
     "f31290854614417e9d71618f03a8724d": {
      "model_module": "@jupyter-widgets/controls",
      "model_module_version": "1.5.0",
      "model_name": "HTMLModel",
      "state": {
       "layout": "IPY_MODEL_954adf4205424ef9a2ec40e4d7644784",
       "style": "IPY_MODEL_6d9d0cd1a2584641906e157856d9b87e",
       "value": " 4/4 [00:00&lt;00:00, 73.50it/s]"
      }
     },
     "f31716b4142a47eda82abd16f232b00c": {
      "model_module": "@jupyter-widgets/controls",
      "model_module_version": "1.5.0",
      "model_name": "HTMLModel",
      "state": {
       "layout": "IPY_MODEL_eb47dc5a43694f4abed04e614a5938a5",
       "style": "IPY_MODEL_786b15d619874106bbd657217c3d6e36",
       "value": " 3/3 [00:00&lt;00:00,  8.86it/s]"
      }
     },
     "f317b1a5769e4fa5b08b51394411b67f": {
      "model_module": "@jupyter-widgets/controls",
      "model_module_version": "1.5.0",
      "model_name": "HBoxModel",
      "state": {
       "children": [
        "IPY_MODEL_83b55f60aa0a4b92a3fe0db76b0d78e9",
        "IPY_MODEL_3ef54568a4544aeda88a82ac38edbfbd",
        "IPY_MODEL_b55443b3f6f74ef7aba52b580e37d032"
       ],
       "layout": "IPY_MODEL_e47ede43b58849df8292f9713a4a343a"
      }
     },
     "f326fe424ebc41f5b8a1774805cf30a8": {
      "model_module": "@jupyter-widgets/base",
      "model_module_version": "1.2.0",
      "model_name": "LayoutModel",
      "state": {}
     },
     "f33d0d56a49941338f331401fa78ff09": {
      "model_module": "@jupyter-widgets/controls",
      "model_module_version": "1.5.0",
      "model_name": "HTMLModel",
      "state": {
       "layout": "IPY_MODEL_2a0901107d0d4fabbfd54380bb692003",
       "style": "IPY_MODEL_c240189eae674c178be06f12139b6e10",
       "value": "NORMAL: 100%"
      }
     },
     "f34876f02bb44a328e8ca993b5d3e92c": {
      "model_module": "@jupyter-widgets/base",
      "model_module_version": "1.2.0",
      "model_name": "LayoutModel",
      "state": {}
     },
     "f3636d2b795d4a22838ca6f3eebed853": {
      "model_module": "@jupyter-widgets/controls",
      "model_module_version": "1.5.0",
      "model_name": "ProgressStyleModel",
      "state": {
       "description_width": ""
      }
     },
     "f38be45953b148849b7cb045b90548bc": {
      "model_module": "@jupyter-widgets/controls",
      "model_module_version": "1.5.0",
      "model_name": "ProgressStyleModel",
      "state": {
       "description_width": ""
      }
     },
     "f3d67895f13b4c508869e125de90d609": {
      "model_module": "@jupyter-widgets/controls",
      "model_module_version": "1.5.0",
      "model_name": "DescriptionStyleModel",
      "state": {
       "description_width": ""
      }
     },
     "f420411f4b394f3ab37c1a21922c05b4": {
      "model_module": "@jupyter-widgets/base",
      "model_module_version": "1.2.0",
      "model_name": "LayoutModel",
      "state": {}
     },
     "f430d8bf47044e1c99ec6b0836c022d8": {
      "model_module": "@jupyter-widgets/base",
      "model_module_version": "1.2.0",
      "model_name": "LayoutModel",
      "state": {}
     },
     "f46d32d5d5884d6486cc3b8fbd93ba5b": {
      "model_module": "@jupyter-widgets/controls",
      "model_module_version": "1.5.0",
      "model_name": "DescriptionStyleModel",
      "state": {
       "description_width": ""
      }
     },
     "f4b3b8b9af7b4a4d92c89063871fea03": {
      "model_module": "@jupyter-widgets/controls",
      "model_module_version": "1.5.0",
      "model_name": "DescriptionStyleModel",
      "state": {
       "description_width": ""
      }
     },
     "f4d553242a634be08c0a69f0ec41f1f1": {
      "model_module": "@jupyter-widgets/base",
      "model_module_version": "1.2.0",
      "model_name": "LayoutModel",
      "state": {}
     },
     "f4e4e249c1764083a80234ddef25fc51": {
      "model_module": "@jupyter-widgets/controls",
      "model_module_version": "1.5.0",
      "model_name": "HBoxModel",
      "state": {
       "children": [
        "IPY_MODEL_cf9fcceac17946e0839c364f51fd2985",
        "IPY_MODEL_59b941e7fa404230ae67e857ec68bf11",
        "IPY_MODEL_82f6d783288445b4a38e6972e9ea15a2"
       ],
       "layout": "IPY_MODEL_e7f09f574151405a8ca97e07bfc6011e"
      }
     },
     "f4eabd5c29e044b5897a440e749cbffd": {
      "model_module": "@jupyter-widgets/controls",
      "model_module_version": "1.5.0",
      "model_name": "DescriptionStyleModel",
      "state": {
       "description_width": ""
      }
     },
     "f4fac61a755e4a0ca1c5060a9b340b29": {
      "model_module": "@jupyter-widgets/controls",
      "model_module_version": "1.5.0",
      "model_name": "HTMLModel",
      "state": {
       "layout": "IPY_MODEL_3360d26e6d6845b7951fa3ee6da3cf43",
       "style": "IPY_MODEL_d26eb1995cb24fd5bfeffb8d683c6624",
       "value": " 3/3 [00:00&lt;00:00,  9.22it/s]"
      }
     },
     "f5184df6d90a4609b134fc52d805b1c7": {
      "model_module": "@jupyter-widgets/base",
      "model_module_version": "1.2.0",
      "model_name": "LayoutModel",
      "state": {}
     },
     "f51f7d5f97124681bfc19d880de27577": {
      "model_module": "@jupyter-widgets/base",
      "model_module_version": "1.2.0",
      "model_name": "LayoutModel",
      "state": {}
     },
     "f53756de23034c74aed418fa99b28eca": {
      "model_module": "@jupyter-widgets/controls",
      "model_module_version": "1.5.0",
      "model_name": "FloatProgressModel",
      "state": {
       "bar_style": "success",
       "layout": "IPY_MODEL_e7ad94a0929543cb949d2818f0fe290b",
       "max": 1345,
       "style": "IPY_MODEL_a78154e988d04033a5bea0fea2799670",
       "value": 1345
      }
     },
     "f55d810a16704c2fadce0e0cb4286964": {
      "model_module": "@jupyter-widgets/controls",
      "model_module_version": "1.5.0",
      "model_name": "HTMLModel",
      "state": {
       "layout": "IPY_MODEL_f13955c5863841f3a2845f5c379b3867",
       "style": "IPY_MODEL_5adbe45937b04242a0b3b683a408146c",
       "value": " 4/4 [00:00&lt;00:00, 104.67it/s]"
      }
     },
     "f5a1bab898e547fcbefb6ca2d1f581c1": {
      "model_module": "@jupyter-widgets/base",
      "model_module_version": "1.2.0",
      "model_name": "LayoutModel",
      "state": {}
     },
     "f5a561610c9c4ea69458c85c04189e9c": {
      "model_module": "@jupyter-widgets/controls",
      "model_module_version": "1.5.0",
      "model_name": "HBoxModel",
      "state": {
       "children": [
        "IPY_MODEL_4b1734d27a3f419b81c54239395635d7",
        "IPY_MODEL_13c60ca86f05483b8114d8e7930c8e77",
        "IPY_MODEL_404a2190b2d14556864f531422458857"
       ],
       "layout": "IPY_MODEL_f18d28bc4b144e1b800dd090dd030143"
      }
     },
     "f5be461af48d4dec8bfb4aa2a3830b8b": {
      "model_module": "@jupyter-widgets/base",
      "model_module_version": "1.2.0",
      "model_name": "LayoutModel",
      "state": {}
     },
     "f5d7e71e2edf421b83c3ff7a24b85857": {
      "model_module": "@jupyter-widgets/base",
      "model_module_version": "1.2.0",
      "model_name": "LayoutModel",
      "state": {}
     },
     "f60b1e8014294f55ae78cfe100f01d90": {
      "model_module": "@jupyter-widgets/controls",
      "model_module_version": "1.5.0",
      "model_name": "HTMLModel",
      "state": {
       "layout": "IPY_MODEL_bacdb197d10c4bbd86cee2fe1c7045ff",
       "style": "IPY_MODEL_458b2c6d947241d5834a9ebe0c5b7234",
       "value": " 4/4 [00:00&lt;00:00, 38.74it/s]"
      }
     },
     "f61f372a5bd3498fa3878a0e0b5f397d": {
      "model_module": "@jupyter-widgets/controls",
      "model_module_version": "1.5.0",
      "model_name": "HBoxModel",
      "state": {
       "children": [
        "IPY_MODEL_ffbc5bdc68e240d3911e2dde529de5b1",
        "IPY_MODEL_122805d0ce1d41aab1b3301a4732021e",
        "IPY_MODEL_15bc25aca2c64532bf131ac21b4cedf8"
       ],
       "layout": "IPY_MODEL_d63c2c99446f4fedb78a9e41064b8eeb"
      }
     },
     "f625ebb232a3441d8e46b0fcdb130740": {
      "model_module": "@jupyter-widgets/controls",
      "model_module_version": "1.5.0",
      "model_name": "HTMLModel",
      "state": {
       "layout": "IPY_MODEL_2604e2a1e09b4bf3b191e75a14180604",
       "style": "IPY_MODEL_f3d67895f13b4c508869e125de90d609",
       "value": "VIRAL-PNEUMONIA: 100%"
      }
     },
     "f6407bbe42834c09a1a39a76d7873419": {
      "model_module": "@jupyter-widgets/base",
      "model_module_version": "1.2.0",
      "model_name": "LayoutModel",
      "state": {}
     },
     "f6a28e23618741398f4958574770b390": {
      "model_module": "@jupyter-widgets/controls",
      "model_module_version": "1.5.0",
      "model_name": "HBoxModel",
      "state": {
       "children": [
        "IPY_MODEL_f24b078622e441e18d624d9850a67061",
        "IPY_MODEL_78fb8696f51e4cd58b31c1cf489333fb",
        "IPY_MODEL_d1e2b9131aa1459ba55c26d1cab5fbf6"
       ],
       "layout": "IPY_MODEL_423fc985b1f14c5581fdd6081b823256"
      }
     },
     "f6a763b9933645b2b8489a048db1d9cc": {
      "model_module": "@jupyter-widgets/base",
      "model_module_version": "1.2.0",
      "model_name": "LayoutModel",
      "state": {}
     },
     "f6cb4865d60046b696275c3652370ae9": {
      "model_module": "@jupyter-widgets/controls",
      "model_module_version": "1.5.0",
      "model_name": "FloatProgressModel",
      "state": {
       "bar_style": "success",
       "layout": "IPY_MODEL_623b34fd05764f73a71d5332e67a1fcd",
       "max": 4,
       "style": "IPY_MODEL_e43eefd1d15e4df28c8ca9cc4c33de1f",
       "value": 4
      }
     },
     "f6e27d2799c247aa82274b7933c2080e": {
      "model_module": "@jupyter-widgets/controls",
      "model_module_version": "1.5.0",
      "model_name": "ProgressStyleModel",
      "state": {
       "description_width": ""
      }
     },
     "f6e44df2a25143cc8ec9cdbf834b8585": {
      "model_module": "@jupyter-widgets/controls",
      "model_module_version": "1.5.0",
      "model_name": "FloatProgressModel",
      "state": {
       "bar_style": "success",
       "layout": "IPY_MODEL_e41f389c5eb94869ba477c92b3db22fd",
       "max": 4,
       "style": "IPY_MODEL_d5a699c0aae2445880ad0a0b3945d68b",
       "value": 4
      }
     },
     "f6f426ffbd5447ff9d3016416562c908": {
      "model_module": "@jupyter-widgets/base",
      "model_module_version": "1.2.0",
      "model_name": "LayoutModel",
      "state": {}
     },
     "f729879d49474eaaa6cf2c7862f2b872": {
      "model_module": "@jupyter-widgets/base",
      "model_module_version": "1.2.0",
      "model_name": "LayoutModel",
      "state": {}
     },
     "f74e53fd2cc5435db8cff69d4fdcc277": {
      "model_module": "@jupyter-widgets/controls",
      "model_module_version": "1.5.0",
      "model_name": "FloatProgressModel",
      "state": {
       "bar_style": "success",
       "layout": "IPY_MODEL_1a5397c0e7304a4aad864c036e0f6182",
       "max": 4,
       "style": "IPY_MODEL_18f314538a3a413cafae3d9321aa7c80",
       "value": 4
      }
     },
     "f7592ad78e8b421baad47b2380fa043d": {
      "model_module": "@jupyter-widgets/base",
      "model_module_version": "1.2.0",
      "model_name": "LayoutModel",
      "state": {}
     },
     "f75e6b1c55a8480d90eb118bd2a77ffc": {
      "model_module": "@jupyter-widgets/controls",
      "model_module_version": "1.5.0",
      "model_name": "HTMLModel",
      "state": {
       "layout": "IPY_MODEL_f24fe4a996b94893ad482b7b6c38ea60",
       "style": "IPY_MODEL_53fd664b183f416a8cfbba2d9a63ae0c",
       "value": "COVID: 100%"
      }
     },
     "f7733ca0385d4d6dabdaaee9ea114967": {
      "model_module": "@jupyter-widgets/controls",
      "model_module_version": "1.5.0",
      "model_name": "FloatProgressModel",
      "state": {
       "bar_style": "success",
       "layout": "IPY_MODEL_a70c3afa78534e29bd394987039c8040",
       "max": 3,
       "style": "IPY_MODEL_4c43139709b44d8fb73890ec0a3b3a37",
       "value": 3
      }
     },
     "f77c1ef301d84d84ba5e53529ca6c550": {
      "model_module": "@jupyter-widgets/controls",
      "model_module_version": "1.5.0",
      "model_name": "HBoxModel",
      "state": {
       "children": [
        "IPY_MODEL_89bb6b1c5cfd4a0daac3cd67ffc66aa8",
        "IPY_MODEL_8d610b2e339a40ddaf2472fd2c6414e5",
        "IPY_MODEL_527a23d107784669bb4309446127de65"
       ],
       "layout": "IPY_MODEL_0a32e61deeca4f2f97beb572c5cfcdfe"
      }
     },
     "f787ab30a1b14b1bb2c725f871df2da2": {
      "model_module": "@jupyter-widgets/controls",
      "model_module_version": "1.5.0",
      "model_name": "DescriptionStyleModel",
      "state": {
       "description_width": ""
      }
     },
     "f78d6d88aa8b4d88bc8f6f51a526bde0": {
      "model_module": "@jupyter-widgets/controls",
      "model_module_version": "1.5.0",
      "model_name": "FloatProgressModel",
      "state": {
       "bar_style": "success",
       "layout": "IPY_MODEL_b816752247df4f7dbf7a05589b56868f",
       "max": 1200,
       "style": "IPY_MODEL_9880850784ff42729aa801a2e56db45d",
       "value": 1200
      }
     },
     "f81a478b4f624f3e82b80f437db550c5": {
      "model_module": "@jupyter-widgets/controls",
      "model_module_version": "1.5.0",
      "model_name": "ProgressStyleModel",
      "state": {
       "description_width": ""
      }
     },
     "f82f7d798e824bcfac46d849c192a331": {
      "model_module": "@jupyter-widgets/controls",
      "model_module_version": "1.5.0",
      "model_name": "HBoxModel",
      "state": {
       "children": [
        "IPY_MODEL_68f23b014e9e47639ec13b500f1a48b9",
        "IPY_MODEL_c935366d681d4aa08ecfbb0e5affd938",
        "IPY_MODEL_a07eef885cf04601a62acb058423c615"
       ],
       "layout": "IPY_MODEL_0e23d64a6d984c04b475531b158c7228"
      }
     },
     "f84e52620ea6490fa54c9a856a2e3a6b": {
      "model_module": "@jupyter-widgets/base",
      "model_module_version": "1.2.0",
      "model_name": "LayoutModel",
      "state": {}
     },
     "f866cac18d8442f695676fad1a7c2d60": {
      "model_module": "@jupyter-widgets/controls",
      "model_module_version": "1.5.0",
      "model_name": "DescriptionStyleModel",
      "state": {
       "description_width": ""
      }
     },
     "f87690b0669f41d3a7f4a7abcf0c1d28": {
      "model_module": "@jupyter-widgets/controls",
      "model_module_version": "1.5.0",
      "model_name": "HTMLModel",
      "state": {
       "layout": "IPY_MODEL_9c11e934faf94f2ab320a4dad868041b",
       "style": "IPY_MODEL_097d7ac8a24f47559b67ad5c43eaddf8",
       "value": " 4/4 [00:00&lt;00:00, 27.95it/s]"
      }
     },
     "f87d4c24b30a463980fa90209d32f60d": {
      "model_module": "@jupyter-widgets/controls",
      "model_module_version": "1.5.0",
      "model_name": "ProgressStyleModel",
      "state": {
       "description_width": ""
      }
     },
     "f8865d7b0e324f11b8cc13f1cd6ed9b7": {
      "model_module": "@jupyter-widgets/base",
      "model_module_version": "1.2.0",
      "model_name": "LayoutModel",
      "state": {}
     },
     "f89fda1a8376401dadd2824b2821080c": {
      "model_module": "@jupyter-widgets/controls",
      "model_module_version": "1.5.0",
      "model_name": "HBoxModel",
      "state": {
       "children": [
        "IPY_MODEL_d6e9755c04c74a59a5739b73df700619",
        "IPY_MODEL_df789544cb954188b5b6153233066591",
        "IPY_MODEL_e8c1b1f96fbf4433a3757bde911693b6"
       ],
       "layout": "IPY_MODEL_00cb941f613144abb5d7e24ab7be03f2"
      }
     },
     "f8e0795c2a7c49508fb622c2f4b29535": {
      "model_module": "@jupyter-widgets/controls",
      "model_module_version": "1.5.0",
      "model_name": "ProgressStyleModel",
      "state": {
       "description_width": ""
      }
     },
     "f8f38129be07422e94ce35acea07bd6b": {
      "model_module": "@jupyter-widgets/controls",
      "model_module_version": "1.5.0",
      "model_name": "HBoxModel",
      "state": {
       "children": [
        "IPY_MODEL_c659cf476ebe4fdea11354b1839f43f1",
        "IPY_MODEL_dfe83abf1db94e06b0bb5f82763e850b",
        "IPY_MODEL_8ee444fa77c844498e19b9512551cc31"
       ],
       "layout": "IPY_MODEL_a158c8ec8918443bb7a6ee470087b65d"
      }
     },
     "f8fbe20d8da84ec78485b44443475697": {
      "model_module": "@jupyter-widgets/base",
      "model_module_version": "1.2.0",
      "model_name": "LayoutModel",
      "state": {}
     },
     "f938aa67148043e2ba236d1b35041389": {
      "model_module": "@jupyter-widgets/controls",
      "model_module_version": "1.5.0",
      "model_name": "DescriptionStyleModel",
      "state": {
       "description_width": ""
      }
     },
     "f97c230143f045a686bb21388417eee1": {
      "model_module": "@jupyter-widgets/controls",
      "model_module_version": "1.5.0",
      "model_name": "HBoxModel",
      "state": {
       "children": [
        "IPY_MODEL_80b21e82060542848f74965c7cb31b63",
        "IPY_MODEL_dd4041f12b134e1b9a4699f0c394df3e",
        "IPY_MODEL_78553240f223420aaaa5ac156c25dc21"
       ],
       "layout": "IPY_MODEL_7eb22b719d5f49369657baa76669f250"
      }
     },
     "f991f084aa5b4ab3a617afa98406e544": {
      "model_module": "@jupyter-widgets/controls",
      "model_module_version": "1.5.0",
      "model_name": "FloatProgressModel",
      "state": {
       "bar_style": "success",
       "layout": "IPY_MODEL_6b72e8a9efa94530b972947fec2f8418",
       "max": 4,
       "style": "IPY_MODEL_25d7ce33f4df4ae49ae2908ba6c5727b",
       "value": 4
      }
     },
     "f9ba318a80c54927931a88e93676c0b3": {
      "model_module": "@jupyter-widgets/controls",
      "model_module_version": "1.5.0",
      "model_name": "DescriptionStyleModel",
      "state": {
       "description_width": ""
      }
     },
     "fa12ef244f1443df8f5fe1c919dcbefb": {
      "model_module": "@jupyter-widgets/controls",
      "model_module_version": "1.5.0",
      "model_name": "HTMLModel",
      "state": {
       "layout": "IPY_MODEL_cfaf07bc7ef04277a6867bff399514d1",
       "style": "IPY_MODEL_383c35a4cd86436094990d27f14c1d78",
       "value": "VIRAL-PNEUMONIA: 100%"
      }
     },
     "fa1af409b8e9480e82e73e4a55c90af4": {
      "model_module": "@jupyter-widgets/base",
      "model_module_version": "1.2.0",
      "model_name": "LayoutModel",
      "state": {}
     },
     "fa2173a9800c498ea64b85979ff0e4f2": {
      "model_module": "@jupyter-widgets/base",
      "model_module_version": "1.2.0",
      "model_name": "LayoutModel",
      "state": {}
     },
     "fa41e41d1b7746789b21783bfccbc60a": {
      "model_module": "@jupyter-widgets/controls",
      "model_module_version": "1.5.0",
      "model_name": "ProgressStyleModel",
      "state": {
       "description_width": ""
      }
     },
     "faa47447de63423c9bebe074dbb2a163": {
      "model_module": "@jupyter-widgets/controls",
      "model_module_version": "1.5.0",
      "model_name": "FloatProgressModel",
      "state": {
       "bar_style": "success",
       "layout": "IPY_MODEL_b3d076cbd2ad4ddb966085a99bdef657",
       "max": 3,
       "style": "IPY_MODEL_d66bd8335d5041658e220aad51b78ef2",
       "value": 3
      }
     },
     "fab317a838234615af76cf3fdcfe793d": {
      "model_module": "@jupyter-widgets/controls",
      "model_module_version": "1.5.0",
      "model_name": "ProgressStyleModel",
      "state": {
       "description_width": ""
      }
     },
     "fab3b38be4344d1bbbbfdedb29dda219": {
      "model_module": "@jupyter-widgets/base",
      "model_module_version": "1.2.0",
      "model_name": "LayoutModel",
      "state": {}
     },
     "fac294f7896b4c2d9d5fb2b15b84d5cc": {
      "model_module": "@jupyter-widgets/controls",
      "model_module_version": "1.5.0",
      "model_name": "HTMLModel",
      "state": {
       "layout": "IPY_MODEL_e9274c47d2fd4693855ffdb5c7f72920",
       "style": "IPY_MODEL_63bcd3e4245a49a9aae44b62d080e1d6",
       "value": "DATASETS: 100%"
      }
     },
     "fae951055fa44684b38ca981154c85c1": {
      "model_module": "@jupyter-widgets/controls",
      "model_module_version": "1.5.0",
      "model_name": "ProgressStyleModel",
      "state": {
       "description_width": ""
      }
     },
     "fb0740176d574e96ac3238ceef39badc": {
      "model_module": "@jupyter-widgets/controls",
      "model_module_version": "1.5.0",
      "model_name": "DescriptionStyleModel",
      "state": {
       "description_width": ""
      }
     },
     "fb0f42996a2648a0af6c4f547d53f967": {
      "model_module": "@jupyter-widgets/base",
      "model_module_version": "1.2.0",
      "model_name": "LayoutModel",
      "state": {}
     },
     "fb17cc5086934484b83793dd19dab3be": {
      "model_module": "@jupyter-widgets/controls",
      "model_module_version": "1.5.0",
      "model_name": "DescriptionStyleModel",
      "state": {
       "description_width": ""
      }
     },
     "fb28f716b2f64b6eb452ae2920c668c2": {
      "model_module": "@jupyter-widgets/controls",
      "model_module_version": "1.5.0",
      "model_name": "FloatProgressModel",
      "state": {
       "bar_style": "success",
       "layout": "IPY_MODEL_12045b32fce147bb8b5e229e5326b52e",
       "max": 4,
       "style": "IPY_MODEL_54fa8edb797e4ee8a057fa7841986258",
       "value": 4
      }
     },
     "fb31d7f3c0df405394671b39a9cfd81f": {
      "model_module": "@jupyter-widgets/controls",
      "model_module_version": "1.5.0",
      "model_name": "FloatProgressModel",
      "state": {
       "bar_style": "success",
       "layout": "IPY_MODEL_e32e2bd0021d45b59016f9bfd0ebac1e",
       "max": 1345,
       "style": "IPY_MODEL_efed9462216d402884cea6cb763e2d90",
       "value": 1345
      }
     },
     "fb738515498b4cb6a08d7b1e46fda880": {
      "model_module": "@jupyter-widgets/controls",
      "model_module_version": "1.5.0",
      "model_name": "HTMLModel",
      "state": {
       "layout": "IPY_MODEL_e1ee9d84624b4a6ab0d4278c7f8d6e8c",
       "style": "IPY_MODEL_83d94c72fc5244cd8e89ca4933cb2434",
       "value": " 4/4 [00:00&lt;00:00, 38.87it/s]"
      }
     },
     "fbe760e423e64a7f85ad9cdbd72dfa10": {
      "model_module": "@jupyter-widgets/controls",
      "model_module_version": "1.5.0",
      "model_name": "HTMLModel",
      "state": {
       "layout": "IPY_MODEL_8208935af20e4e25a7ba792ba31efda4",
       "style": "IPY_MODEL_fd3d0baf43504ee2901acdb60c06acaa",
       "value": "COVID: 100%"
      }
     },
     "fbec882693f64db7a13a632f2af0a3aa": {
      "model_module": "@jupyter-widgets/base",
      "model_module_version": "1.2.0",
      "model_name": "LayoutModel",
      "state": {}
     },
     "fc2bf4752d0846bc82a0d7d141c21b40": {
      "model_module": "@jupyter-widgets/base",
      "model_module_version": "1.2.0",
      "model_name": "LayoutModel",
      "state": {}
     },
     "fc35d0dc1ee84f54973d15f03acbebb9": {
      "model_module": "@jupyter-widgets/controls",
      "model_module_version": "1.5.0",
      "model_name": "DescriptionStyleModel",
      "state": {
       "description_width": ""
      }
     },
     "fc4114184dec400d9acb36a689a223e8": {
      "model_module": "@jupyter-widgets/controls",
      "model_module_version": "1.5.0",
      "model_name": "HTMLModel",
      "state": {
       "layout": "IPY_MODEL_00b32cca2336451b9fb2d88849ff770d",
       "style": "IPY_MODEL_d53dabae3cc9493390d813915a042a28",
       "value": " 4/4 [00:00&lt;00:00, 43.10it/s]"
      }
     },
     "fc5f13fcdf434e5e9deb41d4e24fa733": {
      "model_module": "@jupyter-widgets/base",
      "model_module_version": "1.2.0",
      "model_name": "LayoutModel",
      "state": {}
     },
     "fc7e09326387403d9e00116649e12188": {
      "model_module": "@jupyter-widgets/base",
      "model_module_version": "1.2.0",
      "model_name": "LayoutModel",
      "state": {}
     },
     "fc7e900236984c8ebe4680963c17f768": {
      "model_module": "@jupyter-widgets/controls",
      "model_module_version": "1.5.0",
      "model_name": "HBoxModel",
      "state": {
       "children": [
        "IPY_MODEL_04c7ac8c01644832b90f18466d3df9e9",
        "IPY_MODEL_c59c4f0faec845e3b3c98654d88e0e50",
        "IPY_MODEL_755b8ab24f99405687565504adaff109"
       ],
       "layout": "IPY_MODEL_6c24dc9083a0401d9f237706b03b3505"
      }
     },
     "fc84004398ee4789b23431a1a0ee54da": {
      "model_module": "@jupyter-widgets/controls",
      "model_module_version": "1.5.0",
      "model_name": "ProgressStyleModel",
      "state": {
       "description_width": ""
      }
     },
     "fc86238281984127a7397b08c7da26ee": {
      "model_module": "@jupyter-widgets/controls",
      "model_module_version": "1.5.0",
      "model_name": "DescriptionStyleModel",
      "state": {
       "description_width": ""
      }
     },
     "fcbb7fcdaea1447ea8b9c8d38af4568b": {
      "model_module": "@jupyter-widgets/base",
      "model_module_version": "1.2.0",
      "model_name": "LayoutModel",
      "state": {}
     },
     "fcd857d0ff9241a6bde118c4be1e17e7": {
      "model_module": "@jupyter-widgets/controls",
      "model_module_version": "1.5.0",
      "model_name": "HTMLModel",
      "state": {
       "layout": "IPY_MODEL_d58a850eebb847279e6a4a131cc86bd4",
       "style": "IPY_MODEL_2463d1f3fbf54ea6a5300d2fb14e22b7",
       "value": "DATASETS: 100%"
      }
     },
     "fd0f0f7e0bad46a2a513f2db58274f2b": {
      "model_module": "@jupyter-widgets/controls",
      "model_module_version": "1.5.0",
      "model_name": "DescriptionStyleModel",
      "state": {
       "description_width": ""
      }
     },
     "fd1435e42acf495f8d755c9d4bb5a6b5": {
      "model_module": "@jupyter-widgets/controls",
      "model_module_version": "1.5.0",
      "model_name": "DescriptionStyleModel",
      "state": {
       "description_width": ""
      }
     },
     "fd181898e20043da8367115a9a6c4f49": {
      "model_module": "@jupyter-widgets/controls",
      "model_module_version": "1.5.0",
      "model_name": "DescriptionStyleModel",
      "state": {
       "description_width": ""
      }
     },
     "fd2eb8dadcf4484ba9754a546e018b49": {
      "model_module": "@jupyter-widgets/controls",
      "model_module_version": "1.5.0",
      "model_name": "DescriptionStyleModel",
      "state": {
       "description_width": ""
      }
     },
     "fd3d0baf43504ee2901acdb60c06acaa": {
      "model_module": "@jupyter-widgets/controls",
      "model_module_version": "1.5.0",
      "model_name": "DescriptionStyleModel",
      "state": {
       "description_width": ""
      }
     },
     "fd779edead864fe0975d5b0984779292": {
      "model_module": "@jupyter-widgets/controls",
      "model_module_version": "1.5.0",
      "model_name": "DescriptionStyleModel",
      "state": {
       "description_width": ""
      }
     },
     "fd8ade095bbc4255ab7940b02a72ea3b": {
      "model_module": "@jupyter-widgets/controls",
      "model_module_version": "1.5.0",
      "model_name": "HBoxModel",
      "state": {
       "children": [
        "IPY_MODEL_25e18e019ebb455e80432d1c40957339",
        "IPY_MODEL_ea422d7681764a609e8d5022293e1169",
        "IPY_MODEL_85a31a01067a428fb969e52ae4d961b6"
       ],
       "layout": "IPY_MODEL_44fb63db131d44e19a785ea35c3e49c0"
      }
     },
     "fd9fd5f610b8445881d9987ced1a1e55": {
      "model_module": "@jupyter-widgets/base",
      "model_module_version": "1.2.0",
      "model_name": "LayoutModel",
      "state": {}
     },
     "fd9fdfd7ad974f7d95a095d3c73df6f8": {
      "model_module": "@jupyter-widgets/controls",
      "model_module_version": "1.5.0",
      "model_name": "HTMLModel",
      "state": {
       "layout": "IPY_MODEL_6017b1e9bbe34a97bf2e9d76e9054304",
       "style": "IPY_MODEL_ddb11e72e8224b3d99f8b7d87daae32d",
       "value": "COVID: 100%"
      }
     },
     "fdacdc26b33345ca90acff3c598aa2c4": {
      "model_module": "@jupyter-widgets/controls",
      "model_module_version": "1.5.0",
      "model_name": "DescriptionStyleModel",
      "state": {
       "description_width": ""
      }
     },
     "fde738a1471c48a79ba95666ab6df827": {
      "model_module": "@jupyter-widgets/controls",
      "model_module_version": "1.5.0",
      "model_name": "HBoxModel",
      "state": {
       "children": [
        "IPY_MODEL_99ee97b2ef2d4bce8171f1bce2b33c20",
        "IPY_MODEL_93e9080cbb0e48319d2f42bb126a6e53",
        "IPY_MODEL_8010d7c0166648ecadd24d65a55702fa"
       ],
       "layout": "IPY_MODEL_3d1649c7437241d7ba8432a77765414a"
      }
     },
     "fde7bece977e4bb2951b6a3f9ba45791": {
      "model_module": "@jupyter-widgets/controls",
      "model_module_version": "1.5.0",
      "model_name": "HTMLModel",
      "state": {
       "layout": "IPY_MODEL_ed3ab9f8b6da4351bf56843aab86bdfd",
       "style": "IPY_MODEL_0f4c5cd49601410b919d68820a9dd344",
       "value": " 4/4 [00:00&lt;00:00, 25.65it/s]"
      }
     },
     "fe30486bc8ef4aaea8f237cf9661f0ab": {
      "model_module": "@jupyter-widgets/controls",
      "model_module_version": "1.5.0",
      "model_name": "HTMLModel",
      "state": {
       "layout": "IPY_MODEL_164b406d57bd45e297ee6be329fb4cac",
       "style": "IPY_MODEL_a81a16d8c07941e49ad86292759b8f2e",
       "value": "DATASETS: 100%"
      }
     },
     "fe3373b4560e48a1860ec01c354ca457": {
      "model_module": "@jupyter-widgets/controls",
      "model_module_version": "1.5.0",
      "model_name": "ProgressStyleModel",
      "state": {
       "description_width": ""
      }
     },
     "fe3ca3731d384a4487f255d4857b7cbc": {
      "model_module": "@jupyter-widgets/base",
      "model_module_version": "1.2.0",
      "model_name": "LayoutModel",
      "state": {}
     },
     "fe5170fb71c34c8597f317fdf55cd7b1": {
      "model_module": "@jupyter-widgets/controls",
      "model_module_version": "1.5.0",
      "model_name": "ProgressStyleModel",
      "state": {
       "description_width": ""
      }
     },
     "fe583564697c44b1bd6401cbe7f0a778": {
      "model_module": "@jupyter-widgets/controls",
      "model_module_version": "1.5.0",
      "model_name": "FloatProgressModel",
      "state": {
       "bar_style": "success",
       "layout": "IPY_MODEL_1aa31bcb38364c4f99f7252c7509f574",
       "max": 3,
       "style": "IPY_MODEL_17075a8a0e874bdf8931a8b041940305",
       "value": 3
      }
     },
     "fe5e263f69f940f8ba136277deeca3b1": {
      "model_module": "@jupyter-widgets/controls",
      "model_module_version": "1.5.0",
      "model_name": "FloatProgressModel",
      "state": {
       "bar_style": "success",
       "layout": "IPY_MODEL_e3d48fbe508f4ca6b18e493ee40cf8e5",
       "max": 4,
       "style": "IPY_MODEL_75355fec526440f4b28321aea7a3aa02",
       "value": 4
      }
     },
     "fe9b9d07db2c49a88206dc49504de67a": {
      "model_module": "@jupyter-widgets/base",
      "model_module_version": "1.2.0",
      "model_name": "LayoutModel",
      "state": {}
     },
     "fea3c22409064ea7880491969f783a7c": {
      "model_module": "@jupyter-widgets/base",
      "model_module_version": "1.2.0",
      "model_name": "LayoutModel",
      "state": {}
     },
     "feae26543eda4cdbbb459b49d1928f7d": {
      "model_module": "@jupyter-widgets/controls",
      "model_module_version": "1.5.0",
      "model_name": "DescriptionStyleModel",
      "state": {
       "description_width": ""
      }
     },
     "fee14d28b7074ca79fe1bf6eb750cdcb": {
      "model_module": "@jupyter-widgets/base",
      "model_module_version": "1.2.0",
      "model_name": "LayoutModel",
      "state": {}
     },
     "feecea0c34b14c129835c1d2b3a18b73": {
      "model_module": "@jupyter-widgets/controls",
      "model_module_version": "1.5.0",
      "model_name": "FloatProgressModel",
      "state": {
       "bar_style": "success",
       "layout": "IPY_MODEL_55d576743a934a1fa95d6f8d9677b26c",
       "max": 4,
       "style": "IPY_MODEL_ab6811dcbae7447eb40ff616c3998057",
       "value": 4
      }
     },
     "ff19177be83a4c09a9cc5f2f534369b9": {
      "model_module": "@jupyter-widgets/base",
      "model_module_version": "1.2.0",
      "model_name": "LayoutModel",
      "state": {}
     },
     "ff210ac4019e4adfb32ab4faa1689e38": {
      "model_module": "@jupyter-widgets/controls",
      "model_module_version": "1.5.0",
      "model_name": "DescriptionStyleModel",
      "state": {
       "description_width": ""
      }
     },
     "ff2273ed62b94be1b2eeda12217e4ecf": {
      "model_module": "@jupyter-widgets/base",
      "model_module_version": "1.2.0",
      "model_name": "LayoutModel",
      "state": {}
     },
     "ff28d91129a24eda934876f04eba7e6a": {
      "model_module": "@jupyter-widgets/controls",
      "model_module_version": "1.5.0",
      "model_name": "HTMLModel",
      "state": {
       "layout": "IPY_MODEL_b278b82e6e714339a6ef6ad3da5888cc",
       "style": "IPY_MODEL_93ab3f3a8f9b4549a8bfec05a6642e80",
       "value": " 4/4 [00:00&lt;00:00, 36.00it/s]"
      }
     },
     "ff7bcf12f89742979a3d072386286443": {
      "model_module": "@jupyter-widgets/base",
      "model_module_version": "1.2.0",
      "model_name": "LayoutModel",
      "state": {}
     },
     "ff83be63921c4993abd64fb7396e9958": {
      "model_module": "@jupyter-widgets/controls",
      "model_module_version": "1.5.0",
      "model_name": "ProgressStyleModel",
      "state": {
       "description_width": ""
      }
     },
     "ff9fc7158b1c481eb7f71a8f96f88c47": {
      "model_module": "@jupyter-widgets/controls",
      "model_module_version": "1.5.0",
      "model_name": "DescriptionStyleModel",
      "state": {
       "description_width": ""
      }
     },
     "ffbc5bdc68e240d3911e2dde529de5b1": {
      "model_module": "@jupyter-widgets/controls",
      "model_module_version": "1.5.0",
      "model_name": "HTMLModel",
      "state": {
       "layout": "IPY_MODEL_487d0c97b33846b288f31c8a7fc24e27",
       "style": "IPY_MODEL_6c3ff40738f14a798a2f63fc7bbe507f",
       "value": "DATASETS: 100%"
      }
     },
     "ffda4746f1c341c69538533dd673f965": {
      "model_module": "@jupyter-widgets/base",
      "model_module_version": "1.2.0",
      "model_name": "LayoutModel",
      "state": {}
     },
     "ffdbdc369b0f4793a3f688f99fad78ac": {
      "model_module": "@jupyter-widgets/base",
      "model_module_version": "1.2.0",
      "model_name": "LayoutModel",
      "state": {}
     },
     "ffdcc1234caa49b6b3936df62831e9b1": {
      "model_module": "@jupyter-widgets/controls",
      "model_module_version": "1.5.0",
      "model_name": "FloatProgressModel",
      "state": {
       "bar_style": "success",
       "layout": "IPY_MODEL_411651123ab84837b830e5573fc4c966",
       "max": 4,
       "style": "IPY_MODEL_29805bd57e094961a753cc03df65ab9a",
       "value": 4
      }
     },
     "ffec62e662704c2fba109a0d82b12041": {
      "model_module": "@jupyter-widgets/controls",
      "model_module_version": "1.5.0",
      "model_name": "ProgressStyleModel",
      "state": {
       "description_width": ""
      }
     },
     "ffed038f28e2486f8602fedcd7003f99": {
      "model_module": "@jupyter-widgets/controls",
      "model_module_version": "1.5.0",
      "model_name": "HTMLModel",
      "state": {
       "layout": "IPY_MODEL_2ac9da224abc471d826db2d6bd2d670c",
       "style": "IPY_MODEL_606e68422f9047ecbb114ffba11e10fb",
       "value": "DATASETS: 100%"
      }
     },
     "fffb6e2471f34734ad153265b767ec61": {
      "model_module": "@jupyter-widgets/controls",
      "model_module_version": "1.5.0",
      "model_name": "HBoxModel",
      "state": {
       "children": [
        "IPY_MODEL_13232923fe614528b998d1a3531f5c33",
        "IPY_MODEL_c2a96b121b2748ef8e140ad7bef211ff",
        "IPY_MODEL_af6590f374444301821c3bfbe66f7cf8"
       ],
       "layout": "IPY_MODEL_1e453e583b494a16bd11c5d5ec32048a"
      }
     }
    },
    "version_major": 2,
    "version_minor": 0
   }
  }
 },
 "nbformat": 4,
 "nbformat_minor": 4
}
