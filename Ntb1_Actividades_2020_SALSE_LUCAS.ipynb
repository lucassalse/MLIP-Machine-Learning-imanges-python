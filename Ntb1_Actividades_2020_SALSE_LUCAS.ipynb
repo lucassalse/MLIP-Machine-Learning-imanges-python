{
 "cells": [
  {
   "cell_type": "markdown",
   "metadata": {},
   "source": [
    "# Actividad 1 Curso MLIP 2020\n",
    "\n",
    "A continuación, se listarán ejercicios similares a los vistos en la clase 1 para que sean resueltos y entregados en Google Classroom."
   ]
  },
  {
   "cell_type": "markdown",
   "metadata": {
    "colab_type": "text",
    "id": "wWqGBb9bL2qH"
   },
   "source": [
    "## Ejercicio 1: Tipo de datos\n",
    "\n",
    "a) Asignar un valor de cada tipo a 3 variables (ej: la variable *a* sea un valor \"string\", la variable *b* un valor \"int\" y la *c* un valor \"float\")\n",
    "\n",
    "b) Luego verificar los tipos de variable usando datos booleanos (\"boolean\"), por ejemplo:\n",
    "\n",
    "`print(type(a) == \"string\")`\n",
    "\n",
    "debería imprimir True si *a* fuese \"string\" o False si fuese \"float\" o \"int\"\n",
    "\n",
    "**Nota:** Recordar que para que una variable sea de un tipo debe asignarse un valor que lo declare automáticamente (ej: a = \"hola\" hace que *a* sea string) o forzarlo con el comando (ej: a = str(2) hace que *a* sea string aunque el 2 sea un entero)\n",
    "\n"
   ]
  },
  {
   "cell_type": "code",
   "execution_count": 37,
   "metadata": {
    "colab": {},
    "colab_type": "code",
    "executionInfo": {
     "elapsed": 651,
     "status": "ok",
     "timestamp": 1598372761170,
     "user": {
      "displayName": "Juanma López",
      "photoUrl": "https://lh3.googleusercontent.com/a-/AOh14Ggum8MWbU6cekwSb0FaxpVuLfMnlHuo_AFy1Y7vLQ=s64",
      "userId": "06697444655803170726"
     },
     "user_tz": 180
    },
    "id": "TQGvAdFLKm5q"
   },
   "outputs": [
    {
     "name": "stdout",
     "output_type": "stream",
     "text": [
      "La variable a es un string?:  True\n",
      "La variable b es un int?:  True\n",
      "La variable c es un float?:  True\n"
     ]
    }
   ],
   "source": [
    "a = \"hola\"\n",
    "b = 8\n",
    "c = 8.\n",
    "\n",
    "print (\"La variable a es un string?: \", isinstance(a, str))\n",
    "print (\"La variable b es un int?: \", isinstance(b, int))\n",
    "print (\"La variable c es un float?: \", isinstance(c, float))"
   ]
  },
  {
   "cell_type": "markdown",
   "metadata": {
    "colab_type": "text",
    "id": "ywWutwXYcPBe"
   },
   "source": [
    "## Ejercicio 2:  Librería Numpy, Arreglos, Vectores\n",
    "\n",
    "a) Defina y muestre un vector *s* que empiece en 1, su paso sea igual a 4 y no supere el 27\n",
    "\n",
    "b) Muestre el sexto y el último lugar de *s*\n",
    "\n",
    "c) Genere un vector *r* desde el segundo elemento al 5\n",
    "\n",
    "d) Muestre el vector de los cuadrados de cada elemento de *r*. Asignele el nombre *q*\n",
    "\n",
    "e) Muestre el vector de cada elemento del anterior elevado a un exponente igual a dicho elemento. Asignele el nombre *t*"
   ]
  },
  {
   "cell_type": "code",
   "execution_count": 3,
   "metadata": {
    "colab": {},
    "colab_type": "code",
    "executionInfo": {
     "elapsed": 802,
     "status": "ok",
     "timestamp": 1598373425060,
     "user": {
      "displayName": "Juanma López",
      "photoUrl": "https://lh3.googleusercontent.com/a-/AOh14Ggum8MWbU6cekwSb0FaxpVuLfMnlHuo_AFy1Y7vLQ=s64",
      "userId": "06697444655803170726"
     },
     "user_tz": 180
    },
    "id": "MwPtGTercMry"
   },
   "outputs": [
    {
     "name": "stdout",
     "output_type": "stream",
     "text": [
      "El vector s es:  [ 1  5  9 13 17 21 25]\n",
      "El sexto elemento es: 21  y el ultimo elemento es: 25\n",
      "El vector de los elementos 2 al 5 es:  [ 5  9 13 17]\n",
      "El vector de los cuadrados de cada elemento de q es :  [ 25  81 169 289]\n",
      "[11670147153572883801 15182269388049547601  3480970257708264425\n",
      "  5919458822386582817]\n"
     ]
    }
   ],
   "source": [
    "import  numpy as np\n",
    "\n",
    "s = np.arange(1, 27, 4 , dtype = np.ulonglong)\n",
    "print (\"El vector s es: \", s)\n",
    "print (f\"El sexto elemento es: {s[5]}\", f\" y el ultimo elemento es: {s[-1]}\")\n",
    "\n",
    "r = s[1:5]\n",
    "print (\"El vector de los elementos 2 al 5 es: \", r)\n",
    "\n",
    "q = r*r #o r**2\n",
    "print (\"El vector de los cuadrados de cada elemento de q es : \", q)\n",
    "\n",
    "t = q ** q\n",
    "\n",
    "print (t)"
   ]
  },
  {
   "cell_type": "markdown",
   "metadata": {
    "colab_type": "text",
    "id": "Zua7CODQebI5"
   },
   "source": [
    "## Ejercicio 3: Gráficos en Matplotlib\n",
    "\n",
    "Genere dos gráficos. Uno para el vector *s* del **Ejercicio 2** y otro donde ubique los vectores *r*, *q* y *t* diferenciandolos por color y tipo de línea como mejor lo considere. Asignele títulos acorde a cada uno de los gráficos."
   ]
  },
  {
   "cell_type": "code",
   "execution_count": 4,
   "metadata": {
    "colab": {},
    "colab_type": "code",
    "executionInfo": {
     "elapsed": 640,
     "status": "ok",
     "timestamp": 1598373941761,
     "user": {
      "displayName": "Juanma López",
      "photoUrl": "https://lh3.googleusercontent.com/a-/AOh14Ggum8MWbU6cekwSb0FaxpVuLfMnlHuo_AFy1Y7vLQ=s64",
      "userId": "06697444655803170726"
     },
     "user_tz": 180
    },
    "id": "d9a0cKQseaSD"
   },
   "outputs": [
    {
     "data": {
      "image/png": "[encoded data removed]",
      "text/plain": [
       "<Figure size 432x288 with 1 Axes>"
      ]
     },
     "metadata": {
      "needs_background": "light"
     },
     "output_type": "display_data"
    },
    {
     "data": {
      "image/png": "[encoded data removed]",
      "text/plain": [
       "<Figure size 432x288 with 1 Axes>"
      ]
     },
     "metadata": {
      "needs_background": "light"
     },
     "output_type": "display_data"
    }
   ],
   "source": [
    "import matplotlib.pyplot as plt\n",
    "\n",
    "x = np.arange(np.size(s))\n",
    "plt.scatter(x, s)\n",
    "#plt.plot(x, s, 'r.')\n",
    "plt.title(\"VECTOR S\")\n",
    "plt.gca().legend(('vector s',))\n",
    "plt.show()\n",
    "\n",
    "m = np.arange(np.size(r))\n",
    "plt.plot(m, r, 'b^', m, q, 'yo', m, t, 'r>')\n",
    "plt.title(\"VECTORES, r, q, t\")\n",
    "plt.gca().legend(('vector r', 'vector q', 'vector t'))\n",
    "plt.show()\n"
   ]
  },
  {
   "cell_type": "markdown",
   "metadata": {
    "colab_type": "text",
    "id": "Zua7CODQebI5"
   },
   "source": [
    "## Ejercicio 4: Trabajo en clase\n",
    "\n",
    "Transcriba la consigna y resolución de alguno de los ejercicios propuestos y realizados en clase\n",
    "\n",
    "**Ejercicio 9:**\n",
    "\n",
    "a) Defina el vector m=$(1,2,...,12)$\n",
    "\n",
    "b) Defina un vector g de longitud 12 que sean los consumos mensuales de gas de su vivienda\n",
    "\n",
    "c) Defina un vector l de longitud 12 que sean los consumos mensuales de luz de su vivienda\n",
    "\n",
    "d) calcule el vector de gastos mensuales por servicios, el máximo gasto mensual y el gasto de luz del segundo trimestre.\n",
    "\n",
    "e) Graficar los gastos de gas, luz y los de gastos por servicios según los meses (m, en el eje x) \n"
   ]
  },
  {
   "cell_type": "code",
   "execution_count": 5,
   "metadata": {
    "colab": {},
    "colab_type": "code",
    "executionInfo": {
     "elapsed": 640,
     "status": "ok",
     "timestamp": 1598373941761,
     "user": {
      "displayName": "Juanma López",
      "photoUrl": "https://lh3.googleusercontent.com/a-/AOh14Ggum8MWbU6cekwSb0FaxpVuLfMnlHuo_AFy1Y7vLQ=s64",
      "userId": "06697444655803170726"
     },
     "user_tz": 180
    },
    "id": "d9a0cKQseaSD"
   },
   "outputs": [
    {
     "name": "stdout",
     "output_type": "stream",
     "text": [
      "El vector m es: [ 1  2  3  4  5  6  7  8  9 10 11 12] <class 'numpy.ndarray'>\n",
      "Los gastos totales en cada mes son :  [1050 1170 1125 1180 1210 1240 1360 1580 1610 1450 1408 1434]\n",
      "El maximo gasto mensual es:  1610\n",
      "Gastos mensuales del segundo trimestre:  [680 720 760]\n"
     ]
    },
    {
     "data": {
      "image/png": "[encoded data removed]",
      "text/plain": [
       "<Figure size 432x288 with 1 Axes>"
      ]
     },
     "metadata": {
      "needs_background": "light"
     },
     "output_type": "display_data"
    }
   ],
   "source": [
    "m = np.arange(1, 13, 1)\n",
    "print (f\"El vector m es: {m}\" , type(m))\n",
    "g = np.array([450, 470, 475, 500, 490, 480, 560, 580, 630, 650, 655, 670]) #Vector gastos de gas\n",
    "l = np.array([600, 700, 650, 680, 720, 760, 800, 1000, 980, 800, 753, 764]) #Vector gastos de luz\n",
    "s = g + l #Vector gastos mensuales por total de servicios.\n",
    "print (\"Los gastos totales en cada mes son : \", s)\n",
    "print(\"El maximo gasto mensual es: \", np.max(s))\n",
    "print(\"Gastos mensuales del segundo trimestre: \", l[3:6])\n",
    "\n",
    "plt.xlim(0,12)     # nuevos límites para el eje x\n",
    "\n",
    "plt.plot(m, g,'b.', m, l,'y^', m, s, 'rd') #, t,  l[3:5],'g^')\n",
    "plt.gca().legend(('gas','luz','servicios'))\n",
    "\n",
    "plt.show()"
   ]
  },
  {
   "cell_type": "markdown",
   "metadata": {
    "colab_type": "text",
    "id": "c-_Vq2AZgt7b"
   },
   "source": [
    "## Ejercicio 5 (Opcional): Estructuras *for* e *if*\n",
    "\n",
    "a) Solicite al usuario el ingreso de un valor numérico que sea entero y positivo.\n",
    "b) Verifique que dicho valor cumpla las condiciones mencionadas (entero y positivo) con un condicional if (puede incluir la impresión de un mensaje que aclare el error que se pueda cometer)\n",
    "\n",
    "c) Si el valor cumple las condiciones, utilizar un bucle for para imprimir el mensaje \"Hola\" tantas veces como el valor ingresado lo indique."
   ]
  },
  {
   "cell_type": "code",
   "execution_count": 6,
   "metadata": {
    "colab": {},
    "colab_type": "code",
    "id": "EzcSrv15gs7n"
   },
   "outputs": [
    {
     "name": "stdout",
     "output_type": "stream",
     "text": [
      "Ingrese un valor numerico entero y positivo: 20\n",
      "Numero ingresado correctamente\n",
      "Hola\n",
      "Hola\n",
      "Hola\n",
      "Hola\n",
      "Hola\n",
      "Hola\n",
      "Hola\n",
      "Hola\n",
      "Hola\n",
      "Hola\n",
      "Hola\n",
      "Hola\n",
      "Hola\n",
      "Hola\n",
      "Hola\n",
      "Hola\n",
      "Hola\n",
      "Hola\n",
      "Hola\n",
      "Hola\n"
     ]
    }
   ],
   "source": [
    "\n",
    "while True:\n",
    "    try:\n",
    "        n = int(input(\"Ingrese un valor numerico entero y positivo: \"))\n",
    "    except ValueError:\n",
    "        n = \"a\"\n",
    "        print(\"Debe insgresar un dato tipo entero\")\n",
    "        #print (type(n))\n",
    "    if (isinstance(n, int) and n > 0):\n",
    "        print (\"Numero ingresado correctamente\")\n",
    "        for i in range(n):\n",
    "            print(\"Hola\")\n",
    "        break ;\n",
    "    else:\n",
    "        print(\"Error ingrese el numero nuevamente\")\n",
    "        "
   ]
  },
  {
   "cell_type": "code",
   "execution_count": null,
   "metadata": {},
   "outputs": [],
   "source": []
  }
 ],
 "metadata": {
  "colab": {
   "authorship_tag": "ABX9TyOp3n5+IdVm4uRrmo5dsQJ4",
   "name": "Ntb1_Actividades.ipynb",
   "provenance": []
  },
  "kernelspec": {
   "display_name": "venv-3.7",
   "language": "python",
   "name": "venv-3.7"
  },
  "language_info": {
   "codemirror_mode": {
    "name": "ipython",
    "version": 3
   },
   "file_extension": ".py",
   "mimetype": "text/x-python",
   "name": "python",
   "nbconvert_exporter": "python",
   "pygments_lexer": "ipython3",
   "version": "3.7.9"
  }
 },
 "nbformat": 4,
 "nbformat_minor": 1
}
